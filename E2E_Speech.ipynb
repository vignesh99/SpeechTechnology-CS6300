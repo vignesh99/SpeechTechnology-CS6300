{
  "nbformat": 4,
  "nbformat_minor": 0,
  "metadata": {
    "colab": {
      "name": "E2E Speech.ipynb",
      "provenance": [],
      "collapsed_sections": [],
      "authorship_tag": "ABX9TyMtGYgAFIGuu7zsOPaTdtxZ",
      "include_colab_link": true
    },
    "kernelspec": {
      "name": "python3",
      "display_name": "Python 3"
    }
  },
  "cells": [
    {
      "cell_type": "markdown",
      "metadata": {
        "id": "view-in-github",
        "colab_type": "text"
      },
      "source": [
        "<a href=\"https://colab.research.google.com/github/vignesh99/Speech-Technology-CS6300/blob/master/E2E_Speech.ipynb\" target=\"_parent\"><img src=\"https://colab.research.google.com/assets/colab-badge.svg\" alt=\"Open In Colab\"/></a>"
      ]
    },
    {
      "cell_type": "code",
      "metadata": {
        "id": "DzoeJS1PTkFg",
        "colab_type": "code",
        "colab": {}
      },
      "source": [
        "                                    #Get data files onto root\n",
        "%cd\n",
        "from google.colab import drive\n",
        "drive.mount('/content/gdrive')\n",
        "!cp -avr /content/gdrive/My\\ Drive/TIMIT\\ E2E/timit.zip /root\n",
        "!unzip /root/timit.zip -d /root\n",
        "!cp -avr /content/gdrive/My\\ Drive/TIMIT\\ E2E/Wordset\\ files/* /root\n",
        "!cp -avr /content/gdrive/My\\ Drive/TIMIT\\ E2E/Wordceps\\ files/* /root\n",
        "!ls"
      ],
      "execution_count": null,
      "outputs": []
    },
    {
      "cell_type": "code",
      "metadata": {
        "id": "Kh6pa0hDOKab",
        "colab_type": "code",
        "colab": {
          "base_uri": "https://localhost:8080/",
          "height": 102
        },
        "outputId": "4a3080aa-0dcf-49de-c294-8c5670905a68"
      },
      "source": [
        "                                    #Import libraries\n",
        "from pylab import *\n",
        "import os\n",
        "from google.colab import files\n",
        "!pip install pickle-mixin           #Use pkl to store model\n",
        "from pickle import dump\n",
        "from pickle import load      \n",
        "!pip install SoundFile\n",
        "import soundfile as sf              #For .wav to data\n",
        "from scipy.io import wavfile\n",
        "!pip install python_speech_features\n",
        "from python_speech_features import mfcc\n",
        "import pandas as pd\n",
        "import csv"
      ],
      "execution_count": 2,
      "outputs": [
        {
          "output_type": "stream",
          "text": [
            "Requirement already satisfied: pickle-mixin in /usr/local/lib/python3.6/dist-packages (1.0.2)\n",
            "Requirement already satisfied: SoundFile in /usr/local/lib/python3.6/dist-packages (0.10.3.post1)\n",
            "Requirement already satisfied: cffi>=1.0 in /usr/local/lib/python3.6/dist-packages (from SoundFile) (1.14.2)\n",
            "Requirement already satisfied: pycparser in /usr/local/lib/python3.6/dist-packages (from cffi>=1.0->SoundFile) (2.20)\n",
            "Requirement already satisfied: python_speech_features in /usr/local/lib/python3.6/dist-packages (0.6)\n"
          ],
          "name": "stdout"
        }
      ]
    },
    {
      "cell_type": "code",
      "metadata": {
        "id": "5jELsKCAywUV",
        "colab_type": "code",
        "colab": {
          "base_uri": "https://localhost:8080/",
          "height": 119
        },
        "outputId": "6c84d3d6-ebd6-4277-ef1c-87a744330675"
      },
      "source": [
        "#words = load(open('words.pkl', 'rb'))\n",
        "#inds = load(open('inds.pkl', 'rb'))\n",
        "reps = load(open('reps.pkl', 'rb'))\n",
        "wordset = load(open('wordset.pkl', 'rb'))\n",
        "\n",
        "Nreps = 250\t\t\t\t\t\t\t#Number of repititions of each word\n",
        "\n",
        "inds = np.where(reps >= Nreps)[0]\n",
        "words = wordset[inds]               #Choose only 36-most-repeated words\n",
        "freqs = reps[inds]                  #Frequency at which these words occur\n",
        "print(len(inds))\n",
        "print(words)\n",
        "print(freqs)"
      ],
      "execution_count": 3,
      "outputs": [
        {
          "output_type": "stream",
          "text": [
            "27\n",
            "['a' 'all' 'an' 'and' 'ask' 'carry' 'dark' \"don't\" 'greasy' 'had' 'in'\n",
            " 'is' 'like' 'me' 'of' 'oily' 'rag' 'she' 'suit' 'that' 'the' 'to' 'wash'\n",
            " 'water' 'year' 'you' 'your']\n",
            "[ 866  543  571  481  464  463  465  488  462  526  944  399  511  505\n",
            "  454  470  470  571  462  611 1602 1018  469  479  472  271  565]\n"
          ],
          "name": "stdout"
        }
      ]
    },
    {
      "cell_type": "code",
      "metadata": {
        "id": "k56Jx8fdWEnb",
        "colab_type": "code",
        "colab": {}
      },
      "source": [
        "def mostrepeatedwords(Nrep=250) :\n",
        "    allwords = []\n",
        "                                    #Go through all folders and consolidate the words\n",
        "    for subdir, dirs, files in os.walk(\"timit_train\"):\n",
        "        dirname = subdir.split(os.path.sep)[-1]\n",
        "        print('Directory:', dirname)\n",
        "        for f in files:\n",
        "            if f.endswith('.txt'):\n",
        "                                    #Get words of each sentence from .txt file\n",
        "                !cp -avr /root/timit_train/$dirname/$f /root\n",
        "                words = np.genfromtxt(f,delimiter=' ',dtype=str)\n",
        "                words = words[2:]\n",
        "                words[-1] = words[-1][:-1]\n",
        "                                    #Put all the words in a list\n",
        "                allwords += list(map(str.lower,list(words)))\n",
        "                !rm $f\n",
        "                                    #Get the unique set of words and their counts\n",
        "    wordunique,wordcount = np.unique(allwords,return_counts=True)\n",
        "                                    #Choose only those words with significant repitions\n",
        "    indrep = np.where(wordcount >= Nrep)[0]\n",
        "    #print(len(indrep))\n",
        "    wordclass = wordunique[indrep]\n",
        "    return wordclass,wordunique,wordcount,indrep"
      ],
      "execution_count": 4,
      "outputs": []
    },
    {
      "cell_type": "code",
      "metadata": {
        "id": "cbwWxT6SbZk3",
        "colab_type": "code",
        "colab": {}
      },
      "source": [
        "# words,wordset,reps,inds = mostrepeatedwords()\n",
        "# words"
      ],
      "execution_count": 5,
      "outputs": []
    },
    {
      "cell_type": "code",
      "metadata": {
        "id": "E8YdW3uUftVj",
        "colab_type": "code",
        "colab": {}
      },
      "source": [
        "                                    #Dump words model file\n",
        "# dump(words, open('words.pkl', 'wb'))\n",
        "# dump(inds, open('inds.pkl', 'wb'))\n",
        "# dump(reps, open('reps.pkl', 'wb'))\n",
        "# dump(wordset, open('wordset.pkl', 'wb'))"
      ],
      "execution_count": 6,
      "outputs": []
    },
    {
      "cell_type": "code",
      "metadata": {
        "id": "W4JAhCRT2x6-",
        "colab_type": "code",
        "colab": {}
      },
      "source": [
        "                                    #Download model files\n",
        "# files.download(\"/root/words.pkl\")\n",
        "# files.download(\"/root/inds.pkl\")\n",
        "# files.download(\"/root/reps.pkl\")\n",
        "# files.download(\"/root/wordset.pkl\")"
      ],
      "execution_count": 7,
      "outputs": []
    },
    {
      "cell_type": "code",
      "metadata": {
        "id": "T0pG-pv64GrH",
        "colab_type": "code",
        "colab": {}
      },
      "source": [
        "                                    #Getting the mfcc features for different words\n",
        "def wavtoMfcc(words,Nmfcc=38) :\n",
        "    count = 0                       #Initialize required lists\n",
        "    timit_audio = []\n",
        "    new_timit_audio = []\n",
        "    timitceps = []\n",
        "    wordloop = []\n",
        "    lenframes = []\n",
        "    for subdir, dirs, files in os.walk('timit_train'):\n",
        "        dirname = subdir.split(os.path.sep)[-1]\n",
        "        for f in files:\n",
        "            if f.endswith('.wav'):\n",
        "                count += 1\n",
        "                print(os.path.join(subdir, f), ', name:', f, ', Count:', count)\n",
        "                                        #Read data from the .wav file\n",
        "                data, fs = sf.read(os.path.join(subdir, f))\n",
        "                timit_audio.append(data)\n",
        "                fword = f[:-4]+\".wrd\"\n",
        "                                        #Check word files for most repeated words\n",
        "                print(os.path.join(subdir, fword), ', name:', fword, ', Count:', count)\n",
        "                word_file = np.array(pd.read_csv(os.path.join(subdir, fword), delimiter = ' ',header = None))\n",
        "                new_data = []\n",
        "                for w in np.array(word_file[:,2]):\n",
        "                    if w in words:\n",
        "                        a = np.where(word_file[:,2] == w)\n",
        "                        start = word_file[a[0],0][0]\n",
        "                        end = word_file[a[0],1][0]\n",
        "                        if(start != end):   #For removing corner case error\n",
        "                                            #Collect the .wav samples of required slices\n",
        "                            new_data = data[start:end]\n",
        "                            new_timit_audio.append(new_data)\n",
        "                                            #Convert them to mfcc\n",
        "                            ceps = mfcc(new_data, fs, numcep=Nmfcc,winlen=0.008,winstep=0.004,nfilt=76)\n",
        "                            timitceps.append(ceps)\n",
        "                                            #Put the words in order of the mfcc features\n",
        "                            wordloop.append(w)\n",
        "                            lenframes.append(len(ceps))\n",
        "    \n",
        "    timitceps = array(timitceps)\n",
        "    wordloop = array(wordloop)\n",
        "    lenframes = array(lenframes) \n",
        "    maxframes = lenframes.max()             #Obtain maximum size of frames\n",
        "\n",
        "    return timitceps,wordloop,lenframes,maxframes,new_timit_audio                                           "
      ],
      "execution_count": 8,
      "outputs": []
    },
    {
      "cell_type": "code",
      "metadata": {
        "id": "e0H_FaRryK-y",
        "colab_type": "code",
        "colab": {}
      },
      "source": [
        "# timitceps,wordloop,lenframes,maxframes,new_timit_audio = wavtoMfcc(words)"
      ],
      "execution_count": null,
      "outputs": []
    },
    {
      "cell_type": "code",
      "metadata": {
        "id": "IUwguHR7kEtd",
        "colab_type": "code",
        "colab": {}
      },
      "source": [
        "                                    #Dump processed files\n",
        "# dump(timitceps, open('timitceps.pkl', 'wb'))\n",
        "# dump(wordloop, open('wordloop.pkl', 'wb'))\n",
        "# dump(lenframes, open('lenframes.pkl', 'wb'))\n",
        "# dump(new_timit_audio, open('new_timit_audio.pkl', 'wb'))"
      ],
      "execution_count": 13,
      "outputs": []
    },
    {
      "cell_type": "code",
      "metadata": {
        "id": "ydmhgQtpkfHR",
        "colab_type": "code",
        "colab": {
          "base_uri": "https://localhost:8080/",
          "height": 17
        },
        "outputId": "2c909570-dc56-4cdc-c214-56d025143d3f"
      },
      "source": [
        "                                    #Download model files\n",
        "# files.download(\"/root/timitceps.pkl\")\n",
        "# files.download(\"/root/wordloop.pkl\")\n",
        "# files.download(\"/root/lenframes.pkl\")\n",
        "# files.download(\"/root/new_timit_audio.pkl\")"
      ],
      "execution_count": 14,
      "outputs": [
        {
          "output_type": "display_data",
          "data": {
            "application/javascript": [
              "\n",
              "    async function download(id, filename, size) {\n",
              "      if (!google.colab.kernel.accessAllowed) {\n",
              "        return;\n",
              "      }\n",
              "      const div = document.createElement('div');\n",
              "      const label = document.createElement('label');\n",
              "      label.textContent = `Downloading \"${filename}\": `;\n",
              "      div.appendChild(label);\n",
              "      const progress = document.createElement('progress');\n",
              "      progress.max = size;\n",
              "      div.appendChild(progress);\n",
              "      document.body.appendChild(div);\n",
              "\n",
              "      const buffers = [];\n",
              "      let downloaded = 0;\n",
              "\n",
              "      const channel = await google.colab.kernel.comms.open(id);\n",
              "      // Send a message to notify the kernel that we're ready.\n",
              "      channel.send({})\n",
              "\n",
              "      for await (const message of channel.messages) {\n",
              "        // Send a message to notify the kernel that we're ready.\n",
              "        channel.send({})\n",
              "        if (message.buffers) {\n",
              "          for (const buffer of message.buffers) {\n",
              "            buffers.push(buffer);\n",
              "            downloaded += buffer.byteLength;\n",
              "            progress.value = downloaded;\n",
              "          }\n",
              "        }\n",
              "      }\n",
              "      const blob = new Blob(buffers, {type: 'application/binary'});\n",
              "      const a = document.createElement('a');\n",
              "      a.href = window.URL.createObjectURL(blob);\n",
              "      a.download = filename;\n",
              "      div.appendChild(a);\n",
              "      a.click();\n",
              "      div.remove();\n",
              "    }\n",
              "  "
            ],
            "text/plain": [
              "<IPython.core.display.Javascript object>"
            ]
          },
          "metadata": {
            "tags": []
          }
        },
        {
          "output_type": "display_data",
          "data": {
            "application/javascript": [
              "download(\"download_419e0006-a926-464e-aeb3-765f11691652\", \"timitceps.pkl\", 237586574)"
            ],
            "text/plain": [
              "<IPython.core.display.Javascript object>"
            ]
          },
          "metadata": {
            "tags": []
          }
        },
        {
          "output_type": "display_data",
          "data": {
            "application/javascript": [
              "\n",
              "    async function download(id, filename, size) {\n",
              "      if (!google.colab.kernel.accessAllowed) {\n",
              "        return;\n",
              "      }\n",
              "      const div = document.createElement('div');\n",
              "      const label = document.createElement('label');\n",
              "      label.textContent = `Downloading \"${filename}\": `;\n",
              "      div.appendChild(label);\n",
              "      const progress = document.createElement('progress');\n",
              "      progress.max = size;\n",
              "      div.appendChild(progress);\n",
              "      document.body.appendChild(div);\n",
              "\n",
              "      const buffers = [];\n",
              "      let downloaded = 0;\n",
              "\n",
              "      const channel = await google.colab.kernel.comms.open(id);\n",
              "      // Send a message to notify the kernel that we're ready.\n",
              "      channel.send({})\n",
              "\n",
              "      for await (const message of channel.messages) {\n",
              "        // Send a message to notify the kernel that we're ready.\n",
              "        channel.send({})\n",
              "        if (message.buffers) {\n",
              "          for (const buffer of message.buffers) {\n",
              "            buffers.push(buffer);\n",
              "            downloaded += buffer.byteLength;\n",
              "            progress.value = downloaded;\n",
              "          }\n",
              "        }\n",
              "      }\n",
              "      const blob = new Blob(buffers, {type: 'application/binary'});\n",
              "      const a = document.createElement('a');\n",
              "      a.href = window.URL.createObjectURL(blob);\n",
              "      a.download = filename;\n",
              "      div.appendChild(a);\n",
              "      a.click();\n",
              "      div.remove();\n",
              "    }\n",
              "  "
            ],
            "text/plain": [
              "<IPython.core.display.Javascript object>"
            ]
          },
          "metadata": {
            "tags": []
          }
        },
        {
          "output_type": "display_data",
          "data": {
            "application/javascript": [
              "download(\"download_169b0157-93bf-41fb-bf88-b0274fc3d145\", \"wordloop.pkl\", 375753)"
            ],
            "text/plain": [
              "<IPython.core.display.Javascript object>"
            ]
          },
          "metadata": {
            "tags": []
          }
        },
        {
          "output_type": "display_data",
          "data": {
            "application/javascript": [
              "\n",
              "    async function download(id, filename, size) {\n",
              "      if (!google.colab.kernel.accessAllowed) {\n",
              "        return;\n",
              "      }\n",
              "      const div = document.createElement('div');\n",
              "      const label = document.createElement('label');\n",
              "      label.textContent = `Downloading \"${filename}\": `;\n",
              "      div.appendChild(label);\n",
              "      const progress = document.createElement('progress');\n",
              "      progress.max = size;\n",
              "      div.appendChild(progress);\n",
              "      document.body.appendChild(div);\n",
              "\n",
              "      const buffers = [];\n",
              "      let downloaded = 0;\n",
              "\n",
              "      const channel = await google.colab.kernel.comms.open(id);\n",
              "      // Send a message to notify the kernel that we're ready.\n",
              "      channel.send({})\n",
              "\n",
              "      for await (const message of channel.messages) {\n",
              "        // Send a message to notify the kernel that we're ready.\n",
              "        channel.send({})\n",
              "        if (message.buffers) {\n",
              "          for (const buffer of message.buffers) {\n",
              "            buffers.push(buffer);\n",
              "            downloaded += buffer.byteLength;\n",
              "            progress.value = downloaded;\n",
              "          }\n",
              "        }\n",
              "      }\n",
              "      const blob = new Blob(buffers, {type: 'application/binary'});\n",
              "      const a = document.createElement('a');\n",
              "      a.href = window.URL.createObjectURL(blob);\n",
              "      a.download = filename;\n",
              "      div.appendChild(a);\n",
              "      a.click();\n",
              "      div.remove();\n",
              "    }\n",
              "  "
            ],
            "text/plain": [
              "<IPython.core.display.Javascript object>"
            ]
          },
          "metadata": {
            "tags": []
          }
        },
        {
          "output_type": "display_data",
          "data": {
            "application/javascript": [
              "download(\"download_74432415-247a-4a0f-8efa-21567fd8107e\", \"lenframes.pkl\", 125359)"
            ],
            "text/plain": [
              "<IPython.core.display.Javascript object>"
            ]
          },
          "metadata": {
            "tags": []
          }
        },
        {
          "output_type": "display_data",
          "data": {
            "application/javascript": [
              "\n",
              "    async function download(id, filename, size) {\n",
              "      if (!google.colab.kernel.accessAllowed) {\n",
              "        return;\n",
              "      }\n",
              "      const div = document.createElement('div');\n",
              "      const label = document.createElement('label');\n",
              "      label.textContent = `Downloading \"${filename}\": `;\n",
              "      div.appendChild(label);\n",
              "      const progress = document.createElement('progress');\n",
              "      progress.max = size;\n",
              "      div.appendChild(progress);\n",
              "      document.body.appendChild(div);\n",
              "\n",
              "      const buffers = [];\n",
              "      let downloaded = 0;\n",
              "\n",
              "      const channel = await google.colab.kernel.comms.open(id);\n",
              "      // Send a message to notify the kernel that we're ready.\n",
              "      channel.send({})\n",
              "\n",
              "      for await (const message of channel.messages) {\n",
              "        // Send a message to notify the kernel that we're ready.\n",
              "        channel.send({})\n",
              "        if (message.buffers) {\n",
              "          for (const buffer of message.buffers) {\n",
              "            buffers.push(buffer);\n",
              "            downloaded += buffer.byteLength;\n",
              "            progress.value = downloaded;\n",
              "          }\n",
              "        }\n",
              "      }\n",
              "      const blob = new Blob(buffers, {type: 'application/binary'});\n",
              "      const a = document.createElement('a');\n",
              "      a.href = window.URL.createObjectURL(blob);\n",
              "      a.download = filename;\n",
              "      div.appendChild(a);\n",
              "      a.click();\n",
              "      div.remove();\n",
              "    }\n",
              "  "
            ],
            "text/plain": [
              "<IPython.core.display.Javascript object>"
            ]
          },
          "metadata": {
            "tags": []
          }
        },
        {
          "output_type": "display_data",
          "data": {
            "application/javascript": [
              "download(\"download_cd87ec84-a02a-4778-8ddc-2e178a9891c7\", \"new_timit_audio.pkl\", 403655058)"
            ],
            "text/plain": [
              "<IPython.core.display.Javascript object>"
            ]
          },
          "metadata": {
            "tags": []
          }
        }
      ]
    },
    {
      "cell_type": "code",
      "metadata": {
        "id": "KkFtniQitoh1",
        "colab_type": "code",
        "colab": {}
      },
      "source": [
        "                                    #Load the required files\n",
        "timitceps = load(open('timitceps.pkl', 'rb'))\n",
        "wordloop = load(open('wordloop.pkl', 'rb'))\n",
        "lenframes = load(open('lenframes.pkl', 'rb'))\n",
        "# new_timit_audio = load(open('new_timit_audio.pkl', 'rb'))"
      ],
      "execution_count": null,
      "outputs": []
    },
    {
      "cell_type": "code",
      "metadata": {
        "id": "auI0KrIyTPby",
        "colab_type": "code",
        "colab": {}
      },
      "source": [
        "def mfcctoInput(words,freqs,timitceps,wordloop,lenframes,maxframes=64,Nmfcc=38) :\n",
        "    for i in range(0,len(words)) :\n",
        "                                                #Obtain the particular word's mfcc features\n",
        "        indcep = np.where(wordloop==words[i])[0]\n",
        "        indlen = lenframes[indcep]\n",
        "                                                #Create a specific matrix based on the occurances\n",
        "        wordcepmatrix = np.zeros((freqs[i],maxframes,Nmfcc))\n",
        "        if freqs[i] == len(indcep) :             #Check if occurance match\n",
        "            for j in range(0,len(indcep)) :\n",
        "                wordcepmatrix[j][:indlen[j]] = timitceps[indcep[j]]\n",
        "\n",
        "        else :\n",
        "            print(\"ERROR : Frequencies don't match with index length\")\n",
        "            return None"
      ],
      "execution_count": null,
      "outputs": []
    },
    {
      "cell_type": "code",
      "metadata": {
        "id": "jYLm4OM2265Y",
        "colab_type": "code",
        "colab": {
          "base_uri": "https://localhost:8080/",
          "height": 153
        },
        "outputId": "621e7325-bf09-47b8-fe24-84ba9c2e0a05"
      },
      "source": [
        "print(shape(timitceps))\n",
        "np.unique(wordloop,return_counts=True)"
      ],
      "execution_count": null,
      "outputs": [
        {
          "output_type": "stream",
          "text": [
            "(15650,)\n"
          ],
          "name": "stdout"
        },
        {
          "output_type": "execute_result",
          "data": {
            "text/plain": [
              "(array(['a', 'all', 'an', 'and', 'ask', 'carry', 'dark', \"don't\", 'greasy',\n",
              "        'had', 'in', 'is', 'like', 'me', 'of', 'oily', 'rag', 'she',\n",
              "        'suit', 'that', 'the', 'to', 'wash', 'water', 'year', 'you',\n",
              "        'your'], dtype='<U6'),\n",
              " array([ 865,  545,  571,  492,  464,  463,  473,  488,  462,  526,  947,\n",
              "         401,  518,  517,  453,  470,  470,  572,  462,  612, 1603, 1016,\n",
              "         469,  479,  473,  274,  565]))"
            ]
          },
          "metadata": {
            "tags": []
          },
          "execution_count": 18
        }
      ]
    },
    {
      "cell_type": "code",
      "metadata": {
        "id": "tFT0G6xJNQGF",
        "colab_type": "code",
        "colab": {
          "base_uri": "https://localhost:8080/",
          "height": 34
        },
        "outputId": "869514a7-0a46-43d4-8e91-f2f2beae4c7a"
      },
      "source": [
        "a = np.where(wordloop==\"carry\")[0]\n",
        "shape(timitceps[a[5]])\n",
        "#wordloop[2]"
      ],
      "execution_count": null,
      "outputs": [
        {
          "output_type": "execute_result",
          "data": {
            "text/plain": [
              "(73, 38)"
            ]
          },
          "metadata": {
            "tags": []
          },
          "execution_count": 12
        }
      ]
    },
    {
      "cell_type": "code",
      "metadata": {
        "id": "yg9cMLmp71sm",
        "colab_type": "code",
        "colab": {
          "base_uri": "https://localhost:8080/",
          "height": 34
        },
        "outputId": "ca9f9a70-7b70-46c4-910f-6beae08ef418"
      },
      "source": [
        "wordloop[np.where(lenframes==lenframes.min())[0]]\n",
        "#wavfile.write('test.wav', 16000, new_timit_audio[15545])"
      ],
      "execution_count": 12,
      "outputs": [
        {
          "output_type": "execute_result",
          "data": {
            "text/plain": [
              "array(['to', 'a'], dtype='<U6')"
            ]
          },
          "metadata": {
            "tags": []
          },
          "execution_count": 12
        }
      ]
    },
    {
      "cell_type": "code",
      "metadata": {
        "id": "spw_p9eT2wis",
        "colab_type": "code",
        "colab": {
          "base_uri": "https://localhost:8080/",
          "height": 51
        },
        "outputId": "a488d5a3-a028-42cd-c567-7b529e53bf02"
      },
      "source": [
        "print(lenframes.max())\n",
        "lenframes.min()"
      ],
      "execution_count": 10,
      "outputs": [
        {
          "output_type": "stream",
          "text": [
            "162\n"
          ],
          "name": "stdout"
        },
        {
          "output_type": "execute_result",
          "data": {
            "text/plain": [
              "3"
            ]
          },
          "metadata": {
            "tags": []
          },
          "execution_count": 10
        }
      ]
    },
    {
      "cell_type": "code",
      "metadata": {
        "id": "eBi76r4XFwop",
        "colab_type": "code",
        "colab": {
          "base_uri": "https://localhost:8080/",
          "height": 136
        },
        "outputId": "074c894c-7f70-45f6-dfc0-1010e151f9b0"
      },
      "source": [
        "print(words)\n",
        "print(freqs)"
      ],
      "execution_count": null,
      "outputs": [
        {
          "output_type": "stream",
          "text": [
            "['a' 'all' 'an' 'and' 'are' 'ask' 'be' 'carry' 'dark' \"don't\" 'for'\n",
            " 'greasy' 'had' 'he' 'his' 'in' 'is' 'like' 'me' 'of' 'oily' 'on' 'rag'\n",
            " 'she' 'suit' 'that' 'the' 'to' 'was' 'wash' 'water' 'we' 'with' 'year'\n",
            " 'you' 'your']\n",
            "[ 866  543  571  481  237  464  175  463  465  488  216  462  526  233\n",
            "  189  944  399  511  505  454  470  164  470  571  462  611 1602 1018\n",
            "  235  469  479  154  187  472  271  565]\n"
          ],
          "name": "stdout"
        }
      ]
    },
    {
      "cell_type": "code",
      "metadata": {
        "id": "_eB__vH2HJWb",
        "colab_type": "code",
        "colab": {
          "base_uri": "https://localhost:8080/",
          "height": 17
        },
        "outputId": "b6308927-2e8f-4be8-be62-0ba7713b055f"
      },
      "source": [
        "files.download(\"test.wav\")"
      ],
      "execution_count": null,
      "outputs": [
        {
          "output_type": "display_data",
          "data": {
            "application/javascript": [
              "\n",
              "    async function download(id, filename, size) {\n",
              "      if (!google.colab.kernel.accessAllowed) {\n",
              "        return;\n",
              "      }\n",
              "      const div = document.createElement('div');\n",
              "      const label = document.createElement('label');\n",
              "      label.textContent = `Downloading \"${filename}\": `;\n",
              "      div.appendChild(label);\n",
              "      const progress = document.createElement('progress');\n",
              "      progress.max = size;\n",
              "      div.appendChild(progress);\n",
              "      document.body.appendChild(div);\n",
              "\n",
              "      const buffers = [];\n",
              "      let downloaded = 0;\n",
              "\n",
              "      const channel = await google.colab.kernel.comms.open(id);\n",
              "      // Send a message to notify the kernel that we're ready.\n",
              "      channel.send({})\n",
              "\n",
              "      for await (const message of channel.messages) {\n",
              "        // Send a message to notify the kernel that we're ready.\n",
              "        channel.send({})\n",
              "        if (message.buffers) {\n",
              "          for (const buffer of message.buffers) {\n",
              "            buffers.push(buffer);\n",
              "            downloaded += buffer.byteLength;\n",
              "            progress.value = downloaded;\n",
              "          }\n",
              "        }\n",
              "      }\n",
              "      const blob = new Blob(buffers, {type: 'application/binary'});\n",
              "      const a = document.createElement('a');\n",
              "      a.href = window.URL.createObjectURL(blob);\n",
              "      a.download = filename;\n",
              "      div.appendChild(a);\n",
              "      a.click();\n",
              "      div.remove();\n",
              "    }\n",
              "  "
            ],
            "text/plain": [
              "<IPython.core.display.Javascript object>"
            ]
          },
          "metadata": {
            "tags": []
          }
        },
        {
          "output_type": "display_data",
          "data": {
            "application/javascript": [
              "download(\"download_f4278679-5dba-491b-8ff6-df33c86fa0e3\", \"test.wav\", 83354)"
            ],
            "text/plain": [
              "<IPython.core.display.Javascript object>"
            ]
          },
          "metadata": {
            "tags": []
          }
        }
      ]
    },
    {
      "cell_type": "code",
      "metadata": {
        "id": "C60Vk2qmqwp0",
        "colab_type": "code",
        "colab": {}
      },
      "source": [
        ""
      ],
      "execution_count": null,
      "outputs": []
    }
  ]
}