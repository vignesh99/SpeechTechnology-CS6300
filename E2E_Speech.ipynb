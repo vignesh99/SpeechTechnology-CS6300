{
  "nbformat": 4,
  "nbformat_minor": 0,
  "metadata": {
    "colab": {
      "name": "E2E Speech.ipynb",
      "provenance": [],
      "collapsed_sections": [],
      "authorship_tag": "ABX9TyPKlQ7N+ky1+h7cuOMChlzF",
      "include_colab_link": true
    },
    "kernelspec": {
      "name": "python3",
      "display_name": "Python 3"
    }
  },
  "cells": [
    {
      "cell_type": "markdown",
      "metadata": {
        "id": "view-in-github",
        "colab_type": "text"
      },
      "source": [
        "<a href=\"https://colab.research.google.com/github/vignesh99/CS6300-Speech-Technology/blob/master/E2E_Speech.ipynb\" target=\"_parent\"><img src=\"https://colab.research.google.com/assets/colab-badge.svg\" alt=\"Open In Colab\"/></a>"
      ]
    },
    {
      "cell_type": "code",
      "metadata": {
        "id": "DzoeJS1PTkFg",
        "colab_type": "code",
        "colab": {}
      },
      "source": [
        "                                    #Get data files onto root\n",
        "%cd\n",
        "from google.colab import drive\n",
        "drive.mount('/content/gdrive')\n",
        "!cp -avr /content/gdrive/My\\ Drive/TIMIT\\ E2E/timit.zip /root\n",
        "!unzip /root/timit.zip -d /root\n",
        "!cp -avr /content/gdrive/My\\ Drive/TIMIT\\ E2E/Wordset\\ files/* /root\n",
        "!ls"
      ],
      "execution_count": null,
      "outputs": []
    },
    {
      "cell_type": "code",
      "metadata": {
        "id": "Kh6pa0hDOKab",
        "colab_type": "code",
        "colab": {}
      },
      "source": [
        "                                    #Import libraries\n",
        "from pylab import *\n",
        "import os\n",
        "from google.colab import files\n",
        "!pip install pickle-mixin           #Use pkl to store model\n",
        "from pickle import dump\n",
        "from pickle import load"
      ],
      "execution_count": 46,
      "outputs": []
    },
    {
      "cell_type": "code",
      "metadata": {
        "id": "5jELsKCAywUV",
        "colab_type": "code",
        "colab": {}
      },
      "source": [
        "#words = load(open('words.pkl', 'rb'))\n",
        "#inds = load(open('inds.pkl', 'rb'))\n",
        "reps = load(open('reps.pkl', 'rb'))\n",
        "wordset = load(open('wordset.pkl', 'rb'))\n",
        "\n",
        "Nreps = 154\t\t\t\t\t\t\t#Number of repititions of each word\n",
        "\n",
        "inds = np.where(reps >= Nreps)[0]\n",
        "words = wordset[inds]\n",
        "print(len(inds))\n",
        "print(words)"
      ],
      "execution_count": null,
      "outputs": []
    },
    {
      "cell_type": "code",
      "metadata": {
        "id": "k56Jx8fdWEnb",
        "colab_type": "code",
        "colab": {}
      },
      "source": [
        "def mostrepeatedwords(Nrep=154) :\n",
        "    allwords = []\n",
        "                                    #Go through all folders and consolidate the words\n",
        "    for subdir, dirs, files in os.walk(\"timit_train\"):\n",
        "        dirname = subdir.split(os.path.sep)[-1]\n",
        "        print('Directory:', dirname)\n",
        "        for f in files:\n",
        "            if f.endswith('.txt'):\n",
        "                                    #Get words of each sentence from .txt file\n",
        "                !cp -avr /root/timit_train/$dirname/$f /root\n",
        "                words = np.genfromtxt(f,delimiter=' ',dtype=str)\n",
        "                words = words[2:]\n",
        "                words[-1] = words[-1][:-1]\n",
        "                                    #Put all the words in a list\n",
        "                allwords += list(map(str.lower,list(words)))\n",
        "                !rm $f\n",
        "                                    #Get the unique set of words and their counts\n",
        "    wordunique,wordcount = np.unique(allwords,return_counts=True)\n",
        "                                    #Choose only those words with significant repitions\n",
        "    indrep = np.where(wordcount >= Nrep)[0]\n",
        "    #print(len(indrep))\n",
        "    wordclass = wordunique[indrep]\n",
        "    return wordclass,wordunique,wordcount,indrep"
      ],
      "execution_count": 41,
      "outputs": []
    },
    {
      "cell_type": "code",
      "metadata": {
        "id": "cbwWxT6SbZk3",
        "colab_type": "code",
        "colab": {}
      },
      "source": [
        "# words,wordset,reps,inds = mostrepeatedwords()\n",
        "# words"
      ],
      "execution_count": null,
      "outputs": []
    },
    {
      "cell_type": "code",
      "metadata": {
        "id": "E8YdW3uUftVj",
        "colab_type": "code",
        "colab": {
          "base_uri": "https://localhost:8080/",
          "height": 17
        },
        "outputId": "79d3ac94-2121-461b-865d-4f3099ae90e4"
      },
      "source": [
        "                                    #Dump words model file\n",
        "# dump(words, open('words.pkl', 'wb'))\n",
        "# dump(inds, open('inds.pkl', 'wb'))\n",
        "# dump(reps, open('reps.pkl', 'wb'))\n",
        "# dump(wordset, open('wordset.pkl', 'wb'))"
      ],
      "execution_count": 47,
      "outputs": [
        {
          "output_type": "display_data",
          "data": {
            "application/javascript": [
              "\n",
              "    async function download(id, filename, size) {\n",
              "      if (!google.colab.kernel.accessAllowed) {\n",
              "        return;\n",
              "      }\n",
              "      const div = document.createElement('div');\n",
              "      const label = document.createElement('label');\n",
              "      label.textContent = `Downloading \"${filename}\": `;\n",
              "      div.appendChild(label);\n",
              "      const progress = document.createElement('progress');\n",
              "      progress.max = size;\n",
              "      div.appendChild(progress);\n",
              "      document.body.appendChild(div);\n",
              "\n",
              "      const buffers = [];\n",
              "      let downloaded = 0;\n",
              "\n",
              "      const channel = await google.colab.kernel.comms.open(id);\n",
              "      // Send a message to notify the kernel that we're ready.\n",
              "      channel.send({})\n",
              "\n",
              "      for await (const message of channel.messages) {\n",
              "        // Send a message to notify the kernel that we're ready.\n",
              "        channel.send({})\n",
              "        if (message.buffers) {\n",
              "          for (const buffer of message.buffers) {\n",
              "            buffers.push(buffer);\n",
              "            downloaded += buffer.byteLength;\n",
              "            progress.value = downloaded;\n",
              "          }\n",
              "        }\n",
              "      }\n",
              "      const blob = new Blob(buffers, {type: 'application/binary'});\n",
              "      const a = document.createElement('a');\n",
              "      a.href = window.URL.createObjectURL(blob);\n",
              "      a.download = filename;\n",
              "      div.appendChild(a);\n",
              "      a.click();\n",
              "      div.remove();\n",
              "    }\n",
              "  "
            ],
            "text/plain": [
              "<IPython.core.display.Javascript object>"
            ]
          },
          "metadata": {
            "tags": []
          }
        },
        {
          "output_type": "display_data",
          "data": {
            "application/javascript": [
              "download(\"download_cdfede9c-f231-4a2d-b1f9-5e909c44bb4f\", \"words.pkl\", 2745)"
            ],
            "text/plain": [
              "<IPython.core.display.Javascript object>"
            ]
          },
          "metadata": {
            "tags": []
          }
        }
      ]
    },
    {
      "cell_type": "code",
      "metadata": {
        "id": "W4JAhCRT2x6-",
        "colab_type": "code",
        "colab": {
          "base_uri": "https://localhost:8080/",
          "height": 17
        },
        "outputId": "fe44c1a5-a2b3-40be-952c-6aba1b2aa162"
      },
      "source": [
        "                                    #Download model files\n",
        "# files.download(\"/root/words.pkl\")\n",
        "# files.download(\"/root/inds.pkl\")\n",
        "# files.download(\"/root/reps.pkl\")\n",
        "# files.download(\"/root/wordset.pkl\")"
      ],
      "execution_count": 48,
      "outputs": [
        {
          "output_type": "display_data",
          "data": {
            "application/javascript": [
              "\n",
              "    async function download(id, filename, size) {\n",
              "      if (!google.colab.kernel.accessAllowed) {\n",
              "        return;\n",
              "      }\n",
              "      const div = document.createElement('div');\n",
              "      const label = document.createElement('label');\n",
              "      label.textContent = `Downloading \"${filename}\": `;\n",
              "      div.appendChild(label);\n",
              "      const progress = document.createElement('progress');\n",
              "      progress.max = size;\n",
              "      div.appendChild(progress);\n",
              "      document.body.appendChild(div);\n",
              "\n",
              "      const buffers = [];\n",
              "      let downloaded = 0;\n",
              "\n",
              "      const channel = await google.colab.kernel.comms.open(id);\n",
              "      // Send a message to notify the kernel that we're ready.\n",
              "      channel.send({})\n",
              "\n",
              "      for await (const message of channel.messages) {\n",
              "        // Send a message to notify the kernel that we're ready.\n",
              "        channel.send({})\n",
              "        if (message.buffers) {\n",
              "          for (const buffer of message.buffers) {\n",
              "            buffers.push(buffer);\n",
              "            downloaded += buffer.byteLength;\n",
              "            progress.value = downloaded;\n",
              "          }\n",
              "        }\n",
              "      }\n",
              "      const blob = new Blob(buffers, {type: 'application/binary'});\n",
              "      const a = document.createElement('a');\n",
              "      a.href = window.URL.createObjectURL(blob);\n",
              "      a.download = filename;\n",
              "      div.appendChild(a);\n",
              "      a.click();\n",
              "      div.remove();\n",
              "    }\n",
              "  "
            ],
            "text/plain": [
              "<IPython.core.display.Javascript object>"
            ]
          },
          "metadata": {
            "tags": []
          }
        },
        {
          "output_type": "display_data",
          "data": {
            "application/javascript": [
              "download(\"download_2418755d-a3dc-469e-abff-e74f6c3eed25\", \"inds.pkl\", 446)"
            ],
            "text/plain": [
              "<IPython.core.display.Javascript object>"
            ]
          },
          "metadata": {
            "tags": []
          }
        }
      ]
    },
    {
      "cell_type": "code",
      "metadata": {
        "id": "T0pG-pv64GrH",
        "colab_type": "code",
        "colab": {}
      },
      "source": [
        ""
      ],
      "execution_count": null,
      "outputs": []
    }
  ]
}