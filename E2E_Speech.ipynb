{
  "nbformat": 4,
  "nbformat_minor": 0,
  "metadata": {
    "colab": {
      "name": "E2E Speech.ipynb",
      "provenance": [],
      "collapsed_sections": [],
      "authorship_tag": "ABX9TyM59ucbjiZTSVXeIPiH48WQ",
      "include_colab_link": true
    },
    "kernelspec": {
      "name": "python3",
      "display_name": "Python 3"
    },
    "accelerator": "GPU"
  },
  "cells": [
    {
      "cell_type": "markdown",
      "metadata": {
        "id": "view-in-github",
        "colab_type": "text"
      },
      "source": [
        "<a href=\"https://colab.research.google.com/github/vignesh99/SpeechTechnology-CS6300/blob/master/E2E_Speech.ipynb\" target=\"_parent\"><img src=\"https://colab.research.google.com/assets/colab-badge.svg\" alt=\"Open In Colab\"/></a>"
      ]
    },
    {
      "cell_type": "code",
      "metadata": {
        "id": "DzoeJS1PTkFg",
        "colab_type": "code",
        "colab": {
          "base_uri": "https://localhost:8080/",
          "height": 340
        },
        "outputId": "0435b389-abcc-42c3-d35d-61fda908a668"
      },
      "source": [
        "                                    #Get data files onto root\n",
        "%cd\n",
        "from google.colab import drive\n",
        "drive.mount('/content/gdrive')\n",
        "# !cp -avr /content/gdrive/My\\ Drive/TIMIT\\ E2E/timit.zip /root\n",
        "# !unzip /root/timit.zip -d /root\n",
        "!cp -avr /content/gdrive/My\\ Drive/TIMIT\\ E2E/Wordset\\ files/* /root\n",
        "!cp -avr /content/gdrive/My\\ Drive/TIMIT\\ E2E/Wordceps\\ files/* /root\n",
        "!ls"
      ],
      "execution_count": 1,
      "outputs": [
        {
          "output_type": "stream",
          "text": [
            "/root\n",
            "Mounted at /content/gdrive\n",
            "'/content/gdrive/My Drive/TIMIT E2E/Wordset files/inds.pkl' -> '/root/inds.pkl'\n",
            "'/content/gdrive/My Drive/TIMIT E2E/Wordset files/reps.pkl' -> '/root/reps.pkl'\n",
            "'/content/gdrive/My Drive/TIMIT E2E/Wordset files/wordset.pkl' -> '/root/wordset.pkl'\n",
            "'/content/gdrive/My Drive/TIMIT E2E/Wordset files/words.pkl' -> '/root/words.pkl'\n",
            "'/content/gdrive/My Drive/TIMIT E2E/Wordceps files/lenframes.pkl' -> '/root/lenframes.pkl'\n",
            "'/content/gdrive/My Drive/TIMIT E2E/Wordceps files/testfreqs.pkl' -> '/root/testfreqs.pkl'\n",
            "'/content/gdrive/My Drive/TIMIT E2E/Wordceps files/timitceps.pkl' -> '/root/timitceps.pkl'\n",
            "'/content/gdrive/My Drive/TIMIT E2E/Wordceps files/trainfreqs.pkl' -> '/root/trainfreqs.pkl'\n",
            "'/content/gdrive/My Drive/TIMIT E2E/Wordceps files/wordloop.pkl' -> '/root/wordloop.pkl'\n",
            "'/content/gdrive/My Drive/TIMIT E2E/Wordceps files/words.pkl' -> '/root/words.pkl'\n",
            "'/content/gdrive/My Drive/TIMIT E2E/Wordceps files/Xtest.pkl' -> '/root/Xtest.pkl'\n",
            "'/content/gdrive/My Drive/TIMIT E2E/Wordceps files/Xtrain.pkl' -> '/root/Xtrain.pkl'\n",
            "'/content/gdrive/My Drive/TIMIT E2E/Wordceps files/Ytest.pkl' -> '/root/Ytest.pkl'\n",
            "'/content/gdrive/My Drive/TIMIT E2E/Wordceps files/Ytrain.pkl' -> '/root/Ytrain.pkl'\n",
            "inds.pkl       testfreqs.pkl   wordloop.pkl  Xtest.pkl\t Ytrain.pkl\n",
            "lenframes.pkl  timitceps.pkl   wordset.pkl   Xtrain.pkl\n",
            "reps.pkl       trainfreqs.pkl  words.pkl     Ytest.pkl\n"
          ],
          "name": "stdout"
        }
      ]
    },
    {
      "cell_type": "code",
      "metadata": {
        "id": "Kh6pa0hDOKab",
        "colab_type": "code",
        "colab": {
          "base_uri": "https://localhost:8080/",
          "height": 445
        },
        "outputId": "8785e37a-db93-4034-da1f-d2c7c93a71be"
      },
      "source": [
        "                                    #Import libraries\n",
        "from pylab import *\n",
        "import os\n",
        "from google.colab import files\n",
        "!pip install pickle-mixin           #Use pkl to store model\n",
        "from pickle import dump\n",
        "from pickle import load      \n",
        "!pip install SoundFile\n",
        "import soundfile as sf              #For .wav to data\n",
        "from scipy.io import wavfile\n",
        "!pip install python_speech_features\n",
        "from python_speech_features import mfcc\n",
        "import pandas as pd\n",
        "import csv\n",
        "import random\n",
        "import time"
      ],
      "execution_count": 2,
      "outputs": [
        {
          "output_type": "stream",
          "text": [
            "Collecting pickle-mixin\n",
            "  Downloading https://files.pythonhosted.org/packages/02/77/9d5eb2201bbc130e2a5cc41fc949e4ab0da74b619107eac1c511be3af7a7/pickle-mixin-1.0.2.tar.gz\n",
            "Building wheels for collected packages: pickle-mixin\n",
            "  Building wheel for pickle-mixin (setup.py) ... \u001b[?25l\u001b[?25hdone\n",
            "  Created wheel for pickle-mixin: filename=pickle_mixin-1.0.2-cp36-none-any.whl size=6000 sha256=51414bff21851cb20b3ca5a90f4aa9b10f92bc0ee97a5df639de3b06d9c4a60d\n",
            "  Stored in directory: /root/.cache/pip/wheels/cd/05/42/71de70fa36b9cbb7657bb5793a16f8028c1cdc1bdd3b8e1ac3\n",
            "Successfully built pickle-mixin\n",
            "Installing collected packages: pickle-mixin\n",
            "Successfully installed pickle-mixin-1.0.2\n",
            "Collecting SoundFile\n",
            "  Downloading https://files.pythonhosted.org/packages/eb/f2/3cbbbf3b96fb9fa91582c438b574cff3f45b29c772f94c400e2c99ef5db9/SoundFile-0.10.3.post1-py2.py3-none-any.whl\n",
            "Requirement already satisfied: cffi>=1.0 in /usr/local/lib/python3.6/dist-packages (from SoundFile) (1.14.2)\n",
            "Requirement already satisfied: pycparser in /usr/local/lib/python3.6/dist-packages (from cffi>=1.0->SoundFile) (2.20)\n",
            "Installing collected packages: SoundFile\n",
            "Successfully installed SoundFile-0.10.3.post1\n",
            "Collecting python_speech_features\n",
            "  Downloading https://files.pythonhosted.org/packages/ff/d1/94c59e20a2631985fbd2124c45177abaa9e0a4eee8ba8a305aa26fc02a8e/python_speech_features-0.6.tar.gz\n",
            "Building wheels for collected packages: python-speech-features\n",
            "  Building wheel for python-speech-features (setup.py) ... \u001b[?25l\u001b[?25hdone\n",
            "  Created wheel for python-speech-features: filename=python_speech_features-0.6-cp36-none-any.whl size=5887 sha256=aaa83ffbef8f9d465b95e1a0f65c8a10d43e4e649d21f51c1f3ae9cf3f281b9d\n",
            "  Stored in directory: /root/.cache/pip/wheels/3c/42/7c/f60e9d1b40015cd69b213ad90f7c18a9264cd745b9888134be\n",
            "Successfully built python-speech-features\n",
            "Installing collected packages: python-speech-features\n",
            "Successfully installed python-speech-features-0.6\n"
          ],
          "name": "stdout"
        }
      ]
    },
    {
      "cell_type": "code",
      "metadata": {
        "id": "tD8VTPiLApfM",
        "colab_type": "code",
        "colab": {}
      },
      "source": [
        "                                    #Import torch requirements\n",
        "import torch\n",
        "import torch.nn as nn\n",
        "import torch.optim as optim\n",
        "import torch.nn.functional as F\n",
        "from torch.utils.data import DataLoader,TensorDataset"
      ],
      "execution_count": 51,
      "outputs": []
    },
    {
      "cell_type": "code",
      "metadata": {
        "id": "5jELsKCAywUV",
        "colab_type": "code",
        "colab": {
          "base_uri": "https://localhost:8080/",
          "height": 119
        },
        "outputId": "58dbbe00-66a2-44e0-ab2c-85ccd5919ba2"
      },
      "source": [
        "#words = load(open('words.pkl', 'rb'))\n",
        "#inds = load(open('inds.pkl', 'rb'))\n",
        "reps = load(open('reps.pkl', 'rb'))\n",
        "wordset = load(open('wordset.pkl', 'rb'))\n",
        "\n",
        "Nreps = 250\t\t\t\t\t\t\t#Number of repititions of each word\n",
        "\n",
        "inds = np.where(reps >= Nreps)[0]\n",
        "words = wordset[inds]               #Choose only 36-most-repeated words\n",
        "freqs = reps[inds]                  #Frequency at which these words occur\n",
        "print(len(inds))\n",
        "print(words)\n",
        "print(freqs)"
      ],
      "execution_count": 49,
      "outputs": [
        {
          "output_type": "stream",
          "text": [
            "27\n",
            "['a' 'all' 'an' 'and' 'ask' 'carry' 'dark' \"don't\" 'greasy' 'had' 'in'\n",
            " 'is' 'like' 'me' 'of' 'oily' 'rag' 'she' 'suit' 'that' 'the' 'to' 'wash'\n",
            " 'water' 'year' 'you' 'your']\n",
            "[ 866  543  571  481  464  463  465  488  462  526  944  399  511  505\n",
            "  454  470  470  571  462  611 1602 1018  469  479  472  271  565]\n"
          ],
          "name": "stdout"
        }
      ]
    },
    {
      "cell_type": "code",
      "metadata": {
        "id": "k56Jx8fdWEnb",
        "colab_type": "code",
        "colab": {}
      },
      "source": [
        "def mostrepeatedwords(Nrep=250) :\n",
        "    allwords = []\n",
        "                                    #Go through all folders and consolidate the words\n",
        "    for subdir, dirs, files in os.walk(\"timit_train\"):\n",
        "        dirname = subdir.split(os.path.sep)[-1]\n",
        "        print('Directory:', dirname)\n",
        "        for f in files:\n",
        "            if f.endswith('.txt'):\n",
        "                                    #Get words of each sentence from .txt file\n",
        "                !cp -avr /root/timit_train/$dirname/$f /root\n",
        "                words = np.genfromtxt(f,delimiter=' ',dtype=str)\n",
        "                words = words[2:]\n",
        "                words[-1] = words[-1][:-1]\n",
        "                                    #Put all the words in a list\n",
        "                allwords += list(map(str.lower,list(words)))\n",
        "                !rm $f\n",
        "                                    #Get the unique set of words and their counts\n",
        "    wordunique,wordcount = np.unique(allwords,return_counts=True)\n",
        "                                    #Choose only those words with significant repitions\n",
        "    indrep = np.where(wordcount >= Nrep)[0]\n",
        "    #print(len(indrep))\n",
        "    wordclass = wordunique[indrep]\n",
        "    return wordclass,wordunique,wordcount,indrep"
      ],
      "execution_count": 50,
      "outputs": []
    },
    {
      "cell_type": "code",
      "metadata": {
        "id": "cbwWxT6SbZk3",
        "colab_type": "code",
        "colab": {}
      },
      "source": [
        "# words,wordset,reps,inds = mostrepeatedwords()\n",
        "# words"
      ],
      "execution_count": 6,
      "outputs": []
    },
    {
      "cell_type": "code",
      "metadata": {
        "id": "E8YdW3uUftVj",
        "colab_type": "code",
        "colab": {}
      },
      "source": [
        "                                    #Dump words model file\n",
        "# dump(words, open('words.pkl', 'wb'))\n",
        "# dump(inds, open('inds.pkl', 'wb'))\n",
        "# dump(reps, open('reps.pkl', 'wb'))\n",
        "# dump(wordset, open('wordset.pkl', 'wb'))"
      ],
      "execution_count": 7,
      "outputs": []
    },
    {
      "cell_type": "code",
      "metadata": {
        "id": "W4JAhCRT2x6-",
        "colab_type": "code",
        "colab": {}
      },
      "source": [
        "                                    #Download model files\n",
        "# files.download(\"/root/words.pkl\")\n",
        "# files.download(\"/root/inds.pkl\")\n",
        "# files.download(\"/root/reps.pkl\")\n",
        "# files.download(\"/root/wordset.pkl\")"
      ],
      "execution_count": 8,
      "outputs": []
    },
    {
      "cell_type": "code",
      "metadata": {
        "id": "T0pG-pv64GrH",
        "colab_type": "code",
        "colab": {}
      },
      "source": [
        "                                    #Getting the mfcc features for different words\n",
        "def wavtoMfcc(words,Nmfcc=38) :\n",
        "    count = 0                       #Initialize required lists\n",
        "    timit_audio = []\n",
        "    new_timit_audio = []\n",
        "    timitceps = []\n",
        "    wordloop = []\n",
        "    lenframes = []\n",
        "    for subdir, dirs, files in os.walk('timit_train'):\n",
        "        dirname = subdir.split(os.path.sep)[-1]\n",
        "        for f in files:\n",
        "            if f.endswith('.wav'):\n",
        "                count += 1\n",
        "                print(os.path.join(subdir, f), ', name:', f, ', Count:', count)\n",
        "                                    #Read data from the .wav file\n",
        "                data, fs = sf.read(os.path.join(subdir, f))\n",
        "                timit_audio.append(data)\n",
        "                fword = f[:-4]+\".wrd\"\n",
        "                                    #Check word files for most repeated words\n",
        "                print(os.path.join(subdir, fword), ', name:', fword, ', Count:', count)\n",
        "                word_file = np.array(pd.read_csv(os.path.join(subdir, fword), delimiter = ' ',header = None))\n",
        "                new_data = []\n",
        "                for w in np.array(word_file[:,2]):\n",
        "                    if w in words:\n",
        "                        a = np.where(word_file[:,2] == w)\n",
        "                        start = word_file[a[0],0][0]\n",
        "                        end = word_file[a[0],1][0]\n",
        "                        if(start != end):   #For removing corner case error\n",
        "                                    #Collect the .wav samples of required slices\n",
        "                            new_data = data[start:end]\n",
        "                            new_timit_audio.append(new_data)\n",
        "                                            #Convert them to mfcc\n",
        "                            ceps = mfcc(new_data, fs, numcep=Nmfcc,winlen=0.008,winstep=0.004,nfilt=76)\n",
        "                            timitceps.append(ceps)\n",
        "                                    #Put the words in order of the mfcc features\n",
        "                            wordloop.append(w)\n",
        "                            lenframes.append(len(ceps))\n",
        "    \n",
        "    timitceps = array(timitceps)\n",
        "    wordloop = array(wordloop)\n",
        "    lenframes = array(lenframes) \n",
        "    maxframes = lenframes.max()     #Obtain maximum size of frames\n",
        "\n",
        "    return timitceps,wordloop,lenframes,maxframes,new_timit_audio                                           "
      ],
      "execution_count": 9,
      "outputs": []
    },
    {
      "cell_type": "code",
      "metadata": {
        "id": "e0H_FaRryK-y",
        "colab_type": "code",
        "colab": {}
      },
      "source": [
        "# timitceps,wordloop,lenframes,maxframes,new_timit_audio = wavtoMfcc(words)"
      ],
      "execution_count": 10,
      "outputs": []
    },
    {
      "cell_type": "code",
      "metadata": {
        "id": "IUwguHR7kEtd",
        "colab_type": "code",
        "colab": {}
      },
      "source": [
        "                                    #Dump processed files\n",
        "# dump(timitceps, open('timitceps.pkl', 'wb'))\n",
        "# dump(wordloop, open('wordloop.pkl', 'wb'))\n",
        "# dump(lenframes, open('lenframes.pkl', 'wb'))\n",
        "# dump(new_timit_audio, open('new_timit_audio.pkl', 'wb'))"
      ],
      "execution_count": 11,
      "outputs": []
    },
    {
      "cell_type": "code",
      "metadata": {
        "id": "ydmhgQtpkfHR",
        "colab_type": "code",
        "colab": {}
      },
      "source": [
        "                                    #Download model files\n",
        "# files.download(\"/root/timitceps.pkl\")\n",
        "# files.download(\"/root/wordloop.pkl\")\n",
        "# files.download(\"/root/lenframes.pkl\")\n",
        "# files.download(\"/root/new_timit_audio.pkl\")"
      ],
      "execution_count": 12,
      "outputs": []
    },
    {
      "cell_type": "code",
      "metadata": {
        "id": "KkFtniQitoh1",
        "colab_type": "code",
        "colab": {}
      },
      "source": [
        "                                    #Load the required files\n",
        "# timitceps = load(open('timitceps.pkl', 'rb'))\n",
        "# wordloop = load(open('wordloop.pkl', 'rb'))\n",
        "# lenframes = load(open('lenframes.pkl', 'rb'))\n",
        "# new_timit_audio = load(open('new_timit_audio.pkl', 'rb'))"
      ],
      "execution_count": 13,
      "outputs": []
    },
    {
      "cell_type": "code",
      "metadata": {
        "id": "auI0KrIyTPby",
        "colab_type": "code",
        "colab": {}
      },
      "source": [
        "def mfcctotensor(words,trainfreqs,testfreqs,timitceps,wordloop,lenframes,maxframes=162,Nmfcc=38) :\n",
        "                                    #Declare train and test arrays\n",
        "    Xtrain = np.zeros((sum(trainfreqs),maxframes,Nmfcc))\n",
        "    Xtest = np.zeros((sum(testfreqs),maxframes,Nmfcc))\n",
        "    Ytrain = np.zeros(sum(trainfreqs))\n",
        "    Ytest = np.zeros(sum(testfreqs))\n",
        "    indtrain = cumsum(trainfreqs)   #Cumulative sum of indices\n",
        "    indtest = cumsum(testfreqs)\n",
        "                                    #Loop to collect train and test features\n",
        "    for i in range(0,len(words)) :\n",
        "    \n",
        "                                    #Obtain the particular word's mfcc features\n",
        "        indcep = np.where(wordloop==words[i])[0]\n",
        "        indlen = lenframes[indcep]\n",
        "                                    #Can add randomness if needed (while choosing for train and test)\n",
        "        trainindcep = indcep[:trainfreqs[i]]\n",
        "        testindcep = indcep[trainfreqs[i]:]\n",
        "        trainindlen = indlen[:trainfreqs[i]]\n",
        "        testindlen = indlen[trainfreqs[i]:]\n",
        "                                    #Check if occurance match\n",
        "        if trainfreqs[i] + testfreqs[i] == len(indcep) :            \n",
        "                                    #Loop over train features and transfer from list to array\n",
        "            for j in range(0,len(trainindcep)) :\n",
        "                if i != 0 :\n",
        "                    Xtrain[indtrain[i-1]+j][:trainindlen[j]] = timitceps[trainindcep[j]]\n",
        "                else :\n",
        "                    Xtrain[j][:trainindlen[j]] = timitceps[trainindcep[j]]\n",
        "                                    #Loop over test features and transfer from list to array\n",
        "            for j in range(0,len(testindcep)) :\n",
        "                if i != 0 :\n",
        "                    Xtest[indtest[i-1]+j][:testindlen[j]] = timitceps[testindcep[j]]\n",
        "                else :\n",
        "                    Xtest[j][:testindlen[j]] = timitceps[testindcep[j]]\n",
        "        else :\n",
        "            print(\"ERROR : Frequencies don't match with index length\")\n",
        "            return None\n",
        "                                    #Assign outputs for ANN\n",
        "        if i == 0 :\n",
        "            Ytrain[:indtrain[i]] = i\n",
        "            Ytest[:indtest[i]] = i\n",
        "        else :\n",
        "            Ytrain[indtrain[i-1]:indtrain[i]] = i\n",
        "            Ytest[indtest[i-1]:indtest[i]] = i\n",
        "\n",
        "    return Xtrain,Ytrain,Xtest,Ytest,words,trainfreqs,testfreqs"
      ],
      "execution_count": 14,
      "outputs": []
    },
    {
      "cell_type": "code",
      "metadata": {
        "id": "q2iJu6sb6-29",
        "colab_type": "code",
        "colab": {}
      },
      "source": [
        "def traintesttensors(timitceps,wordloop,lenframes,Nmfcc=38) :\n",
        "                                    #Get required inputs\n",
        "    words,freqs = np.unique(wordloop,return_counts=True)\n",
        "    trainfreqs = np.round(0.8*freqs.astype(\"float\"))\n",
        "    testfreqs = freqs-trainfreqs\n",
        "    maxframes = lenframes.max()\n",
        "\n",
        "    return mfcctotensor(words,trainfreqs.astype(\"int\"),testfreqs.astype(\"int\"),timitceps,wordloop,lenframes,maxframes)"
      ],
      "execution_count": 15,
      "outputs": []
    },
    {
      "cell_type": "code",
      "metadata": {
        "id": "GlbS2-3pBfcF",
        "colab_type": "code",
        "colab": {}
      },
      "source": [
        "# Xtrain,Ytrain,Xtest,Ytest,words,trainfreqs,testfreqs = traintesttensors(timitceps,wordloop,lenframes)"
      ],
      "execution_count": 16,
      "outputs": []
    },
    {
      "cell_type": "code",
      "metadata": {
        "id": "poaoGPDLEp29",
        "colab_type": "code",
        "colab": {}
      },
      "source": [
        "                                    #Dump processed files\n",
        "# dump(Xtrain, open('Xtrain.pkl', 'wb'))\n",
        "# dump(Ytrain, open('Ytrain.pkl', 'wb'))\n",
        "# dump(Xtest, open('Xtest.pkl', 'wb'))\n",
        "# dump(Ytest, open('Ytest.pkl', 'wb'))\n",
        "# dump(words, open('words.pkl', 'wb'))\n",
        "# dump(trainfreqs, open('trainfreqs.pkl', 'wb'))\n",
        "# dump(testfreqs, open('testfreqs.pkl', 'wb'))"
      ],
      "execution_count": 17,
      "outputs": []
    },
    {
      "cell_type": "code",
      "metadata": {
        "id": "LZTzZ-d5FqFr",
        "colab_type": "code",
        "colab": {}
      },
      "source": [
        "                                    #Download model files\n",
        "# files.download(\"/root/Xtrain.pkl\")\n",
        "# files.download(\"/root/Ytrain.pkl\")\n",
        "# files.download(\"/root/Xtest.pkl\")\n",
        "# files.download(\"/root/Ytest.pkl\")\n",
        "# files.download(\"/root/words.pkl\")\n",
        "# files.download(\"/root/trainfreqs.pkl\")\n",
        "# files.download(\"/root/testfreqs.pkl\")"
      ],
      "execution_count": 18,
      "outputs": []
    },
    {
      "cell_type": "code",
      "metadata": {
        "id": "ByWYHFh4KfEB",
        "colab_type": "code",
        "colab": {}
      },
      "source": [
        "                                    #Load files\n",
        "Xtrain = load(open('Xtrain.pkl', 'rb'))\n",
        "Ytrain = load(open('Ytrain.pkl', 'rb'))\n",
        "Xtest = load(open('Xtest.pkl', 'rb'))\n",
        "Ytest = load(open('Ytest.pkl', 'rb'))\n",
        "words = load(open('words.pkl', 'rb'))\n",
        "# trainfreqs = load(open('trainfreqs.pkl', 'rb'))\n",
        "# testfreqs = load(open('testfreqs.pkl', 'rb'))"
      ],
      "execution_count": 19,
      "outputs": []
    },
    {
      "cell_type": "code",
      "metadata": {
        "id": "CIL2dyjDDKxY",
        "colab_type": "code",
        "colab": {}
      },
      "source": [
        "\n",
        "class EncoderRNN(nn.Module):\n",
        "    def __init__(self, hidden_size,feature_size,batch_size):\n",
        "        super(EncoderRNN, self).__init__()\n",
        "        self.hidden_size = hidden_size\n",
        "        self.feature_size = feature_size\n",
        "        self.batch_size = batch_size\n",
        "\n",
        "        self.gru = nn.GRU(feature_size, hidden_size)\n",
        "\n",
        "    def forward(self, input, hidden):\n",
        "        output, hidden = self.gru(input, hidden)\n",
        "        return output, hidden\n",
        "\n",
        "    def initHidden(self):\n",
        "        return torch.zeros(1, self.batch_size, self.hidden_size, device=device)"
      ],
      "execution_count": 20,
      "outputs": []
    },
    {
      "cell_type": "code",
      "metadata": {
        "id": "oXB-Be1La4VE",
        "colab_type": "code",
        "colab": {}
      },
      "source": [
        "\n",
        "class DecoderRNN(nn.Module):\n",
        "    def __init__(self, hidden_size, feature_size, output_size,batch_size):\n",
        "        super(DecoderRNN, self).__init__()\n",
        "        self.hidden_size = hidden_size\n",
        "        self.feature_size = feature_size\n",
        "        self.batch_size = batch_size\n",
        "\n",
        "        self.gru = nn.GRU(feature_size, hidden_size)\n",
        "        self.out = nn.Linear(hidden_size, output_size)\n",
        "\n",
        "    def forward(self, input, hidden):\n",
        "        #print(input.size())\n",
        "        output = F.relu(input)\n",
        "        #output = input\n",
        "        #print(output.size())\n",
        "        output, hidden = self.gru(output, hidden)\n",
        "        #print(output.size())\n",
        "        output = self.out(output)\n",
        "        return output, hidden\n",
        "\n",
        "    def initHidden(self):\n",
        "        return torch.zeros(1, self.batch_size, self.hidden_size, device=device)"
      ],
      "execution_count": 21,
      "outputs": []
    },
    {
      "cell_type": "code",
      "metadata": {
        "id": "20FRjzA9WYj7",
        "colab_type": "code",
        "colab": {}
      },
      "source": [
        "teacher_forcing_ratio = 0.5\n",
        "SOS_token = 0\n",
        "EOS_token = 1\n",
        "MAX_LENGTH = 162\n",
        "\n",
        "def train(input_tensor, target_tensor, encoder, decoder, encoder_optimizer, decoder_optimizer, criterion,feature_size, max_length=MAX_LENGTH):\n",
        "                                    #Initialize hidden vector\n",
        "    encoder_hidden = encoder.initHidden()\n",
        "                                    #Make the gradients zero\n",
        "    encoder_optimizer.zero_grad()\n",
        "    decoder_optimizer.zero_grad()\n",
        "                                    #No. of windows/ dependent units\n",
        "    input_length = input_tensor.size(1)\n",
        "    target_length = target_tensor.size(1)\n",
        "                                    #Storing outputs for attention\n",
        "    encoder_outputs = torch.zeros(max_length, encoder.hidden_size, device=device)\n",
        "\n",
        "    loss = 0\n",
        "                                    #Loop over the no. of windows\n",
        "    for ei in range(input_length):\n",
        "                                    #Call encoder (?)\n",
        "        encoder_output, encoder_hidden = encoder(\n",
        "            input_tensor[:,ei].unsqueeze(0), encoder_hidden)\n",
        "            #input_tensor[:,ei].view(1,-1,feature_size), encoder_hidden)\n",
        "        #print(encoder_output[0,0])\n",
        "        encoder_outputs[ei] = encoder_output[0, 0]\n",
        "                                    #Initialize decoder input (?)\n",
        "    decoder_input = torch.zeros(1,input_tensor.size(0),input_tensor.size(2), device=device)\n",
        "    \n",
        "                                    #Use common hidden layer\n",
        "    decoder_hidden = encoder_hidden\n",
        "    #print(encoder_hidden.size())\n",
        "\n",
        "    use_teacher_forcing = True#True if random.random() < teacher_forcing_ratio else False\n",
        "\n",
        "    if use_teacher_forcing:\n",
        "        # Teacher forcing: Feed the target as the next input\n",
        "        for di in range(target_length):\n",
        "                                    #Call decoder (?)\n",
        "            #print(decoder_input.size())\n",
        "            decoder_output, decoder_hidden = decoder(\n",
        "                decoder_input, decoder_hidden)\n",
        "                                    #Comparing same decoder output with different target vectors (?)\n",
        "            loss += criterion(decoder_output, target_tensor[:,di].unsqueeze(0))\n",
        "                                    #Teacher forcing\n",
        "            decoder_input = target_tensor[:,di].unsqueeze(0)\n",
        "\n",
        "    else:\n",
        "        # Without teacher forcing: use its own predictions as the next input\n",
        "        for di in range(target_length):\n",
        "            decoder_output, decoder_hidden = decoder(\n",
        "                decoder_input.unsqueeze(0), decoder_hidden)\n",
        "            #topv, topi = decoder_output.topk(1)\n",
        "            #decoder_input = topi.squeeze().detach()  # detach from history as input\n",
        "\n",
        "            loss += criterion(decoder_output, target_tensor[:,di].unsqueeze(0))\n",
        "            # if decoder_input.item() == EOS_token:\n",
        "            #     break\n",
        "\n",
        "    loss.backward()\n",
        "\n",
        "    encoder_optimizer.step()\n",
        "    decoder_optimizer.step()\n",
        "\n",
        "    return loss.item() / target_length"
      ],
      "execution_count": 39,
      "outputs": []
    },
    {
      "cell_type": "code",
      "metadata": {
        "id": "VliSeCiVv0dU",
        "colab_type": "code",
        "colab": {}
      },
      "source": [
        "def asMinutes(s):\n",
        "    m = math.floor(s / 60)\n",
        "    s -= m * 60\n",
        "    return '%dm %ds' % (m, s)\n",
        "\n",
        "def timeSince(since, percent):\n",
        "    now = time.time()\n",
        "    s = now - since\n",
        "    es = s / (percent)\n",
        "    rs = es - s\n",
        "    return '%s (- %s)' % (asMinutes(s), asMinutes(rs))\n",
        "\n",
        "def showPlot(points):\n",
        "    plt.figure()\n",
        "    fig, ax = plt.subplots()\n",
        "    # this locator puts ticks at regular intervals\n",
        "    #loc = matplotlib.ticker.MultipleLocator(base=0.2)\n",
        "    #ax.yaxis.set_major_locator(loc)\n",
        "    plt.semilogy(points)"
      ],
      "execution_count": 40,
      "outputs": []
    },
    {
      "cell_type": "code",
      "metadata": {
        "id": "nEfEu5P0sNP5",
        "colab_type": "code",
        "colab": {}
      },
      "source": [
        "def trainIters(dataloader, encoder, decoder, n_iters,feature_size, print_every=1, plot_every=1, learning_rate=0.001):\n",
        "    start = time.time()\n",
        "    plot_losses = []\n",
        "    batchloss = 0                   #Reset after every epoch\n",
        "    print_loss_total = 0            #Reset every print_every\n",
        "    plot_loss_total = 0             #Reset every plot_every\n",
        "\n",
        "    encoder_optimizer = optim.SGD(encoder.parameters(), lr=learning_rate)\n",
        "    decoder_optimizer = optim.SGD(decoder.parameters(), lr=learning_rate)\n",
        "    criterion = nn.MSELoss()\n",
        "\n",
        "    for iter in range(1, n_iters + 1):\n",
        "        for i,input in enumerate(dataloader) :\n",
        "            input_tensor = input[0]\n",
        "            target_tensor = input[1]\n",
        "\n",
        "            loss = train(input_tensor, target_tensor, encoder,\n",
        "                        decoder, encoder_optimizer, decoder_optimizer, criterion,feature_size)\n",
        "            batchloss += loss\n",
        "        print_loss_total += batchloss\n",
        "        plot_loss_total += batchloss\n",
        "        batchloss = 0\n",
        "\n",
        "        if iter % print_every == 0:\n",
        "            print_loss_avg = print_loss_total / print_every\n",
        "                                    #Make it zero after every print\n",
        "            print_loss_total = 0\n",
        "            print('%s (%d %d%%) %.4f' % (timeSince(start, iter / n_iters),\n",
        "                                        iter, iter / n_iters * 100, print_loss_avg))\n",
        "\n",
        "        if iter % plot_every == 0:\n",
        "            plot_loss_avg = plot_loss_total / plot_every\n",
        "            plot_losses.append(plot_loss_avg)\n",
        "            plot_loss_total = 0\n",
        "\n",
        "    #print(plot_losses)\n",
        "    showPlot(plot_losses)"
      ],
      "execution_count": 83,
      "outputs": []
    },
    {
      "cell_type": "code",
      "metadata": {
        "id": "dKzx9YxMmM8x",
        "colab_type": "code",
        "colab": {
          "base_uri": "https://localhost:8080/",
          "height": 1000
        },
        "outputId": "41ab47dc-2b38-433e-8738-31e16e3d89ef"
      },
      "source": [
        "                                    #Create dataloader\n",
        "trainIp = torch.from_numpy(Xtrain[:1000]).float().to(device)\n",
        "traindata = TensorDataset(trainIp,trainIp)\n",
        "dataloader = DataLoader(dataset=traindata,\n",
        "                        batch_size=20,\n",
        "                        shuffle=True,\n",
        "                        drop_last=True)\n",
        "hidden_size = 256\n",
        "feature_size = 38\n",
        "output_size = 38\n",
        "batch_size = 20\n",
        "device = torch.device('cuda')\n",
        "encoder = EncoderRNN(hidden_size,feature_size,batch_size).to(device)\n",
        "decoder = DecoderRNN(hidden_size,feature_size,output_size,batch_size).to(device)\n",
        "trainIters(dataloader,encoder, decoder, 120,feature_size)"
      ],
      "execution_count": 84,
      "outputs": [
        {
          "output_type": "stream",
          "text": [
            "0m 11s (- 22m 47s) (1 0%) 2427.8442\n",
            "0m 23s (- 22m 41s) (2 1%) 1957.5138\n",
            "0m 34s (- 22m 29s) (3 2%) 1752.0534\n",
            "0m 46s (- 22m 17s) (4 3%) 1631.4611\n",
            "0m 57s (- 22m 3s) (5 4%) 1559.1637\n",
            "1m 8s (- 21m 50s) (6 5%) 1504.7926\n",
            "1m 20s (- 21m 40s) (7 5%) 1461.2966\n",
            "1m 32s (- 21m 29s) (8 6%) 1436.0647\n",
            "1m 43s (- 21m 17s) (9 7%) 1410.2287\n",
            "1m 55s (- 21m 6s) (10 8%) 1395.2342\n",
            "2m 6s (- 20m 56s) (11 9%) 1385.3030\n",
            "2m 18s (- 20m 44s) (12 10%) 1367.1233\n",
            "2m 29s (- 20m 33s) (13 10%) 1356.0595\n",
            "2m 41s (- 20m 22s) (14 11%) 1346.2867\n",
            "2m 53s (- 20m 11s) (15 12%) 1338.3442\n",
            "3m 4s (- 19m 59s) (16 13%) 1335.5308\n",
            "3m 16s (- 19m 48s) (17 14%) 1324.6438\n",
            "3m 27s (- 19m 37s) (18 15%) 1317.8240\n",
            "3m 39s (- 19m 26s) (19 15%) 1315.3931\n",
            "3m 50s (- 19m 14s) (20 16%) 1310.2945\n",
            "4m 2s (- 19m 3s) (21 17%) 1302.5039\n",
            "4m 14s (- 18m 53s) (22 18%) 1296.0322\n",
            "4m 25s (- 18m 41s) (23 19%) 1292.4670\n",
            "4m 37s (- 18m 29s) (24 20%) 1289.8247\n",
            "4m 49s (- 18m 18s) (25 20%) 1283.2206\n",
            "5m 0s (- 18m 6s) (26 21%) 1275.0509\n",
            "5m 12s (- 17m 55s) (27 22%) 1275.3409\n",
            "5m 24s (- 17m 44s) (28 23%) 1271.3880\n",
            "5m 35s (- 17m 34s) (29 24%) 1263.5781\n",
            "5m 47s (- 17m 23s) (30 25%) 1261.5730\n",
            "5m 59s (- 17m 12s) (31 25%) 1253.4403\n",
            "6m 11s (- 17m 1s) (32 26%) 1251.4533\n",
            "6m 23s (- 16m 50s) (33 27%) 1253.4600\n",
            "6m 35s (- 16m 39s) (34 28%) 1248.7416\n",
            "6m 47s (- 16m 28s) (35 29%) 1245.7776\n",
            "6m 58s (- 16m 17s) (36 30%) 1239.7838\n",
            "7m 10s (- 16m 6s) (37 30%) 1229.7282\n",
            "7m 22s (- 15m 55s) (38 31%) 1233.7965\n",
            "7m 34s (- 15m 44s) (39 32%) 1226.9621\n",
            "7m 46s (- 15m 32s) (40 33%) 1226.4244\n",
            "7m 58s (- 15m 21s) (41 34%) 1224.6454\n",
            "8m 10s (- 15m 10s) (42 35%) 1227.5379\n",
            "8m 22s (- 14m 59s) (43 35%) 1217.7779\n",
            "8m 34s (- 14m 48s) (44 36%) 1216.7548\n",
            "8m 46s (- 14m 37s) (45 37%) 1207.2452\n",
            "8m 58s (- 14m 25s) (46 38%) 1208.5288\n",
            "9m 10s (- 14m 14s) (47 39%) 1208.1250\n",
            "9m 22s (- 14m 3s) (48 40%) 1207.1002\n",
            "9m 34s (- 13m 52s) (49 40%) 1199.8216\n",
            "9m 46s (- 13m 40s) (50 41%) 1200.1342\n",
            "9m 58s (- 13m 29s) (51 42%) 1197.7874\n",
            "10m 10s (- 13m 17s) (52 43%) 1195.2252\n",
            "10m 22s (- 13m 6s) (53 44%) 1190.2983\n",
            "10m 34s (- 12m 55s) (54 45%) 1187.2258\n",
            "10m 46s (- 12m 43s) (55 45%) 1187.6081\n",
            "10m 57s (- 12m 31s) (56 46%) 1181.5128\n",
            "11m 9s (- 12m 20s) (57 47%) 1183.7304\n",
            "11m 21s (- 12m 8s) (58 48%) 1181.4537\n",
            "11m 33s (- 11m 57s) (59 49%) 1175.5364\n",
            "11m 45s (- 11m 45s) (60 50%) 1173.0182\n",
            "11m 57s (- 11m 33s) (61 50%) 1175.3233\n",
            "12m 9s (- 11m 22s) (62 51%) 1167.7904\n",
            "12m 21s (- 11m 10s) (63 52%) 1165.2761\n",
            "12m 33s (- 10m 59s) (64 53%) 1163.7991\n",
            "12m 45s (- 10m 47s) (65 54%) 1162.8267\n",
            "12m 57s (- 10m 35s) (66 55%) 1156.5185\n",
            "13m 9s (- 10m 24s) (67 55%) 1159.5186\n",
            "13m 21s (- 10m 12s) (68 56%) 1155.7661\n",
            "13m 32s (- 10m 0s) (69 57%) 1156.6316\n",
            "13m 44s (- 9m 49s) (70 58%) 1155.4171\n",
            "13m 56s (- 9m 37s) (71 59%) 1154.6268\n",
            "14m 8s (- 9m 25s) (72 60%) 1153.7778\n",
            "14m 20s (- 9m 13s) (73 60%) 1149.1158\n",
            "14m 32s (- 9m 2s) (74 61%) 1144.3017\n",
            "14m 44s (- 8m 50s) (75 62%) 1145.0096\n",
            "14m 56s (- 8m 38s) (76 63%) 1144.4193\n",
            "15m 7s (- 8m 26s) (77 64%) 1143.9234\n",
            "15m 19s (- 8m 15s) (78 65%) 1144.3569\n",
            "15m 31s (- 8m 3s) (79 65%) 1140.6558\n",
            "15m 43s (- 7m 51s) (80 66%) 1138.0123\n",
            "15m 55s (- 7m 39s) (81 67%) 1133.0450\n",
            "16m 6s (- 7m 28s) (82 68%) 1128.4661\n",
            "16m 18s (- 7m 16s) (83 69%) 1127.6054\n",
            "16m 30s (- 7m 4s) (84 70%) 1126.9044\n",
            "16m 42s (- 6m 52s) (85 70%) 1125.5773\n",
            "16m 54s (- 6m 40s) (86 71%) 1124.6711\n",
            "17m 6s (- 6m 29s) (87 72%) 1123.5690\n",
            "17m 18s (- 6m 17s) (88 73%) 1123.7827\n",
            "17m 29s (- 6m 5s) (89 74%) 1115.9185\n",
            "17m 41s (- 5m 53s) (90 75%) 1116.6488\n",
            "17m 53s (- 5m 42s) (91 75%) 1117.7007\n",
            "18m 5s (- 5m 30s) (92 76%) 1116.3511\n",
            "18m 16s (- 5m 18s) (93 77%) 1110.8765\n",
            "18m 28s (- 5m 6s) (94 78%) 1111.5468\n",
            "18m 40s (- 4m 54s) (95 79%) 1108.2120\n",
            "18m 52s (- 4m 43s) (96 80%) 1106.9134\n",
            "19m 3s (- 4m 31s) (97 80%) 1104.1164\n",
            "19m 15s (- 4m 19s) (98 81%) 1105.2215\n",
            "19m 27s (- 4m 7s) (99 82%) 1107.0085\n",
            "19m 39s (- 3m 55s) (100 83%) 1100.4132\n",
            "19m 51s (- 3m 44s) (101 84%) 1098.5065\n",
            "20m 2s (- 3m 32s) (102 85%) 1097.7143\n",
            "20m 14s (- 3m 20s) (103 85%) 1099.3141\n",
            "20m 25s (- 3m 8s) (104 86%) 1100.5915\n",
            "20m 37s (- 2m 56s) (105 87%) 1096.8638\n",
            "20m 48s (- 2m 44s) (106 88%) 1095.7734\n",
            "21m 0s (- 2m 33s) (107 89%) 1090.7183\n",
            "21m 11s (- 2m 21s) (108 90%) 1093.0930\n",
            "21m 22s (- 2m 9s) (109 90%) 1095.1787\n",
            "21m 33s (- 1m 57s) (110 91%) 1091.2739\n",
            "21m 44s (- 1m 45s) (111 92%) 1089.3713\n",
            "21m 55s (- 1m 33s) (112 93%) 1091.5893\n",
            "22m 6s (- 1m 22s) (113 94%) 1089.6864\n",
            "22m 17s (- 1m 10s) (114 95%) 1086.4184\n",
            "22m 28s (- 0m 58s) (115 95%) 1086.5302\n",
            "22m 39s (- 0m 46s) (116 96%) 1080.2042\n",
            "22m 50s (- 0m 35s) (117 97%) 1081.9250\n",
            "23m 1s (- 0m 23s) (118 98%) 1078.4986\n",
            "23m 11s (- 0m 11s) (119 99%) 1078.0088\n",
            "23m 22s (- 0m 0s) (120 100%) 1081.8385\n"
          ],
          "name": "stdout"
        },
        {
          "output_type": "display_data",
          "data": {
            "text/plain": [
              "<Figure size 432x288 with 0 Axes>"
            ]
          },
          "metadata": {
            "tags": []
          }
        },
        {
          "output_type": "display_data",
          "data": {
            "image/png": "[encoded data removed]",
            "text/plain": [
              "<Figure size 432x288 with 1 Axes>"
            ]
          },
          "metadata": {
            "tags": [],
            "needs_background": "light"
          }
        }
      ]
    },
    {
      "cell_type": "code",
      "metadata": {
        "id": "WvqQe3Esnjc5",
        "colab_type": "code",
        "colab": {}
      },
      "source": [
        "for i,data in enumerate(dataloader) :\n",
        "    print(i)\n",
        "    print(shape(data[0]))\n",
        "    print((data[0]==data[1]).all())"
      ],
      "execution_count": null,
      "outputs": []
    },
    {
      "cell_type": "code",
      "metadata": {
        "id": "hEhzijeesMsD",
        "colab_type": "code",
        "colab": {}
      },
      "source": [
        "\n",
        "input = torch.from_numpy(Xtrain[:batch_size]).float().to(device)\n",
        "#print(input.size())\n",
        "#input = input.view(1,162,-1)\n",
        "#print(input.size())"
      ],
      "execution_count": null,
      "outputs": []
    },
    {
      "cell_type": "code",
      "metadata": {
        "id": "ORGSbUejXTum",
        "colab_type": "code",
        "colab": {
          "base_uri": "https://localhost:8080/",
          "height": 34
        },
        "outputId": "54fac36a-ec9f-4873-e7f3-094b9ca34212"
      },
      "source": [
        "shape(Xtrain)"
      ],
      "execution_count": 37,
      "outputs": [
        {
          "output_type": "execute_result",
          "data": {
            "text/plain": [
              "(12520, 162, 38)"
            ]
          },
          "metadata": {
            "tags": []
          },
          "execution_count": 37
        }
      ]
    },
    {
      "cell_type": "code",
      "metadata": {
        "id": "QWGzgZ1FXuI5",
        "colab_type": "code",
        "colab": {}
      },
      "source": [
        "teacher_forcing_ratio = 0.5\n",
        "\n",
        "\n",
        "def trainAttention(input_tensor, target_tensor, encoder, decoder, encoder_optimizer, decoder_optimizer, criterion, max_length=MAX_LENGTH):\n",
        "    encoder_hidden = encoder.initHidden()\n",
        "\n",
        "    encoder_optimizer.zero_grad()\n",
        "    decoder_optimizer.zero_grad()\n",
        "\n",
        "    input_length = input_tensor.size(0)\n",
        "    target_length = target_tensor.size(0)\n",
        "\n",
        "    encoder_outputs = torch.zeros(max_length, encoder.hidden_size, device=device)\n",
        "\n",
        "    loss = 0\n",
        "\n",
        "    for ei in range(input_length):\n",
        "        encoder_output, encoder_hidden = encoder(\n",
        "            input_tensor[ei], encoder_hidden)\n",
        "        encoder_outputs[ei] = encoder_output[0, 0]\n",
        "\n",
        "    decoder_input = torch.tensor([[SOS_token]], device=device)\n",
        "\n",
        "    decoder_hidden = encoder_hidden\n",
        "\n",
        "    use_teacher_forcing = True if random.random() < teacher_forcing_ratio else False\n",
        "\n",
        "    if use_teacher_forcing:\n",
        "        # Teacher forcing: Feed the target as the next input\n",
        "        for di in range(target_length):\n",
        "            decoder_output, decoder_hidden, decoder_attention = decoder(\n",
        "                decoder_input, decoder_hidden, encoder_outputs)\n",
        "            loss += criterion(decoder_output, target_tensor[di])\n",
        "            decoder_input = target_tensor[di]  # Teacher forcing\n",
        "\n",
        "    else:\n",
        "        # Without teacher forcing: use its own predictions as the next input\n",
        "        for di in range(target_length):\n",
        "            decoder_output, decoder_hidden, decoder_attention = decoder(\n",
        "                decoder_input, decoder_hidden, encoder_outputs)\n",
        "            topv, topi = decoder_output.topk(1)\n",
        "            decoder_input = topi.squeeze().detach()  # detach from history as input\n",
        "\n",
        "            loss += criterion(decoder_output, target_tensor[di])\n",
        "            if decoder_input.item() == EOS_token:\n",
        "                break\n",
        "\n",
        "    loss.backward()\n",
        "\n",
        "    encoder_optimizer.step()\n",
        "    decoder_optimizer.step()\n",
        "\n",
        "    return loss.item() / target_length"
      ],
      "execution_count": 54,
      "outputs": []
    },
    {
      "cell_type": "code",
      "metadata": {
        "id": "dCNG36ZHgs6I",
        "colab_type": "code",
        "colab": {}
      },
      "source": [
        "MAX_LENGTH = 162\n",
        "class AttnDecoderRNN(nn.Module):\n",
        "    def __init__(self, hidden_size, feature_size, output_size, dropout_p=0.1, max_length=MAX_LENGTH):\n",
        "        super(AttnDecoderRNN, self).__init__()\n",
        "        self.hidden_size = hidden_size\n",
        "        self.output_size = output_size\n",
        "        self.dropout_p = dropout_p\n",
        "        self.max_length = max_length\n",
        "\n",
        "        self.attn = nn.Linear(self.hidden_size * 2, self.max_length)\n",
        "        self.attn_combine = nn.Linear(self.hidden_size * 2, self.hidden_size)\n",
        "        self.dropout = nn.Dropout(self.dropout_p)\n",
        "        self.gru = nn.GRU(self.feature_size, self.hidden_size)\n",
        "        self.out = nn.Linear(self.hidden_size, self.output_size)\n",
        "\n",
        "    def forward(self, input, hidden, encoder_outputs):\n",
        "        embedded = self.embedding(input).view(1, 1, -1)\n",
        "        embedded = self.dropout(embedded)\n",
        "\n",
        "        attn_weights = F.softmax(\n",
        "            self.attn(torch.cat((embedded[0], hidden[0]), 1)), dim=1)\n",
        "        attn_applied = torch.bmm(attn_weights.unsqueeze(0),\n",
        "                                 encoder_outputs.unsqueeze(0))\n",
        "\n",
        "        output = torch.cat((embedded[0], attn_applied[0]), 1)\n",
        "        output = self.attn_combine(output).unsqueeze(0)\n",
        "\n",
        "        output = F.relu(output)\n",
        "        output, hidden = self.gru(output, hidden)\n",
        "\n",
        "        output = F.log_softmax(self.out(output[0]), dim=1)\n",
        "        return output, hidden, attn_weights\n",
        "\n",
        "    def initHidden(self):\n",
        "        return torch.zeros(1, 1, self.hidden_size, device=device)"
      ],
      "execution_count": null,
      "outputs": []
    },
    {
      "cell_type": "code",
      "metadata": {
        "id": "tFT0G6xJNQGF",
        "colab_type": "code",
        "colab": {
          "base_uri": "https://localhost:8080/",
          "height": 34
        },
        "outputId": "869514a7-0a46-43d4-8e91-f2f2beae4c7a"
      },
      "source": [
        "a = np.where(wordloop==\"carry\")[0]\n",
        "shape(timitceps[a[5]])\n",
        "#wordloop[2]"
      ],
      "execution_count": null,
      "outputs": [
        {
          "output_type": "execute_result",
          "data": {
            "text/plain": [
              "(73, 38)"
            ]
          },
          "metadata": {
            "tags": []
          },
          "execution_count": 12
        }
      ]
    },
    {
      "cell_type": "code",
      "metadata": {
        "id": "yg9cMLmp71sm",
        "colab_type": "code",
        "colab": {
          "base_uri": "https://localhost:8080/",
          "height": 34
        },
        "outputId": "ca9f9a70-7b70-46c4-910f-6beae08ef418"
      },
      "source": [
        "wordloop[np.where(lenframes==lenframes.min())[0]]\n",
        "#wavfile.write('test.wav', 16000, new_timit_audio[15545])"
      ],
      "execution_count": null,
      "outputs": [
        {
          "output_type": "execute_result",
          "data": {
            "text/plain": [
              "array(['to', 'a'], dtype='<U6')"
            ]
          },
          "metadata": {
            "tags": []
          },
          "execution_count": 12
        }
      ]
    },
    {
      "cell_type": "code",
      "metadata": {
        "id": "jYLm4OM2265Y",
        "colab_type": "code",
        "colab": {
          "base_uri": "https://localhost:8080/",
          "height": 68
        },
        "outputId": "e3a41aba-b487-45bb-8c85-b3924d6c11db"
      },
      "source": [
        "print(type(timitceps[0]))\n",
        "_,check = array(np.unique(wordloop,return_counts=True))\n",
        "print(sum(np.round(0.8*check.astype(float))))#/sum(check.astype(float)))\n",
        "(0.8*check.astype(float))\n",
        "sum(check.astype(float))\n",
        "a = array([2,3,4,5,6])\n",
        "cumsum(a)"
      ],
      "execution_count": null,
      "outputs": [
        {
          "output_type": "stream",
          "text": [
            "<class 'numpy.ndarray'>\n",
            "12520.0\n"
          ],
          "name": "stdout"
        },
        {
          "output_type": "execute_result",
          "data": {
            "text/plain": [
              "array([ 2,  5,  9, 14, 20])"
            ]
          },
          "metadata": {
            "tags": []
          },
          "execution_count": 66
        }
      ]
    },
    {
      "cell_type": "code",
      "metadata": {
        "id": "spw_p9eT2wis",
        "colab_type": "code",
        "colab": {
          "base_uri": "https://localhost:8080/",
          "height": 51
        },
        "outputId": "a488d5a3-a028-42cd-c567-7b529e53bf02"
      },
      "source": [
        "print(lenframes.max())\n",
        "lenframes.min()"
      ],
      "execution_count": null,
      "outputs": [
        {
          "output_type": "stream",
          "text": [
            "162\n"
          ],
          "name": "stdout"
        },
        {
          "output_type": "execute_result",
          "data": {
            "text/plain": [
              "3"
            ]
          },
          "metadata": {
            "tags": []
          },
          "execution_count": 10
        }
      ]
    },
    {
      "cell_type": "code",
      "metadata": {
        "id": "eBi76r4XFwop",
        "colab_type": "code",
        "colab": {
          "base_uri": "https://localhost:8080/",
          "height": 136
        },
        "outputId": "074c894c-7f70-45f6-dfc0-1010e151f9b0"
      },
      "source": [
        "print(words)\n",
        "print(freqs)"
      ],
      "execution_count": null,
      "outputs": [
        {
          "output_type": "stream",
          "text": [
            "['a' 'all' 'an' 'and' 'are' 'ask' 'be' 'carry' 'dark' \"don't\" 'for'\n",
            " 'greasy' 'had' 'he' 'his' 'in' 'is' 'like' 'me' 'of' 'oily' 'on' 'rag'\n",
            " 'she' 'suit' 'that' 'the' 'to' 'was' 'wash' 'water' 'we' 'with' 'year'\n",
            " 'you' 'your']\n",
            "[ 866  543  571  481  237  464  175  463  465  488  216  462  526  233\n",
            "  189  944  399  511  505  454  470  164  470  571  462  611 1602 1018\n",
            "  235  469  479  154  187  472  271  565]\n"
          ],
          "name": "stdout"
        }
      ]
    },
    {
      "cell_type": "code",
      "metadata": {
        "id": "_eB__vH2HJWb",
        "colab_type": "code",
        "colab": {
          "base_uri": "https://localhost:8080/",
          "height": 17
        },
        "outputId": "b6308927-2e8f-4be8-be62-0ba7713b055f"
      },
      "source": [
        "files.download(\"test.wav\")"
      ],
      "execution_count": null,
      "outputs": [
        {
          "output_type": "display_data",
          "data": {
            "application/javascript": [
              "\n",
              "    async function download(id, filename, size) {\n",
              "      if (!google.colab.kernel.accessAllowed) {\n",
              "        return;\n",
              "      }\n",
              "      const div = document.createElement('div');\n",
              "      const label = document.createElement('label');\n",
              "      label.textContent = `Downloading \"${filename}\": `;\n",
              "      div.appendChild(label);\n",
              "      const progress = document.createElement('progress');\n",
              "      progress.max = size;\n",
              "      div.appendChild(progress);\n",
              "      document.body.appendChild(div);\n",
              "\n",
              "      const buffers = [];\n",
              "      let downloaded = 0;\n",
              "\n",
              "      const channel = await google.colab.kernel.comms.open(id);\n",
              "      // Send a message to notify the kernel that we're ready.\n",
              "      channel.send({})\n",
              "\n",
              "      for await (const message of channel.messages) {\n",
              "        // Send a message to notify the kernel that we're ready.\n",
              "        channel.send({})\n",
              "        if (message.buffers) {\n",
              "          for (const buffer of message.buffers) {\n",
              "            buffers.push(buffer);\n",
              "            downloaded += buffer.byteLength;\n",
              "            progress.value = downloaded;\n",
              "          }\n",
              "        }\n",
              "      }\n",
              "      const blob = new Blob(buffers, {type: 'application/binary'});\n",
              "      const a = document.createElement('a');\n",
              "      a.href = window.URL.createObjectURL(blob);\n",
              "      a.download = filename;\n",
              "      div.appendChild(a);\n",
              "      a.click();\n",
              "      div.remove();\n",
              "    }\n",
              "  "
            ],
            "text/plain": [
              "<IPython.core.display.Javascript object>"
            ]
          },
          "metadata": {
            "tags": []
          }
        },
        {
          "output_type": "display_data",
          "data": {
            "application/javascript": [
              "download(\"download_f4278679-5dba-491b-8ff6-df33c86fa0e3\", \"test.wav\", 83354)"
            ],
            "text/plain": [
              "<IPython.core.display.Javascript object>"
            ]
          },
          "metadata": {
            "tags": []
          }
        }
      ]
    },
    {
      "cell_type": "code",
      "metadata": {
        "id": "C60Vk2qmqwp0",
        "colab_type": "code",
        "colab": {}
      },
      "source": [
        ""
      ],
      "execution_count": null,
      "outputs": []
    }
  ]
}