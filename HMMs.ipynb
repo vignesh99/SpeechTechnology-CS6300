{
  "nbformat": 4,
  "nbformat_minor": 0,
  "metadata": {
    "colab": {
      "name": "HMMs.ipynb",
      "provenance": [],
      "collapsed_sections": [],
      "authorship_tag": "ABX9TyNjA2FBYk09ZonFcleNyk/7",
      "include_colab_link": true
    },
    "kernelspec": {
      "name": "python3",
      "display_name": "Python 3"
    }
  },
  "cells": [
    {
      "cell_type": "markdown",
      "metadata": {
        "id": "view-in-github",
        "colab_type": "text"
      },
      "source": [
        "<a href=\"https://colab.research.google.com/github/vignesh99/CS6300-Speech-Technology/blob/master/HMMs.ipynb\" target=\"_parent\"><img src=\"https://colab.research.google.com/assets/colab-badge.svg\" alt=\"Open In Colab\"/></a>"
      ]
    },
    {
      "cell_type": "code",
      "metadata": {
        "id": "WuIaWLcM9ZL2",
        "colab_type": "code",
        "colab": {
          "base_uri": "https://localhost:8080/",
          "height": 425
        },
        "outputId": "74404b25-fa0b-487e-8772-8ff41057fed5"
      },
      "source": [
        "                                    #Get data files onto root\n",
        "%cd\n",
        "from google.colab import drive\n",
        "drive.mount('/content/gdrive')\n",
        "!cp -avr /content/gdrive/My\\ Drive/HMM_IsoData/1 /root\n",
        "!cp -avr /content/gdrive/My\\ Drive/HMM_IsoData/2 /root\n",
        "!cp -avr /content/gdrive/My\\ Drive/HMM_IsoData/3 /root\n",
        "!cp -avr /content/gdrive/My\\ Drive/HMM_IsoData/6 /root\n",
        "!cp -avr /content/gdrive/My\\ Drive/HMM_IsoData/7 /root\n",
        "!cp -avr /content/gdrive/My\\ Drive/HMM_CtsData/dev /root\n",
        "!cp -avr /content/gdrive/My\\ Drive/HMM_CtsData/test /root\n",
        "!cp -avr /content/gdrive/My\\ Drive/fp1.txt /root\n",
        "!cp -avr /content/gdrive/My\\ Drive/fp2.txt /root\n",
        "!cp -avr /content/gdrive/My\\ Drive/fp3.txt /root\n",
        "!cp -avr /content/gdrive/My\\ Drive/fp6.txt /root\n",
        "!cp -avr /content/gdrive/My\\ Drive/fp7.txt /root\n",
        "!ls"
      ],
      "execution_count": 119,
      "outputs": [
        {
          "output_type": "stream",
          "text": [
            "/root\n",
            "Drive already mounted at /content/gdrive; to attempt to forcibly remount, call drive.mount(\"/content/gdrive\", force_remount=True).\n",
            "removed '/root/1'\n",
            "'/content/gdrive/My Drive/HMM_IsoData/1' -> '/root/1'\n",
            "removed '/root/2'\n",
            "'/content/gdrive/My Drive/HMM_IsoData/2' -> '/root/2'\n",
            "removed '/root/3'\n",
            "'/content/gdrive/My Drive/HMM_IsoData/3' -> '/root/3'\n",
            "removed '/root/6'\n",
            "'/content/gdrive/My Drive/HMM_IsoData/6' -> '/root/6'\n",
            "removed '/root/7'\n",
            "'/content/gdrive/My Drive/HMM_IsoData/7' -> '/root/7'\n",
            "removed '/root/dev/team15'\n",
            "'/content/gdrive/My Drive/HMM_CtsData/dev/team15' -> '/root/dev/team15'\n",
            "removed '/root/test/team15'\n",
            "'/content/gdrive/My Drive/HMM_CtsData/test/team15' -> '/root/test/team15'\n",
            "'/content/gdrive/My Drive/fp1.txt' -> '/root/fp1.txt'\n",
            "'/content/gdrive/My Drive/fp2.txt' -> '/root/fp2.txt'\n",
            "'/content/gdrive/My Drive/fp3.txt' -> '/root/fp3.txt'\n",
            "'/content/gdrive/My Drive/fp6.txt' -> '/root/fp6.txt'\n",
            "'/content/gdrive/My Drive/fp7.txt' -> '/root/fp7.txt'\n",
            "1  6\tDHMMtest  fp3.txt  one.seq    seven.test  test\t      two.seq\n",
            "2  7\tfp1.txt   fp6.txt  one.test   six.seq\t  three.seq   two.test\n",
            "3  dev\tfp2.txt   fp7.txt  seven.seq  six.test\t  three.test\n"
          ],
          "name": "stdout"
        }
      ]
    },
    {
      "cell_type": "code",
      "metadata": {
        "id": "Tu_1dZFCCgyo",
        "colab_type": "code",
        "colab": {
          "base_uri": "https://localhost:8080/",
          "height": 34
        },
        "outputId": "78c84d8e-69e1-41fb-e2ef-9cfc1300935f"
      },
      "source": [
        "                                    #Test file\n",
        "!cp -avr /root/1/dev/ra_1.mfcc /root\n",
        "filex = \"ra_1.mfcc\""
      ],
      "execution_count": 90,
      "outputs": [
        {
          "output_type": "stream",
          "text": [
            "'/root/1/dev/ra_1.mfcc' -> '/root/ra_1.mfcc'\n"
          ],
          "name": "stdout"
        }
      ]
    },
    {
      "cell_type": "code",
      "metadata": {
        "id": "RcjI1APJCGLi",
        "colab_type": "code",
        "colab": {}
      },
      "source": [
        "                                    #Import required libraries\n",
        "from pylab import *\n",
        "import os                           #Going through folders\n",
        "from scipy.cluster.vq import kmeans2\n",
        "from google.colab import files\n",
        "from sklearn.cluster import KMeans"
      ],
      "execution_count": 87,
      "outputs": []
    },
    {
      "cell_type": "markdown",
      "metadata": {
        "id": "bDKndSmNdWI8",
        "colab_type": "text"
      },
      "source": [
        "**Discete HMMs**"
      ]
    },
    {
      "cell_type": "code",
      "metadata": {
        "id": "7Q9zZey1ESja",
        "colab_type": "code",
        "colab": {}
      },
      "source": [
        "def fileTofeature(fileMfcc) :\n",
        "                                    #Convert features from file into array\n",
        "    features = np.genfromtxt(fileMfcc,delimiter='\\n',dtype=str)\n",
        "    Nc,Nf = features[0].split(\" \")\n",
        "    Nc = int(Nc)\n",
        "    Nf = int(Nf)\n",
        "    features = np.genfromtxt(features[1:],delimiter=' ',dtype=str)\n",
        "    features = features.astype(float)\n",
        "                                    \n",
        "    return Nf,features\n"
      ],
      "execution_count": 88,
      "outputs": []
    },
    {
      "cell_type": "code",
      "metadata": {
        "id": "pN7oQe67vOBm",
        "colab_type": "code",
        "colab": {
          "base_uri": "https://localhost:8080/",
          "height": 34
        },
        "outputId": "3686cc97-078f-4777-f964-d81017a982a8"
      },
      "source": [
        "label,ft = fileTofeature(filex)\n",
        "label"
      ],
      "execution_count": 91,
      "outputs": [
        {
          "output_type": "execute_result",
          "data": {
            "text/plain": [
              "121"
            ]
          },
          "metadata": {
            "tags": []
          },
          "execution_count": 91
        }
      ]
    },
    {
      "cell_type": "code",
      "metadata": {
        "id": "PPEok_7ly-0s",
        "colab_type": "code",
        "colab": {}
      },
      "source": [
        "                                    #Give the file with sequences for training data\n",
        "def trainCentre(Nclust=16,folders=None) :\n",
        "    if folders is None :            #Go through all digits\n",
        "        folders = array([\"1\",\"2\",\"3\",\"6\",\"7\"])\n",
        "\n",
        "    ind = []                     #All digits total vector numbers\n",
        "    ind.append([0,0])            #Inital values\n",
        "    Nwin = []                       #No. of vectors in each train file\n",
        "    count = 0\n",
        "    for word in folders :\n",
        "                                    #Go through required folders\n",
        "        for subdir, dirs, files in os.walk(word):\n",
        "            dirname = subdir.split(os.path.sep)[-1]\n",
        "            print('Directory:', dirname)\n",
        "            if dirname == \"train\":\n",
        "                for f in files:\n",
        "                    if f.endswith('.mfcc'):\n",
        "                                    #Copy file (mfcc) to root and perform K-means\n",
        "                        !cp -avr /root/$word/train/$f /root\n",
        "                        foo,temp = fileTofeature(f)\n",
        "                                    #Concatenate training feature vectors\n",
        "                        if count == 0 :\n",
        "                            features = temp\n",
        "                            Nwin.append(foo)\n",
        "                        else :\n",
        "                            features = np.concatenate((features,temp))\n",
        "                            Nwin.append(foo+Nwin[-1])\n",
        "                        !rm $f\n",
        "                        count+=1\n",
        "        ind.append([len(Nwin),Nwin[-1]])\n",
        "                                    #Apply K-means on the vectors\n",
        "    trainKM = KMeans(n_clusters=Nclust)\n",
        "    trainKM.fit(features)\n",
        "                                    #Get Nwin in required format\n",
        "    ind = array(ind)\n",
        "    Nwin = array(Nwin)\n",
        "    for i in range(5) :\n",
        "        Nwin[ind[i,0]:ind[i+1,0]] -=  ind[i,1]\n",
        "\n",
        "    return Nwin,features,trainKM,ind\n"
      ],
      "execution_count": 109,
      "outputs": []
    },
    {
      "cell_type": "code",
      "metadata": {
        "id": "JcXtKAXO8KOU",
        "colab_type": "code",
        "colab": {}
      },
      "source": [
        "def seqDwnld(seq,fileWord) :\n",
        "    with open(fileWord,\"w\") as f:\n",
        "        f.write(\"\\n\".join(\" \".join(map(str, line)) for line in seq))\n",
        "\n",
        "    return None"
      ],
      "execution_count": 110,
      "outputs": []
    },
    {
      "cell_type": "code",
      "metadata": {
        "id": "7eKPgOrXti5Y",
        "colab_type": "code",
        "colab": {}
      },
      "source": [
        "                                    #Give the file with sequences for training data\n",
        "def trainSeq(Nwin,features,trainKM,fileWord=\"check.txt\") :\n",
        "    seq = []\n",
        "    count = 0\n",
        "                                    #Go through required folders\n",
        "    for i in range(0,len(Nwin)) :\n",
        "                                    #Get each features from all-features-array\n",
        "        if i != 0:\n",
        "            temp = features[Nwin[i-1]:Nwin[i]]\n",
        "        else : \n",
        "            temp = features[:Nwin[0]]\n",
        "                                    #Perform Kmeans on predefined centres\n",
        "        label = trainKM.predict(temp)\n",
        "        seq.append(label)\n",
        "\n",
        "        if i==2 :\n",
        "            print(label)\n",
        "\n",
        "    seq = array(seq)\n",
        "\n",
        "    seqDwnld(seq,fileWord)\n",
        "\n",
        "    return None\n"
      ],
      "execution_count": 111,
      "outputs": []
    },
    {
      "cell_type": "code",
      "metadata": {
        "id": "E1-vC4d2re4V",
        "colab_type": "code",
        "colab": {
          "base_uri": "https://localhost:8080/",
          "height": 85
        },
        "outputId": "1ca5baed-d14e-4337-f409-ac1f5d10d7c6"
      },
      "source": [
        "!ls"
      ],
      "execution_count": 102,
      "outputs": [
        {
          "output_type": "stream",
          "text": [
            "1  7\t      fp1.txt  fp7.txt\t  seven.seq   test\t  two.test\n",
            "2  bh_1.mfcc  fp2.txt  one.seq\t  seven.test  three.seq\n",
            "3  dev\t      fp3.txt  one.test   six.seq     three.test\n",
            "6  ek_7.mfcc  fp6.txt  ra_1.mfcc  six.test    two.seq\n"
          ],
          "name": "stdout"
        }
      ]
    },
    {
      "cell_type": "code",
      "metadata": {
        "id": "E_TB16nOVIoW",
        "colab_type": "code",
        "colab": {
          "base_uri": "https://localhost:8080/",
          "height": 1000
        },
        "outputId": "2df8b493-8044-4ac6-8ccb-fbdad4659f60"
      },
      "source": [
        "Nw,feat,cenKM,ind = trainCentre()       #Train all the phenomes\n",
        "\n",
        "                                    #Get file sequences\n",
        "trainSeq(Nw[ind[0,0]:ind[1,0]],feat[ind[0,1]:ind[1,1]],cenKM,\"one.seq\")\n",
        "trainSeq(Nw[ind[1,0]:ind[2,0]],feat[ind[1,1]:ind[2,1]],cenKM,\"two.seq\")\n",
        "trainSeq(Nw[ind[2,0]:ind[3,0]],feat[ind[2,1]:ind[3,1]],cenKM,\"three.seq\")\n",
        "trainSeq(Nw[ind[3,0]:ind[4,0]],feat[ind[3,1]:ind[4,1]],cenKM,\"six.seq\")\n",
        "trainSeq(Nw[ind[4,0]:ind[5,0]],feat[ind[4,1]:ind[5,1]],cenKM,\"seven.seq\")\n"
      ],
      "execution_count": 112,
      "outputs": [
        {
          "output_type": "stream",
          "text": [
            "Directory: 1\n",
            "Directory: train\n",
            "'/root/1/train/ac_1.mfcc' -> '/root/ac_1.mfcc'\n",
            "'/root/1/train/ag_1.mfcc' -> '/root/ag_1.mfcc'\n",
            "'/root/1/train/ai_1.mfcc' -> '/root/ai_1.mfcc'\n",
            "'/root/1/train/an_1.mfcc' -> '/root/an_1.mfcc'\n",
            "'/root/1/train/bh_1.mfcc' -> '/root/bh_1.mfcc'\n",
            "'/root/1/train/bi_1.mfcc' -> '/root/bi_1.mfcc'\n",
            "'/root/1/train/br_1.mfcc' -> '/root/br_1.mfcc'\n",
            "'/root/1/train/ca_1.mfcc' -> '/root/ca_1.mfcc'\n",
            "'/root/1/train/cg_1.mfcc' -> '/root/cg_1.mfcc'\n",
            "'/root/1/train/cl_1.mfcc' -> '/root/cl_1.mfcc'\n",
            "'/root/1/train/cm_1.mfcc' -> '/root/cm_1.mfcc'\n",
            "'/root/1/train/dc_1.mfcc' -> '/root/dc_1.mfcc'\n",
            "'/root/1/train/dg_1.mfcc' -> '/root/dg_1.mfcc'\n",
            "'/root/1/train/ea_1.mfcc' -> '/root/ea_1.mfcc'\n",
            "'/root/1/train/ec_1.mfcc' -> '/root/ec_1.mfcc'\n",
            "'/root/1/train/ee_1.mfcc' -> '/root/ee_1.mfcc'\n",
            "'/root/1/train/eg_1.mfcc' -> '/root/eg_1.mfcc'\n",
            "'/root/1/train/ei_1.mfcc' -> '/root/ei_1.mfcc'\n",
            "'/root/1/train/ek_1.mfcc' -> '/root/ek_1.mfcc'\n",
            "'/root/1/train/es_1.mfcc' -> '/root/es_1.mfcc'\n",
            "'/root/1/train/hg_1.mfcc' -> '/root/hg_1.mfcc'\n",
            "'/root/1/train/hp_1.mfcc' -> '/root/hp_1.mfcc'\n",
            "'/root/1/train/ig_1.mfcc' -> '/root/ig_1.mfcc'\n",
            "'/root/1/train/ih_1.mfcc' -> '/root/ih_1.mfcc'\n",
            "'/root/1/train/il_1.mfcc' -> '/root/il_1.mfcc'\n",
            "'/root/1/train/jc_1.mfcc' -> '/root/jc_1.mfcc'\n",
            "'/root/1/train/ji_1.mfcc' -> '/root/ji_1.mfcc'\n",
            "'/root/1/train/jj_1.mfcc' -> '/root/jj_1.mfcc'\n",
            "'/root/1/train/jn_1.mfcc' -> '/root/jn_1.mfcc'\n",
            "'/root/1/train/jp_1.mfcc' -> '/root/jp_1.mfcc'\n",
            "'/root/1/train/kc_1.mfcc' -> '/root/kc_1.mfcc'\n",
            "'/root/1/train/kf_1.mfcc' -> '/root/kf_1.mfcc'\n",
            "'/root/1/train/kh_1.mfcc' -> '/root/kh_1.mfcc'\n",
            "'/root/1/train/kk_1.mfcc' -> '/root/kk_1.mfcc'\n",
            "'/root/1/train/kn_1.mfcc' -> '/root/kn_1.mfcc'\n",
            "'/root/1/train/kt_1.mfcc' -> '/root/kt_1.mfcc'\n",
            "'/root/1/train/la_1.mfcc' -> '/root/la_1.mfcc'\n",
            "'/root/1/train/ld_1.mfcc' -> '/root/ld_1.mfcc'\n",
            "'/root/1/train/ls_1.mfcc' -> '/root/ls_1.mfcc'\n",
            "Directory: dev\n",
            "Directory: 2\n",
            "Directory: train\n",
            "'/root/2/train/ac_2.mfcc' -> '/root/ac_2.mfcc'\n",
            "'/root/2/train/ag_2.mfcc' -> '/root/ag_2.mfcc'\n",
            "'/root/2/train/ai_2.mfcc' -> '/root/ai_2.mfcc'\n",
            "'/root/2/train/an_2.mfcc' -> '/root/an_2.mfcc'\n",
            "'/root/2/train/bh_2.mfcc' -> '/root/bh_2.mfcc'\n",
            "'/root/2/train/bi_2.mfcc' -> '/root/bi_2.mfcc'\n",
            "'/root/2/train/br_2.mfcc' -> '/root/br_2.mfcc'\n",
            "'/root/2/train/ca_2.mfcc' -> '/root/ca_2.mfcc'\n",
            "'/root/2/train/cg_2.mfcc' -> '/root/cg_2.mfcc'\n",
            "'/root/2/train/cl_2.mfcc' -> '/root/cl_2.mfcc'\n",
            "'/root/2/train/cm_2.mfcc' -> '/root/cm_2.mfcc'\n",
            "'/root/2/train/dc_2.mfcc' -> '/root/dc_2.mfcc'\n",
            "'/root/2/train/dg_2.mfcc' -> '/root/dg_2.mfcc'\n",
            "'/root/2/train/ea_2.mfcc' -> '/root/ea_2.mfcc'\n",
            "'/root/2/train/ec_2.mfcc' -> '/root/ec_2.mfcc'\n",
            "'/root/2/train/ee_2.mfcc' -> '/root/ee_2.mfcc'\n",
            "'/root/2/train/eg_2.mfcc' -> '/root/eg_2.mfcc'\n",
            "'/root/2/train/ei_2.mfcc' -> '/root/ei_2.mfcc'\n",
            "'/root/2/train/ek_2.mfcc' -> '/root/ek_2.mfcc'\n",
            "'/root/2/train/es_2.mfcc' -> '/root/es_2.mfcc'\n",
            "'/root/2/train/hg_2.mfcc' -> '/root/hg_2.mfcc'\n",
            "'/root/2/train/hp_2.mfcc' -> '/root/hp_2.mfcc'\n",
            "'/root/2/train/ig_2.mfcc' -> '/root/ig_2.mfcc'\n",
            "'/root/2/train/ih_2.mfcc' -> '/root/ih_2.mfcc'\n",
            "'/root/2/train/il_2.mfcc' -> '/root/il_2.mfcc'\n",
            "'/root/2/train/jc_2.mfcc' -> '/root/jc_2.mfcc'\n",
            "'/root/2/train/ji_2.mfcc' -> '/root/ji_2.mfcc'\n",
            "'/root/2/train/jj_2.mfcc' -> '/root/jj_2.mfcc'\n",
            "'/root/2/train/jn_2.mfcc' -> '/root/jn_2.mfcc'\n",
            "'/root/2/train/jp_2.mfcc' -> '/root/jp_2.mfcc'\n",
            "'/root/2/train/kc_2.mfcc' -> '/root/kc_2.mfcc'\n",
            "'/root/2/train/kf_2.mfcc' -> '/root/kf_2.mfcc'\n",
            "'/root/2/train/kh_2.mfcc' -> '/root/kh_2.mfcc'\n",
            "'/root/2/train/kk_2.mfcc' -> '/root/kk_2.mfcc'\n",
            "'/root/2/train/kn_2.mfcc' -> '/root/kn_2.mfcc'\n",
            "'/root/2/train/kt_2.mfcc' -> '/root/kt_2.mfcc'\n",
            "'/root/2/train/la_2.mfcc' -> '/root/la_2.mfcc'\n",
            "'/root/2/train/ld_2.mfcc' -> '/root/ld_2.mfcc'\n",
            "'/root/2/train/ls_2.mfcc' -> '/root/ls_2.mfcc'\n",
            "Directory: dev\n",
            "Directory: 3\n",
            "Directory: train\n",
            "'/root/3/train/ac_3.mfcc' -> '/root/ac_3.mfcc'\n",
            "'/root/3/train/ag_3.mfcc' -> '/root/ag_3.mfcc'\n",
            "'/root/3/train/ai_3.mfcc' -> '/root/ai_3.mfcc'\n",
            "'/root/3/train/an_3.mfcc' -> '/root/an_3.mfcc'\n",
            "'/root/3/train/bh_3.mfcc' -> '/root/bh_3.mfcc'\n",
            "'/root/3/train/bi_3.mfcc' -> '/root/bi_3.mfcc'\n",
            "'/root/3/train/br_3.mfcc' -> '/root/br_3.mfcc'\n",
            "'/root/3/train/ca_3.mfcc' -> '/root/ca_3.mfcc'\n",
            "'/root/3/train/cg_3.mfcc' -> '/root/cg_3.mfcc'\n",
            "'/root/3/train/cl_3.mfcc' -> '/root/cl_3.mfcc'\n",
            "'/root/3/train/cm_3.mfcc' -> '/root/cm_3.mfcc'\n",
            "'/root/3/train/dc_3.mfcc' -> '/root/dc_3.mfcc'\n",
            "'/root/3/train/dg_3.mfcc' -> '/root/dg_3.mfcc'\n",
            "'/root/3/train/ea_3.mfcc' -> '/root/ea_3.mfcc'\n",
            "'/root/3/train/ec_3.mfcc' -> '/root/ec_3.mfcc'\n",
            "'/root/3/train/ee_3.mfcc' -> '/root/ee_3.mfcc'\n",
            "'/root/3/train/eg_3.mfcc' -> '/root/eg_3.mfcc'\n",
            "'/root/3/train/ei_3.mfcc' -> '/root/ei_3.mfcc'\n",
            "'/root/3/train/ek_3.mfcc' -> '/root/ek_3.mfcc'\n",
            "'/root/3/train/es_3.mfcc' -> '/root/es_3.mfcc'\n",
            "'/root/3/train/hg_3.mfcc' -> '/root/hg_3.mfcc'\n",
            "'/root/3/train/hp_3.mfcc' -> '/root/hp_3.mfcc'\n",
            "'/root/3/train/ig_3.mfcc' -> '/root/ig_3.mfcc'\n",
            "'/root/3/train/ih_3.mfcc' -> '/root/ih_3.mfcc'\n",
            "'/root/3/train/il_3.mfcc' -> '/root/il_3.mfcc'\n",
            "'/root/3/train/jc_3.mfcc' -> '/root/jc_3.mfcc'\n",
            "'/root/3/train/ji_3.mfcc' -> '/root/ji_3.mfcc'\n",
            "'/root/3/train/jj_3.mfcc' -> '/root/jj_3.mfcc'\n",
            "'/root/3/train/jn_3.mfcc' -> '/root/jn_3.mfcc'\n",
            "'/root/3/train/jp_3.mfcc' -> '/root/jp_3.mfcc'\n",
            "'/root/3/train/kc_3.mfcc' -> '/root/kc_3.mfcc'\n",
            "'/root/3/train/kf_3.mfcc' -> '/root/kf_3.mfcc'\n",
            "'/root/3/train/kh_3.mfcc' -> '/root/kh_3.mfcc'\n",
            "'/root/3/train/kk_3.mfcc' -> '/root/kk_3.mfcc'\n",
            "'/root/3/train/kn_3.mfcc' -> '/root/kn_3.mfcc'\n",
            "'/root/3/train/kt_3.mfcc' -> '/root/kt_3.mfcc'\n",
            "'/root/3/train/la_3.mfcc' -> '/root/la_3.mfcc'\n",
            "'/root/3/train/ld_3.mfcc' -> '/root/ld_3.mfcc'\n",
            "'/root/3/train/ls_3.mfcc' -> '/root/ls_3.mfcc'\n",
            "Directory: dev\n",
            "Directory: 6\n",
            "Directory: train\n",
            "'/root/6/train/ac_6.mfcc' -> '/root/ac_6.mfcc'\n",
            "'/root/6/train/ag_6.mfcc' -> '/root/ag_6.mfcc'\n",
            "'/root/6/train/ai_6.mfcc' -> '/root/ai_6.mfcc'\n",
            "'/root/6/train/an_6.mfcc' -> '/root/an_6.mfcc'\n",
            "'/root/6/train/bh_6.mfcc' -> '/root/bh_6.mfcc'\n",
            "'/root/6/train/bi_6.mfcc' -> '/root/bi_6.mfcc'\n",
            "'/root/6/train/br_6.mfcc' -> '/root/br_6.mfcc'\n",
            "'/root/6/train/ca_6.mfcc' -> '/root/ca_6.mfcc'\n",
            "'/root/6/train/cg_6.mfcc' -> '/root/cg_6.mfcc'\n",
            "'/root/6/train/cl_6.mfcc' -> '/root/cl_6.mfcc'\n",
            "'/root/6/train/cm_6.mfcc' -> '/root/cm_6.mfcc'\n",
            "'/root/6/train/dc_6.mfcc' -> '/root/dc_6.mfcc'\n",
            "'/root/6/train/dg_6.mfcc' -> '/root/dg_6.mfcc'\n",
            "'/root/6/train/ea_6.mfcc' -> '/root/ea_6.mfcc'\n",
            "'/root/6/train/ec_6.mfcc' -> '/root/ec_6.mfcc'\n",
            "'/root/6/train/ee_6.mfcc' -> '/root/ee_6.mfcc'\n",
            "'/root/6/train/eg_6.mfcc' -> '/root/eg_6.mfcc'\n",
            "'/root/6/train/ei_6.mfcc' -> '/root/ei_6.mfcc'\n",
            "'/root/6/train/ek_6.mfcc' -> '/root/ek_6.mfcc'\n",
            "'/root/6/train/es_6.mfcc' -> '/root/es_6.mfcc'\n",
            "'/root/6/train/hg_6.mfcc' -> '/root/hg_6.mfcc'\n",
            "'/root/6/train/hp_6.mfcc' -> '/root/hp_6.mfcc'\n",
            "'/root/6/train/ig_6.mfcc' -> '/root/ig_6.mfcc'\n",
            "'/root/6/train/ih_6.mfcc' -> '/root/ih_6.mfcc'\n",
            "'/root/6/train/il_6.mfcc' -> '/root/il_6.mfcc'\n",
            "'/root/6/train/jc_6.mfcc' -> '/root/jc_6.mfcc'\n",
            "'/root/6/train/ji_6.mfcc' -> '/root/ji_6.mfcc'\n",
            "'/root/6/train/jj_6.mfcc' -> '/root/jj_6.mfcc'\n",
            "'/root/6/train/jn_6.mfcc' -> '/root/jn_6.mfcc'\n",
            "'/root/6/train/jp_6.mfcc' -> '/root/jp_6.mfcc'\n",
            "'/root/6/train/kc_6.mfcc' -> '/root/kc_6.mfcc'\n",
            "'/root/6/train/kf_6.mfcc' -> '/root/kf_6.mfcc'\n",
            "'/root/6/train/kh_6.mfcc' -> '/root/kh_6.mfcc'\n",
            "'/root/6/train/kk_6.mfcc' -> '/root/kk_6.mfcc'\n",
            "'/root/6/train/kn_6.mfcc' -> '/root/kn_6.mfcc'\n",
            "'/root/6/train/kt_6.mfcc' -> '/root/kt_6.mfcc'\n",
            "'/root/6/train/la_6.mfcc' -> '/root/la_6.mfcc'\n",
            "'/root/6/train/ld_6.mfcc' -> '/root/ld_6.mfcc'\n",
            "'/root/6/train/ls_6.mfcc' -> '/root/ls_6.mfcc'\n",
            "Directory: dev\n",
            "Directory: 7\n",
            "Directory: train\n",
            "'/root/7/train/ac_7.mfcc' -> '/root/ac_7.mfcc'\n",
            "'/root/7/train/ag_7.mfcc' -> '/root/ag_7.mfcc'\n",
            "'/root/7/train/ai_7.mfcc' -> '/root/ai_7.mfcc'\n",
            "'/root/7/train/an_7.mfcc' -> '/root/an_7.mfcc'\n",
            "'/root/7/train/bh_7.mfcc' -> '/root/bh_7.mfcc'\n",
            "'/root/7/train/bi_7.mfcc' -> '/root/bi_7.mfcc'\n",
            "'/root/7/train/br_7.mfcc' -> '/root/br_7.mfcc'\n",
            "'/root/7/train/ca_7.mfcc' -> '/root/ca_7.mfcc'\n",
            "'/root/7/train/cg_7.mfcc' -> '/root/cg_7.mfcc'\n",
            "'/root/7/train/cl_7.mfcc' -> '/root/cl_7.mfcc'\n",
            "'/root/7/train/cm_7.mfcc' -> '/root/cm_7.mfcc'\n",
            "'/root/7/train/dc_7.mfcc' -> '/root/dc_7.mfcc'\n",
            "'/root/7/train/dg_7.mfcc' -> '/root/dg_7.mfcc'\n",
            "'/root/7/train/ea_7.mfcc' -> '/root/ea_7.mfcc'\n",
            "'/root/7/train/ec_7.mfcc' -> '/root/ec_7.mfcc'\n",
            "'/root/7/train/ee_7.mfcc' -> '/root/ee_7.mfcc'\n",
            "'/root/7/train/eg_7.mfcc' -> '/root/eg_7.mfcc'\n",
            "'/root/7/train/ei_7.mfcc' -> '/root/ei_7.mfcc'\n",
            "'/root/7/train/ek_7.mfcc' -> '/root/ek_7.mfcc'\n",
            "'/root/7/train/es_7.mfcc' -> '/root/es_7.mfcc'\n",
            "'/root/7/train/hg_7.mfcc' -> '/root/hg_7.mfcc'\n",
            "'/root/7/train/hp_7.mfcc' -> '/root/hp_7.mfcc'\n",
            "'/root/7/train/ig_7.mfcc' -> '/root/ig_7.mfcc'\n",
            "'/root/7/train/ih_7.mfcc' -> '/root/ih_7.mfcc'\n",
            "'/root/7/train/il_7.mfcc' -> '/root/il_7.mfcc'\n",
            "'/root/7/train/jc_7.mfcc' -> '/root/jc_7.mfcc'\n",
            "'/root/7/train/ji_7.mfcc' -> '/root/ji_7.mfcc'\n",
            "'/root/7/train/jj_7.mfcc' -> '/root/jj_7.mfcc'\n",
            "'/root/7/train/jn_7.mfcc' -> '/root/jn_7.mfcc'\n",
            "'/root/7/train/jp_7.mfcc' -> '/root/jp_7.mfcc'\n",
            "'/root/7/train/kc_7.mfcc' -> '/root/kc_7.mfcc'\n",
            "'/root/7/train/kf_7.mfcc' -> '/root/kf_7.mfcc'\n",
            "'/root/7/train/kh_7.mfcc' -> '/root/kh_7.mfcc'\n",
            "'/root/7/train/kk_7.mfcc' -> '/root/kk_7.mfcc'\n",
            "'/root/7/train/kn_7.mfcc' -> '/root/kn_7.mfcc'\n",
            "'/root/7/train/kt_7.mfcc' -> '/root/kt_7.mfcc'\n",
            "'/root/7/train/la_7.mfcc' -> '/root/la_7.mfcc'\n",
            "'/root/7/train/ld_7.mfcc' -> '/root/ld_7.mfcc'\n",
            "'/root/7/train/ls_7.mfcc' -> '/root/ls_7.mfcc'\n",
            "Directory: dev\n",
            "[ 9  9  9  9  9  9  9  4 14  4  4  9  9  9  9  9  9  9  4  1  1  3  3  3\n",
            "  3  3  3 11 11 11 11 11 11 11 11 11 15 15 15 15 15 15 15 15 15  0  0  0\n",
            "  0  0  0  0  0  0  0  0  0  1  1  1  4  4  4  4  4  9  9  9  9  9  9  9\n",
            "  9  9  9  9  9  9  9]\n",
            "[ 4  4  4  4  4  4  4  4  4  4  4  9  9  4  4  4  4  4  4  4  4  9  8  8\n",
            "  8  8  2  2  6 15 15  7 15 15 15 15  7 15 15  7  7  7  7  7  7  7  7 13\n",
            "  3  3 11  3  3 11  0  0  0  0  0  0 14 14 14  1  4  4  4  4  4  4  4  4\n",
            "  4  4  4  4  4  4  4  4]\n",
            "[ 4  9  4  9  9  9  9  9  9  4  4  4  4  4  4  9  9  4  9  9  9  2  2  2\n",
            "  1  0 13 13 13 13 13 13 13 13 13 13  3  3  7  7  7  6  6  6  6  6  6  6\n",
            "  6  6  6  6  6  6  6  6  6  0  0  0 14  1  4  4  4  4  4  4  4  9  4  4\n",
            "  9  9  9  9  4  9  9  4  4  4  4]\n",
            "[ 1  1 14 14  1 14 14 14 14  1 14  4  1  1  1 14 14  4  1  1  0 10 14 14\n",
            "  3 10 14 14 14 14  1 14 14  4  1 14 14  1  1  1  1  1  1 14 14 10 14  1\n",
            "  1  9  2  2  2  2  2  2  2  2  2  2  2 15 15 15  3 15 15  7  7  7  7  7\n",
            "  5  7  3  3  3  3  3  3  0  0  1  1  1  4 10  0 15  2  2  2  2  2  2  2\n",
            "  2  2  2  2  2  2  9  9  9  9  1 14 14 10 14  1  1 14  1  1  1  4 14  4\n",
            "  4  1 14  1  1 14  4  1  4  4  1 14 14 14]\n",
            "[ 1  1  1  1 14  1  1  1  4  1  4  4  4  4  4  4  4  4  4  1  4  9  9  2\n",
            "  2  8  8  8  8  8  8  8  8  8  8  2  0  3  3  3  3  3  3  3  3  3  3  3\n",
            "  3  3  3  3  0 15  3  7  7  3  3  0  0  0  3  3  3  3  3  0  0  0  0  0\n",
            "  0  0  0 14 14  1  4  4  4  4  4  4  4  4  4  4  4  4  4  4]\n"
          ],
          "name": "stdout"
        }
      ]
    },
    {
      "cell_type": "code",
      "metadata": {
        "id": "4NbQNLj4Y2MA",
        "colab_type": "code",
        "colab": {
          "base_uri": "https://localhost:8080/",
          "height": 17
        },
        "outputId": "ccbe7cc5-3b7e-4a9f-90c9-a1ef970d22c0"
      },
      "source": [
        "                                    #Download the train sequence files\n",
        "files.download(\"one.seq\")\n",
        "files.download(\"two.seq\")\n",
        "files.download(\"three.seq\")\n",
        "files.download(\"six.seq\")\n",
        "files.download(\"seven.seq\")"
      ],
      "execution_count": 114,
      "outputs": [
        {
          "output_type": "display_data",
          "data": {
            "application/javascript": [
              "\n",
              "    async function download(id, filename, size) {\n",
              "      if (!google.colab.kernel.accessAllowed) {\n",
              "        return;\n",
              "      }\n",
              "      const div = document.createElement('div');\n",
              "      const label = document.createElement('label');\n",
              "      label.textContent = `Downloading \"${filename}\": `;\n",
              "      div.appendChild(label);\n",
              "      const progress = document.createElement('progress');\n",
              "      progress.max = size;\n",
              "      div.appendChild(progress);\n",
              "      document.body.appendChild(div);\n",
              "\n",
              "      const buffers = [];\n",
              "      let downloaded = 0;\n",
              "\n",
              "      const channel = await google.colab.kernel.comms.open(id);\n",
              "      // Send a message to notify the kernel that we're ready.\n",
              "      channel.send({})\n",
              "\n",
              "      for await (const message of channel.messages) {\n",
              "        // Send a message to notify the kernel that we're ready.\n",
              "        channel.send({})\n",
              "        if (message.buffers) {\n",
              "          for (const buffer of message.buffers) {\n",
              "            buffers.push(buffer);\n",
              "            downloaded += buffer.byteLength;\n",
              "            progress.value = downloaded;\n",
              "          }\n",
              "        }\n",
              "      }\n",
              "      const blob = new Blob(buffers, {type: 'application/binary'});\n",
              "      const a = document.createElement('a');\n",
              "      a.href = window.URL.createObjectURL(blob);\n",
              "      a.download = filename;\n",
              "      div.appendChild(a);\n",
              "      a.click();\n",
              "      div.remove();\n",
              "    }\n",
              "  "
            ],
            "text/plain": [
              "<IPython.core.display.Javascript object>"
            ]
          },
          "metadata": {
            "tags": []
          }
        },
        {
          "output_type": "display_data",
          "data": {
            "application/javascript": [
              "download(\"download_4c0e4534-adec-44a1-8d43-f8f04777519e\", \"one.seq\", 8488)"
            ],
            "text/plain": [
              "<IPython.core.display.Javascript object>"
            ]
          },
          "metadata": {
            "tags": []
          }
        },
        {
          "output_type": "display_data",
          "data": {
            "application/javascript": [
              "\n",
              "    async function download(id, filename, size) {\n",
              "      if (!google.colab.kernel.accessAllowed) {\n",
              "        return;\n",
              "      }\n",
              "      const div = document.createElement('div');\n",
              "      const label = document.createElement('label');\n",
              "      label.textContent = `Downloading \"${filename}\": `;\n",
              "      div.appendChild(label);\n",
              "      const progress = document.createElement('progress');\n",
              "      progress.max = size;\n",
              "      div.appendChild(progress);\n",
              "      document.body.appendChild(div);\n",
              "\n",
              "      const buffers = [];\n",
              "      let downloaded = 0;\n",
              "\n",
              "      const channel = await google.colab.kernel.comms.open(id);\n",
              "      // Send a message to notify the kernel that we're ready.\n",
              "      channel.send({})\n",
              "\n",
              "      for await (const message of channel.messages) {\n",
              "        // Send a message to notify the kernel that we're ready.\n",
              "        channel.send({})\n",
              "        if (message.buffers) {\n",
              "          for (const buffer of message.buffers) {\n",
              "            buffers.push(buffer);\n",
              "            downloaded += buffer.byteLength;\n",
              "            progress.value = downloaded;\n",
              "          }\n",
              "        }\n",
              "      }\n",
              "      const blob = new Blob(buffers, {type: 'application/binary'});\n",
              "      const a = document.createElement('a');\n",
              "      a.href = window.URL.createObjectURL(blob);\n",
              "      a.download = filename;\n",
              "      div.appendChild(a);\n",
              "      a.click();\n",
              "      div.remove();\n",
              "    }\n",
              "  "
            ],
            "text/plain": [
              "<IPython.core.display.Javascript object>"
            ]
          },
          "metadata": {
            "tags": []
          }
        },
        {
          "output_type": "display_data",
          "data": {
            "application/javascript": [
              "download(\"download_ac130ff7-a783-4a89-b04a-f811c336a22c\", \"two.seq\", 8119)"
            ],
            "text/plain": [
              "<IPython.core.display.Javascript object>"
            ]
          },
          "metadata": {
            "tags": []
          }
        },
        {
          "output_type": "display_data",
          "data": {
            "application/javascript": [
              "\n",
              "    async function download(id, filename, size) {\n",
              "      if (!google.colab.kernel.accessAllowed) {\n",
              "        return;\n",
              "      }\n",
              "      const div = document.createElement('div');\n",
              "      const label = document.createElement('label');\n",
              "      label.textContent = `Downloading \"${filename}\": `;\n",
              "      div.appendChild(label);\n",
              "      const progress = document.createElement('progress');\n",
              "      progress.max = size;\n",
              "      div.appendChild(progress);\n",
              "      document.body.appendChild(div);\n",
              "\n",
              "      const buffers = [];\n",
              "      let downloaded = 0;\n",
              "\n",
              "      const channel = await google.colab.kernel.comms.open(id);\n",
              "      // Send a message to notify the kernel that we're ready.\n",
              "      channel.send({})\n",
              "\n",
              "      for await (const message of channel.messages) {\n",
              "        // Send a message to notify the kernel that we're ready.\n",
              "        channel.send({})\n",
              "        if (message.buffers) {\n",
              "          for (const buffer of message.buffers) {\n",
              "            buffers.push(buffer);\n",
              "            downloaded += buffer.byteLength;\n",
              "            progress.value = downloaded;\n",
              "          }\n",
              "        }\n",
              "      }\n",
              "      const blob = new Blob(buffers, {type: 'application/binary'});\n",
              "      const a = document.createElement('a');\n",
              "      a.href = window.URL.createObjectURL(blob);\n",
              "      a.download = filename;\n",
              "      div.appendChild(a);\n",
              "      a.click();\n",
              "      div.remove();\n",
              "    }\n",
              "  "
            ],
            "text/plain": [
              "<IPython.core.display.Javascript object>"
            ]
          },
          "metadata": {
            "tags": []
          }
        },
        {
          "output_type": "display_data",
          "data": {
            "application/javascript": [
              "download(\"download_f644f2c1-dba8-4c58-b5f6-0662f953004f\", \"three.seq\", 8499)"
            ],
            "text/plain": [
              "<IPython.core.display.Javascript object>"
            ]
          },
          "metadata": {
            "tags": []
          }
        },
        {
          "output_type": "display_data",
          "data": {
            "application/javascript": [
              "\n",
              "    async function download(id, filename, size) {\n",
              "      if (!google.colab.kernel.accessAllowed) {\n",
              "        return;\n",
              "      }\n",
              "      const div = document.createElement('div');\n",
              "      const label = document.createElement('label');\n",
              "      label.textContent = `Downloading \"${filename}\": `;\n",
              "      div.appendChild(label);\n",
              "      const progress = document.createElement('progress');\n",
              "      progress.max = size;\n",
              "      div.appendChild(progress);\n",
              "      document.body.appendChild(div);\n",
              "\n",
              "      const buffers = [];\n",
              "      let downloaded = 0;\n",
              "\n",
              "      const channel = await google.colab.kernel.comms.open(id);\n",
              "      // Send a message to notify the kernel that we're ready.\n",
              "      channel.send({})\n",
              "\n",
              "      for await (const message of channel.messages) {\n",
              "        // Send a message to notify the kernel that we're ready.\n",
              "        channel.send({})\n",
              "        if (message.buffers) {\n",
              "          for (const buffer of message.buffers) {\n",
              "            buffers.push(buffer);\n",
              "            downloaded += buffer.byteLength;\n",
              "            progress.value = downloaded;\n",
              "          }\n",
              "        }\n",
              "      }\n",
              "      const blob = new Blob(buffers, {type: 'application/binary'});\n",
              "      const a = document.createElement('a');\n",
              "      a.href = window.URL.createObjectURL(blob);\n",
              "      a.download = filename;\n",
              "      div.appendChild(a);\n",
              "      a.click();\n",
              "      div.remove();\n",
              "    }\n",
              "  "
            ],
            "text/plain": [
              "<IPython.core.display.Javascript object>"
            ]
          },
          "metadata": {
            "tags": []
          }
        },
        {
          "output_type": "display_data",
          "data": {
            "application/javascript": [
              "download(\"download_c6da2ff9-c417-4bcb-a835-a62d7520403d\", \"six.seq\", 11713)"
            ],
            "text/plain": [
              "<IPython.core.display.Javascript object>"
            ]
          },
          "metadata": {
            "tags": []
          }
        },
        {
          "output_type": "display_data",
          "data": {
            "application/javascript": [
              "\n",
              "    async function download(id, filename, size) {\n",
              "      if (!google.colab.kernel.accessAllowed) {\n",
              "        return;\n",
              "      }\n",
              "      const div = document.createElement('div');\n",
              "      const label = document.createElement('label');\n",
              "      label.textContent = `Downloading \"${filename}\": `;\n",
              "      div.appendChild(label);\n",
              "      const progress = document.createElement('progress');\n",
              "      progress.max = size;\n",
              "      div.appendChild(progress);\n",
              "      document.body.appendChild(div);\n",
              "\n",
              "      const buffers = [];\n",
              "      let downloaded = 0;\n",
              "\n",
              "      const channel = await google.colab.kernel.comms.open(id);\n",
              "      // Send a message to notify the kernel that we're ready.\n",
              "      channel.send({})\n",
              "\n",
              "      for await (const message of channel.messages) {\n",
              "        // Send a message to notify the kernel that we're ready.\n",
              "        channel.send({})\n",
              "        if (message.buffers) {\n",
              "          for (const buffer of message.buffers) {\n",
              "            buffers.push(buffer);\n",
              "            downloaded += buffer.byteLength;\n",
              "            progress.value = downloaded;\n",
              "          }\n",
              "        }\n",
              "      }\n",
              "      const blob = new Blob(buffers, {type: 'application/binary'});\n",
              "      const a = document.createElement('a');\n",
              "      a.href = window.URL.createObjectURL(blob);\n",
              "      a.download = filename;\n",
              "      div.appendChild(a);\n",
              "      a.click();\n",
              "      div.remove();\n",
              "    }\n",
              "  "
            ],
            "text/plain": [
              "<IPython.core.display.Javascript object>"
            ]
          },
          "metadata": {
            "tags": []
          }
        },
        {
          "output_type": "display_data",
          "data": {
            "application/javascript": [
              "download(\"download_67c6ccf4-3868-49c7-84c6-8a4b550488cd\", \"seven.seq\", 9430)"
            ],
            "text/plain": [
              "<IPython.core.display.Javascript object>"
            ]
          },
          "metadata": {
            "tags": []
          }
        }
      ]
    },
    {
      "cell_type": "code",
      "metadata": {
        "id": "YOw0y8mp7Ci8",
        "colab_type": "code",
        "colab": {
          "base_uri": "https://localhost:8080/",
          "height": 391
        },
        "outputId": "1f0f534c-0cf2-4413-ac68-26f910685f5e"
      },
      "source": [
        "!ls\n",
        "print(len(feat))\n",
        "Nw"
      ],
      "execution_count": 113,
      "outputs": [
        {
          "output_type": "stream",
          "text": [
            "1  6\tfp1.txt  fp6.txt  one.test   seven.test  test\t     two.seq\n",
            "2  7\tfp2.txt  fp7.txt  ra_1.mfcc  six.seq\t three.seq   two.test\n",
            "3  dev\tfp3.txt  one.seq  seven.seq  six.test\t three.test\n",
            "19968\n"
          ],
          "name": "stdout"
        },
        {
          "output_type": "execute_result",
          "data": {
            "text/plain": [
              "array([  75,  159,  238,  322,  423,  520,  636,  730,  831,  925, 1028,\n",
              "       1222, 1330, 1418, 1503, 1592, 1662, 1759, 1856, 1948, 2045, 2141,\n",
              "       2238, 2359, 2444, 2538, 2646, 2721, 2818, 2910, 3034, 3146, 3224,\n",
              "       3305, 3412, 3496, 3606, 3684, 3769,   70,  153,  233,  316,  422,\n",
              "        525,  645,  743,  830,  937, 1038, 1126, 1205, 1289, 1372, 1444,\n",
              "       1575, 1662, 1737, 1825, 1942, 2034, 2132, 2230, 2308, 2432, 2517,\n",
              "       2601, 2677, 2770, 2876, 2969, 3068, 3153, 3256, 3343, 3456, 3534,\n",
              "       3631,   71,  159,  242,  349,  452,  540,  646,  754,  843, 1024,\n",
              "       1154, 1247, 1330, 1411, 1494, 1577, 1671, 1764, 1865, 1953, 2047,\n",
              "       2159, 2275, 2458, 2538, 2621, 2733, 2829, 2930, 3024, 3148, 3254,\n",
              "       3335, 3422, 3526, 3615, 3707, 3792, 3898,   97,  207,  341,  458,\n",
              "        565,  696,  825,  946, 1061, 1169, 1309, 1435, 1548, 1645, 1761,\n",
              "       1872, 1966, 2076, 2178, 2317, 2439, 2561, 2722, 2837, 2936, 3053,\n",
              "       3161, 3269, 3377, 3490, 3635, 3760, 3876, 3978, 4088, 4222, 4329,\n",
              "       4437, 4549,  103,  202,  294,  397,  495,  585,  706,  826,  920,\n",
              "       1046, 1158, 1260, 1363, 1469, 1580, 1686, 1790, 1893, 1997, 2103,\n",
              "       2205, 2290, 2407, 2527, 2619, 2731, 2847, 2939, 3058, 3184, 3322,\n",
              "       3430, 3520, 3608, 3712, 3816, 3913, 4009, 4121])"
            ]
          },
          "metadata": {
            "tags": []
          },
          "execution_count": 113
        }
      ]
    },
    {
      "cell_type": "code",
      "metadata": {
        "id": "AYEjyFA-mpjy",
        "colab_type": "code",
        "colab": {}
      },
      "source": [
        "def testKmeans(fileMfcc,trainKM,Nclust=16,iters=1) :\n",
        "                                    #Convert features from file into array\n",
        "    features = np.genfromtxt(fileMfcc,delimiter='\\n',dtype=str)\n",
        "    Nc,Nf = features[0].split(\" \")\n",
        "    Nc = int(Nc)\n",
        "    Nf = int(Nf)\n",
        "    features = np.genfromtxt(features[1:],delimiter=' ',dtype=str)\n",
        "    features = features.astype(float)\n",
        "    \n",
        "                                    #Apply K-means on the vectors\n",
        "    if len(features) == Nf and len(features[0]) == Nc :\n",
        "        label = trainKM.predict(features)\n",
        "\n",
        "    return label\n"
      ],
      "execution_count": 115,
      "outputs": []
    },
    {
      "cell_type": "code",
      "metadata": {
        "id": "H2NQ3LgW1uQC",
        "colab_type": "code",
        "colab": {}
      },
      "source": [
        "                                    #Give the file with sequences for testing data\n",
        "def testSeq(trainKM,fileWord=\"check.txt\",folders=None) :\n",
        "    if folders is None :\n",
        "        folders = array([\"1\",\"2\",\"3\",\"6\",\"7\"])\n",
        "    seq = []\n",
        "    count = np.zeros(5)\n",
        "    for word in folders :    \n",
        "                                        #Go through required folders\n",
        "        for subdir, dirs, files in os.walk(word):\n",
        "            dirname = subdir.split(os.path.sep)[-1]\n",
        "            print('Directory:', dirname)\n",
        "            if dirname == \"dev\":\n",
        "                for f in files:\n",
        "                    if f.endswith(\".mfcc\"):\n",
        "                                        #Copy file (mfcc) to root and perform K-means\n",
        "                        !cp -avr /root/$word/dev/$f /root\n",
        "                        label = testKmeans(f,trainKM)\n",
        "                        seq.append(label)\n",
        "                        !rm $f\n",
        "                        count[np.where(word == folders)[0][0]] += 1\n",
        "        if word != \"1\" :\n",
        "            count[np.where(word == folders)[0][0]] = count[np.where(word == folders)[0][0]] + count[np.where(word == folders)[0][0]-1]\n",
        "\n",
        "    print(count)\n",
        "    seq = array(seq)\n",
        "    \n",
        "    seqDwnld(seq,fileWord)\n",
        "\n",
        "    return count\n"
      ],
      "execution_count": 116,
      "outputs": []
    },
    {
      "cell_type": "code",
      "metadata": {
        "id": "ng9NusK-WX3t",
        "colab_type": "code",
        "colab": {
          "base_uri": "https://localhost:8080/",
          "height": 1000
        },
        "outputId": "8da30bb9-8c7f-4cc1-e0e9-07e335bc0028"
      },
      "source": [
        "                                    #Get the test sequence\n",
        "count = testSeq(cenKM,\"DHMMtest\")"
      ],
      "execution_count": 117,
      "outputs": [
        {
          "output_type": "stream",
          "text": [
            "Directory: 1\n",
            "Directory: train\n",
            "Directory: dev\n",
            "'/root/1/dev/mk_1.mfcc' -> '/root/mk_1.mfcc'\n",
            "'/root/1/dev/mm_1.mfcc' -> '/root/mm_1.mfcc'\n",
            "'/root/1/dev/ms_1.mfcc' -> '/root/ms_1.mfcc'\n",
            "'/root/1/dev/mw_1.mfcc' -> '/root/mw_1.mfcc'\n",
            "'/root/1/dev/nc_1.mfcc' -> '/root/nc_1.mfcc'\n",
            "'/root/1/dev/ng_1.mfcc' -> '/root/ng_1.mfcc'\n",
            "'/root/1/dev/nh_1.mfcc' -> '/root/nh_1.mfcc'\n",
            "'/root/1/dev/pe_1.mfcc' -> '/root/pe_1.mfcc'\n",
            "'/root/1/dev/pk_1.mfcc' -> '/root/pk_1.mfcc'\n",
            "'/root/1/dev/pm_1.mfcc' -> '/root/pm_1.mfcc'\n",
            "'/root/1/dev/pp_1.mfcc' -> '/root/pp_1.mfcc'\n",
            "'/root/1/dev/ra_1.mfcc' -> '/root/ra_1.mfcc'\n",
            "Directory: 2\n",
            "Directory: train\n",
            "Directory: dev\n",
            "'/root/2/dev/mk_2.mfcc' -> '/root/mk_2.mfcc'\n",
            "'/root/2/dev/mm_2.mfcc' -> '/root/mm_2.mfcc'\n",
            "'/root/2/dev/ms_2.mfcc' -> '/root/ms_2.mfcc'\n",
            "'/root/2/dev/mw_2.mfcc' -> '/root/mw_2.mfcc'\n",
            "'/root/2/dev/nc_2.mfcc' -> '/root/nc_2.mfcc'\n",
            "'/root/2/dev/ng_2.mfcc' -> '/root/ng_2.mfcc'\n",
            "'/root/2/dev/nh_2.mfcc' -> '/root/nh_2.mfcc'\n",
            "'/root/2/dev/pe_2.mfcc' -> '/root/pe_2.mfcc'\n",
            "'/root/2/dev/pk_2.mfcc' -> '/root/pk_2.mfcc'\n",
            "'/root/2/dev/pm_2.mfcc' -> '/root/pm_2.mfcc'\n",
            "'/root/2/dev/pp_2.mfcc' -> '/root/pp_2.mfcc'\n",
            "'/root/2/dev/ra_2.mfcc' -> '/root/ra_2.mfcc'\n",
            "Directory: 3\n",
            "Directory: train\n",
            "Directory: dev\n",
            "'/root/3/dev/mk_3.mfcc' -> '/root/mk_3.mfcc'\n",
            "'/root/3/dev/mm_3.mfcc' -> '/root/mm_3.mfcc'\n",
            "'/root/3/dev/ms_3.mfcc' -> '/root/ms_3.mfcc'\n",
            "'/root/3/dev/mw_3.mfcc' -> '/root/mw_3.mfcc'\n",
            "'/root/3/dev/nc_3.mfcc' -> '/root/nc_3.mfcc'\n",
            "'/root/3/dev/ng_3.mfcc' -> '/root/ng_3.mfcc'\n",
            "'/root/3/dev/nh_3.mfcc' -> '/root/nh_3.mfcc'\n",
            "'/root/3/dev/pe_3.mfcc' -> '/root/pe_3.mfcc'\n",
            "'/root/3/dev/pk_3.mfcc' -> '/root/pk_3.mfcc'\n",
            "'/root/3/dev/pm_3.mfcc' -> '/root/pm_3.mfcc'\n",
            "'/root/3/dev/pp_3.mfcc' -> '/root/pp_3.mfcc'\n",
            "'/root/3/dev/ra_3.mfcc' -> '/root/ra_3.mfcc'\n",
            "Directory: 6\n",
            "Directory: train\n",
            "Directory: dev\n",
            "'/root/6/dev/mk_6.mfcc' -> '/root/mk_6.mfcc'\n",
            "'/root/6/dev/mm_6.mfcc' -> '/root/mm_6.mfcc'\n",
            "'/root/6/dev/ms_6.mfcc' -> '/root/ms_6.mfcc'\n",
            "'/root/6/dev/mw_6.mfcc' -> '/root/mw_6.mfcc'\n",
            "'/root/6/dev/nc_6.mfcc' -> '/root/nc_6.mfcc'\n",
            "'/root/6/dev/ng_6.mfcc' -> '/root/ng_6.mfcc'\n",
            "'/root/6/dev/nh_6.mfcc' -> '/root/nh_6.mfcc'\n",
            "'/root/6/dev/pe_6.mfcc' -> '/root/pe_6.mfcc'\n",
            "'/root/6/dev/pk_6.mfcc' -> '/root/pk_6.mfcc'\n",
            "'/root/6/dev/pm_6.mfcc' -> '/root/pm_6.mfcc'\n",
            "'/root/6/dev/pp_6.mfcc' -> '/root/pp_6.mfcc'\n",
            "'/root/6/dev/ra_6.mfcc' -> '/root/ra_6.mfcc'\n",
            "Directory: 7\n",
            "Directory: train\n",
            "Directory: dev\n",
            "'/root/7/dev/mk_7.mfcc' -> '/root/mk_7.mfcc'\n",
            "'/root/7/dev/mm_7.mfcc' -> '/root/mm_7.mfcc'\n",
            "'/root/7/dev/ms_7.mfcc' -> '/root/ms_7.mfcc'\n",
            "'/root/7/dev/mw_7.mfcc' -> '/root/mw_7.mfcc'\n",
            "'/root/7/dev/nc_7.mfcc' -> '/root/nc_7.mfcc'\n",
            "'/root/7/dev/ng_7.mfcc' -> '/root/ng_7.mfcc'\n",
            "'/root/7/dev/nh_7.mfcc' -> '/root/nh_7.mfcc'\n",
            "'/root/7/dev/pe_7.mfcc' -> '/root/pe_7.mfcc'\n",
            "'/root/7/dev/pk_7.mfcc' -> '/root/pk_7.mfcc'\n",
            "'/root/7/dev/pm_7.mfcc' -> '/root/pm_7.mfcc'\n",
            "'/root/7/dev/pp_7.mfcc' -> '/root/pp_7.mfcc'\n",
            "'/root/7/dev/ra_7.mfcc' -> '/root/ra_7.mfcc'\n",
            "[12. 24. 36. 48. 60.]\n"
          ],
          "name": "stdout"
        }
      ]
    },
    {
      "cell_type": "code",
      "metadata": {
        "id": "EC3QLov3eRpf",
        "colab_type": "code",
        "colab": {
          "base_uri": "https://localhost:8080/",
          "height": 17
        },
        "outputId": "c69c64fc-b56a-4433-d32b-cfded50c16d7"
      },
      "source": [
        "                                    #Download the test sequence files\n",
        "files.download(\"DHMMtest\")"
      ],
      "execution_count": 118,
      "outputs": [
        {
          "output_type": "display_data",
          "data": {
            "application/javascript": [
              "\n",
              "    async function download(id, filename, size) {\n",
              "      if (!google.colab.kernel.accessAllowed) {\n",
              "        return;\n",
              "      }\n",
              "      const div = document.createElement('div');\n",
              "      const label = document.createElement('label');\n",
              "      label.textContent = `Downloading \"${filename}\": `;\n",
              "      div.appendChild(label);\n",
              "      const progress = document.createElement('progress');\n",
              "      progress.max = size;\n",
              "      div.appendChild(progress);\n",
              "      document.body.appendChild(div);\n",
              "\n",
              "      const buffers = [];\n",
              "      let downloaded = 0;\n",
              "\n",
              "      const channel = await google.colab.kernel.comms.open(id);\n",
              "      // Send a message to notify the kernel that we're ready.\n",
              "      channel.send({})\n",
              "\n",
              "      for await (const message of channel.messages) {\n",
              "        // Send a message to notify the kernel that we're ready.\n",
              "        channel.send({})\n",
              "        if (message.buffers) {\n",
              "          for (const buffer of message.buffers) {\n",
              "            buffers.push(buffer);\n",
              "            downloaded += buffer.byteLength;\n",
              "            progress.value = downloaded;\n",
              "          }\n",
              "        }\n",
              "      }\n",
              "      const blob = new Blob(buffers, {type: 'application/binary'});\n",
              "      const a = document.createElement('a');\n",
              "      a.href = window.URL.createObjectURL(blob);\n",
              "      a.download = filename;\n",
              "      div.appendChild(a);\n",
              "      a.click();\n",
              "      div.remove();\n",
              "    }\n",
              "  "
            ],
            "text/plain": [
              "<IPython.core.display.Javascript object>"
            ]
          },
          "metadata": {
            "tags": []
          }
        },
        {
          "output_type": "display_data",
          "data": {
            "application/javascript": [
              "download(\"download_dfaaccdf-1573-46db-95a7-51486b7c5edd\", \"DHMMtest\", 14000)"
            ],
            "text/plain": [
              "<IPython.core.display.Javascript object>"
            ]
          },
          "metadata": {
            "tags": []
          }
        }
      ]
    },
    {
      "cell_type": "code",
      "metadata": {
        "id": "__GHSDZR5FjJ",
        "colab_type": "code",
        "colab": {}
      },
      "source": [
        "def testProb(fileProb) :\n",
        "    prob = np.genfromtxt(fileProb,delimiter=' ',dtype=str)\n",
        "    prob = prob.astype(float)\n",
        "\n",
        "    return prob"
      ],
      "execution_count": 120,
      "outputs": []
    },
    {
      "cell_type": "code",
      "metadata": {
        "id": "TIJnYIiI9PwZ",
        "colab_type": "code",
        "colab": {
          "base_uri": "https://localhost:8080/",
          "height": 68
        },
        "outputId": "50e1c06e-bd4a-4b77-e4b5-f0ed53148b3d"
      },
      "source": [
        "!ls"
      ],
      "execution_count": 121,
      "outputs": [
        {
          "output_type": "stream",
          "text": [
            "1  6\tDHMMtest  fp3.txt  one.seq    seven.test  test\t      two.seq\n",
            "2  7\tfp1.txt   fp6.txt  one.test   six.seq\t  three.seq   two.test\n",
            "3  dev\tfp2.txt   fp7.txt  seven.seq  six.test\t  three.test\n"
          ],
          "name": "stdout"
        }
      ]
    },
    {
      "cell_type": "code",
      "metadata": {
        "id": "HiNDmKpVFE-u",
        "colab_type": "code",
        "colab": {}
      },
      "source": [
        "def accModel(count) :\n",
        "\n",
        "    error = np.zeros(5)\n",
        "    prob1 = testProb(\"fp1.txt\")\n",
        "    allprob = np.zeros((len(prob1),5))\n",
        "    allprob[:,0] = prob1\n",
        "    \n",
        "    allprob[:,1] = testProb(\"fp2.txt\")\n",
        "    allprob[:,2] = testProb(\"fp3.txt\")\n",
        "    allprob[:,3] = testProb(\"fp6.txt\")\n",
        "    allprob[:,4] = testProb(\"fp7.txt\")\n",
        "    \n",
        "    estimate = np.argmax(allprob,axis=1)\n",
        "    print(estimate)\n",
        "    for i in range(0,5) :\n",
        "        if i==0:\n",
        "            error[i] = len(np.where(estimate[:count[i]]!=i)[0])\n",
        "        else :\n",
        "            error[i] = len(np.where(estimate[count[i-1]:count[i]]!=i)[0])\n",
        "\n",
        "    print(error)\n",
        "    acc = 1-(sum(error)/count[-1])\n",
        "    \n",
        "    return acc"
      ],
      "execution_count": 122,
      "outputs": []
    },
    {
      "cell_type": "code",
      "metadata": {
        "id": "OLP__4BBwmzq",
        "colab_type": "code",
        "colab": {
          "base_uri": "https://localhost:8080/",
          "height": 85
        },
        "outputId": "dd96475f-5f37-40dc-f49f-dc369fd83519"
      },
      "source": [
        "#acc = accModel(array([12,24,36,48,60]))\n",
        "acc = accModel(count.astype(int))\n",
        "print(acc)"
      ],
      "execution_count": 123,
      "outputs": [
        {
          "output_type": "stream",
          "text": [
            "[0 0 0 0 0 0 0 0 0 0 0 0 1 1 1 1 0 1 1 1 1 1 1 4 2 2 2 2 2 2 2 2 2 2 2 2 3\n",
            " 3 3 3 3 3 3 3 3 3 3 3 4 4 4 4 4 1 4 4 4 4 1 4]\n",
            "[0. 2. 0. 0. 2.]\n",
            "0.9333333333333333\n"
          ],
          "name": "stdout"
        }
      ]
    },
    {
      "cell_type": "markdown",
      "metadata": {
        "id": "-9AbpSrA42fv",
        "colab_type": "text"
      },
      "source": [
        "**Continuous HMMs**"
      ]
    },
    {
      "cell_type": "code",
      "metadata": {
        "id": "pWgvQc9tmzsD",
        "colab_type": "code",
        "colab": {}
      },
      "source": [
        "                                    #Concatanate 2-phoneme models\n",
        "def "
      ],
      "execution_count": null,
      "outputs": []
    }
  ]
}