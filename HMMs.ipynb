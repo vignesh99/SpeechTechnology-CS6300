{
  "nbformat": 4,
  "nbformat_minor": 0,
  "metadata": {
    "colab": {
      "name": "HMMs.ipynb",
      "provenance": [],
      "collapsed_sections": [],
      "authorship_tag": "ABX9TyOWYBQqoam+vHeOl2EDa88P",
      "include_colab_link": true
    },
    "kernelspec": {
      "name": "python3",
      "display_name": "Python 3"
    }
  },
  "cells": [
    {
      "cell_type": "markdown",
      "metadata": {
        "id": "view-in-github",
        "colab_type": "text"
      },
      "source": [
        "<a href=\"https://colab.research.google.com/github/vignesh99/SpeechTechnology-CS6300/blob/master/HMMs.ipynb\" target=\"_parent\"><img src=\"https://colab.research.google.com/assets/colab-badge.svg\" alt=\"Open In Colab\"/></a>"
      ]
    },
    {
      "cell_type": "code",
      "metadata": {
        "id": "WuIaWLcM9ZL2",
        "colab_type": "code",
        "colab": {
          "base_uri": "https://localhost:8080/",
          "height": 887
        },
        "outputId": "6c0aba7a-2c9b-4f05-b287-55174d557905"
      },
      "source": [
        "                                    #Get data files onto root\n",
        "%cd\n",
        "from google.colab import drive\n",
        "drive.mount('/content/gdrive')\n",
        "!cp -avr /content/gdrive/My\\ Drive/HMM_IsoData/1 /root\n",
        "!cp -avr /content/gdrive/My\\ Drive/HMM_IsoData/2 /root\n",
        "!cp -avr /content/gdrive/My\\ Drive/HMM_IsoData/3 /root\n",
        "!cp -avr /content/gdrive/My\\ Drive/HMM_IsoData/6 /root\n",
        "!cp -avr /content/gdrive/My\\ Drive/HMM_IsoData/7 /root\n",
        "!cp -avr /content/gdrive/My\\ Drive/ctsHMM /root\n",
        "!cp -avr /content/gdrive/My\\ Drive/cenKM48.pkl /root\n",
        "!ls"
      ],
      "execution_count": null,
      "outputs": [
        {
          "output_type": "stream",
          "text": [
            "/root\n",
            "Go to this URL in a browser: https://accounts.google.com/o/oauth2/auth?client_id=947318989803-6bn6qk8qdgf4n4g3pfee6491hc0brc4i.apps.googleusercontent.com&redirect_uri=urn%3aietf%3awg%3aoauth%3a2.0%3aoob&scope=email%20https%3a%2f%2fwww.googleapis.com%2fauth%2fdocs.test%20https%3a%2f%2fwww.googleapis.com%2fauth%2fdrive%20https%3a%2f%2fwww.googleapis.com%2fauth%2fdrive.photos.readonly%20https%3a%2f%2fwww.googleapis.com%2fauth%2fpeopleapi.readonly&response_type=code\n",
            "\n",
            "Enter your authorization code:\n",
            "··········\n",
            "Mounted at /content/gdrive\n",
            "'/content/gdrive/My Drive/HMM_IsoData/1' -> '/root/1'\n",
            "'/content/gdrive/My Drive/HMM_IsoData/2' -> '/root/2'\n",
            "'/content/gdrive/My Drive/HMM_IsoData/3' -> '/root/3'\n",
            "'/content/gdrive/My Drive/HMM_IsoData/6' -> '/root/6'\n",
            "'/content/gdrive/My Drive/HMM_IsoData/7' -> '/root/7'\n",
            "'/content/gdrive/My Drive/ctsHMM' -> '/root/ctsHMM'\n",
            "'/content/gdrive/My Drive/ctsHMM/test' -> '/root/ctsHMM/test'\n",
            "'/content/gdrive/My Drive/ctsHMM/test/3.mfcc' -> '/root/ctsHMM/test/3.mfcc'\n",
            "'/content/gdrive/My Drive/ctsHMM/test/2.mfcc' -> '/root/ctsHMM/test/2.mfcc'\n",
            "'/content/gdrive/My Drive/ctsHMM/test/1.mfcc' -> '/root/ctsHMM/test/1.mfcc'\n",
            "'/content/gdrive/My Drive/ctsHMM/test/5.mfcc' -> '/root/ctsHMM/test/5.mfcc'\n",
            "'/content/gdrive/My Drive/ctsHMM/test/4.mfcc' -> '/root/ctsHMM/test/4.mfcc'\n",
            "'/content/gdrive/My Drive/ctsHMM/dev' -> '/root/ctsHMM/dev'\n",
            "'/content/gdrive/My Drive/ctsHMM/dev/61.mfcc' -> '/root/ctsHMM/dev/61.mfcc'\n",
            "'/content/gdrive/My Drive/ctsHMM/dev/13.mfcc' -> '/root/ctsHMM/dev/13.mfcc'\n",
            "'/content/gdrive/My Drive/ctsHMM/dev/311.mfcc' -> '/root/ctsHMM/dev/311.mfcc'\n",
            "'/content/gdrive/My Drive/ctsHMM/dev/22.mfcc' -> '/root/ctsHMM/dev/22.mfcc'\n",
            "'/content/gdrive/My Drive/ctsHMM/dev/212.mfcc' -> '/root/ctsHMM/dev/212.mfcc'\n",
            "'/content/gdrive/My Drive/ctsHMM/dev/11.mfcc' -> '/root/ctsHMM/dev/11.mfcc'\n",
            "'/content/gdrive/My Drive/ctsHMM/dev/217.mfcc' -> '/root/ctsHMM/dev/217.mfcc'\n",
            "'/content/gdrive/My Drive/ctsHMM/dev/31.mfcc' -> '/root/ctsHMM/dev/31.mfcc'\n",
            "'/content/gdrive/My Drive/ctsHMM/dev/116.mfcc' -> '/root/ctsHMM/dev/116.mfcc'\n",
            "'/content/gdrive/My Drive/ctsHMM/dev/711.mfcc' -> '/root/ctsHMM/dev/711.mfcc'\n",
            "'/content/gdrive/My Drive/ctsHMM/dev/23.mfcc' -> '/root/ctsHMM/dev/23.mfcc'\n",
            "'/content/gdrive/My Drive/ctsHMM/dev/662.mfcc' -> '/root/ctsHMM/dev/662.mfcc'\n",
            "'/content/gdrive/My Drive/ctsHMM/dev/322.mfcc' -> '/root/ctsHMM/dev/322.mfcc'\n",
            "'/content/gdrive/My Drive/ctsHMM/dev/21.mfcc' -> '/root/ctsHMM/dev/21.mfcc'\n",
            "'/content/gdrive/My Drive/ctsHMM/dev/331.mfcc' -> '/root/ctsHMM/dev/331.mfcc'\n",
            "'/content/gdrive/My Drive/ctsHMM/dev/233.mfcc' -> '/root/ctsHMM/dev/233.mfcc'\n",
            "'/content/gdrive/My Drive/ctsHMM/dev/77.mfcc' -> '/root/ctsHMM/dev/77.mfcc'\n",
            "'/content/gdrive/My Drive/ctsHMM/dev/111.mfcc' -> '/root/ctsHMM/dev/111.mfcc'\n",
            "'/content/gdrive/My Drive/ctsHMM/dev/71.mfcc' -> '/root/ctsHMM/dev/71.mfcc'\n",
            "'/content/gdrive/My Drive/ctsHMM/dev/66.mfcc' -> '/root/ctsHMM/dev/66.mfcc'\n",
            "'/content/gdrive/My Drive/ctsHMM/dev/172.mfcc' -> '/root/ctsHMM/dev/172.mfcc'\n",
            "'/content/gdrive/My Drive/ctsHMM/dev/622.mfcc' -> '/root/ctsHMM/dev/622.mfcc'\n",
            "'/content/gdrive/My Drive/ctsHMM/dev/122.mfcc' -> '/root/ctsHMM/dev/122.mfcc'\n",
            "'/content/gdrive/My Drive/ctsHMM/dev/16.mfcc' -> '/root/ctsHMM/dev/16.mfcc'\n",
            "'/content/gdrive/My Drive/ctsHMM/dev/132.mfcc' -> '/root/ctsHMM/dev/132.mfcc'\n",
            "'/content/gdrive/My Drive/ctsHMM/dev/262.mfcc' -> '/root/ctsHMM/dev/262.mfcc'\n",
            "'/content/gdrive/My Drive/ctsHMM/dev/12.mfcc' -> '/root/ctsHMM/dev/12.mfcc'\n",
            "'/content/gdrive/My Drive/ctsHMM/dev/121.mfcc' -> '/root/ctsHMM/dev/121.mfcc'\n",
            "'/content/gdrive/My Drive/ctsHMM/dev/277.mfcc' -> '/root/ctsHMM/dev/277.mfcc'\n",
            "'/content/gdrive/My Drive/cenKM48.pkl' -> '/root/cenKM48.pkl'\n",
            "1  2  3  6  7  cenKM48.pkl  ctsHMM\n"
          ],
          "name": "stdout"
        }
      ]
    },
    {
      "cell_type": "code",
      "metadata": {
        "id": "RcjI1APJCGLi",
        "colab_type": "code",
        "colab": {}
      },
      "source": [
        "                                    #Import required libraries\n",
        "from pylab import *\n",
        "import os                           #Going through folders\n",
        "from scipy.cluster.vq import kmeans2\n",
        "from google.colab import files\n",
        "from sklearn.cluster import KMeans\n",
        "from sklearn.metrics import confusion_matrix\n",
        "from sklearn.metrics import ConfusionMatrixDisplay\n",
        "from scipy.special import softmax\n",
        "from sklearn.metrics import roc_curve\n",
        "from sklearn.metrics import RocCurveDisplay\n",
        "from sklearn.metrics import auc"
      ],
      "execution_count": 1,
      "outputs": []
    },
    {
      "cell_type": "code",
      "metadata": {
        "id": "_o8VbGSWsrYH",
        "colab_type": "code",
        "colab": {
          "base_uri": "https://localhost:8080/",
          "height": 190
        },
        "outputId": "7d9932b1-c7af-4e9a-f6cf-d06300dfcb94"
      },
      "source": [
        "                                    #Use pkl to store model\n",
        "!pip install pickle-mixin\n",
        "from pickle import dump\n",
        "from pickle import load\n",
        "                                    #Load the previous Kmeans model\n",
        "cenKM = load(open('cenKM48.pkl', 'rb'))"
      ],
      "execution_count": null,
      "outputs": [
        {
          "output_type": "stream",
          "text": [
            "Collecting pickle-mixin\n",
            "  Downloading https://files.pythonhosted.org/packages/02/77/9d5eb2201bbc130e2a5cc41fc949e4ab0da74b619107eac1c511be3af7a7/pickle-mixin-1.0.2.tar.gz\n",
            "Building wheels for collected packages: pickle-mixin\n",
            "  Building wheel for pickle-mixin (setup.py) ... \u001b[?25l\u001b[?25hdone\n",
            "  Created wheel for pickle-mixin: filename=pickle_mixin-1.0.2-cp36-none-any.whl size=5998 sha256=e8c524cd1d6b37f6308c54f0bec87a230376d5f627c4bf742142da8ce45b3a4b\n",
            "  Stored in directory: /root/.cache/pip/wheels/cd/05/42/71de70fa36b9cbb7657bb5793a16f8028c1cdc1bdd3b8e1ac3\n",
            "Successfully built pickle-mixin\n",
            "Installing collected packages: pickle-mixin\n",
            "Successfully installed pickle-mixin-1.0.2\n"
          ],
          "name": "stdout"
        }
      ]
    },
    {
      "cell_type": "markdown",
      "metadata": {
        "id": "bDKndSmNdWI8",
        "colab_type": "text"
      },
      "source": [
        "**Discete HMMs**"
      ]
    },
    {
      "cell_type": "code",
      "metadata": {
        "id": "7Q9zZey1ESja",
        "colab_type": "code",
        "colab": {}
      },
      "source": [
        "def fileTofeature(fileMfcc) :\n",
        "                                    #Convert features from file into array\n",
        "    features = np.genfromtxt(fileMfcc,delimiter='\\n',dtype=str)\n",
        "    Nc,Nf = features[0].split(\" \")\n",
        "    Nc = int(Nc)\n",
        "    Nf = int(Nf)\n",
        "    features = np.genfromtxt(features[1:],delimiter=' ',dtype=str)\n",
        "    features = features.astype(float)\n",
        "                                    \n",
        "    return Nf,features\n"
      ],
      "execution_count": null,
      "outputs": []
    },
    {
      "cell_type": "code",
      "metadata": {
        "id": "PPEok_7ly-0s",
        "colab_type": "code",
        "colab": {}
      },
      "source": [
        "                                    #Give the file with sequences for training data\n",
        "def trainCentre(Nclust=48,folders=None) :\n",
        "    if folders is None :            #Go through all digits\n",
        "        folders = array([\"1\",\"2\",\"3\",\"6\",\"7\"])\n",
        "\n",
        "    ind = []                     #All digits total vector numbers\n",
        "    ind.append([0,0])            #Inital values\n",
        "    Nwin = []                       #No. of vectors in each train file\n",
        "    count = 0\n",
        "    for word in folders :\n",
        "                                    #Go through required folders\n",
        "        for subdir, dirs, files in os.walk(word):\n",
        "            dirname = subdir.split(os.path.sep)[-1]\n",
        "            print('Directory:', dirname)\n",
        "            if dirname == \"train\":\n",
        "                for f in files:\n",
        "                    if f.endswith('.mfcc'):\n",
        "                                    #Copy file (mfcc) to root and perform K-means\n",
        "                        !cp -avr /root/$word/train/$f /root\n",
        "                        foo,temp = fileTofeature(f)\n",
        "                                    #Concatenate training feature vectors\n",
        "                        if count == 0 :\n",
        "                            features = temp\n",
        "                            Nwin.append(foo)\n",
        "                        else :\n",
        "                            features = np.concatenate((features,temp))\n",
        "                            Nwin.append(foo+Nwin[-1])\n",
        "                        !rm $f\n",
        "                        count+=1\n",
        "        ind.append([len(Nwin),Nwin[-1]])\n",
        "                                    #Apply K-means on the vectors\n",
        "    trainKM = KMeans(n_clusters=Nclust)\n",
        "    trainKM.fit(features)\n",
        "                                    #Get Nwin in required format\n",
        "    ind = array(ind)\n",
        "    Nwin = array(Nwin)\n",
        "    for i in range(5) :\n",
        "        Nwin[ind[i,0]:ind[i+1,0]] -=  ind[i,1]\n",
        "\n",
        "    return Nwin,features,trainKM,ind\n"
      ],
      "execution_count": null,
      "outputs": []
    },
    {
      "cell_type": "code",
      "metadata": {
        "id": "JcXtKAXO8KOU",
        "colab_type": "code",
        "colab": {}
      },
      "source": [
        "def seqDwnld(seq,fileWord) :\n",
        "    with open(fileWord,\"w\") as f:\n",
        "        f.write(\"\\n\".join(\" \".join(map(str, line)) for line in seq))\n",
        "\n",
        "    return None"
      ],
      "execution_count": null,
      "outputs": []
    },
    {
      "cell_type": "code",
      "metadata": {
        "id": "7eKPgOrXti5Y",
        "colab_type": "code",
        "colab": {}
      },
      "source": [
        "                                    #Give the file with sequences for training data\n",
        "def trainSeq(Nwin,features,trainKM,fileWord=\"check.txt\") :\n",
        "    seq = []\n",
        "    count = 0\n",
        "                                    #Go through required folders\n",
        "    for i in range(0,len(Nwin)) :\n",
        "                                    #Get each features from all-features-array\n",
        "        if i != 0:\n",
        "            temp = features[Nwin[i-1]:Nwin[i]]\n",
        "        else : \n",
        "            temp = features[:Nwin[0]]\n",
        "                                    #Perform Kmeans on predefined centres\n",
        "        label = trainKM.predict(temp)\n",
        "        seq.append(label)\n",
        "\n",
        "        if i==2 :\n",
        "            print(label)\n",
        "\n",
        "    seq = array(seq)\n",
        "\n",
        "    seqDwnld(seq,fileWord)\n",
        "\n",
        "    return None\n"
      ],
      "execution_count": null,
      "outputs": []
    },
    {
      "cell_type": "code",
      "metadata": {
        "id": "E1-vC4d2re4V",
        "colab_type": "code",
        "colab": {
          "base_uri": "https://localhost:8080/",
          "height": 85
        },
        "outputId": "a84aa3a4-5486-4d4f-c605-def0b9b7d94f"
      },
      "source": [
        "!ls\n",
        "cenKM"
      ],
      "execution_count": null,
      "outputs": [
        {
          "output_type": "stream",
          "text": [
            "1  2  3  6  7  cenKM48.pkl  ctsHMM\n"
          ],
          "name": "stdout"
        },
        {
          "output_type": "execute_result",
          "data": {
            "text/plain": [
              "KMeans(algorithm='auto', copy_x=True, init='k-means++', max_iter=300,\n",
              "       n_clusters=48, n_init=10, n_jobs=None, precompute_distances='auto',\n",
              "       random_state=None, tol=0.0001, verbose=0)"
            ]
          },
          "metadata": {
            "tags": []
          },
          "execution_count": 37
        }
      ]
    },
    {
      "cell_type": "code",
      "metadata": {
        "id": "E_TB16nOVIoW",
        "colab_type": "code",
        "colab": {
          "base_uri": "https://localhost:8080/",
          "height": 1000
        },
        "outputId": "33df0141-9480-4f48-85eb-23529ead4e03"
      },
      "source": [
        "Nw,feat,cenKM,ind = trainCentre()       #Train all the phenomes\n",
        "\n",
        "                                    #Get file sequences\n",
        "trainSeq(Nw[ind[0,0]:ind[1,0]],feat[ind[0,1]:ind[1,1]],cenKM,\"one.seq\")\n",
        "trainSeq(Nw[ind[1,0]:ind[2,0]],feat[ind[1,1]:ind[2,1]],cenKM,\"two.seq\")\n",
        "trainSeq(Nw[ind[2,0]:ind[3,0]],feat[ind[2,1]:ind[3,1]],cenKM,\"three.seq\")\n",
        "trainSeq(Nw[ind[3,0]:ind[4,0]],feat[ind[3,1]:ind[4,1]],cenKM,\"six.seq\")\n",
        "trainSeq(Nw[ind[4,0]:ind[5,0]],feat[ind[4,1]:ind[5,1]],cenKM,\"seven.seq\")\n"
      ],
      "execution_count": null,
      "outputs": [
        {
          "output_type": "stream",
          "text": [
            "Directory: 1\n",
            "Directory: train\n",
            "'/root/1/train/ac_1.mfcc' -> '/root/ac_1.mfcc'\n",
            "'/root/1/train/ag_1.mfcc' -> '/root/ag_1.mfcc'\n",
            "'/root/1/train/ai_1.mfcc' -> '/root/ai_1.mfcc'\n",
            "'/root/1/train/an_1.mfcc' -> '/root/an_1.mfcc'\n",
            "'/root/1/train/bh_1.mfcc' -> '/root/bh_1.mfcc'\n",
            "'/root/1/train/bi_1.mfcc' -> '/root/bi_1.mfcc'\n",
            "'/root/1/train/br_1.mfcc' -> '/root/br_1.mfcc'\n",
            "'/root/1/train/ca_1.mfcc' -> '/root/ca_1.mfcc'\n",
            "'/root/1/train/cg_1.mfcc' -> '/root/cg_1.mfcc'\n",
            "'/root/1/train/cl_1.mfcc' -> '/root/cl_1.mfcc'\n",
            "'/root/1/train/cm_1.mfcc' -> '/root/cm_1.mfcc'\n",
            "'/root/1/train/dc_1.mfcc' -> '/root/dc_1.mfcc'\n",
            "'/root/1/train/dg_1.mfcc' -> '/root/dg_1.mfcc'\n",
            "'/root/1/train/ea_1.mfcc' -> '/root/ea_1.mfcc'\n",
            "'/root/1/train/ec_1.mfcc' -> '/root/ec_1.mfcc'\n",
            "'/root/1/train/ee_1.mfcc' -> '/root/ee_1.mfcc'\n",
            "'/root/1/train/eg_1.mfcc' -> '/root/eg_1.mfcc'\n",
            "'/root/1/train/ei_1.mfcc' -> '/root/ei_1.mfcc'\n",
            "'/root/1/train/ek_1.mfcc' -> '/root/ek_1.mfcc'\n",
            "'/root/1/train/es_1.mfcc' -> '/root/es_1.mfcc'\n",
            "'/root/1/train/hg_1.mfcc' -> '/root/hg_1.mfcc'\n",
            "'/root/1/train/hp_1.mfcc' -> '/root/hp_1.mfcc'\n",
            "'/root/1/train/ig_1.mfcc' -> '/root/ig_1.mfcc'\n",
            "'/root/1/train/ih_1.mfcc' -> '/root/ih_1.mfcc'\n",
            "'/root/1/train/il_1.mfcc' -> '/root/il_1.mfcc'\n",
            "'/root/1/train/jc_1.mfcc' -> '/root/jc_1.mfcc'\n",
            "'/root/1/train/ji_1.mfcc' -> '/root/ji_1.mfcc'\n",
            "'/root/1/train/jj_1.mfcc' -> '/root/jj_1.mfcc'\n",
            "'/root/1/train/jn_1.mfcc' -> '/root/jn_1.mfcc'\n",
            "'/root/1/train/jp_1.mfcc' -> '/root/jp_1.mfcc'\n",
            "'/root/1/train/kc_1.mfcc' -> '/root/kc_1.mfcc'\n",
            "'/root/1/train/kf_1.mfcc' -> '/root/kf_1.mfcc'\n",
            "'/root/1/train/kh_1.mfcc' -> '/root/kh_1.mfcc'\n",
            "'/root/1/train/kk_1.mfcc' -> '/root/kk_1.mfcc'\n",
            "'/root/1/train/kn_1.mfcc' -> '/root/kn_1.mfcc'\n",
            "'/root/1/train/kt_1.mfcc' -> '/root/kt_1.mfcc'\n",
            "'/root/1/train/la_1.mfcc' -> '/root/la_1.mfcc'\n",
            "'/root/1/train/ld_1.mfcc' -> '/root/ld_1.mfcc'\n",
            "'/root/1/train/ls_1.mfcc' -> '/root/ls_1.mfcc'\n",
            "Directory: dev\n",
            "Directory: 2\n",
            "Directory: train\n",
            "'/root/2/train/ac_2.mfcc' -> '/root/ac_2.mfcc'\n",
            "'/root/2/train/ag_2.mfcc' -> '/root/ag_2.mfcc'\n",
            "'/root/2/train/ai_2.mfcc' -> '/root/ai_2.mfcc'\n",
            "'/root/2/train/an_2.mfcc' -> '/root/an_2.mfcc'\n",
            "'/root/2/train/bh_2.mfcc' -> '/root/bh_2.mfcc'\n",
            "'/root/2/train/bi_2.mfcc' -> '/root/bi_2.mfcc'\n",
            "'/root/2/train/br_2.mfcc' -> '/root/br_2.mfcc'\n",
            "'/root/2/train/ca_2.mfcc' -> '/root/ca_2.mfcc'\n",
            "'/root/2/train/cg_2.mfcc' -> '/root/cg_2.mfcc'\n",
            "'/root/2/train/cl_2.mfcc' -> '/root/cl_2.mfcc'\n",
            "'/root/2/train/cm_2.mfcc' -> '/root/cm_2.mfcc'\n",
            "'/root/2/train/dc_2.mfcc' -> '/root/dc_2.mfcc'\n",
            "'/root/2/train/dg_2.mfcc' -> '/root/dg_2.mfcc'\n",
            "'/root/2/train/ea_2.mfcc' -> '/root/ea_2.mfcc'\n",
            "'/root/2/train/ec_2.mfcc' -> '/root/ec_2.mfcc'\n",
            "'/root/2/train/ee_2.mfcc' -> '/root/ee_2.mfcc'\n",
            "'/root/2/train/eg_2.mfcc' -> '/root/eg_2.mfcc'\n",
            "'/root/2/train/ei_2.mfcc' -> '/root/ei_2.mfcc'\n",
            "'/root/2/train/ek_2.mfcc' -> '/root/ek_2.mfcc'\n",
            "'/root/2/train/es_2.mfcc' -> '/root/es_2.mfcc'\n",
            "'/root/2/train/hg_2.mfcc' -> '/root/hg_2.mfcc'\n",
            "'/root/2/train/hp_2.mfcc' -> '/root/hp_2.mfcc'\n",
            "'/root/2/train/ig_2.mfcc' -> '/root/ig_2.mfcc'\n",
            "'/root/2/train/ih_2.mfcc' -> '/root/ih_2.mfcc'\n",
            "'/root/2/train/il_2.mfcc' -> '/root/il_2.mfcc'\n",
            "'/root/2/train/jc_2.mfcc' -> '/root/jc_2.mfcc'\n",
            "'/root/2/train/ji_2.mfcc' -> '/root/ji_2.mfcc'\n",
            "'/root/2/train/jj_2.mfcc' -> '/root/jj_2.mfcc'\n",
            "'/root/2/train/jn_2.mfcc' -> '/root/jn_2.mfcc'\n",
            "'/root/2/train/jp_2.mfcc' -> '/root/jp_2.mfcc'\n",
            "'/root/2/train/kc_2.mfcc' -> '/root/kc_2.mfcc'\n",
            "'/root/2/train/kf_2.mfcc' -> '/root/kf_2.mfcc'\n",
            "'/root/2/train/kh_2.mfcc' -> '/root/kh_2.mfcc'\n",
            "'/root/2/train/kk_2.mfcc' -> '/root/kk_2.mfcc'\n",
            "'/root/2/train/kn_2.mfcc' -> '/root/kn_2.mfcc'\n",
            "'/root/2/train/kt_2.mfcc' -> '/root/kt_2.mfcc'\n",
            "'/root/2/train/la_2.mfcc' -> '/root/la_2.mfcc'\n",
            "'/root/2/train/ld_2.mfcc' -> '/root/ld_2.mfcc'\n",
            "'/root/2/train/ls_2.mfcc' -> '/root/ls_2.mfcc'\n",
            "Directory: dev\n",
            "Directory: 3\n",
            "Directory: train\n",
            "'/root/3/train/ac_3.mfcc' -> '/root/ac_3.mfcc'\n",
            "'/root/3/train/ag_3.mfcc' -> '/root/ag_3.mfcc'\n",
            "'/root/3/train/ai_3.mfcc' -> '/root/ai_3.mfcc'\n",
            "'/root/3/train/an_3.mfcc' -> '/root/an_3.mfcc'\n",
            "'/root/3/train/bh_3.mfcc' -> '/root/bh_3.mfcc'\n",
            "'/root/3/train/bi_3.mfcc' -> '/root/bi_3.mfcc'\n",
            "'/root/3/train/br_3.mfcc' -> '/root/br_3.mfcc'\n",
            "'/root/3/train/ca_3.mfcc' -> '/root/ca_3.mfcc'\n",
            "'/root/3/train/cg_3.mfcc' -> '/root/cg_3.mfcc'\n",
            "'/root/3/train/cl_3.mfcc' -> '/root/cl_3.mfcc'\n",
            "'/root/3/train/cm_3.mfcc' -> '/root/cm_3.mfcc'\n",
            "'/root/3/train/dc_3.mfcc' -> '/root/dc_3.mfcc'\n",
            "'/root/3/train/dg_3.mfcc' -> '/root/dg_3.mfcc'\n",
            "'/root/3/train/ea_3.mfcc' -> '/root/ea_3.mfcc'\n",
            "'/root/3/train/ec_3.mfcc' -> '/root/ec_3.mfcc'\n",
            "'/root/3/train/ee_3.mfcc' -> '/root/ee_3.mfcc'\n",
            "'/root/3/train/eg_3.mfcc' -> '/root/eg_3.mfcc'\n",
            "'/root/3/train/ei_3.mfcc' -> '/root/ei_3.mfcc'\n",
            "'/root/3/train/ek_3.mfcc' -> '/root/ek_3.mfcc'\n",
            "'/root/3/train/es_3.mfcc' -> '/root/es_3.mfcc'\n",
            "'/root/3/train/hg_3.mfcc' -> '/root/hg_3.mfcc'\n",
            "'/root/3/train/hp_3.mfcc' -> '/root/hp_3.mfcc'\n",
            "'/root/3/train/ig_3.mfcc' -> '/root/ig_3.mfcc'\n",
            "'/root/3/train/ih_3.mfcc' -> '/root/ih_3.mfcc'\n",
            "'/root/3/train/il_3.mfcc' -> '/root/il_3.mfcc'\n",
            "'/root/3/train/jc_3.mfcc' -> '/root/jc_3.mfcc'\n",
            "'/root/3/train/ji_3.mfcc' -> '/root/ji_3.mfcc'\n",
            "'/root/3/train/jj_3.mfcc' -> '/root/jj_3.mfcc'\n",
            "'/root/3/train/jn_3.mfcc' -> '/root/jn_3.mfcc'\n",
            "'/root/3/train/jp_3.mfcc' -> '/root/jp_3.mfcc'\n",
            "'/root/3/train/kc_3.mfcc' -> '/root/kc_3.mfcc'\n",
            "'/root/3/train/kf_3.mfcc' -> '/root/kf_3.mfcc'\n",
            "'/root/3/train/kh_3.mfcc' -> '/root/kh_3.mfcc'\n",
            "'/root/3/train/kk_3.mfcc' -> '/root/kk_3.mfcc'\n",
            "'/root/3/train/kn_3.mfcc' -> '/root/kn_3.mfcc'\n",
            "'/root/3/train/kt_3.mfcc' -> '/root/kt_3.mfcc'\n",
            "'/root/3/train/la_3.mfcc' -> '/root/la_3.mfcc'\n",
            "'/root/3/train/ld_3.mfcc' -> '/root/ld_3.mfcc'\n",
            "'/root/3/train/ls_3.mfcc' -> '/root/ls_3.mfcc'\n",
            "Directory: dev\n",
            "Directory: 6\n",
            "Directory: train\n",
            "'/root/6/train/ac_6.mfcc' -> '/root/ac_6.mfcc'\n",
            "'/root/6/train/ag_6.mfcc' -> '/root/ag_6.mfcc'\n",
            "'/root/6/train/ai_6.mfcc' -> '/root/ai_6.mfcc'\n",
            "'/root/6/train/an_6.mfcc' -> '/root/an_6.mfcc'\n",
            "'/root/6/train/bh_6.mfcc' -> '/root/bh_6.mfcc'\n",
            "'/root/6/train/bi_6.mfcc' -> '/root/bi_6.mfcc'\n",
            "'/root/6/train/br_6.mfcc' -> '/root/br_6.mfcc'\n",
            "'/root/6/train/ca_6.mfcc' -> '/root/ca_6.mfcc'\n",
            "'/root/6/train/cg_6.mfcc' -> '/root/cg_6.mfcc'\n",
            "'/root/6/train/cl_6.mfcc' -> '/root/cl_6.mfcc'\n",
            "'/root/6/train/cm_6.mfcc' -> '/root/cm_6.mfcc'\n",
            "'/root/6/train/dc_6.mfcc' -> '/root/dc_6.mfcc'\n",
            "'/root/6/train/dg_6.mfcc' -> '/root/dg_6.mfcc'\n",
            "'/root/6/train/ea_6.mfcc' -> '/root/ea_6.mfcc'\n",
            "'/root/6/train/ec_6.mfcc' -> '/root/ec_6.mfcc'\n",
            "'/root/6/train/ee_6.mfcc' -> '/root/ee_6.mfcc'\n",
            "'/root/6/train/eg_6.mfcc' -> '/root/eg_6.mfcc'\n",
            "'/root/6/train/ei_6.mfcc' -> '/root/ei_6.mfcc'\n",
            "'/root/6/train/ek_6.mfcc' -> '/root/ek_6.mfcc'\n",
            "'/root/6/train/es_6.mfcc' -> '/root/es_6.mfcc'\n",
            "'/root/6/train/hg_6.mfcc' -> '/root/hg_6.mfcc'\n",
            "'/root/6/train/hp_6.mfcc' -> '/root/hp_6.mfcc'\n",
            "'/root/6/train/ig_6.mfcc' -> '/root/ig_6.mfcc'\n",
            "'/root/6/train/ih_6.mfcc' -> '/root/ih_6.mfcc'\n",
            "'/root/6/train/il_6.mfcc' -> '/root/il_6.mfcc'\n",
            "'/root/6/train/jc_6.mfcc' -> '/root/jc_6.mfcc'\n",
            "'/root/6/train/ji_6.mfcc' -> '/root/ji_6.mfcc'\n",
            "'/root/6/train/jj_6.mfcc' -> '/root/jj_6.mfcc'\n",
            "'/root/6/train/jn_6.mfcc' -> '/root/jn_6.mfcc'\n",
            "'/root/6/train/jp_6.mfcc' -> '/root/jp_6.mfcc'\n",
            "'/root/6/train/kc_6.mfcc' -> '/root/kc_6.mfcc'\n",
            "'/root/6/train/kf_6.mfcc' -> '/root/kf_6.mfcc'\n",
            "'/root/6/train/kh_6.mfcc' -> '/root/kh_6.mfcc'\n",
            "'/root/6/train/kk_6.mfcc' -> '/root/kk_6.mfcc'\n",
            "'/root/6/train/kn_6.mfcc' -> '/root/kn_6.mfcc'\n",
            "'/root/6/train/kt_6.mfcc' -> '/root/kt_6.mfcc'\n",
            "'/root/6/train/la_6.mfcc' -> '/root/la_6.mfcc'\n",
            "'/root/6/train/ld_6.mfcc' -> '/root/ld_6.mfcc'\n",
            "'/root/6/train/ls_6.mfcc' -> '/root/ls_6.mfcc'\n",
            "Directory: dev\n",
            "Directory: 7\n",
            "Directory: train\n",
            "'/root/7/train/ac_7.mfcc' -> '/root/ac_7.mfcc'\n",
            "'/root/7/train/ag_7.mfcc' -> '/root/ag_7.mfcc'\n",
            "'/root/7/train/ai_7.mfcc' -> '/root/ai_7.mfcc'\n",
            "'/root/7/train/an_7.mfcc' -> '/root/an_7.mfcc'\n",
            "'/root/7/train/bh_7.mfcc' -> '/root/bh_7.mfcc'\n",
            "'/root/7/train/bi_7.mfcc' -> '/root/bi_7.mfcc'\n",
            "'/root/7/train/br_7.mfcc' -> '/root/br_7.mfcc'\n",
            "'/root/7/train/ca_7.mfcc' -> '/root/ca_7.mfcc'\n",
            "'/root/7/train/cg_7.mfcc' -> '/root/cg_7.mfcc'\n",
            "'/root/7/train/cl_7.mfcc' -> '/root/cl_7.mfcc'\n",
            "'/root/7/train/cm_7.mfcc' -> '/root/cm_7.mfcc'\n",
            "'/root/7/train/dc_7.mfcc' -> '/root/dc_7.mfcc'\n",
            "'/root/7/train/dg_7.mfcc' -> '/root/dg_7.mfcc'\n",
            "'/root/7/train/ea_7.mfcc' -> '/root/ea_7.mfcc'\n",
            "'/root/7/train/ec_7.mfcc' -> '/root/ec_7.mfcc'\n",
            "'/root/7/train/ee_7.mfcc' -> '/root/ee_7.mfcc'\n",
            "'/root/7/train/eg_7.mfcc' -> '/root/eg_7.mfcc'\n",
            "'/root/7/train/ei_7.mfcc' -> '/root/ei_7.mfcc'\n",
            "'/root/7/train/ek_7.mfcc' -> '/root/ek_7.mfcc'\n",
            "'/root/7/train/es_7.mfcc' -> '/root/es_7.mfcc'\n",
            "'/root/7/train/hg_7.mfcc' -> '/root/hg_7.mfcc'\n",
            "'/root/7/train/hp_7.mfcc' -> '/root/hp_7.mfcc'\n",
            "'/root/7/train/ig_7.mfcc' -> '/root/ig_7.mfcc'\n",
            "'/root/7/train/ih_7.mfcc' -> '/root/ih_7.mfcc'\n",
            "'/root/7/train/il_7.mfcc' -> '/root/il_7.mfcc'\n",
            "'/root/7/train/jc_7.mfcc' -> '/root/jc_7.mfcc'\n",
            "'/root/7/train/ji_7.mfcc' -> '/root/ji_7.mfcc'\n",
            "'/root/7/train/jj_7.mfcc' -> '/root/jj_7.mfcc'\n",
            "'/root/7/train/jn_7.mfcc' -> '/root/jn_7.mfcc'\n",
            "'/root/7/train/jp_7.mfcc' -> '/root/jp_7.mfcc'\n",
            "'/root/7/train/kc_7.mfcc' -> '/root/kc_7.mfcc'\n",
            "'/root/7/train/kf_7.mfcc' -> '/root/kf_7.mfcc'\n",
            "'/root/7/train/kh_7.mfcc' -> '/root/kh_7.mfcc'\n",
            "'/root/7/train/kk_7.mfcc' -> '/root/kk_7.mfcc'\n",
            "'/root/7/train/kn_7.mfcc' -> '/root/kn_7.mfcc'\n",
            "'/root/7/train/kt_7.mfcc' -> '/root/kt_7.mfcc'\n",
            "'/root/7/train/la_7.mfcc' -> '/root/la_7.mfcc'\n",
            "'/root/7/train/ld_7.mfcc' -> '/root/ld_7.mfcc'\n",
            "'/root/7/train/ls_7.mfcc' -> '/root/ls_7.mfcc'\n",
            "Directory: dev\n",
            "[ 1  1  1  1  1  1  1 41 37 41 27 21 21 21  1  1 21 27 27 24 16 12 12 12\n",
            " 12 12 12 25 25 25 25 25 25 25 25 25 44 44 44 44 44 44 44 44 38 32 34 34\n",
            " 34 34 34 34 34 32 10 10 16 16 16 24 41 24 24 27 24 24 24 24  1 21 21  1\n",
            " 21 21  1  1  1  1 21]\n",
            "[27 27 27 27 41 24 27 27 27 27 27 27 27 27 27 27 27 27 27 27 27 24  5 47\n",
            " 36 36 36 45 22 26 26 26 26 26 26 26 11 11 11 11 11 11 11 11 11 11 39 39\n",
            " 39 39 39 12 12 12 12 29 12 32 29 10 10 37  9  9  9  9  9 24 27 27 41 41\n",
            " 27 27 27 27 27 27 27 27]\n",
            "[27 27 41 27 21 21 27 21 24 27 41 41 41 27 41 27 21 27 27  1  1 46 35 45\n",
            " 17 34  0  0  0  0  0  0  0  0  0 30 11 11 11 11 26 28 28 13 13 13 13 13\n",
            " 13 13 13 13 13 13 13 13 13 32 32 32 10 37 41 41 41 41 41 27 27 27 27 27\n",
            " 21  1 21 21 27 24 21 27 27 27 27]\n",
            "[37 41 37 37 37 37 40 40 40 37 37 37 37 37  9 37 37 41 16 37 10 15 17 40\n",
            " 33 15  3 37 37 37 37 17 17 41 16 40 10 16 41 41 41 41  9 40 40 40 40  9\n",
            " 24 24 35 35  5 35 35 35 35 35 35  4 45 22 38 38 11 11 11 11 11 11 11 11\n",
            " 11 11 11 11 31 11 11 11 34 10 37 37 37 41 40  6  6 35 46 46 46 46 35 46\n",
            "  5 35 46 46 46 46 46 21 24 24 16 37 10 40 10 16 16 37 41 37 37 41 37 37\n",
            " 41 37 37 41 41 37 41 41 41 41 16 37 37 37]\n",
            "[16 16 16 16 40  9  9 41 41 24 41 41 27 27 27 41 41 41 24 24 41  1 46 46\n",
            " 46  5  5 36  5  5  5  5  5  4 36 45 38 29 29 18 39 39 39 29 29 29 39 39\n",
            " 33 29 29 29 29 44 39 43 43 29 29 29 29 29 18 18 18 18 18 34 34 34 34 34\n",
            " 34 10 10 37 17 17  9 41 17 41 41 41 41 24 24 24 24 41  1 41]\n"
          ],
          "name": "stdout"
        }
      ]
    },
    {
      "cell_type": "code",
      "metadata": {
        "id": "4NbQNLj4Y2MA",
        "colab_type": "code",
        "colab": {
          "base_uri": "https://localhost:8080/",
          "height": 17
        },
        "outputId": "9fc51e51-6bc4-4796-a3f2-9e85bc3166df"
      },
      "source": [
        "                                    #Download the train sequence files\n",
        "files.download(\"one.seq\")\n",
        "files.download(\"two.seq\")\n",
        "files.download(\"three.seq\")\n",
        "files.download(\"six.seq\")\n",
        "files.download(\"seven.seq\")"
      ],
      "execution_count": null,
      "outputs": [
        {
          "output_type": "display_data",
          "data": {
            "application/javascript": [
              "\n",
              "    async function download(id, filename, size) {\n",
              "      if (!google.colab.kernel.accessAllowed) {\n",
              "        return;\n",
              "      }\n",
              "      const div = document.createElement('div');\n",
              "      const label = document.createElement('label');\n",
              "      label.textContent = `Downloading \"${filename}\": `;\n",
              "      div.appendChild(label);\n",
              "      const progress = document.createElement('progress');\n",
              "      progress.max = size;\n",
              "      div.appendChild(progress);\n",
              "      document.body.appendChild(div);\n",
              "\n",
              "      const buffers = [];\n",
              "      let downloaded = 0;\n",
              "\n",
              "      const channel = await google.colab.kernel.comms.open(id);\n",
              "      // Send a message to notify the kernel that we're ready.\n",
              "      channel.send({})\n",
              "\n",
              "      for await (const message of channel.messages) {\n",
              "        // Send a message to notify the kernel that we're ready.\n",
              "        channel.send({})\n",
              "        if (message.buffers) {\n",
              "          for (const buffer of message.buffers) {\n",
              "            buffers.push(buffer);\n",
              "            downloaded += buffer.byteLength;\n",
              "            progress.value = downloaded;\n",
              "          }\n",
              "        }\n",
              "      }\n",
              "      const blob = new Blob(buffers, {type: 'application/binary'});\n",
              "      const a = document.createElement('a');\n",
              "      a.href = window.URL.createObjectURL(blob);\n",
              "      a.download = filename;\n",
              "      div.appendChild(a);\n",
              "      a.click();\n",
              "      div.remove();\n",
              "    }\n",
              "  "
            ],
            "text/plain": [
              "<IPython.core.display.Javascript object>"
            ]
          },
          "metadata": {
            "tags": []
          }
        },
        {
          "output_type": "display_data",
          "data": {
            "application/javascript": [
              "download(\"download_1db2b4a1-82b0-41b9-8cc0-6b83fa3d9ef4\", \"one.seq\", 10560)"
            ],
            "text/plain": [
              "<IPython.core.display.Javascript object>"
            ]
          },
          "metadata": {
            "tags": []
          }
        },
        {
          "output_type": "display_data",
          "data": {
            "application/javascript": [
              "\n",
              "    async function download(id, filename, size) {\n",
              "      if (!google.colab.kernel.accessAllowed) {\n",
              "        return;\n",
              "      }\n",
              "      const div = document.createElement('div');\n",
              "      const label = document.createElement('label');\n",
              "      label.textContent = `Downloading \"${filename}\": `;\n",
              "      div.appendChild(label);\n",
              "      const progress = document.createElement('progress');\n",
              "      progress.max = size;\n",
              "      div.appendChild(progress);\n",
              "      document.body.appendChild(div);\n",
              "\n",
              "      const buffers = [];\n",
              "      let downloaded = 0;\n",
              "\n",
              "      const channel = await google.colab.kernel.comms.open(id);\n",
              "      // Send a message to notify the kernel that we're ready.\n",
              "      channel.send({})\n",
              "\n",
              "      for await (const message of channel.messages) {\n",
              "        // Send a message to notify the kernel that we're ready.\n",
              "        channel.send({})\n",
              "        if (message.buffers) {\n",
              "          for (const buffer of message.buffers) {\n",
              "            buffers.push(buffer);\n",
              "            downloaded += buffer.byteLength;\n",
              "            progress.value = downloaded;\n",
              "          }\n",
              "        }\n",
              "      }\n",
              "      const blob = new Blob(buffers, {type: 'application/binary'});\n",
              "      const a = document.createElement('a');\n",
              "      a.href = window.URL.createObjectURL(blob);\n",
              "      a.download = filename;\n",
              "      div.appendChild(a);\n",
              "      a.click();\n",
              "      div.remove();\n",
              "    }\n",
              "  "
            ],
            "text/plain": [
              "<IPython.core.display.Javascript object>"
            ]
          },
          "metadata": {
            "tags": []
          }
        },
        {
          "output_type": "display_data",
          "data": {
            "application/javascript": [
              "download(\"download_ce3f63b8-37f3-4c71-8b56-12370aa55671\", \"two.seq\", 10313)"
            ],
            "text/plain": [
              "<IPython.core.display.Javascript object>"
            ]
          },
          "metadata": {
            "tags": []
          }
        },
        {
          "output_type": "display_data",
          "data": {
            "application/javascript": [
              "\n",
              "    async function download(id, filename, size) {\n",
              "      if (!google.colab.kernel.accessAllowed) {\n",
              "        return;\n",
              "      }\n",
              "      const div = document.createElement('div');\n",
              "      const label = document.createElement('label');\n",
              "      label.textContent = `Downloading \"${filename}\": `;\n",
              "      div.appendChild(label);\n",
              "      const progress = document.createElement('progress');\n",
              "      progress.max = size;\n",
              "      div.appendChild(progress);\n",
              "      document.body.appendChild(div);\n",
              "\n",
              "      const buffers = [];\n",
              "      let downloaded = 0;\n",
              "\n",
              "      const channel = await google.colab.kernel.comms.open(id);\n",
              "      // Send a message to notify the kernel that we're ready.\n",
              "      channel.send({})\n",
              "\n",
              "      for await (const message of channel.messages) {\n",
              "        // Send a message to notify the kernel that we're ready.\n",
              "        channel.send({})\n",
              "        if (message.buffers) {\n",
              "          for (const buffer of message.buffers) {\n",
              "            buffers.push(buffer);\n",
              "            downloaded += buffer.byteLength;\n",
              "            progress.value = downloaded;\n",
              "          }\n",
              "        }\n",
              "      }\n",
              "      const blob = new Blob(buffers, {type: 'application/binary'});\n",
              "      const a = document.createElement('a');\n",
              "      a.href = window.URL.createObjectURL(blob);\n",
              "      a.download = filename;\n",
              "      div.appendChild(a);\n",
              "      a.click();\n",
              "      div.remove();\n",
              "    }\n",
              "  "
            ],
            "text/plain": [
              "<IPython.core.display.Javascript object>"
            ]
          },
          "metadata": {
            "tags": []
          }
        },
        {
          "output_type": "display_data",
          "data": {
            "application/javascript": [
              "download(\"download_0e381002-56cd-46ee-a7f9-16d5c1ca0246\", \"three.seq\", 11106)"
            ],
            "text/plain": [
              "<IPython.core.display.Javascript object>"
            ]
          },
          "metadata": {
            "tags": []
          }
        },
        {
          "output_type": "display_data",
          "data": {
            "application/javascript": [
              "\n",
              "    async function download(id, filename, size) {\n",
              "      if (!google.colab.kernel.accessAllowed) {\n",
              "        return;\n",
              "      }\n",
              "      const div = document.createElement('div');\n",
              "      const label = document.createElement('label');\n",
              "      label.textContent = `Downloading \"${filename}\": `;\n",
              "      div.appendChild(label);\n",
              "      const progress = document.createElement('progress');\n",
              "      progress.max = size;\n",
              "      div.appendChild(progress);\n",
              "      document.body.appendChild(div);\n",
              "\n",
              "      const buffers = [];\n",
              "      let downloaded = 0;\n",
              "\n",
              "      const channel = await google.colab.kernel.comms.open(id);\n",
              "      // Send a message to notify the kernel that we're ready.\n",
              "      channel.send({})\n",
              "\n",
              "      for await (const message of channel.messages) {\n",
              "        // Send a message to notify the kernel that we're ready.\n",
              "        channel.send({})\n",
              "        if (message.buffers) {\n",
              "          for (const buffer of message.buffers) {\n",
              "            buffers.push(buffer);\n",
              "            downloaded += buffer.byteLength;\n",
              "            progress.value = downloaded;\n",
              "          }\n",
              "        }\n",
              "      }\n",
              "      const blob = new Blob(buffers, {type: 'application/binary'});\n",
              "      const a = document.createElement('a');\n",
              "      a.href = window.URL.createObjectURL(blob);\n",
              "      a.download = filename;\n",
              "      div.appendChild(a);\n",
              "      a.click();\n",
              "      div.remove();\n",
              "    }\n",
              "  "
            ],
            "text/plain": [
              "<IPython.core.display.Javascript object>"
            ]
          },
          "metadata": {
            "tags": []
          }
        },
        {
          "output_type": "display_data",
          "data": {
            "application/javascript": [
              "download(\"download_485da553-5eb0-45a0-bb0c-34e6aa84927f\", \"six.seq\", 11900)"
            ],
            "text/plain": [
              "<IPython.core.display.Javascript object>"
            ]
          },
          "metadata": {
            "tags": []
          }
        },
        {
          "output_type": "display_data",
          "data": {
            "application/javascript": [
              "\n",
              "    async function download(id, filename, size) {\n",
              "      if (!google.colab.kernel.accessAllowed) {\n",
              "        return;\n",
              "      }\n",
              "      const div = document.createElement('div');\n",
              "      const label = document.createElement('label');\n",
              "      label.textContent = `Downloading \"${filename}\": `;\n",
              "      div.appendChild(label);\n",
              "      const progress = document.createElement('progress');\n",
              "      progress.max = size;\n",
              "      div.appendChild(progress);\n",
              "      document.body.appendChild(div);\n",
              "\n",
              "      const buffers = [];\n",
              "      let downloaded = 0;\n",
              "\n",
              "      const channel = await google.colab.kernel.comms.open(id);\n",
              "      // Send a message to notify the kernel that we're ready.\n",
              "      channel.send({})\n",
              "\n",
              "      for await (const message of channel.messages) {\n",
              "        // Send a message to notify the kernel that we're ready.\n",
              "        channel.send({})\n",
              "        if (message.buffers) {\n",
              "          for (const buffer of message.buffers) {\n",
              "            buffers.push(buffer);\n",
              "            downloaded += buffer.byteLength;\n",
              "            progress.value = downloaded;\n",
              "          }\n",
              "        }\n",
              "      }\n",
              "      const blob = new Blob(buffers, {type: 'application/binary'});\n",
              "      const a = document.createElement('a');\n",
              "      a.href = window.URL.createObjectURL(blob);\n",
              "      a.download = filename;\n",
              "      div.appendChild(a);\n",
              "      a.click();\n",
              "      div.remove();\n",
              "    }\n",
              "  "
            ],
            "text/plain": [
              "<IPython.core.display.Javascript object>"
            ]
          },
          "metadata": {
            "tags": []
          }
        },
        {
          "output_type": "display_data",
          "data": {
            "application/javascript": [
              "download(\"download_1f150aa1-0e43-4d57-ba74-bf2199b3bf9a\", \"seven.seq\", 11820)"
            ],
            "text/plain": [
              "<IPython.core.display.Javascript object>"
            ]
          },
          "metadata": {
            "tags": []
          }
        }
      ]
    },
    {
      "cell_type": "code",
      "metadata": {
        "id": "YOw0y8mp7Ci8",
        "colab_type": "code",
        "colab": {
          "base_uri": "https://localhost:8080/",
          "height": 374
        },
        "outputId": "b5180e2c-4a53-486f-da3b-6078ea84a6e6"
      },
      "source": [
        "!ls\n",
        "print(len(feat))\n",
        "Nw"
      ],
      "execution_count": null,
      "outputs": [
        {
          "output_type": "stream",
          "text": [
            "1  3  7       one.seq\t seven.seq  three.seq\n",
            "2  6  ctsHMM  ra_1.mfcc  six.seq    two.seq\n",
            "19968\n"
          ],
          "name": "stdout"
        },
        {
          "output_type": "execute_result",
          "data": {
            "text/plain": [
              "array([  75,  159,  238,  322,  423,  520,  636,  730,  831,  925, 1028,\n",
              "       1222, 1330, 1418, 1503, 1592, 1662, 1759, 1856, 1948, 2045, 2141,\n",
              "       2238, 2359, 2444, 2538, 2646, 2721, 2818, 2910, 3034, 3146, 3224,\n",
              "       3305, 3412, 3496, 3606, 3684, 3769,   70,  153,  233,  316,  422,\n",
              "        525,  645,  743,  830,  937, 1038, 1126, 1205, 1289, 1372, 1444,\n",
              "       1575, 1662, 1737, 1825, 1942, 2034, 2132, 2230, 2308, 2432, 2517,\n",
              "       2601, 2677, 2770, 2876, 2969, 3068, 3153, 3256, 3343, 3456, 3534,\n",
              "       3631,   71,  159,  242,  349,  452,  540,  646,  754,  843, 1024,\n",
              "       1154, 1247, 1330, 1411, 1494, 1577, 1671, 1764, 1865, 1953, 2047,\n",
              "       2159, 2275, 2458, 2538, 2621, 2733, 2829, 2930, 3024, 3148, 3254,\n",
              "       3335, 3422, 3526, 3615, 3707, 3792, 3898,   97,  207,  341,  458,\n",
              "        565,  696,  825,  946, 1061, 1169, 1309, 1435, 1548, 1645, 1761,\n",
              "       1872, 1966, 2076, 2178, 2317, 2439, 2561, 2722, 2837, 2936, 3053,\n",
              "       3161, 3269, 3377, 3490, 3635, 3760, 3876, 3978, 4088, 4222, 4329,\n",
              "       4437, 4549,  103,  202,  294,  397,  495,  585,  706,  826,  920,\n",
              "       1046, 1158, 1260, 1363, 1469, 1580, 1686, 1790, 1893, 1997, 2103,\n",
              "       2205, 2290, 2407, 2527, 2619, 2731, 2847, 2939, 3058, 3184, 3322,\n",
              "       3430, 3520, 3608, 3712, 3816, 3913, 4009, 4121])"
            ]
          },
          "metadata": {
            "tags": []
          },
          "execution_count": 11
        }
      ]
    },
    {
      "cell_type": "code",
      "metadata": {
        "id": "AYEjyFA-mpjy",
        "colab_type": "code",
        "colab": {}
      },
      "source": [
        "def testKmeans(fileMfcc,trainKM,Nclust=48,iters=1) :\n",
        "                                    #Convert features from file into array\n",
        "    features = np.genfromtxt(fileMfcc,delimiter='\\n',dtype=str)\n",
        "    Nc,Nf = features[0].split(\" \")\n",
        "    Nc = int(Nc)\n",
        "    Nf = int(Nf)\n",
        "    features = np.genfromtxt(features[1:],delimiter=' ',dtype=str)\n",
        "    features = features.astype(float)\n",
        "    \n",
        "                                    #Apply K-means on the vectors\n",
        "    # if len(features) == Nf and len(features[0]) == Nc :\n",
        "    #     label = trainKM.predict(features)\n",
        "    label = trainKM.predict(features)\n",
        "\n",
        "    return label\n"
      ],
      "execution_count": null,
      "outputs": []
    },
    {
      "cell_type": "code",
      "metadata": {
        "id": "H2NQ3LgW1uQC",
        "colab_type": "code",
        "colab": {}
      },
      "source": [
        "                                    #Give the file with sequences for testing data\n",
        "def testSeq(trainKM,fileWord=\"check.txt\",folders=None) :\n",
        "    if folders is None :\n",
        "        folders = array([\"1\",\"2\",\"3\",\"6\",\"7\"])\n",
        "    seq = []\n",
        "    count = np.zeros(5)\n",
        "    for word in folders :    \n",
        "                                        #Go through required folders\n",
        "        for subdir, dirs, files in os.walk(word):\n",
        "            dirname = subdir.split(os.path.sep)[-1]\n",
        "            print('Directory:', dirname)\n",
        "            if dirname == \"dev\":\n",
        "                for f in files:\n",
        "                    if f.endswith(\".mfcc\"):\n",
        "                                        #Copy file (mfcc) to root and perform K-means\n",
        "                        !cp -avr /root/$word/dev/$f /root\n",
        "                        label = testKmeans(f,trainKM)\n",
        "                        seq.append(label)\n",
        "                        !rm $f\n",
        "                        count[np.where(word == folders)[0][0]] += 1\n",
        "        if word != \"1\" :\n",
        "            count[np.where(word == folders)[0][0]] = count[np.where(word == folders)[0][0]] + count[np.where(word == folders)[0][0]-1]\n",
        "\n",
        "    print(count)\n",
        "    seq = array(seq)\n",
        "    \n",
        "    seqDwnld(seq,fileWord)\n",
        "\n",
        "    return count\n"
      ],
      "execution_count": null,
      "outputs": []
    },
    {
      "cell_type": "code",
      "metadata": {
        "id": "ng9NusK-WX3t",
        "colab_type": "code",
        "colab": {
          "base_uri": "https://localhost:8080/",
          "height": 1000
        },
        "outputId": "9e72c453-3ca7-4a0a-e4fc-f267d63b7b80"
      },
      "source": [
        "                                    #Get the test sequence\n",
        "count = testSeq(cenKM,\"DHMM.test\")"
      ],
      "execution_count": null,
      "outputs": [
        {
          "output_type": "stream",
          "text": [
            "Directory: 1\n",
            "Directory: train\n",
            "Directory: dev\n",
            "'/root/1/dev/mk_1.mfcc' -> '/root/mk_1.mfcc'\n",
            "'/root/1/dev/mm_1.mfcc' -> '/root/mm_1.mfcc'\n",
            "'/root/1/dev/ms_1.mfcc' -> '/root/ms_1.mfcc'\n",
            "'/root/1/dev/mw_1.mfcc' -> '/root/mw_1.mfcc'\n",
            "'/root/1/dev/nc_1.mfcc' -> '/root/nc_1.mfcc'\n",
            "'/root/1/dev/ng_1.mfcc' -> '/root/ng_1.mfcc'\n",
            "'/root/1/dev/nh_1.mfcc' -> '/root/nh_1.mfcc'\n",
            "'/root/1/dev/pe_1.mfcc' -> '/root/pe_1.mfcc'\n",
            "'/root/1/dev/pk_1.mfcc' -> '/root/pk_1.mfcc'\n",
            "'/root/1/dev/pm_1.mfcc' -> '/root/pm_1.mfcc'\n",
            "'/root/1/dev/pp_1.mfcc' -> '/root/pp_1.mfcc'\n",
            "'/root/1/dev/ra_1.mfcc' -> '/root/ra_1.mfcc'\n",
            "Directory: 2\n",
            "Directory: train\n",
            "Directory: dev\n",
            "'/root/2/dev/mk_2.mfcc' -> '/root/mk_2.mfcc'\n",
            "'/root/2/dev/mm_2.mfcc' -> '/root/mm_2.mfcc'\n",
            "'/root/2/dev/ms_2.mfcc' -> '/root/ms_2.mfcc'\n",
            "'/root/2/dev/mw_2.mfcc' -> '/root/mw_2.mfcc'\n",
            "'/root/2/dev/nc_2.mfcc' -> '/root/nc_2.mfcc'\n",
            "'/root/2/dev/ng_2.mfcc' -> '/root/ng_2.mfcc'\n",
            "'/root/2/dev/nh_2.mfcc' -> '/root/nh_2.mfcc'\n",
            "'/root/2/dev/pe_2.mfcc' -> '/root/pe_2.mfcc'\n",
            "'/root/2/dev/pk_2.mfcc' -> '/root/pk_2.mfcc'\n",
            "'/root/2/dev/pm_2.mfcc' -> '/root/pm_2.mfcc'\n",
            "'/root/2/dev/pp_2.mfcc' -> '/root/pp_2.mfcc'\n",
            "'/root/2/dev/ra_2.mfcc' -> '/root/ra_2.mfcc'\n",
            "Directory: 3\n",
            "Directory: train\n",
            "Directory: dev\n",
            "'/root/3/dev/mk_3.mfcc' -> '/root/mk_3.mfcc'\n",
            "'/root/3/dev/mm_3.mfcc' -> '/root/mm_3.mfcc'\n",
            "'/root/3/dev/ms_3.mfcc' -> '/root/ms_3.mfcc'\n",
            "'/root/3/dev/mw_3.mfcc' -> '/root/mw_3.mfcc'\n",
            "'/root/3/dev/nc_3.mfcc' -> '/root/nc_3.mfcc'\n",
            "'/root/3/dev/ng_3.mfcc' -> '/root/ng_3.mfcc'\n",
            "'/root/3/dev/nh_3.mfcc' -> '/root/nh_3.mfcc'\n",
            "'/root/3/dev/pe_3.mfcc' -> '/root/pe_3.mfcc'\n",
            "'/root/3/dev/pk_3.mfcc' -> '/root/pk_3.mfcc'\n",
            "'/root/3/dev/pm_3.mfcc' -> '/root/pm_3.mfcc'\n",
            "'/root/3/dev/pp_3.mfcc' -> '/root/pp_3.mfcc'\n",
            "'/root/3/dev/ra_3.mfcc' -> '/root/ra_3.mfcc'\n",
            "Directory: 6\n",
            "Directory: train\n",
            "Directory: dev\n",
            "'/root/6/dev/mk_6.mfcc' -> '/root/mk_6.mfcc'\n",
            "'/root/6/dev/mm_6.mfcc' -> '/root/mm_6.mfcc'\n",
            "'/root/6/dev/ms_6.mfcc' -> '/root/ms_6.mfcc'\n",
            "'/root/6/dev/mw_6.mfcc' -> '/root/mw_6.mfcc'\n",
            "'/root/6/dev/nc_6.mfcc' -> '/root/nc_6.mfcc'\n",
            "'/root/6/dev/ng_6.mfcc' -> '/root/ng_6.mfcc'\n",
            "'/root/6/dev/nh_6.mfcc' -> '/root/nh_6.mfcc'\n",
            "'/root/6/dev/pe_6.mfcc' -> '/root/pe_6.mfcc'\n",
            "'/root/6/dev/pk_6.mfcc' -> '/root/pk_6.mfcc'\n",
            "'/root/6/dev/pm_6.mfcc' -> '/root/pm_6.mfcc'\n",
            "'/root/6/dev/pp_6.mfcc' -> '/root/pp_6.mfcc'\n",
            "'/root/6/dev/ra_6.mfcc' -> '/root/ra_6.mfcc'\n",
            "Directory: 7\n",
            "Directory: train\n",
            "Directory: dev\n",
            "'/root/7/dev/mk_7.mfcc' -> '/root/mk_7.mfcc'\n",
            "'/root/7/dev/mm_7.mfcc' -> '/root/mm_7.mfcc'\n",
            "'/root/7/dev/ms_7.mfcc' -> '/root/ms_7.mfcc'\n",
            "'/root/7/dev/mw_7.mfcc' -> '/root/mw_7.mfcc'\n",
            "'/root/7/dev/nc_7.mfcc' -> '/root/nc_7.mfcc'\n",
            "'/root/7/dev/ng_7.mfcc' -> '/root/ng_7.mfcc'\n",
            "'/root/7/dev/nh_7.mfcc' -> '/root/nh_7.mfcc'\n",
            "'/root/7/dev/pe_7.mfcc' -> '/root/pe_7.mfcc'\n",
            "'/root/7/dev/pk_7.mfcc' -> '/root/pk_7.mfcc'\n",
            "'/root/7/dev/pm_7.mfcc' -> '/root/pm_7.mfcc'\n",
            "'/root/7/dev/pp_7.mfcc' -> '/root/pp_7.mfcc'\n",
            "'/root/7/dev/ra_7.mfcc' -> '/root/ra_7.mfcc'\n",
            "[12. 24. 36. 48. 60.]\n"
          ],
          "name": "stdout"
        }
      ]
    },
    {
      "cell_type": "code",
      "metadata": {
        "id": "EC3QLov3eRpf",
        "colab_type": "code",
        "colab": {
          "base_uri": "https://localhost:8080/",
          "height": 17
        },
        "outputId": "e3b35cb1-7401-40c7-db7f-22e8f3a442dc"
      },
      "source": [
        "                                    #Download the test sequence files\n",
        "files.download(\"DHMM.test\")"
      ],
      "execution_count": null,
      "outputs": [
        {
          "output_type": "display_data",
          "data": {
            "application/javascript": [
              "\n",
              "    async function download(id, filename, size) {\n",
              "      if (!google.colab.kernel.accessAllowed) {\n",
              "        return;\n",
              "      }\n",
              "      const div = document.createElement('div');\n",
              "      const label = document.createElement('label');\n",
              "      label.textContent = `Downloading \"${filename}\": `;\n",
              "      div.appendChild(label);\n",
              "      const progress = document.createElement('progress');\n",
              "      progress.max = size;\n",
              "      div.appendChild(progress);\n",
              "      document.body.appendChild(div);\n",
              "\n",
              "      const buffers = [];\n",
              "      let downloaded = 0;\n",
              "\n",
              "      const channel = await google.colab.kernel.comms.open(id);\n",
              "      // Send a message to notify the kernel that we're ready.\n",
              "      channel.send({})\n",
              "\n",
              "      for await (const message of channel.messages) {\n",
              "        // Send a message to notify the kernel that we're ready.\n",
              "        channel.send({})\n",
              "        if (message.buffers) {\n",
              "          for (const buffer of message.buffers) {\n",
              "            buffers.push(buffer);\n",
              "            downloaded += buffer.byteLength;\n",
              "            progress.value = downloaded;\n",
              "          }\n",
              "        }\n",
              "      }\n",
              "      const blob = new Blob(buffers, {type: 'application/binary'});\n",
              "      const a = document.createElement('a');\n",
              "      a.href = window.URL.createObjectURL(blob);\n",
              "      a.download = filename;\n",
              "      div.appendChild(a);\n",
              "      a.click();\n",
              "      div.remove();\n",
              "    }\n",
              "  "
            ],
            "text/plain": [
              "<IPython.core.display.Javascript object>"
            ]
          },
          "metadata": {
            "tags": []
          }
        },
        {
          "output_type": "display_data",
          "data": {
            "application/javascript": [
              "download(\"download_90632ed1-65a4-4117-aaa9-a5d367260872\", \"DHMM.test\", 17010)"
            ],
            "text/plain": [
              "<IPython.core.display.Javascript object>"
            ]
          },
          "metadata": {
            "tags": []
          }
        }
      ]
    },
    {
      "cell_type": "code",
      "metadata": {
        "id": "QFdT4d0xRImU",
        "colab_type": "code",
        "colab": {
          "base_uri": "https://localhost:8080/",
          "height": 187
        },
        "outputId": "78fc18a1-fbc4-4257-9aaf-06952a013fd2"
      },
      "source": [
        "                                    #Final probability files\n",
        "!cp -avr /content/gdrive/My\\ Drive/fp1.txt /root\n",
        "!cp -avr /content/gdrive/My\\ Drive/fp2.txt /root\n",
        "!cp -avr /content/gdrive/My\\ Drive/fp3.txt /root\n",
        "!cp -avr /content/gdrive/My\\ Drive/fp6.txt /root\n",
        "!cp -avr /content/gdrive/My\\ Drive/fp7.txt /root\n",
        "\n",
        "# !cp -avr /content/gdrive/My\\ Drive/HMMs\\ Colab\\ files/Nclust-20/fp1.txt /root\n",
        "# !cp -avr /content/gdrive/My\\ Drive/HMMs\\ Colab\\ files/Nclust-20/fp2.txt /root\n",
        "# !cp -avr /content/gdrive/My\\ Drive/HMMs\\ Colab\\ files/Nclust-20/fp3.txt /root\n",
        "# !cp -avr /content/gdrive/My\\ Drive/HMMs\\ Colab\\ files/Nclust-20/fp6.txt /root\n",
        "# !cp -avr /content/gdrive/My\\ Drive/HMMs\\ Colab\\ files/Nclust-20/fp7.txt /root\n",
        "\n",
        "# !cp -avr /content/gdrive/My\\ Drive/HMMs\\ Colab\\ files/Nclust-18/fp1.txt /root\n",
        "# !cp -avr /content/gdrive/My\\ Drive/HMMs\\ Colab\\ files/Nclust-18/fp2.txt /root\n",
        "# !cp -avr /content/gdrive/My\\ Drive/HMMs\\ Colab\\ files/Nclust-18/fp3.txt /root\n",
        "# !cp -avr /content/gdrive/My\\ Drive/HMMs\\ Colab\\ files/Nclust-18/fp6.txt /root\n",
        "# !cp -avr /content/gdrive/My\\ Drive/HMMs\\ Colab\\ files/Nclust-18/fp7.txt /root\n",
        "\n",
        "# !cp -avr /content/gdrive/My\\ Drive/HMMs\\ Colab\\ files/Nclust-16/fp1.txt /root\n",
        "# !cp -avr /content/gdrive/My\\ Drive/HMMs\\ Colab\\ files/Nclust-16/fp2.txt /root\n",
        "# !cp -avr /content/gdrive/My\\ Drive/HMMs\\ Colab\\ files/Nclust-16/fp3.txt /root\n",
        "# !cp -avr /content/gdrive/My\\ Drive/HMMs\\ Colab\\ files/Nclust-16/fp6.txt /root\n",
        "# !cp -avr /content/gdrive/My\\ Drive/HMMs\\ Colab\\ files/Nclust-16/fp7.txt /root\n",
        "!ls"
      ],
      "execution_count": null,
      "outputs": [
        {
          "output_type": "stream",
          "text": [
            "'/content/gdrive/My Drive/fp1.txt' -> '/root/fp1.txt'\n",
            "'/content/gdrive/My Drive/fp2.txt' -> '/root/fp2.txt'\n",
            "'/content/gdrive/My Drive/fp3.txt' -> '/root/fp3.txt'\n",
            "'/content/gdrive/My Drive/fp6.txt' -> '/root/fp6.txt'\n",
            "'/content/gdrive/My Drive/fp7.txt' -> '/root/fp7.txt'\n",
            " 1   cenKM48.pkl\t    fp1.txt  'ROC 16 clusters.png'\n",
            " 2   ctsHMM\t\t    fp2.txt  'ROC 18 clusters.png'\n",
            " 3  'DET 16 clusters.png'   fp3.txt  'ROC 20 clusters.png'\n",
            " 6  'DET 18 clusters.png'   fp6.txt  'ROC 48 clusters.png'\n",
            " 7  'DET 20 clusters.png'   fp7.txt\n"
          ],
          "name": "stdout"
        }
      ]
    },
    {
      "cell_type": "code",
      "metadata": {
        "id": "__GHSDZR5FjJ",
        "colab_type": "code",
        "colab": {}
      },
      "source": [
        "def testProb(fileProb) :\n",
        "    prob = np.genfromtxt(fileProb,delimiter=' ',dtype=str)\n",
        "    prob = prob.astype(float)\n",
        "\n",
        "    return prob"
      ],
      "execution_count": null,
      "outputs": []
    },
    {
      "cell_type": "code",
      "metadata": {
        "id": "HiNDmKpVFE-u",
        "colab_type": "code",
        "colab": {}
      },
      "source": [
        "def accModel(count=array([12,24,36,48,60]),digit=array([1,2,3,6,7])) :\n",
        "\n",
        "    error = np.zeros(5)\n",
        "    prob1 = testProb(\"fp1.txt\")\n",
        "    allprob = np.zeros((len(prob1),5))\n",
        "    allprob[:,0] = prob1\n",
        "    \n",
        "    allprob[:,1] = testProb(\"fp2.txt\")\n",
        "    allprob[:,2] = testProb(\"fp3.txt\")\n",
        "    allprob[:,3] = testProb(\"fp6.txt\")\n",
        "    allprob[:,4] = testProb(\"fp7.txt\")\n",
        "    \n",
        "    allsoft = softmax(allprob,axis=0)\n",
        "\n",
        "    trueval = repeat(np.arange(5),12)\n",
        "\n",
        "    estimate = np.argmax(allprob,axis=1)\n",
        "    print(estimate)\n",
        "    for i in range(0,5) :\n",
        "        if i==0:\n",
        "            error[i] = len(np.where(estimate[:count[i]]!=i)[0])\n",
        "        else :\n",
        "            error[i] = len(np.where(estimate[count[i-1]:count[i]]!=i)[0])\n",
        "                                    #Plot ROC & DET curves\n",
        "        trueval[np.where(trueval!=i)[0]] = -1\n",
        "        trueval[np.where(trueval==i)[0]] = 1\n",
        "        fpr, tpr, _ = roc_curve(trueval, allsoft[:,i])\n",
        "        roc_auc = auc(fpr,tpr)\n",
        "                                    #Plot code for DET curve\n",
        "        plt.loglog(fpr,tpr[-1]-tpr,label=\"DET curve for digit %d\"%(digit[i]),marker=\".\")\n",
        "                                    #Plot code for ROC curve\n",
        "        #plt.plot(fpr,tpr,label=\"ROC curve for digit %d (area=%.2f)\"%(digit[i],roc_auc),marker=\".\")\n",
        "        trueval = repeat(np.arange(5),12)\n",
        "                                        #Plot code for ROC curve\n",
        "    # plt.plot(fpr,fpr,\"k--\")\n",
        "    # plt.xlabel('False Positive Rate')\n",
        "    # plt.ylabel('True Positive Rate')\n",
        "    # plt.title('ROC for multi-class digits : 16 clusters')\n",
        "    # plt.legend(loc=\"lower right\")\n",
        "    # #plt.savefig(\"ROC 16 clusters\")\n",
        "    # plt.show()\n",
        "                                    #Plot code for DET curve\n",
        "    plt.xlabel('False Positive Rate (log scale)')\n",
        "    plt.ylabel('False Negative Rate (log scale)')\n",
        "    plt.title('DET curve for multi-class digits : 48 clusters')\n",
        "    plt.legend(loc=\"upper right\")\n",
        "    ticks_to_use = [0.001,0.002,0.005,0.01,0.02,0.05,0.1,0.2,0.5,1,2,5]\n",
        "    plt.savefig(\"DET 48 clusters\")\n",
        "    plt.ylim(top=5,bottom=0.01)\n",
        "    #plt.show()\n",
        "    print(error)\n",
        "    acc = 1-(sum(error)/count[-1])\n",
        "    \n",
        "    return acc"
      ],
      "execution_count": null,
      "outputs": []
    },
    {
      "cell_type": "code",
      "metadata": {
        "id": "OLP__4BBwmzq",
        "colab_type": "code",
        "colab": {
          "base_uri": "https://localhost:8080/",
          "height": 367
        },
        "outputId": "9f0d1ea8-c1f3-45bc-d6bf-17a0e9d341a7"
      },
      "source": [
        "#acc = accModel(count.astype(int))\n",
        "acc = accModel()\n",
        "print(acc)"
      ],
      "execution_count": null,
      "outputs": [
        {
          "output_type": "stream",
          "text": [
            "[0 0 0 0 0 0 0 0 0 0 0 0 1 1 1 1 1 1 1 1 1 1 1 1 2 2 2 2 2 2 2 2 2 2 2 2 3\n",
            " 3 3 3 3 3 3 3 3 3 3 3 4 4 4 4 4 1 4 4 4 4 4 4]\n",
            "[0. 0. 0. 0. 1.]\n",
            "0.9833333333333333\n"
          ],
          "name": "stdout"
        },
        {
          "output_type": "display_data",
          "data": {
            "image/png": "[encoded data removed]",
            "text/plain": [
              "<Figure size 432x288 with 1 Axes>"
            ]
          },
          "metadata": {
            "tags": [],
            "needs_background": "light"
          }
        }
      ]
    },
    {
      "cell_type": "code",
      "metadata": {
        "id": "mx-_Ko8rRDbb",
        "colab_type": "code",
        "colab": {
          "base_uri": "https://localhost:8080/",
          "height": 17
        },
        "outputId": "992b646c-366e-41d8-ca4e-0d8fba514e98"
      },
      "source": [
        "files.download(\"DET 48 clusters.png\")"
      ],
      "execution_count": null,
      "outputs": [
        {
          "output_type": "display_data",
          "data": {
            "application/javascript": [
              "\n",
              "    async function download(id, filename, size) {\n",
              "      if (!google.colab.kernel.accessAllowed) {\n",
              "        return;\n",
              "      }\n",
              "      const div = document.createElement('div');\n",
              "      const label = document.createElement('label');\n",
              "      label.textContent = `Downloading \"${filename}\": `;\n",
              "      div.appendChild(label);\n",
              "      const progress = document.createElement('progress');\n",
              "      progress.max = size;\n",
              "      div.appendChild(progress);\n",
              "      document.body.appendChild(div);\n",
              "\n",
              "      const buffers = [];\n",
              "      let downloaded = 0;\n",
              "\n",
              "      const channel = await google.colab.kernel.comms.open(id);\n",
              "      // Send a message to notify the kernel that we're ready.\n",
              "      channel.send({})\n",
              "\n",
              "      for await (const message of channel.messages) {\n",
              "        // Send a message to notify the kernel that we're ready.\n",
              "        channel.send({})\n",
              "        if (message.buffers) {\n",
              "          for (const buffer of message.buffers) {\n",
              "            buffers.push(buffer);\n",
              "            downloaded += buffer.byteLength;\n",
              "            progress.value = downloaded;\n",
              "          }\n",
              "        }\n",
              "      }\n",
              "      const blob = new Blob(buffers, {type: 'application/binary'});\n",
              "      const a = document.createElement('a');\n",
              "      a.href = window.URL.createObjectURL(blob);\n",
              "      a.download = filename;\n",
              "      div.appendChild(a);\n",
              "      a.click();\n",
              "      div.remove();\n",
              "    }\n",
              "  "
            ],
            "text/plain": [
              "<IPython.core.display.Javascript object>"
            ]
          },
          "metadata": {
            "tags": []
          }
        },
        {
          "output_type": "display_data",
          "data": {
            "application/javascript": [
              "download(\"download_0992a383-01d3-4413-8ac3-588b84ef2fa0\", \"DET 48 clusters.png\", 17880)"
            ],
            "text/plain": [
              "<IPython.core.display.Javascript object>"
            ]
          },
          "metadata": {
            "tags": []
          }
        }
      ]
    },
    {
      "cell_type": "code",
      "metadata": {
        "id": "ASPH-IQHck-0",
        "colab_type": "code",
        "colab": {}
      },
      "source": [
        "def plot_confusion_matrix(cm,\n",
        "                          target_names,\n",
        "                          title='Confusion matrix',\n",
        "                          cmap=None,\n",
        "                          normalize=True):\n",
        "    \"\"\"\n",
        "    given a sklearn confusion matrix (cm), make a nice plot\n",
        "\n",
        "    Arguments\n",
        "    ---------\n",
        "    cm:           confusion matrix from sklearn.metrics.confusion_matrix\n",
        "\n",
        "    target_names: given classification classes such as [0, 1, 2]\n",
        "                  the class names, for example: ['high', 'medium', 'low']\n",
        "\n",
        "    title:        the text to display at the top of the matrix\n",
        "\n",
        "    cmap:         the gradient of the values displayed from matplotlib.pyplot.cm\n",
        "                  see http://matplotlib.org/examples/color/colormaps_reference.html\n",
        "                  plt.get_cmap('jet') or plt.cm.Blues\n",
        "\n",
        "    normalize:    If False, plot the raw numbers\n",
        "                  If True, plot the proportions\n",
        "\n",
        "    Usage\n",
        "    -----\n",
        "    plot_confusion_matrix(cm           = cm,                  # confusion matrix created by\n",
        "                                                              # sklearn.metrics.confusion_matrix\n",
        "                          normalize    = True,                # show proportions\n",
        "                          target_names = y_labels_vals,       # list of names of the classes\n",
        "                          title        = best_estimator_name) # title of graph\n",
        "\n",
        "    Citiation\n",
        "    ---------\n",
        "    http://scikit-learn.org/stable/auto_examples/model_selection/plot_confusion_matrix.html\n",
        "\n",
        "    \"\"\"\n",
        "    import matplotlib.pyplot as plt\n",
        "    import numpy as np\n",
        "    import itertools\n",
        "\n",
        "    accuracy = np.trace(cm) / float(np.sum(cm))\n",
        "    misclass = 1 - accuracy\n",
        "\n",
        "    if cmap is None:\n",
        "        cmap = plt.get_cmap('Blues')\n",
        "\n",
        "    plt.figure(figsize=(8, 6))\n",
        "    plt.imshow(cm, interpolation='nearest', cmap=cmap)\n",
        "    plt.title(title)\n",
        "    plt.colorbar()\n",
        "\n",
        "    if target_names is not None:\n",
        "        tick_marks = np.arange(len(target_names))\n",
        "        plt.xticks(tick_marks, target_names, rotation=45)\n",
        "        plt.yticks(tick_marks, target_names)\n",
        "\n",
        "    if normalize:\n",
        "        cm = cm.astype('float') / cm.sum(axis=1)[:, np.newaxis]\n",
        "\n",
        "\n",
        "    thresh = cm.max() / 1.5 if normalize else cm.max() / 2\n",
        "    for i, j in itertools.product(range(cm.shape[0]), range(cm.shape[1])):\n",
        "        if normalize:\n",
        "            plt.text(j, i, \"{:0.4f}\".format(cm[i, j]),\n",
        "                     horizontalalignment=\"center\",\n",
        "                     color=\"white\" if cm[i, j] > thresh else \"black\")\n",
        "        else:\n",
        "            plt.text(j, i, \"{:,}\".format(cm[i, j]),\n",
        "                     horizontalalignment=\"center\",\n",
        "                     color=\"white\" if cm[i, j] > thresh else \"black\")\n",
        "\n",
        "\n",
        "    plt.tight_layout()\n",
        "    plt.ylabel('True label')\n",
        "    plt.xlabel('Predicted label\\naccuracy={:0.4f}; misclass={:0.4f}'.format(accuracy, misclass))\n",
        "    plt.savefig(title)\n",
        "    #plt.show()\n",
        "\n",
        "    return None"
      ],
      "execution_count": null,
      "outputs": []
    },
    {
      "cell_type": "code",
      "metadata": {
        "id": "-zeRx8YUWbnK",
        "colab_type": "code",
        "colab": {}
      },
      "source": [
        "                                    #Plotting confusion matrices\n",
        "truedigit = array([0, 0, 0, 0, 0, 0, 0, 0, 0, 0, 0, 0, 1, 1, 1, 1, 1, 1, 1, 1, 1, 1, 1, 1, 2, 2, 2, 2, 2, 2, 2, 2, 2, 2, 2, 2, 3, 3, 3, 3, 3, 3, 3, 3, 3, 3, 3, 3, 4, 4, 4, 4, 4, 4, 4, 4, 4, 4, 4, 4])\n",
        "preddigit = array([0, 0, 0, 0, 0, 0, 0, 0, 0, 0, 0, 0, 1, 1, 4, 1, 0, 1, 1, 1, 1, 1, 4, 4, 2, 2, 2, 2, 2, 2, 2, 2, 2, 2, 2, 2, 3, 3, 3, 3, 3, 3, 3, 3, 3, 3, 3, 3, 4, 4, 4, 4, 4, 4, 4, 4, 4, 4, 4, 4])\n",
        "cm = confusion_matrix(truedigit, preddigit)\n",
        "print(shape(cm))\n",
        "cm_display = plot_confusion_matrix(cm,target_names=[\"1\",\"2\",\"3\",\"6\",\"7\"],title=\"Confusion matrix 16 clusters\")\n",
        "\n",
        "preddigit = array([0, 0, 0, 0, 0, 0, 0, 0, 0, 0, 0, 0, 1, 1, 2, 1, 0, 1, 1, 1, 1, 1, 1, 1, 2, 2, 2, 2, 2, 2, 2, 2, 2, 2, 2, 2, 3, 3, 3, 3, 3, 3, 3, 3, 3, 3, 3, 3, 4, 4, 4, 4, 4, 1, 4, 4, 4, 4, 4, 4])\n",
        "cm = confusion_matrix(truedigit, preddigit)\n",
        "print(shape(cm))\n",
        "cm_display = plot_confusion_matrix(cm,target_names=[\"1\",\"2\",\"3\",\"6\",\"7\"],title=\"Confusion matrix 18 clusters\")\n",
        "\n",
        "preddigit = array([0, 0, 2, 0, 0, 0, 0, 0, 0, 0, 0, 0, 1, 1, 2, 1, 1, 1, 1, 1, 1, 1, 1, 1, 2, 2, 2, 2, 2, 2, 2, 2, 2, 2, 2, 2, 3, 3, 3, 3, 3, 3, 3, 3, 3, 3, 3, 3, 4, 4, 4, 4, 4, 1, 4, 4, 4, 4, 4, 4])\n",
        "cm = confusion_matrix(truedigit, preddigit)\n",
        "print(shape(cm))\n",
        "cm_display = plot_confusion_matrix(cm,target_names=[\"1\",\"2\",\"3\",\"6\",\"7\"],title=\"Confusion matrix 20 clusters\")\n",
        "\n",
        "preddigit = array([0, 0, 0, 0, 0, 0, 0, 0, 0, 0, 0, 0, 1, 1, 1, 1, 1, 1, 1, 1, 1, 1, 1, 1, 2, 2, 2, 2, 2, 2, 2, 2, 2, 2, 2, 2, 3, 3, 3, 3, 3, 3, 3, 3, 3, 3, 3, 3, 4, 4, 4, 4, 4, 1, 4, 4, 4, 4, 4, 4])\n",
        "cm = confusion_matrix(truedigit, preddigit)\n",
        "print(shape(cm))\n",
        "cm_display = plot_confusion_matrix(cm,target_names=[\"1\",\"2\",\"3\",\"6\",\"7\"],title=\"Confusion matrix 48 clusters\")\n",
        "#cm_display = ConfusionMatrixDisplay(cm,display_labels=[\"1\",\"2\",\"3\",\"6\",\"7\"]).plot()\n",
        "\n"
      ],
      "execution_count": null,
      "outputs": []
    },
    {
      "cell_type": "code",
      "metadata": {
        "id": "2gvmdtAWrLCL",
        "colab_type": "code",
        "colab": {
          "base_uri": "https://localhost:8080/",
          "height": 295
        },
        "outputId": "0feaf6a0-76e0-41ca-f8f0-b1be37aa254d"
      },
      "source": [
        "                                    #Accuracy plot variation over cluster no.\n",
        "Ncluster = array([16,18,20,48])\n",
        "clustacc = array([93.33,95,95,98.33])\n",
        "clustgen = array([75,81,88,93])\n",
        "\n",
        "plt.plot(Ncluster,clustacc,marker=\"o\",label=\"given mfcc features\")\n",
        "plt.plot(Ncluster,clustgen,marker=\"o\",label=\"generated cepstra\")\n",
        "plt.grid()\n",
        "plt.legend()\n",
        "plt.xlabel(\"No. of clusters\")\n",
        "plt.ylabel(\"Accuracy in %\")\n",
        "plt.title(\"No. of clusters vs Accuracy\")\n",
        "#plt.show()\n",
        "plt.savefig(\"clusters vs accuracy\")"
      ],
      "execution_count": 10,
      "outputs": [
        {
          "output_type": "display_data",
          "data": {
            "image/png": "[encoded data removed]",
            "text/plain": [
              "<Figure size 432x288 with 1 Axes>"
            ]
          },
          "metadata": {
            "tags": [],
            "needs_background": "light"
          }
        }
      ]
    },
    {
      "cell_type": "code",
      "metadata": {
        "id": "spV6VLnBniNV",
        "colab_type": "code",
        "colab": {
          "base_uri": "https://localhost:8080/",
          "height": 17
        },
        "outputId": "b7a19e59-fdd3-4c12-8503-ecb88a469da7"
      },
      "source": [
        "# files.download(\"Confusion matrix 16 clusters.png\")\n",
        "# files.download(\"Confusion matrix 18 clusters.png\")\n",
        "# files.download(\"Confusion matrix 20 clusters.png\")\n",
        "# files.download(\"Confusion matrix 48 clusters.png\")\n",
        "files.download(\"clusters vs accuracy.png\")"
      ],
      "execution_count": 11,
      "outputs": [
        {
          "output_type": "display_data",
          "data": {
            "application/javascript": [
              "\n",
              "    async function download(id, filename, size) {\n",
              "      if (!google.colab.kernel.accessAllowed) {\n",
              "        return;\n",
              "      }\n",
              "      const div = document.createElement('div');\n",
              "      const label = document.createElement('label');\n",
              "      label.textContent = `Downloading \"${filename}\": `;\n",
              "      div.appendChild(label);\n",
              "      const progress = document.createElement('progress');\n",
              "      progress.max = size;\n",
              "      div.appendChild(progress);\n",
              "      document.body.appendChild(div);\n",
              "\n",
              "      const buffers = [];\n",
              "      let downloaded = 0;\n",
              "\n",
              "      const channel = await google.colab.kernel.comms.open(id);\n",
              "      // Send a message to notify the kernel that we're ready.\n",
              "      channel.send({})\n",
              "\n",
              "      for await (const message of channel.messages) {\n",
              "        // Send a message to notify the kernel that we're ready.\n",
              "        channel.send({})\n",
              "        if (message.buffers) {\n",
              "          for (const buffer of message.buffers) {\n",
              "            buffers.push(buffer);\n",
              "            downloaded += buffer.byteLength;\n",
              "            progress.value = downloaded;\n",
              "          }\n",
              "        }\n",
              "      }\n",
              "      const blob = new Blob(buffers, {type: 'application/binary'});\n",
              "      const a = document.createElement('a');\n",
              "      a.href = window.URL.createObjectURL(blob);\n",
              "      a.download = filename;\n",
              "      div.appendChild(a);\n",
              "      a.click();\n",
              "      div.remove();\n",
              "    }\n",
              "  "
            ],
            "text/plain": [
              "<IPython.core.display.Javascript object>"
            ]
          },
          "metadata": {
            "tags": []
          }
        },
        {
          "output_type": "display_data",
          "data": {
            "application/javascript": [
              "download(\"download_ab912718-7da7-455f-9ea6-ee610fe5409e\", \"clusters vs accuracy.png\", 18170)"
            ],
            "text/plain": [
              "<IPython.core.display.Javascript object>"
            ]
          },
          "metadata": {
            "tags": []
          }
        }
      ]
    },
    {
      "cell_type": "markdown",
      "metadata": {
        "id": "-9AbpSrA42fv",
        "colab_type": "text"
      },
      "source": [
        "**Continuous HMMs**"
      ]
    },
    {
      "cell_type": "code",
      "metadata": {
        "id": "YgExPS1rQuQG",
        "colab_type": "code",
        "colab": {
          "base_uri": "https://localhost:8080/",
          "height": 187
        },
        "outputId": "f8423294-4d3b-468f-edd1-039fc1af0b62"
      },
      "source": [
        "\n",
        "!cp -avr /content/gdrive/My\\ Drive/one.seq.hmm /root\n",
        "!cp -avr /content/gdrive/My\\ Drive/two.seq.hmm /root\n",
        "!cp -avr /content/gdrive/My\\ Drive/three.seq.hmm /root\n",
        "!cp -avr /content/gdrive/My\\ Drive/six.seq.hmm /root\n",
        "!cp -avr /content/gdrive/My\\ Drive/seven.seq.hmm /root\n",
        "#!cp -avr /content/gdrive/My\\ Drive/12.hmm /root\n",
        "!ls"
      ],
      "execution_count": null,
      "outputs": [
        {
          "output_type": "stream",
          "text": [
            "'/content/gdrive/My Drive/one.seq.hmm' -> '/root/one.seq.hmm'\n",
            "'/content/gdrive/My Drive/two.seq.hmm' -> '/root/two.seq.hmm'\n",
            "'/content/gdrive/My Drive/three.seq.hmm' -> '/root/three.seq.hmm'\n",
            "'/content/gdrive/My Drive/six.seq.hmm' -> '/root/six.seq.hmm'\n",
            "'/content/gdrive/My Drive/seven.seq.hmm' -> '/root/seven.seq.hmm'\n",
            "1  cenKM.pkl\t  DHMM.test  fp7.txt\t    six.seq\t   two.seq.hmm\n",
            "2  ctsHMM\t  fp1.txt    one.seq\t    six.seq.hmm\n",
            "3  ctsHMM.dev\t  fp2.txt    one.seq.hmm    three.seq\n",
            "6  ctsModels\t  fp3.txt    seven.seq\t    three.seq.hmm\n",
            "7  ctsModels.zip  fp6.txt    seven.seq.hmm  two.seq\n"
          ],
          "name": "stdout"
        }
      ]
    },
    {
      "cell_type": "code",
      "metadata": {
        "id": "pWgvQc9tmzsD",
        "colab_type": "code",
        "colab": {}
      },
      "source": [
        "                                    #Concatanate 2-digit models\n",
        "def filecombine(file1,file2,fileNew,folder=\"ctsModels\",Nstate=\"10\",p=0.85,check=[]) :\n",
        "                                    #Read file1 - on top\n",
        "    data1 = np.genfromtxt(file1,delimiter='\\n',dtype=str)\n",
        "                                    #Change the number of states\n",
        "    headers = np.genfromtxt(data1[:2],delimiter=' ',dtype=str)\n",
        "    headers[0,1] = Nstate\n",
        "    headers = list(headers)\n",
        "    headers.append(\"\\n\")\n",
        "                                    #Read the initial probabilities\n",
        "    probs1 = np.genfromtxt(data1[2:],delimiter='\\t',dtype=str)\n",
        "    #probs1 = probs1[:,:-1]\n",
        "    probs1 = probs1.astype(\"float\")\n",
        "    probs1[-2][0] = 1-p\n",
        "    probs1[-1][0] = p\n",
        "                                    #Read file2 - bottom\n",
        "    data2 = np.genfromtxt(file2,delimiter='\\n',dtype=str)\n",
        "                                    #Read the initial probabilities\n",
        "    probs2 = np.genfromtxt(data2[2:],delimiter='\\t',dtype=str)\n",
        "    #probs2 = probs2[:,:-1]\n",
        "    probs2 = probs2.astype(\"float\")\n",
        "    print(shape(probs1),shape(probs2))\n",
        "                                    #Change the last state transition probabilities\n",
        "    probs = np.concatenate((probs1,probs2))\n",
        "    \n",
        "                                    #Write to file\n",
        "    with open(fileNew,\"w\") as f:\n",
        "        f.write(\"\\n\".join(\" \".join(map(str, line)) for line in headers))\n",
        "\n",
        "    f = open(fileNew,'ab')\n",
        "    np.savetxt(f,probs,delimiter='\\t', fmt='%f')\n",
        "    !mv $fileNew /root/$folder\n",
        "    f.close()\n",
        "\n",
        "    return None"
      ],
      "execution_count": null,
      "outputs": []
    },
    {
      "cell_type": "code",
      "metadata": {
        "id": "CA4ty_j715Cg",
        "colab_type": "code",
        "colab": {}
      },
      "source": [
        "def digit2model(files=None,folder=\"ctsModels\") :\n",
        "    if files is None :\n",
        "        files = [\"one.seq.hmm\",\"two.seq.hmm\",\"three.seq.hmm\",\"six.seq.hmm\",\"seven.seq.hmm\"]\n",
        "    opfiles = array([11,12,13,16,17,21,22,23,26,27,31,32,33,36,37,61,62,63,66,67,71,72,73,76,77])\n",
        "    opfiles = opfiles.astype(\"str\")\n",
        "    for i in range(0,5) :\n",
        "        for j in range(0,5) :\n",
        "            filecombine(files[i],files[j],opfiles[int(5*i+j)]+\".hmm\")\n",
        "\n",
        "    return None"
      ],
      "execution_count": null,
      "outputs": []
    },
    {
      "cell_type": "code",
      "metadata": {
        "id": "tbtS8qTq5RmE",
        "colab_type": "code",
        "colab": {
          "base_uri": "https://localhost:8080/",
          "height": 442
        },
        "outputId": "77b51e1d-1161-40ba-ade2-52f0c64b8ce0"
      },
      "source": [
        "!mkdir ctsModels\n",
        "digit2model()\n",
        "# model2digit = array([11,12,13,16,17,21,22,23,26,27,31,32,33,36,37,61,62,63,66,67,71,72,73,76,77])\n",
        "# model2digit = model2digit.astype(\"str\")\n",
        "# for i in range(20,25) :\n",
        "#     files.download(model2digit[i]+\".hmm\")"
      ],
      "execution_count": null,
      "outputs": [
        {
          "output_type": "stream",
          "text": [
            "(10, 49) (10, 49)\n",
            "(10, 49) (10, 49)\n",
            "(10, 49) (10, 49)\n",
            "(10, 49) (10, 49)\n",
            "(10, 49) (10, 49)\n",
            "(10, 49) (10, 49)\n",
            "(10, 49) (10, 49)\n",
            "(10, 49) (10, 49)\n",
            "(10, 49) (10, 49)\n",
            "(10, 49) (10, 49)\n",
            "(10, 49) (10, 49)\n",
            "(10, 49) (10, 49)\n",
            "(10, 49) (10, 49)\n",
            "(10, 49) (10, 49)\n",
            "(10, 49) (10, 49)\n",
            "(10, 49) (10, 49)\n",
            "(10, 49) (10, 49)\n",
            "(10, 49) (10, 49)\n",
            "(10, 49) (10, 49)\n",
            "(10, 49) (10, 49)\n",
            "(10, 49) (10, 49)\n",
            "(10, 49) (10, 49)\n",
            "(10, 49) (10, 49)\n",
            "(10, 49) (10, 49)\n",
            "(10, 49) (10, 49)\n"
          ],
          "name": "stdout"
        }
      ]
    },
    {
      "cell_type": "code",
      "metadata": {
        "id": "caNbszOKWG1e",
        "colab_type": "code",
        "colab": {
          "base_uri": "https://localhost:8080/",
          "height": 459
        },
        "outputId": "adff215e-7293-44f8-ae8c-0aa097630c73"
      },
      "source": [
        "!ls\n",
        "%cd /root/ctsModels/\n",
        "#!cp *.hmm /root\n",
        "!ls\n",
        "%cd"
      ],
      "execution_count": null,
      "outputs": [
        {
          "output_type": "stream",
          "text": [
            "1\t21.hmm\t32.hmm\t63.hmm\t76.hmm\t   fp2.txt\tseven.seq.hmm\n",
            "11.hmm\t22.hmm\t33.hmm\t66.hmm\t77.hmm\t   fp3.txt\tsix.seq\n",
            "12.hmm\t23.hmm\t36.hmm\t67.hmm\tcenKM.pkl  fp6.txt\tsix.seq.hmm\n",
            "13.hmm\t26.hmm\t37.hmm\t7\tctsHMM\t   fp7.txt\tthree.seq\n",
            "16.hmm\t27.hmm\t6\t71.hmm\tctsModels  one.seq\tthree.seq.hmm\n",
            "17.hmm\t3\t61.hmm\t72.hmm\tDHMM.test  one.seq.hmm\ttwo.seq\n",
            "2\t31.hmm\t62.hmm\t73.hmm\tfp1.txt    seven.seq\ttwo.seq.hmm\n",
            "/root/ctsModels\n",
            "111.hmm  13.hmm   217.hmm  266.hmm  323.hmm  372.hmm  631.hmm  67.hmm\t737.hmm\n",
            "112.hmm  161.hmm  21.hmm   267.hmm  326.hmm  373.hmm  632.hmm  711.hmm\t73.hmm\n",
            "113.hmm  162.hmm  221.hmm  26.hmm   327.hmm  376.hmm  633.hmm  712.hmm\t761.hmm\n",
            "116.hmm  163.hmm  222.hmm  271.hmm  32.hmm   377.hmm  636.hmm  713.hmm\t762.hmm\n",
            "117.hmm  166.hmm  223.hmm  272.hmm  331.hmm  37.hmm   637.hmm  716.hmm\t763.hmm\n",
            "11.hmm\t 167.hmm  226.hmm  273.hmm  332.hmm  611.hmm  63.hmm   717.hmm\t766.hmm\n",
            "121.hmm  16.hmm   227.hmm  276.hmm  333.hmm  612.hmm  661.hmm  71.hmm\t767.hmm\n",
            "122.hmm  171.hmm  22.hmm   277.hmm  336.hmm  613.hmm  662.hmm  721.hmm\t76.hmm\n",
            "123.hmm  172.hmm  231.hmm  27.hmm   337.hmm  616.hmm  663.hmm  722.hmm\t771.hmm\n",
            "126.hmm  173.hmm  232.hmm  311.hmm  33.hmm   617.hmm  666.hmm  723.hmm\t772.hmm\n",
            "127.hmm  176.hmm  233.hmm  312.hmm  361.hmm  61.hmm   667.hmm  726.hmm\t773.hmm\n",
            "12.hmm\t 177.hmm  236.hmm  313.hmm  362.hmm  621.hmm  66.hmm   727.hmm\t776.hmm\n",
            "131.hmm  17.hmm   237.hmm  316.hmm  363.hmm  622.hmm  671.hmm  72.hmm\t777.hmm\n",
            "132.hmm  211.hmm  23.hmm   317.hmm  366.hmm  623.hmm  672.hmm  731.hmm\t77.hmm\n",
            "133.hmm  212.hmm  261.hmm  31.hmm   367.hmm  626.hmm  673.hmm  732.hmm\n",
            "136.hmm  213.hmm  262.hmm  321.hmm  36.hmm   627.hmm  676.hmm  733.hmm\n",
            "137.hmm  216.hmm  263.hmm  322.hmm  371.hmm  62.hmm   677.hmm  736.hmm\n",
            "/root\n"
          ],
          "name": "stdout"
        }
      ]
    },
    {
      "cell_type": "code",
      "metadata": {
        "id": "A9JW_Nw-8QeC",
        "colab_type": "code",
        "colab": {}
      },
      "source": [
        "def digit3model(files1=None,files2=None,folder=\"ctsModels\") :\n",
        "    if files1 is None :\n",
        "        files1 = array([11,12,13,16,17,21,22,23,26,27,31,32,33,36,37,61,62,63,66,67,71,72,73,76,77])\n",
        "        files1 = files1.astype(\"str\")\n",
        "    if files2 is None :\n",
        "        files2 = array([1,2,3,6,7])\n",
        "        files2 = files2.astype(\"str\")\n",
        "        files = [\"one.seq.hmm\",\"two.seq.hmm\",\"three.seq.hmm\",\"six.seq.hmm\",\"seven.seq.hmm\"]\n",
        "    opfiles = array([11,12,13,16,17,21,22,23,26,27,31,32,33,36,37,61,62,63,66,67,71,72,73,76,77])\n",
        "    opfiles = opfiles.astype(\"str\")\n",
        "    for i in range(0,25) :\n",
        "        for j in range(0,5) :\n",
        "            filecombine(files1[i]+\".hmm\",files[j],files1[i]+files2[j]+\".hmm\",Nstate=\"15\")\n",
        "\n",
        "    return None"
      ],
      "execution_count": null,
      "outputs": []
    },
    {
      "cell_type": "code",
      "metadata": {
        "id": "dugLujxM-oYs",
        "colab_type": "code",
        "colab": {
          "base_uri": "https://localhost:8080/",
          "height": 1000
        },
        "outputId": "cb20ef1d-2b32-40a2-b3ba-f8df767cd106"
      },
      "source": [
        "digit3model()"
      ],
      "execution_count": null,
      "outputs": [
        {
          "output_type": "stream",
          "text": [
            "(20, 49) (10, 49)\n",
            "(20, 49) (10, 49)\n",
            "(20, 49) (10, 49)\n",
            "(20, 49) (10, 49)\n",
            "(20, 49) (10, 49)\n",
            "(20, 49) (10, 49)\n",
            "(20, 49) (10, 49)\n",
            "(20, 49) (10, 49)\n",
            "(20, 49) (10, 49)\n",
            "(20, 49) (10, 49)\n",
            "(20, 49) (10, 49)\n",
            "(20, 49) (10, 49)\n",
            "(20, 49) (10, 49)\n",
            "(20, 49) (10, 49)\n",
            "(20, 49) (10, 49)\n",
            "(20, 49) (10, 49)\n",
            "(20, 49) (10, 49)\n",
            "(20, 49) (10, 49)\n",
            "(20, 49) (10, 49)\n",
            "(20, 49) (10, 49)\n",
            "(20, 49) (10, 49)\n",
            "(20, 49) (10, 49)\n",
            "(20, 49) (10, 49)\n",
            "(20, 49) (10, 49)\n",
            "(20, 49) (10, 49)\n",
            "(20, 49) (10, 49)\n",
            "(20, 49) (10, 49)\n",
            "(20, 49) (10, 49)\n",
            "(20, 49) (10, 49)\n",
            "(20, 49) (10, 49)\n",
            "(20, 49) (10, 49)\n",
            "(20, 49) (10, 49)\n",
            "(20, 49) (10, 49)\n",
            "(20, 49) (10, 49)\n",
            "(20, 49) (10, 49)\n",
            "(20, 49) (10, 49)\n",
            "(20, 49) (10, 49)\n",
            "(20, 49) (10, 49)\n",
            "(20, 49) (10, 49)\n",
            "(20, 49) (10, 49)\n",
            "(20, 49) (10, 49)\n",
            "(20, 49) (10, 49)\n",
            "(20, 49) (10, 49)\n",
            "(20, 49) (10, 49)\n",
            "(20, 49) (10, 49)\n",
            "(20, 49) (10, 49)\n",
            "(20, 49) (10, 49)\n",
            "(20, 49) (10, 49)\n",
            "(20, 49) (10, 49)\n",
            "(20, 49) (10, 49)\n",
            "(20, 49) (10, 49)\n",
            "(20, 49) (10, 49)\n",
            "(20, 49) (10, 49)\n",
            "(20, 49) (10, 49)\n",
            "(20, 49) (10, 49)\n",
            "(20, 49) (10, 49)\n",
            "(20, 49) (10, 49)\n",
            "(20, 49) (10, 49)\n",
            "(20, 49) (10, 49)\n",
            "(20, 49) (10, 49)\n",
            "(20, 49) (10, 49)\n",
            "(20, 49) (10, 49)\n",
            "(20, 49) (10, 49)\n",
            "(20, 49) (10, 49)\n",
            "(20, 49) (10, 49)\n",
            "(20, 49) (10, 49)\n",
            "(20, 49) (10, 49)\n",
            "(20, 49) (10, 49)\n",
            "(20, 49) (10, 49)\n",
            "(20, 49) (10, 49)\n",
            "(20, 49) (10, 49)\n",
            "(20, 49) (10, 49)\n",
            "(20, 49) (10, 49)\n",
            "(20, 49) (10, 49)\n",
            "(20, 49) (10, 49)\n",
            "(20, 49) (10, 49)\n",
            "(20, 49) (10, 49)\n",
            "(20, 49) (10, 49)\n",
            "(20, 49) (10, 49)\n",
            "(20, 49) (10, 49)\n",
            "(20, 49) (10, 49)\n",
            "(20, 49) (10, 49)\n",
            "(20, 49) (10, 49)\n",
            "(20, 49) (10, 49)\n",
            "(20, 49) (10, 49)\n",
            "(20, 49) (10, 49)\n",
            "(20, 49) (10, 49)\n",
            "(20, 49) (10, 49)\n",
            "(20, 49) (10, 49)\n",
            "(20, 49) (10, 49)\n",
            "(20, 49) (10, 49)\n",
            "(20, 49) (10, 49)\n",
            "(20, 49) (10, 49)\n",
            "(20, 49) (10, 49)\n",
            "(20, 49) (10, 49)\n",
            "(20, 49) (10, 49)\n",
            "(20, 49) (10, 49)\n",
            "(20, 49) (10, 49)\n",
            "(20, 49) (10, 49)\n",
            "(20, 49) (10, 49)\n",
            "(20, 49) (10, 49)\n",
            "(20, 49) (10, 49)\n",
            "(20, 49) (10, 49)\n",
            "(20, 49) (10, 49)\n",
            "(20, 49) (10, 49)\n",
            "(20, 49) (10, 49)\n",
            "(20, 49) (10, 49)\n",
            "(20, 49) (10, 49)\n",
            "(20, 49) (10, 49)\n",
            "(20, 49) (10, 49)\n",
            "(20, 49) (10, 49)\n",
            "(20, 49) (10, 49)\n",
            "(20, 49) (10, 49)\n",
            "(20, 49) (10, 49)\n",
            "(20, 49) (10, 49)\n",
            "(20, 49) (10, 49)\n",
            "(20, 49) (10, 49)\n",
            "(20, 49) (10, 49)\n",
            "(20, 49) (10, 49)\n",
            "(20, 49) (10, 49)\n",
            "(20, 49) (10, 49)\n",
            "(20, 49) (10, 49)\n",
            "(20, 49) (10, 49)\n",
            "(20, 49) (10, 49)\n",
            "(20, 49) (10, 49)\n"
          ],
          "name": "stdout"
        }
      ]
    },
    {
      "cell_type": "code",
      "metadata": {
        "id": "-vFFoWF3_-lT",
        "colab_type": "code",
        "colab": {
          "base_uri": "https://localhost:8080/",
          "height": 1000
        },
        "outputId": "ab9e3aa7-4ded-415f-b4ec-71ab81547d34"
      },
      "source": [
        "!zip -r /root/ctsModels.zip /root/ctsModels\n",
        "\n",
        "files.download(\"/root/ctsModels.zip\")"
      ],
      "execution_count": null,
      "outputs": [
        {
          "output_type": "stream",
          "text": [
            "  adding: root/ctsModels/ (stored 0%)\n",
            "  adding: root/ctsModels/613.hmm (deflated 85%)\n",
            "  adding: root/ctsModels/12.hmm (deflated 86%)\n",
            "  adding: root/ctsModels/137.hmm (deflated 86%)\n",
            "  adding: root/ctsModels/662.hmm (deflated 89%)\n",
            "  adding: root/ctsModels/766.hmm (deflated 89%)\n",
            "  adding: root/ctsModels/162.hmm (deflated 86%)\n",
            "  adding: root/ctsModels/313.hmm (deflated 89%)\n",
            "  adding: root/ctsModels/61.hmm (deflated 85%)\n",
            "  adding: root/ctsModels/672.hmm (deflated 86%)\n",
            "  adding: root/ctsModels/716.hmm (deflated 86%)\n",
            "  adding: root/ctsModels/767.hmm (deflated 89%)\n",
            "  adding: root/ctsModels/76.hmm (deflated 85%)\n",
            "  adding: root/ctsModels/627.hmm (deflated 86%)\n",
            "  adding: root/ctsModels/176.hmm (deflated 86%)\n",
            "  adding: root/ctsModels/316.hmm (deflated 85%)\n",
            "  adding: root/ctsModels/317.hmm (deflated 86%)\n",
            "  adding: root/ctsModels/617.hmm (deflated 86%)\n",
            "  adding: root/ctsModels/621.hmm (deflated 86%)\n",
            "  adding: root/ctsModels/731.hmm (deflated 86%)\n",
            "  adding: root/ctsModels/362.hmm (deflated 85%)\n",
            "  adding: root/ctsModels/622.hmm (deflated 89%)\n",
            "  adding: root/ctsModels/712.hmm (deflated 86%)\n",
            "  adding: root/ctsModels/71.hmm (deflated 86%)\n",
            "  adding: root/ctsModels/113.hmm (deflated 89%)\n",
            "  adding: root/ctsModels/722.hmm (deflated 90%)\n",
            "  adding: root/ctsModels/131.hmm (deflated 89%)\n",
            "  adding: root/ctsModels/37.hmm (deflated 84%)\n",
            "  adding: root/ctsModels/323.hmm (deflated 89%)\n",
            "  adding: root/ctsModels/132.hmm (deflated 85%)\n",
            "  adding: root/ctsModels/623.hmm (deflated 85%)\n",
            "  adding: root/ctsModels/27.hmm (deflated 85%)\n",
            "  adding: root/ctsModels/277.hmm (deflated 90%)\n",
            "  adding: root/ctsModels/777.hmm (deflated 93%)\n",
            "  adding: root/ctsModels/733.hmm (deflated 89%)\n",
            "  adding: root/ctsModels/213.hmm (deflated 85%)\n",
            "  adding: root/ctsModels/22.hmm (deflated 91%)\n",
            "  adding: root/ctsModels/223.hmm (deflated 89%)\n",
            "  adding: root/ctsModels/136.hmm (deflated 85%)\n",
            "  adding: root/ctsModels/163.hmm (deflated 85%)\n",
            "  adding: root/ctsModels/221.hmm (deflated 90%)\n",
            "  adding: root/ctsModels/171.hmm (deflated 90%)\n",
            "  adding: root/ctsModels/673.hmm (deflated 85%)\n",
            "  adding: root/ctsModels/676.hmm (deflated 89%)\n",
            "  adding: root/ctsModels/216.hmm (deflated 86%)\n",
            "  adding: root/ctsModels/727.hmm (deflated 90%)\n",
            "  adding: root/ctsModels/671.hmm (deflated 86%)\n",
            "  adding: root/ctsModels/112.hmm (deflated 90%)\n",
            "  adding: root/ctsModels/66.hmm (deflated 90%)\n",
            "  adding: root/ctsModels/373.hmm (deflated 89%)\n",
            "  adding: root/ctsModels/217.hmm (deflated 86%)\n",
            "  adding: root/ctsModels/632.hmm (deflated 85%)\n",
            "  adding: root/ctsModels/711.hmm (deflated 90%)\n",
            "  adding: root/ctsModels/311.hmm (deflated 89%)\n",
            "  adding: root/ctsModels/127.hmm (deflated 86%)\n",
            "  adding: root/ctsModels/227.hmm (deflated 90%)\n",
            "  adding: root/ctsModels/117.hmm (deflated 90%)\n",
            "  adding: root/ctsModels/616.hmm (deflated 89%)\n",
            "  adding: root/ctsModels/366.hmm (deflated 89%)\n",
            "  adding: root/ctsModels/326.hmm (deflated 85%)\n",
            "  adding: root/ctsModels/122.hmm (deflated 90%)\n",
            "  adding: root/ctsModels/363.hmm (deflated 88%)\n",
            "  adding: root/ctsModels/173.hmm (deflated 86%)\n",
            "  adding: root/ctsModels/36.hmm (deflated 84%)\n",
            "  adding: root/ctsModels/663.hmm (deflated 89%)\n",
            "  adding: root/ctsModels/723.hmm (deflated 85%)\n",
            "  adding: root/ctsModels/667.hmm (deflated 89%)\n",
            "  adding: root/ctsModels/773.hmm (deflated 89%)\n",
            "  adding: root/ctsModels/271.hmm (deflated 86%)\n",
            "  adding: root/ctsModels/327.hmm (deflated 85%)\n",
            "  adding: root/ctsModels/236.hmm (deflated 85%)\n",
            "  adding: root/ctsModels/222.hmm (deflated 93%)\n",
            "  adding: root/ctsModels/762.hmm (deflated 86%)\n",
            "  adding: root/ctsModels/732.hmm (deflated 85%)\n",
            "  adding: root/ctsModels/161.hmm (deflated 89%)\n",
            "  adding: root/ctsModels/121.hmm (deflated 90%)\n",
            "  adding: root/ctsModels/72.hmm (deflated 85%)\n",
            "  adding: root/ctsModels/62.hmm (deflated 85%)\n",
            "  adding: root/ctsModels/776.hmm (deflated 89%)\n",
            "  adding: root/ctsModels/637.hmm (deflated 85%)\n",
            "  adding: root/ctsModels/336.hmm (deflated 89%)\n",
            "  adding: root/ctsModels/266.hmm (deflated 89%)\n",
            "  adding: root/ctsModels/626.hmm (deflated 89%)\n",
            "  adding: root/ctsModels/17.hmm (deflated 86%)\n",
            "  adding: root/ctsModels/133.hmm (deflated 89%)\n",
            "  adding: root/ctsModels/763.hmm (deflated 85%)\n",
            "  adding: root/ctsModels/212.hmm (deflated 90%)\n",
            "  adding: root/ctsModels/633.hmm (deflated 89%)\n",
            "  adding: root/ctsModels/721.hmm (deflated 86%)\n",
            "  adding: root/ctsModels/377.hmm (deflated 89%)\n",
            "  adding: root/ctsModels/267.hmm (deflated 86%)\n",
            "  adding: root/ctsModels/77.hmm (deflated 91%)\n",
            "  adding: root/ctsModels/677.hmm (deflated 89%)\n",
            "  adding: root/ctsModels/126.hmm (deflated 86%)\n",
            "  adding: root/ctsModels/321.hmm (deflated 85%)\n",
            "  adding: root/ctsModels/33.hmm (deflated 90%)\n",
            "  adding: root/ctsModels/261.hmm (deflated 86%)\n",
            "  adding: root/ctsModels/111.hmm (deflated 93%)\n",
            "  adding: root/ctsModels/276.hmm (deflated 86%)\n",
            "  adding: root/ctsModels/13.hmm (deflated 84%)\n",
            "  adding: root/ctsModels/636.hmm (deflated 88%)\n",
            "  adding: root/ctsModels/771.hmm (deflated 90%)\n",
            "  adding: root/ctsModels/167.hmm (deflated 86%)\n",
            "  adding: root/ctsModels/713.hmm (deflated 85%)\n",
            "  adding: root/ctsModels/116.hmm (deflated 89%)\n",
            "  adding: root/ctsModels/666.hmm (deflated 93%)\n",
            "  adding: root/ctsModels/332.hmm (deflated 89%)\n",
            "  adding: root/ctsModels/661.hmm (deflated 90%)\n",
            "  adding: root/ctsModels/226.hmm (deflated 89%)\n",
            "  adding: root/ctsModels/322.hmm (deflated 89%)\n",
            "  adding: root/ctsModels/67.hmm (deflated 85%)\n",
            "  adding: root/ctsModels/262.hmm (deflated 89%)\n",
            "  adding: root/ctsModels/312.hmm (deflated 85%)\n",
            "  adding: root/ctsModels/23.hmm (deflated 84%)\n",
            "  adding: root/ctsModels/237.hmm (deflated 85%)\n",
            "  adding: root/ctsModels/333.hmm (deflated 93%)\n",
            "  adding: root/ctsModels/611.hmm (deflated 89%)\n",
            "  adding: root/ctsModels/337.hmm (deflated 89%)\n",
            "  adding: root/ctsModels/63.hmm (deflated 84%)\n",
            "  adding: root/ctsModels/761.hmm (deflated 86%)\n",
            "  adding: root/ctsModels/31.hmm (deflated 84%)\n",
            "  adding: root/ctsModels/273.hmm (deflated 85%)\n",
            "  adding: root/ctsModels/166.hmm (deflated 89%)\n",
            "  adding: root/ctsModels/376.hmm (deflated 85%)\n",
            "  adding: root/ctsModels/717.hmm (deflated 90%)\n",
            "  adding: root/ctsModels/737.hmm (deflated 89%)\n",
            "  adding: root/ctsModels/331.hmm (deflated 89%)\n",
            "  adding: root/ctsModels/232.hmm (deflated 89%)\n",
            "  adding: root/ctsModels/263.hmm (deflated 85%)\n",
            "  adding: root/ctsModels/172.hmm (deflated 86%)\n",
            "  adding: root/ctsModels/233.hmm (deflated 89%)\n",
            "  adding: root/ctsModels/73.hmm (deflated 84%)\n",
            "  adding: root/ctsModels/26.hmm (deflated 85%)\n",
            "  adding: root/ctsModels/726.hmm (deflated 86%)\n",
            "  adding: root/ctsModels/11.hmm (deflated 91%)\n",
            "  adding: root/ctsModels/361.hmm (deflated 85%)\n",
            "  adding: root/ctsModels/21.hmm (deflated 85%)\n",
            "  adding: root/ctsModels/16.hmm (deflated 85%)\n",
            "  adding: root/ctsModels/367.hmm (deflated 85%)\n",
            "  adding: root/ctsModels/32.hmm (deflated 84%)\n",
            "  adding: root/ctsModels/612.hmm (deflated 86%)\n",
            "  adding: root/ctsModels/631.hmm (deflated 85%)\n",
            "  adding: root/ctsModels/372.hmm (deflated 85%)\n",
            "  adding: root/ctsModels/123.hmm (deflated 85%)\n",
            "  adding: root/ctsModels/177.hmm (deflated 90%)\n",
            "  adding: root/ctsModels/772.hmm (deflated 90%)\n",
            "  adding: root/ctsModels/231.hmm (deflated 85%)\n",
            "  adding: root/ctsModels/371.hmm (deflated 86%)\n",
            "  adding: root/ctsModels/272.hmm (deflated 90%)\n",
            "  adding: root/ctsModels/736.hmm (deflated 85%)\n",
            "  adding: root/ctsModels/211.hmm (deflated 90%)\n"
          ],
          "name": "stdout"
        },
        {
          "output_type": "display_data",
          "data": {
            "application/javascript": [
              "\n",
              "    async function download(id, filename, size) {\n",
              "      if (!google.colab.kernel.accessAllowed) {\n",
              "        return;\n",
              "      }\n",
              "      const div = document.createElement('div');\n",
              "      const label = document.createElement('label');\n",
              "      label.textContent = `Downloading \"${filename}\": `;\n",
              "      div.appendChild(label);\n",
              "      const progress = document.createElement('progress');\n",
              "      progress.max = size;\n",
              "      div.appendChild(progress);\n",
              "      document.body.appendChild(div);\n",
              "\n",
              "      const buffers = [];\n",
              "      let downloaded = 0;\n",
              "\n",
              "      const channel = await google.colab.kernel.comms.open(id);\n",
              "      // Send a message to notify the kernel that we're ready.\n",
              "      channel.send({})\n",
              "\n",
              "      for await (const message of channel.messages) {\n",
              "        // Send a message to notify the kernel that we're ready.\n",
              "        channel.send({})\n",
              "        if (message.buffers) {\n",
              "          for (const buffer of message.buffers) {\n",
              "            buffers.push(buffer);\n",
              "            downloaded += buffer.byteLength;\n",
              "            progress.value = downloaded;\n",
              "          }\n",
              "        }\n",
              "      }\n",
              "      const blob = new Blob(buffers, {type: 'application/binary'});\n",
              "      const a = document.createElement('a');\n",
              "      a.href = window.URL.createObjectURL(blob);\n",
              "      a.download = filename;\n",
              "      div.appendChild(a);\n",
              "      a.click();\n",
              "      div.remove();\n",
              "    }\n",
              "  "
            ],
            "text/plain": [
              "<IPython.core.display.Javascript object>"
            ]
          },
          "metadata": {
            "tags": []
          }
        },
        {
          "output_type": "display_data",
          "data": {
            "application/javascript": [
              "download(\"download_a588a578-4cf8-4774-a3e3-50088ad3ce4a\", \"ctsModels.zip\", 262063)"
            ],
            "text/plain": [
              "<IPython.core.display.Javascript object>"
            ]
          },
          "metadata": {
            "tags": []
          }
        }
      ]
    },
    {
      "cell_type": "code",
      "metadata": {
        "id": "iQONcYKHs-YH",
        "colab_type": "code",
        "colab": {}
      },
      "source": [
        "                                    #Give the file with sequences for cts. dev data\n",
        "def ctsdevSeq(trainKM,fileWord=\"check.txt\") :\n",
        "    seq = []   \n",
        "                                    #Go through required folders\n",
        "    for subdir, dirs, files in os.walk(\"ctsHMM\"):\n",
        "        print(subdir)\n",
        "        dirname = subdir.split(os.path.sep)[-1]\n",
        "        print('Directory:', dirname)\n",
        "        if dirname == \"dev\":\n",
        "            for f in files:\n",
        "                if f.endswith(\".mfcc\"):\n",
        "                                    #Copy file (mfcc) to root and perform K-means\n",
        "                    !cp -avr /root/ctsHMM/dev/$f /root\n",
        "                    label = testKmeans(f,trainKM)\n",
        "                    seq.append(label)\n",
        "                    !rm $f\n",
        "\n",
        "    seq = array(seq)\n",
        "    \n",
        "    seqDwnld(seq,fileWord)\n",
        "\n",
        "    return None"
      ],
      "execution_count": null,
      "outputs": []
    },
    {
      "cell_type": "code",
      "metadata": {
        "id": "uabPqWtJrk4t",
        "colab_type": "code",
        "colab": {
          "base_uri": "https://localhost:8080/",
          "height": 612
        },
        "outputId": "fc0f56fc-9de8-4304-fe14-71e5c184344b"
      },
      "source": [
        "                                    #Get the test sequence\n",
        "ctsdevSeq(cenKM,\"ctsHMM.dev\")"
      ],
      "execution_count": null,
      "outputs": [
        {
          "output_type": "stream",
          "text": [
            "ctsHMM\n",
            "Directory: ctsHMM\n",
            "ctsHMM/test\n",
            "Directory: test\n",
            "ctsHMM/dev\n",
            "Directory: dev\n",
            "'/root/ctsHMM/dev/262.mfcc' -> '/root/262.mfcc'\n",
            "'/root/ctsHMM/dev/662.mfcc' -> '/root/662.mfcc'\n",
            "'/root/ctsHMM/dev/66.mfcc' -> '/root/66.mfcc'\n",
            "'/root/ctsHMM/dev/711.mfcc' -> '/root/711.mfcc'\n",
            "'/root/ctsHMM/dev/12.mfcc' -> '/root/12.mfcc'\n",
            "'/root/ctsHMM/dev/233.mfcc' -> '/root/233.mfcc'\n",
            "'/root/ctsHMM/dev/217.mfcc' -> '/root/217.mfcc'\n",
            "'/root/ctsHMM/dev/121.mfcc' -> '/root/121.mfcc'\n",
            "'/root/ctsHMM/dev/622.mfcc' -> '/root/622.mfcc'\n",
            "'/root/ctsHMM/dev/61.mfcc' -> '/root/61.mfcc'\n",
            "'/root/ctsHMM/dev/11.mfcc' -> '/root/11.mfcc'\n",
            "'/root/ctsHMM/dev/13.mfcc' -> '/root/13.mfcc'\n",
            "'/root/ctsHMM/dev/122.mfcc' -> '/root/122.mfcc'\n",
            "'/root/ctsHMM/dev/22.mfcc' -> '/root/22.mfcc'\n",
            "'/root/ctsHMM/dev/111.mfcc' -> '/root/111.mfcc'\n",
            "'/root/ctsHMM/dev/77.mfcc' -> '/root/77.mfcc'\n",
            "'/root/ctsHMM/dev/277.mfcc' -> '/root/277.mfcc'\n",
            "'/root/ctsHMM/dev/212.mfcc' -> '/root/212.mfcc'\n",
            "'/root/ctsHMM/dev/16.mfcc' -> '/root/16.mfcc'\n",
            "'/root/ctsHMM/dev/331.mfcc' -> '/root/331.mfcc'\n",
            "'/root/ctsHMM/dev/311.mfcc' -> '/root/311.mfcc'\n",
            "'/root/ctsHMM/dev/116.mfcc' -> '/root/116.mfcc'\n",
            "'/root/ctsHMM/dev/31.mfcc' -> '/root/31.mfcc'\n",
            "'/root/ctsHMM/dev/21.mfcc' -> '/root/21.mfcc'\n",
            "'/root/ctsHMM/dev/23.mfcc' -> '/root/23.mfcc'\n",
            "'/root/ctsHMM/dev/172.mfcc' -> '/root/172.mfcc'\n",
            "'/root/ctsHMM/dev/322.mfcc' -> '/root/322.mfcc'\n",
            "'/root/ctsHMM/dev/132.mfcc' -> '/root/132.mfcc'\n",
            "'/root/ctsHMM/dev/71.mfcc' -> '/root/71.mfcc'\n"
          ],
          "name": "stdout"
        }
      ]
    },
    {
      "cell_type": "code",
      "metadata": {
        "id": "U2gSo0ISrXOz",
        "colab_type": "code",
        "colab": {
          "base_uri": "https://localhost:8080/",
          "height": 17
        },
        "outputId": "7c3f021c-2cad-4f57-ac4c-1fdd2fdeb5b2"
      },
      "source": [
        "                                    #Download the test sequence files\n",
        "files.download(\"ctsHMM.dev\")"
      ],
      "execution_count": null,
      "outputs": [
        {
          "output_type": "display_data",
          "data": {
            "application/javascript": [
              "\n",
              "    async function download(id, filename, size) {\n",
              "      if (!google.colab.kernel.accessAllowed) {\n",
              "        return;\n",
              "      }\n",
              "      const div = document.createElement('div');\n",
              "      const label = document.createElement('label');\n",
              "      label.textContent = `Downloading \"${filename}\": `;\n",
              "      div.appendChild(label);\n",
              "      const progress = document.createElement('progress');\n",
              "      progress.max = size;\n",
              "      div.appendChild(progress);\n",
              "      document.body.appendChild(div);\n",
              "\n",
              "      const buffers = [];\n",
              "      let downloaded = 0;\n",
              "\n",
              "      const channel = await google.colab.kernel.comms.open(id);\n",
              "      // Send a message to notify the kernel that we're ready.\n",
              "      channel.send({})\n",
              "\n",
              "      for await (const message of channel.messages) {\n",
              "        // Send a message to notify the kernel that we're ready.\n",
              "        channel.send({})\n",
              "        if (message.buffers) {\n",
              "          for (const buffer of message.buffers) {\n",
              "            buffers.push(buffer);\n",
              "            downloaded += buffer.byteLength;\n",
              "            progress.value = downloaded;\n",
              "          }\n",
              "        }\n",
              "      }\n",
              "      const blob = new Blob(buffers, {type: 'application/binary'});\n",
              "      const a = document.createElement('a');\n",
              "      a.href = window.URL.createObjectURL(blob);\n",
              "      a.download = filename;\n",
              "      div.appendChild(a);\n",
              "      a.click();\n",
              "      div.remove();\n",
              "    }\n",
              "  "
            ],
            "text/plain": [
              "<IPython.core.display.Javascript object>"
            ]
          },
          "metadata": {
            "tags": []
          }
        },
        {
          "output_type": "display_data",
          "data": {
            "application/javascript": [
              "download(\"download_abdd1367-b638-4954-8e0f-531bf674cffb\", \"ctsHMM.dev\", 11995)"
            ],
            "text/plain": [
              "<IPython.core.display.Javascript object>"
            ]
          },
          "metadata": {
            "tags": []
          }
        }
      ]
    },
    {
      "cell_type": "code",
      "metadata": {
        "id": "uZ1TPteg4o6P",
        "colab_type": "code",
        "colab": {
          "base_uri": "https://localhost:8080/",
          "height": 295
        },
        "outputId": "80af6332-da63-47b5-dc59-ee498e7c42fa"
      },
      "source": [
        "                                    #Accuracy plot variation over cluster no.\n",
        "topN = array([1,2,3,4])\n",
        "acc = array([27.6,41.4,48.3,51.7])\n",
        "\n",
        "plt.plot(topN,acc,marker=\"o\")\n",
        "plt.grid()\n",
        "plt.xlabel(\"top N possible outputs\")\n",
        "plt.ylabel(\"Accuracy in %\")\n",
        "plt.title(\"top N vs Accuracy\")\n",
        "#plt.show()\n",
        "plt.savefig(\"top N vs accuracy\")"
      ],
      "execution_count": 12,
      "outputs": [
        {
          "output_type": "display_data",
          "data": {
            "image/png": "[encoded data removed]",
            "text/plain": [
              "<Figure size 432x288 with 1 Axes>"
            ]
          },
          "metadata": {
            "tags": [],
            "needs_background": "light"
          }
        }
      ]
    },
    {
      "cell_type": "code",
      "metadata": {
        "id": "n-5BzQC05hTT",
        "colab_type": "code",
        "colab": {
          "base_uri": "https://localhost:8080/",
          "height": 17
        },
        "outputId": "8d86dfb0-17b5-464b-937e-ebc6bf168705"
      },
      "source": [
        "files.download(\"top N vs accuracy.png\")"
      ],
      "execution_count": 13,
      "outputs": [
        {
          "output_type": "display_data",
          "data": {
            "application/javascript": [
              "\n",
              "    async function download(id, filename, size) {\n",
              "      if (!google.colab.kernel.accessAllowed) {\n",
              "        return;\n",
              "      }\n",
              "      const div = document.createElement('div');\n",
              "      const label = document.createElement('label');\n",
              "      label.textContent = `Downloading \"${filename}\": `;\n",
              "      div.appendChild(label);\n",
              "      const progress = document.createElement('progress');\n",
              "      progress.max = size;\n",
              "      div.appendChild(progress);\n",
              "      document.body.appendChild(div);\n",
              "\n",
              "      const buffers = [];\n",
              "      let downloaded = 0;\n",
              "\n",
              "      const channel = await google.colab.kernel.comms.open(id);\n",
              "      // Send a message to notify the kernel that we're ready.\n",
              "      channel.send({})\n",
              "\n",
              "      for await (const message of channel.messages) {\n",
              "        // Send a message to notify the kernel that we're ready.\n",
              "        channel.send({})\n",
              "        if (message.buffers) {\n",
              "          for (const buffer of message.buffers) {\n",
              "            buffers.push(buffer);\n",
              "            downloaded += buffer.byteLength;\n",
              "            progress.value = downloaded;\n",
              "          }\n",
              "        }\n",
              "      }\n",
              "      const blob = new Blob(buffers, {type: 'application/binary'});\n",
              "      const a = document.createElement('a');\n",
              "      a.href = window.URL.createObjectURL(blob);\n",
              "      a.download = filename;\n",
              "      div.appendChild(a);\n",
              "      a.click();\n",
              "      div.remove();\n",
              "    }\n",
              "  "
            ],
            "text/plain": [
              "<IPython.core.display.Javascript object>"
            ]
          },
          "metadata": {
            "tags": []
          }
        },
        {
          "output_type": "display_data",
          "data": {
            "application/javascript": [
              "download(\"download_5b4c84a0-0b50-46bf-9b84-d074f150024c\", \"top N vs accuracy.png\", 14830)"
            ],
            "text/plain": [
              "<IPython.core.display.Javascript object>"
            ]
          },
          "metadata": {
            "tags": []
          }
        }
      ]
    },
    {
      "cell_type": "code",
      "metadata": {
        "id": "Oe33UO1OvEpB",
        "colab_type": "code",
        "colab": {}
      },
      "source": [
        "                                    #Give the file with sequences for cts. dev data\n",
        "def ctstestSeq(trainKM,fileWord=\"check.txt\") :\n",
        "    seq = []   \n",
        "                                    #Go through required folders\n",
        "    for subdir, dirs, files in os.walk(\"ctsHMM\"):\n",
        "        print(subdir)\n",
        "        dirname = subdir.split(os.path.sep)[-1]\n",
        "        print('Directory:', dirname)\n",
        "        if dirname == \"test\":\n",
        "            for f in files:\n",
        "                if f.endswith(\".mfcc\"):\n",
        "                                    #Copy file (mfcc) to root and perform K-means\n",
        "                    !cp -avr /root/ctsHMM/test/$f /root\n",
        "                    label = testKmeans(f,trainKM)\n",
        "                    seq.append(label)\n",
        "                    !rm $f\n",
        "\n",
        "    seq = array(seq)\n",
        "    \n",
        "    seqDwnld(seq,fileWord)\n",
        "\n",
        "    return None"
      ],
      "execution_count": null,
      "outputs": []
    },
    {
      "cell_type": "code",
      "metadata": {
        "id": "KO3n1ARZvMuq",
        "colab_type": "code",
        "colab": {
          "base_uri": "https://localhost:8080/",
          "height": 204
        },
        "outputId": "928e06ae-def7-418e-b5aa-1670b89806fd"
      },
      "source": [
        "                                    #Get the test sequence\n",
        "ctstestSeq(cenKM,\"ctsHMM.test\")"
      ],
      "execution_count": null,
      "outputs": [
        {
          "output_type": "stream",
          "text": [
            "ctsHMM\n",
            "Directory: ctsHMM\n",
            "ctsHMM/test\n",
            "Directory: test\n",
            "'/root/ctsHMM/test/3.mfcc' -> '/root/3.mfcc'\n",
            "'/root/ctsHMM/test/1.mfcc' -> '/root/1.mfcc'\n",
            "'/root/ctsHMM/test/4.mfcc' -> '/root/4.mfcc'\n",
            "'/root/ctsHMM/test/2.mfcc' -> '/root/2.mfcc'\n",
            "'/root/ctsHMM/test/5.mfcc' -> '/root/5.mfcc'\n",
            "ctsHMM/dev\n",
            "Directory: dev\n"
          ],
          "name": "stdout"
        }
      ]
    },
    {
      "cell_type": "code",
      "metadata": {
        "id": "BYmluL1evOga",
        "colab_type": "code",
        "colab": {
          "base_uri": "https://localhost:8080/",
          "height": 17
        },
        "outputId": "7f0a2455-9ab7-44ab-9e3e-6c1535015f9a"
      },
      "source": [
        "                                    #Download the test sequence files\n",
        "files.download(\"ctsHMM.test\")"
      ],
      "execution_count": null,
      "outputs": [
        {
          "output_type": "display_data",
          "data": {
            "application/javascript": [
              "\n",
              "    async function download(id, filename, size) {\n",
              "      if (!google.colab.kernel.accessAllowed) {\n",
              "        return;\n",
              "      }\n",
              "      const div = document.createElement('div');\n",
              "      const label = document.createElement('label');\n",
              "      label.textContent = `Downloading \"${filename}\": `;\n",
              "      div.appendChild(label);\n",
              "      const progress = document.createElement('progress');\n",
              "      progress.max = size;\n",
              "      div.appendChild(progress);\n",
              "      document.body.appendChild(div);\n",
              "\n",
              "      const buffers = [];\n",
              "      let downloaded = 0;\n",
              "\n",
              "      const channel = await google.colab.kernel.comms.open(id);\n",
              "      // Send a message to notify the kernel that we're ready.\n",
              "      channel.send({})\n",
              "\n",
              "      for await (const message of channel.messages) {\n",
              "        // Send a message to notify the kernel that we're ready.\n",
              "        channel.send({})\n",
              "        if (message.buffers) {\n",
              "          for (const buffer of message.buffers) {\n",
              "            buffers.push(buffer);\n",
              "            downloaded += buffer.byteLength;\n",
              "            progress.value = downloaded;\n",
              "          }\n",
              "        }\n",
              "      }\n",
              "      const blob = new Blob(buffers, {type: 'application/binary'});\n",
              "      const a = document.createElement('a');\n",
              "      a.href = window.URL.createObjectURL(blob);\n",
              "      a.download = filename;\n",
              "      div.appendChild(a);\n",
              "      a.click();\n",
              "      div.remove();\n",
              "    }\n",
              "  "
            ],
            "text/plain": [
              "<IPython.core.display.Javascript object>"
            ]
          },
          "metadata": {
            "tags": []
          }
        },
        {
          "output_type": "display_data",
          "data": {
            "application/javascript": [
              "download(\"download_d39f1093-eb96-4921-82cf-ebf876494da1\", \"ctsHMM.test\", 2097)"
            ],
            "text/plain": [
              "<IPython.core.display.Javascript object>"
            ]
          },
          "metadata": {
            "tags": []
          }
        }
      ]
    },
    {
      "cell_type": "code",
      "metadata": {
        "id": "6ZmX-FoDs90m",
        "colab_type": "code",
        "colab": {
          "base_uri": "https://localhost:8080/",
          "height": 255
        },
        "outputId": "4fbd7ed4-01b5-4b7a-a01d-f511bc30a016"
      },
      "source": [
        "!ls\n",
        "%cd ctsHMM/dev\n",
        "!ls\n",
        "%cd"
      ],
      "execution_count": null,
      "outputs": [
        {
          "output_type": "stream",
          "text": [
            "1\t22.hmm\t36.hmm\t7\t    ctsModels\t   one.seq\t  two.seq\n",
            "11.hmm\t23.hmm\t37.hmm\t71.hmm\t    ctsModels.zip  one.seq.hmm\t  two.seq.hmm\n",
            "12.hmm\t26.hmm\t6\t72.hmm\t    DHMM.test\t   seven.seq\n",
            "13.hmm\t27.hmm\t61.hmm\t73.hmm\t    fp1.txt\t   seven.seq.hmm\n",
            "16.hmm\t3\t62.hmm\t76.hmm\t    fp2.txt\t   six.seq\n",
            "17.hmm\t31.hmm\t63.hmm\t77.hmm\t    fp3.txt\t   six.seq.hmm\n",
            "2\t32.hmm\t66.hmm\tctsHMM\t    fp6.txt\t   three.seq\n",
            "21.hmm\t33.hmm\t67.hmm\tctsHMM.dev  fp7.txt\t   three.seq.hmm\n",
            "/root/ctsHMM/dev\n",
            "111.mfcc  122.mfcc  16.mfcc   21.mfcc\t262.mfcc  322.mfcc  662.mfcc  77.mfcc\n",
            "116.mfcc  12.mfcc   172.mfcc  22.mfcc\t277.mfcc  331.mfcc  66.mfcc\n",
            "11.mfcc   132.mfcc  212.mfcc  233.mfcc\t311.mfcc  61.mfcc   711.mfcc\n",
            "121.mfcc  13.mfcc   217.mfcc  23.mfcc\t31.mfcc   622.mfcc  71.mfcc\n",
            "/root\n"
          ],
          "name": "stdout"
        }
      ]
    },
    {
      "cell_type": "code",
      "metadata": {
        "id": "cyvrKiF4thnN",
        "colab_type": "code",
        "colab": {
          "base_uri": "https://localhost:8080/",
          "height": 17
        },
        "outputId": "328340ce-6247-4ac5-b1f7-a021b786f91e"
      },
      "source": [
        "                                    #Dump K-Means model file\n",
        "dump(cenKM, open('cenKM.pkl', 'wb'))\n",
        "files.download(\"/root/cenKM.pkl\")"
      ],
      "execution_count": null,
      "outputs": [
        {
          "output_type": "display_data",
          "data": {
            "application/javascript": [
              "\n",
              "    async function download(id, filename, size) {\n",
              "      if (!google.colab.kernel.accessAllowed) {\n",
              "        return;\n",
              "      }\n",
              "      const div = document.createElement('div');\n",
              "      const label = document.createElement('label');\n",
              "      label.textContent = `Downloading \"${filename}\": `;\n",
              "      div.appendChild(label);\n",
              "      const progress = document.createElement('progress');\n",
              "      progress.max = size;\n",
              "      div.appendChild(progress);\n",
              "      document.body.appendChild(div);\n",
              "\n",
              "      const buffers = [];\n",
              "      let downloaded = 0;\n",
              "\n",
              "      const channel = await google.colab.kernel.comms.open(id);\n",
              "      // Send a message to notify the kernel that we're ready.\n",
              "      channel.send({})\n",
              "\n",
              "      for await (const message of channel.messages) {\n",
              "        // Send a message to notify the kernel that we're ready.\n",
              "        channel.send({})\n",
              "        if (message.buffers) {\n",
              "          for (const buffer of message.buffers) {\n",
              "            buffers.push(buffer);\n",
              "            downloaded += buffer.byteLength;\n",
              "            progress.value = downloaded;\n",
              "          }\n",
              "        }\n",
              "      }\n",
              "      const blob = new Blob(buffers, {type: 'application/binary'});\n",
              "      const a = document.createElement('a');\n",
              "      a.href = window.URL.createObjectURL(blob);\n",
              "      a.download = filename;\n",
              "      div.appendChild(a);\n",
              "      a.click();\n",
              "      div.remove();\n",
              "    }\n",
              "  "
            ],
            "text/plain": [
              "<IPython.core.display.Javascript object>"
            ]
          },
          "metadata": {
            "tags": []
          }
        },
        {
          "output_type": "display_data",
          "data": {
            "application/javascript": [
              "download(\"download_29ca19ac-4564-4611-81f1-4789dba4adf7\", \"cenKM.pkl\", 95131)"
            ],
            "text/plain": [
              "<IPython.core.display.Javascript object>"
            ]
          },
          "metadata": {
            "tags": []
          }
        }
      ]
    },
    {
      "cell_type": "code",
      "metadata": {
        "id": "4dWf7o3auphR",
        "colab_type": "code",
        "colab": {
          "base_uri": "https://localhost:8080/",
          "height": 187
        },
        "outputId": "91f92039-5828-4df6-c201-06bf47252f63"
      },
      "source": [
        "                                    #Test if dump-load pkl works\n",
        "!cp -avr /root/7/dev/ra_7.mfcc /root\n",
        "filex = \"ra_7.mfcc\"\n",
        "label,ft = fileTofeature(filex)\n",
        "true = cenKM.predict(ft)\n",
        "pklcheck = cenCheck.predict(ft)\n",
        "print(true==pklcheck)"
      ],
      "execution_count": null,
      "outputs": [
        {
          "output_type": "stream",
          "text": [
            "'/root/7/dev/ra_7.mfcc' -> '/root/ra_7.mfcc'\n",
            "[ True  True  True  True  True  True  True  True  True  True  True  True\n",
            "  True  True  True  True  True  True  True  True  True  True  True  True\n",
            "  True  True  True  True  True  True  True  True  True  True  True  True\n",
            "  True  True  True  True  True  True  True  True  True  True  True  True\n",
            "  True  True  True  True  True  True  True  True  True  True  True  True\n",
            "  True  True  True  True  True  True  True  True  True  True  True  True\n",
            "  True  True  True  True  True  True  True  True  True  True  True  True\n",
            "  True  True  True  True  True  True  True  True  True  True  True  True\n",
            "  True  True  True  True  True  True  True  True  True  True]\n"
          ],
          "name": "stdout"
        }
      ]
    },
    {
      "cell_type": "code",
      "metadata": {
        "id": "FSdqbAlis-80",
        "colab_type": "code",
        "colab": {
          "base_uri": "https://localhost:8080/",
          "height": 54
        },
        "outputId": "87e4edca-60f1-42ed-f427-dbce66ea6741"
      },
      "source": [
        "                                    #Get the list of all model names\n",
        "a = array([11,12,13,16,17,21,22,23,26,27,31,32,33,36,37,61,62,63,66,67,71,72,73,76,77])\n",
        "b = array([1,2,3,6,7])\n",
        "a = a.astype(\"str\")\n",
        "b = b.astype(\"str\")\n",
        "c = np.zeros(125)\n",
        "for i in range(0,25) :\n",
        "    for j in range(0,5) :\n",
        "        c[int(5*i+j)] = a[i]+b[j]\n",
        "\n",
        "c = c.astype(\"int\")\n",
        "c = c.astype(\"str\")\n",
        "c = list(c)\n",
        "a = list(a)\n",
        "d = a+c\n",
        "print(d)"
      ],
      "execution_count": null,
      "outputs": [
        {
          "output_type": "stream",
          "text": [
            "['11', '12', '13', '16', '17', '21', '22', '23', '26', '27', '31', '32', '33', '36', '37', '61', '62', '63', '66', '67', '71', '72', '73', '76', '77', '111', '112', '113', '116', '117', '121', '122', '123', '126', '127', '131', '132', '133', '136', '137', '161', '162', '163', '166', '167', '171', '172', '173', '176', '177', '211', '212', '213', '216', '217', '221', '222', '223', '226', '227', '231', '232', '233', '236', '237', '261', '262', '263', '266', '267', '271', '272', '273', '276', '277', '311', '312', '313', '316', '317', '321', '322', '323', '326', '327', '331', '332', '333', '336', '337', '361', '362', '363', '366', '367', '371', '372', '373', '376', '377', '611', '612', '613', '616', '617', '621', '622', '623', '626', '627', '631', '632', '633', '636', '637', '661', '662', '663', '666', '667', '671', '672', '673', '676', '677', '711', '712', '713', '716', '717', '721', '722', '723', '726', '727', '731', '732', '733', '736', '737', '761', '762', '763', '766', '767', '771', '772', '773', '776', '777']\n"
          ],
          "name": "stdout"
        }
      ]
    },
    {
      "cell_type": "code",
      "metadata": {
        "id": "HayhRIEhxxkJ",
        "colab_type": "code",
        "colab": {
          "base_uri": "https://localhost:8080/",
          "height": 119
        },
        "outputId": "219c7bef-66b5-4096-db09-6906fec78254"
      },
      "source": [
        "%cd /root/ctsModels/\n",
        "!rm *.hmm\n",
        "!ls\n",
        "%cd\n",
        "!rmdir /root/ctsModels/\n",
        "!rm /root/ctsModels.zip\n",
        "!rm ctsHMM.dev\n",
        "!ls"
      ],
      "execution_count": null,
      "outputs": [
        {
          "output_type": "stream",
          "text": [
            "/root/ctsModels\n",
            "/root\n",
            "1  7\t      fp1.txt  fp7.txt\t    seven.seq.hmm  three.seq.hmm\n",
            "2  cenKM.pkl  fp2.txt  one.seq\t    six.seq\t   two.seq\n",
            "3  ctsHMM     fp3.txt  one.seq.hmm  six.seq.hmm    two.seq.hmm\n",
            "6  DHMM.test  fp6.txt  seven.seq    three.seq\n"
          ],
          "name": "stdout"
        }
      ]
    },
    {
      "cell_type": "code",
      "metadata": {
        "id": "aeYFrltYlfwB",
        "colab_type": "code",
        "colab": {
          "base_uri": "https://localhost:8080/",
          "height": 68
        },
        "outputId": "5e70c553-78d4-4ad7-d73e-4a123e49cdfd"
      },
      "source": [
        "!ls"
      ],
      "execution_count": null,
      "outputs": [
        {
          "output_type": "stream",
          "text": [
            "1  6\t      ctsHMM\t  ctsModels.zip  fp2.txt  fp7.txt    six.seq\n",
            "2  7\t      ctsHMM.dev  DHMM.test\t fp3.txt  one.seq    three.seq\n",
            "3  cenKM.pkl  ctsModels   fp1.txt\t fp6.txt  seven.seq  two.seq\n"
          ],
          "name": "stdout"
        }
      ]
    },
    {
      "cell_type": "code",
      "metadata": {
        "id": "_Wq-wgRilhfm",
        "colab_type": "code",
        "colab": {}
      },
      "source": [
        ""
      ],
      "execution_count": null,
      "outputs": []
    }
  ]
}