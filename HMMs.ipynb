{
  "nbformat": 4,
  "nbformat_minor": 0,
  "metadata": {
    "colab": {
      "name": "HMMs.ipynb",
      "provenance": [],
      "collapsed_sections": [],
      "authorship_tag": "ABX9TyOt5FfI4J2kVxEQpqJXsUFo",
      "include_colab_link": true
    },
    "kernelspec": {
      "name": "python3",
      "display_name": "Python 3"
    }
  },
  "cells": [
    {
      "cell_type": "markdown",
      "metadata": {
        "id": "view-in-github",
        "colab_type": "text"
      },
      "source": [
        "<a href=\"https://colab.research.google.com/github/vignesh99/CS6300-Speech-Technology/blob/master/HMMs.ipynb\" target=\"_parent\"><img src=\"https://colab.research.google.com/assets/colab-badge.svg\" alt=\"Open In Colab\"/></a>"
      ]
    },
    {
      "cell_type": "code",
      "metadata": {
        "id": "WuIaWLcM9ZL2",
        "colab_type": "code",
        "colab": {
          "base_uri": "https://localhost:8080/",
          "height": 935
        },
        "outputId": "125b3220-5229-4728-fce8-5d8763f0adaf"
      },
      "source": [
        "                                    #Get data files onto root\n",
        "%cd\n",
        "from google.colab import drive\n",
        "drive.mount('/content/gdrive')\n",
        "!cp -avr /content/gdrive/My\\ Drive/HMM_IsoData/1 /root\n",
        "!cp -avr /content/gdrive/My\\ Drive/HMM_IsoData/2 /root\n",
        "!cp -avr /content/gdrive/My\\ Drive/HMM_IsoData/3 /root\n",
        "!cp -avr /content/gdrive/My\\ Drive/HMM_IsoData/6 /root\n",
        "!cp -avr /content/gdrive/My\\ Drive/HMM_IsoData/7 /root\n",
        "!cp -avr /content/gdrive/My\\ Drive/ctsHMM /root\n",
        "!ls"
      ],
      "execution_count": 77,
      "outputs": [
        {
          "output_type": "stream",
          "text": [
            "/root\n",
            "Drive already mounted at /content/gdrive; to attempt to forcibly remount, call drive.mount(\"/content/gdrive\", force_remount=True).\n",
            "removed '/root/1'\n",
            "'/content/gdrive/My Drive/HMM_IsoData/1' -> '/root/1'\n",
            "removed '/root/2'\n",
            "'/content/gdrive/My Drive/HMM_IsoData/2' -> '/root/2'\n",
            "removed '/root/3'\n",
            "'/content/gdrive/My Drive/HMM_IsoData/3' -> '/root/3'\n",
            "removed '/root/6'\n",
            "'/content/gdrive/My Drive/HMM_IsoData/6' -> '/root/6'\n",
            "removed '/root/7'\n",
            "'/content/gdrive/My Drive/HMM_IsoData/7' -> '/root/7'\n",
            "'/content/gdrive/My Drive/ctsHMM/test/3.mfcc' -> '/root/ctsHMM/test/3.mfcc'\n",
            "'/content/gdrive/My Drive/ctsHMM/test/2.mfcc' -> '/root/ctsHMM/test/2.mfcc'\n",
            "'/content/gdrive/My Drive/ctsHMM/test/1.mfcc' -> '/root/ctsHMM/test/1.mfcc'\n",
            "'/content/gdrive/My Drive/ctsHMM/test/5.mfcc' -> '/root/ctsHMM/test/5.mfcc'\n",
            "'/content/gdrive/My Drive/ctsHMM/test/4.mfcc' -> '/root/ctsHMM/test/4.mfcc'\n",
            "'/content/gdrive/My Drive/ctsHMM/dev/277.mfcc' -> '/root/ctsHMM/dev/277.mfcc'\n",
            "'/content/gdrive/My Drive/ctsHMM/dev/61.mfcc' -> '/root/ctsHMM/dev/61.mfcc'\n",
            "'/content/gdrive/My Drive/ctsHMM/dev/13.mfcc' -> '/root/ctsHMM/dev/13.mfcc'\n",
            "'/content/gdrive/My Drive/ctsHMM/dev/311.mfcc' -> '/root/ctsHMM/dev/311.mfcc'\n",
            "'/content/gdrive/My Drive/ctsHMM/dev/22.mfcc' -> '/root/ctsHMM/dev/22.mfcc'\n",
            "'/content/gdrive/My Drive/ctsHMM/dev/212.mfcc' -> '/root/ctsHMM/dev/212.mfcc'\n",
            "'/content/gdrive/My Drive/ctsHMM/dev/11.mfcc' -> '/root/ctsHMM/dev/11.mfcc'\n",
            "'/content/gdrive/My Drive/ctsHMM/dev/217.mfcc' -> '/root/ctsHMM/dev/217.mfcc'\n",
            "'/content/gdrive/My Drive/ctsHMM/dev/31.mfcc' -> '/root/ctsHMM/dev/31.mfcc'\n",
            "'/content/gdrive/My Drive/ctsHMM/dev/116.mfcc' -> '/root/ctsHMM/dev/116.mfcc'\n",
            "'/content/gdrive/My Drive/ctsHMM/dev/711.mfcc' -> '/root/ctsHMM/dev/711.mfcc'\n",
            "'/content/gdrive/My Drive/ctsHMM/dev/23.mfcc' -> '/root/ctsHMM/dev/23.mfcc'\n",
            "'/content/gdrive/My Drive/ctsHMM/dev/662.mfcc' -> '/root/ctsHMM/dev/662.mfcc'\n",
            "'/content/gdrive/My Drive/ctsHMM/dev/322.mfcc' -> '/root/ctsHMM/dev/322.mfcc'\n",
            "'/content/gdrive/My Drive/ctsHMM/dev/21.mfcc' -> '/root/ctsHMM/dev/21.mfcc'\n",
            "'/content/gdrive/My Drive/ctsHMM/dev/331.mfcc' -> '/root/ctsHMM/dev/331.mfcc'\n",
            "'/content/gdrive/My Drive/ctsHMM/dev/233.mfcc' -> '/root/ctsHMM/dev/233.mfcc'\n",
            "'/content/gdrive/My Drive/ctsHMM/dev/77.mfcc' -> '/root/ctsHMM/dev/77.mfcc'\n",
            "'/content/gdrive/My Drive/ctsHMM/dev/111.mfcc' -> '/root/ctsHMM/dev/111.mfcc'\n",
            "'/content/gdrive/My Drive/ctsHMM/dev/71.mfcc' -> '/root/ctsHMM/dev/71.mfcc'\n",
            "'/content/gdrive/My Drive/ctsHMM/dev/66.mfcc' -> '/root/ctsHMM/dev/66.mfcc'\n",
            "'/content/gdrive/My Drive/ctsHMM/dev/172.mfcc' -> '/root/ctsHMM/dev/172.mfcc'\n",
            "'/content/gdrive/My Drive/ctsHMM/dev/622.mfcc' -> '/root/ctsHMM/dev/622.mfcc'\n",
            "'/content/gdrive/My Drive/ctsHMM/dev/122.mfcc' -> '/root/ctsHMM/dev/122.mfcc'\n",
            "'/content/gdrive/My Drive/ctsHMM/dev/16.mfcc' -> '/root/ctsHMM/dev/16.mfcc'\n",
            "'/content/gdrive/My Drive/ctsHMM/dev/132.mfcc' -> '/root/ctsHMM/dev/132.mfcc'\n",
            "'/content/gdrive/My Drive/ctsHMM/dev/262.mfcc' -> '/root/ctsHMM/dev/262.mfcc'\n",
            "'/content/gdrive/My Drive/ctsHMM/dev/12.mfcc' -> '/root/ctsHMM/dev/12.mfcc'\n",
            "'/content/gdrive/My Drive/ctsHMM/dev/121.mfcc' -> '/root/ctsHMM/dev/121.mfcc'\n",
            "1\t22.hmm\t36.hmm\t7\t    ctsModels\t   one.seq\t  two.seq\n",
            "11.hmm\t23.hmm\t37.hmm\t71.hmm\t    ctsModels.zip  one.seq.hmm\t  two.seq.hmm\n",
            "12.hmm\t26.hmm\t6\t72.hmm\t    DHMM.test\t   seven.seq\n",
            "13.hmm\t27.hmm\t61.hmm\t73.hmm\t    fp1.txt\t   seven.seq.hmm\n",
            "16.hmm\t3\t62.hmm\t76.hmm\t    fp2.txt\t   six.seq\n",
            "17.hmm\t31.hmm\t63.hmm\t77.hmm\t    fp3.txt\t   six.seq.hmm\n",
            "2\t32.hmm\t66.hmm\tctsHMM\t    fp6.txt\t   three.seq\n",
            "21.hmm\t33.hmm\t67.hmm\tctsHMM.dev  fp7.txt\t   three.seq.hmm\n"
          ],
          "name": "stdout"
        }
      ]
    },
    {
      "cell_type": "code",
      "metadata": {
        "id": "Tu_1dZFCCgyo",
        "colab_type": "code",
        "colab": {
          "base_uri": "https://localhost:8080/",
          "height": 34
        },
        "outputId": "76943ada-969a-461d-ca35-981d5d1df986"
      },
      "source": [
        "                                    #Test file\n",
        "!cp -avr /root/1/dev/ra_1.mfcc /root\n",
        "filex = \"ra_1.mfcc\""
      ],
      "execution_count": 2,
      "outputs": [
        {
          "output_type": "stream",
          "text": [
            "'/root/1/dev/ra_1.mfcc' -> '/root/ra_1.mfcc'\n"
          ],
          "name": "stdout"
        }
      ]
    },
    {
      "cell_type": "code",
      "metadata": {
        "id": "RcjI1APJCGLi",
        "colab_type": "code",
        "colab": {}
      },
      "source": [
        "                                    #Import required libraries\n",
        "from pylab import *\n",
        "import os                           #Going through folders\n",
        "from scipy.cluster.vq import kmeans2\n",
        "from google.colab import files\n",
        "from sklearn.cluster import KMeans"
      ],
      "execution_count": 3,
      "outputs": []
    },
    {
      "cell_type": "markdown",
      "metadata": {
        "id": "bDKndSmNdWI8",
        "colab_type": "text"
      },
      "source": [
        "**Discete HMMs**"
      ]
    },
    {
      "cell_type": "code",
      "metadata": {
        "id": "7Q9zZey1ESja",
        "colab_type": "code",
        "colab": {}
      },
      "source": [
        "def fileTofeature(fileMfcc) :\n",
        "                                    #Convert features from file into array\n",
        "    features = np.genfromtxt(fileMfcc,delimiter='\\n',dtype=str)\n",
        "    Nc,Nf = features[0].split(\" \")\n",
        "    Nc = int(Nc)\n",
        "    Nf = int(Nf)\n",
        "    features = np.genfromtxt(features[1:],delimiter=' ',dtype=str)\n",
        "    features = features.astype(float)\n",
        "                                    \n",
        "    return Nf,features\n"
      ],
      "execution_count": 4,
      "outputs": []
    },
    {
      "cell_type": "code",
      "metadata": {
        "id": "pN7oQe67vOBm",
        "colab_type": "code",
        "colab": {
          "base_uri": "https://localhost:8080/",
          "height": 34
        },
        "outputId": "ce6ab475-92dc-4a8d-d635-89631710a988"
      },
      "source": [
        "label,ft = fileTofeature(filex)\n",
        "label"
      ],
      "execution_count": 5,
      "outputs": [
        {
          "output_type": "execute_result",
          "data": {
            "text/plain": [
              "121"
            ]
          },
          "metadata": {
            "tags": []
          },
          "execution_count": 5
        }
      ]
    },
    {
      "cell_type": "code",
      "metadata": {
        "id": "PPEok_7ly-0s",
        "colab_type": "code",
        "colab": {}
      },
      "source": [
        "                                    #Give the file with sequences for training data\n",
        "def trainCentre(Nclust=20,folders=None) :\n",
        "    if folders is None :            #Go through all digits\n",
        "        folders = array([\"1\",\"2\",\"3\",\"6\",\"7\"])\n",
        "\n",
        "    ind = []                     #All digits total vector numbers\n",
        "    ind.append([0,0])            #Inital values\n",
        "    Nwin = []                       #No. of vectors in each train file\n",
        "    count = 0\n",
        "    for word in folders :\n",
        "                                    #Go through required folders\n",
        "        for subdir, dirs, files in os.walk(word):\n",
        "            dirname = subdir.split(os.path.sep)[-1]\n",
        "            print('Directory:', dirname)\n",
        "            if dirname == \"train\":\n",
        "                for f in files:\n",
        "                    if f.endswith('.mfcc'):\n",
        "                                    #Copy file (mfcc) to root and perform K-means\n",
        "                        !cp -avr /root/$word/train/$f /root\n",
        "                        foo,temp = fileTofeature(f)\n",
        "                                    #Concatenate training feature vectors\n",
        "                        if count == 0 :\n",
        "                            features = temp\n",
        "                            Nwin.append(foo)\n",
        "                        else :\n",
        "                            features = np.concatenate((features,temp))\n",
        "                            Nwin.append(foo+Nwin[-1])\n",
        "                        !rm $f\n",
        "                        count+=1\n",
        "        ind.append([len(Nwin),Nwin[-1]])\n",
        "                                    #Apply K-means on the vectors\n",
        "    trainKM = KMeans(n_clusters=Nclust)\n",
        "    trainKM.fit(features)\n",
        "                                    #Get Nwin in required format\n",
        "    ind = array(ind)\n",
        "    Nwin = array(Nwin)\n",
        "    for i in range(5) :\n",
        "        Nwin[ind[i,0]:ind[i+1,0]] -=  ind[i,1]\n",
        "\n",
        "    return Nwin,features,trainKM,ind\n"
      ],
      "execution_count": 6,
      "outputs": []
    },
    {
      "cell_type": "code",
      "metadata": {
        "id": "JcXtKAXO8KOU",
        "colab_type": "code",
        "colab": {}
      },
      "source": [
        "def seqDwnld(seq,fileWord) :\n",
        "    with open(fileWord,\"w\") as f:\n",
        "        f.write(\"\\n\".join(\" \".join(map(str, line)) for line in seq))\n",
        "\n",
        "    return None"
      ],
      "execution_count": 7,
      "outputs": []
    },
    {
      "cell_type": "code",
      "metadata": {
        "id": "7eKPgOrXti5Y",
        "colab_type": "code",
        "colab": {}
      },
      "source": [
        "                                    #Give the file with sequences for training data\n",
        "def trainSeq(Nwin,features,trainKM,fileWord=\"check.txt\") :\n",
        "    seq = []\n",
        "    count = 0\n",
        "                                    #Go through required folders\n",
        "    for i in range(0,len(Nwin)) :\n",
        "                                    #Get each features from all-features-array\n",
        "        if i != 0:\n",
        "            temp = features[Nwin[i-1]:Nwin[i]]\n",
        "        else : \n",
        "            temp = features[:Nwin[0]]\n",
        "                                    #Perform Kmeans on predefined centres\n",
        "        label = trainKM.predict(temp)\n",
        "        seq.append(label)\n",
        "\n",
        "        if i==2 :\n",
        "            print(label)\n",
        "\n",
        "    seq = array(seq)\n",
        "\n",
        "    seqDwnld(seq,fileWord)\n",
        "\n",
        "    return None\n"
      ],
      "execution_count": 8,
      "outputs": []
    },
    {
      "cell_type": "code",
      "metadata": {
        "id": "E1-vC4d2re4V",
        "colab_type": "code",
        "colab": {
          "base_uri": "https://localhost:8080/",
          "height": 34
        },
        "outputId": "a879e1f1-faec-46f7-eb58-8d65dd0e5db6"
      },
      "source": [
        "!ls"
      ],
      "execution_count": 9,
      "outputs": [
        {
          "output_type": "stream",
          "text": [
            "1  2  3  6  7  ctsHMM  ra_1.mfcc\n"
          ],
          "name": "stdout"
        }
      ]
    },
    {
      "cell_type": "code",
      "metadata": {
        "id": "E_TB16nOVIoW",
        "colab_type": "code",
        "colab": {
          "base_uri": "https://localhost:8080/",
          "height": 1000
        },
        "outputId": "f7c771b4-9f15-4dc6-9473-231e58b74d10"
      },
      "source": [
        "Nw,feat,cenKM,ind = trainCentre()       #Train all the phenomes\n",
        "\n",
        "                                    #Get file sequences\n",
        "trainSeq(Nw[ind[0,0]:ind[1,0]],feat[ind[0,1]:ind[1,1]],cenKM,\"one.seq\")\n",
        "trainSeq(Nw[ind[1,0]:ind[2,0]],feat[ind[1,1]:ind[2,1]],cenKM,\"two.seq\")\n",
        "trainSeq(Nw[ind[2,0]:ind[3,0]],feat[ind[2,1]:ind[3,1]],cenKM,\"three.seq\")\n",
        "trainSeq(Nw[ind[3,0]:ind[4,0]],feat[ind[3,1]:ind[4,1]],cenKM,\"six.seq\")\n",
        "trainSeq(Nw[ind[4,0]:ind[5,0]],feat[ind[4,1]:ind[5,1]],cenKM,\"seven.seq\")\n"
      ],
      "execution_count": 10,
      "outputs": [
        {
          "output_type": "stream",
          "text": [
            "Directory: 1\n",
            "Directory: train\n",
            "'/root/1/train/ac_1.mfcc' -> '/root/ac_1.mfcc'\n",
            "'/root/1/train/ag_1.mfcc' -> '/root/ag_1.mfcc'\n",
            "'/root/1/train/ai_1.mfcc' -> '/root/ai_1.mfcc'\n",
            "'/root/1/train/an_1.mfcc' -> '/root/an_1.mfcc'\n",
            "'/root/1/train/bh_1.mfcc' -> '/root/bh_1.mfcc'\n",
            "'/root/1/train/bi_1.mfcc' -> '/root/bi_1.mfcc'\n",
            "'/root/1/train/br_1.mfcc' -> '/root/br_1.mfcc'\n",
            "'/root/1/train/ca_1.mfcc' -> '/root/ca_1.mfcc'\n",
            "'/root/1/train/cg_1.mfcc' -> '/root/cg_1.mfcc'\n",
            "'/root/1/train/cl_1.mfcc' -> '/root/cl_1.mfcc'\n",
            "'/root/1/train/cm_1.mfcc' -> '/root/cm_1.mfcc'\n",
            "'/root/1/train/dc_1.mfcc' -> '/root/dc_1.mfcc'\n",
            "'/root/1/train/dg_1.mfcc' -> '/root/dg_1.mfcc'\n",
            "'/root/1/train/ea_1.mfcc' -> '/root/ea_1.mfcc'\n",
            "'/root/1/train/ec_1.mfcc' -> '/root/ec_1.mfcc'\n",
            "'/root/1/train/ee_1.mfcc' -> '/root/ee_1.mfcc'\n",
            "'/root/1/train/eg_1.mfcc' -> '/root/eg_1.mfcc'\n",
            "'/root/1/train/ei_1.mfcc' -> '/root/ei_1.mfcc'\n",
            "'/root/1/train/ek_1.mfcc' -> '/root/ek_1.mfcc'\n",
            "'/root/1/train/es_1.mfcc' -> '/root/es_1.mfcc'\n",
            "'/root/1/train/hg_1.mfcc' -> '/root/hg_1.mfcc'\n",
            "'/root/1/train/hp_1.mfcc' -> '/root/hp_1.mfcc'\n",
            "'/root/1/train/ig_1.mfcc' -> '/root/ig_1.mfcc'\n",
            "'/root/1/train/ih_1.mfcc' -> '/root/ih_1.mfcc'\n",
            "'/root/1/train/il_1.mfcc' -> '/root/il_1.mfcc'\n",
            "'/root/1/train/jc_1.mfcc' -> '/root/jc_1.mfcc'\n",
            "'/root/1/train/ji_1.mfcc' -> '/root/ji_1.mfcc'\n",
            "'/root/1/train/jj_1.mfcc' -> '/root/jj_1.mfcc'\n",
            "'/root/1/train/jn_1.mfcc' -> '/root/jn_1.mfcc'\n",
            "'/root/1/train/jp_1.mfcc' -> '/root/jp_1.mfcc'\n",
            "'/root/1/train/kc_1.mfcc' -> '/root/kc_1.mfcc'\n",
            "'/root/1/train/kf_1.mfcc' -> '/root/kf_1.mfcc'\n",
            "'/root/1/train/kh_1.mfcc' -> '/root/kh_1.mfcc'\n",
            "'/root/1/train/kk_1.mfcc' -> '/root/kk_1.mfcc'\n",
            "'/root/1/train/kn_1.mfcc' -> '/root/kn_1.mfcc'\n",
            "'/root/1/train/kt_1.mfcc' -> '/root/kt_1.mfcc'\n",
            "'/root/1/train/la_1.mfcc' -> '/root/la_1.mfcc'\n",
            "'/root/1/train/ld_1.mfcc' -> '/root/ld_1.mfcc'\n",
            "'/root/1/train/ls_1.mfcc' -> '/root/ls_1.mfcc'\n",
            "Directory: dev\n",
            "Directory: 2\n",
            "Directory: train\n",
            "'/root/2/train/ac_2.mfcc' -> '/root/ac_2.mfcc'\n",
            "'/root/2/train/ag_2.mfcc' -> '/root/ag_2.mfcc'\n",
            "'/root/2/train/ai_2.mfcc' -> '/root/ai_2.mfcc'\n",
            "'/root/2/train/an_2.mfcc' -> '/root/an_2.mfcc'\n",
            "'/root/2/train/bh_2.mfcc' -> '/root/bh_2.mfcc'\n",
            "'/root/2/train/bi_2.mfcc' -> '/root/bi_2.mfcc'\n",
            "'/root/2/train/br_2.mfcc' -> '/root/br_2.mfcc'\n",
            "'/root/2/train/ca_2.mfcc' -> '/root/ca_2.mfcc'\n",
            "'/root/2/train/cg_2.mfcc' -> '/root/cg_2.mfcc'\n",
            "'/root/2/train/cl_2.mfcc' -> '/root/cl_2.mfcc'\n",
            "'/root/2/train/cm_2.mfcc' -> '/root/cm_2.mfcc'\n",
            "'/root/2/train/dc_2.mfcc' -> '/root/dc_2.mfcc'\n",
            "'/root/2/train/dg_2.mfcc' -> '/root/dg_2.mfcc'\n",
            "'/root/2/train/ea_2.mfcc' -> '/root/ea_2.mfcc'\n",
            "'/root/2/train/ec_2.mfcc' -> '/root/ec_2.mfcc'\n",
            "'/root/2/train/ee_2.mfcc' -> '/root/ee_2.mfcc'\n",
            "'/root/2/train/eg_2.mfcc' -> '/root/eg_2.mfcc'\n",
            "'/root/2/train/ei_2.mfcc' -> '/root/ei_2.mfcc'\n",
            "'/root/2/train/ek_2.mfcc' -> '/root/ek_2.mfcc'\n",
            "'/root/2/train/es_2.mfcc' -> '/root/es_2.mfcc'\n",
            "'/root/2/train/hg_2.mfcc' -> '/root/hg_2.mfcc'\n",
            "'/root/2/train/hp_2.mfcc' -> '/root/hp_2.mfcc'\n",
            "'/root/2/train/ig_2.mfcc' -> '/root/ig_2.mfcc'\n",
            "'/root/2/train/ih_2.mfcc' -> '/root/ih_2.mfcc'\n",
            "'/root/2/train/il_2.mfcc' -> '/root/il_2.mfcc'\n",
            "'/root/2/train/jc_2.mfcc' -> '/root/jc_2.mfcc'\n",
            "'/root/2/train/ji_2.mfcc' -> '/root/ji_2.mfcc'\n",
            "'/root/2/train/jj_2.mfcc' -> '/root/jj_2.mfcc'\n",
            "'/root/2/train/jn_2.mfcc' -> '/root/jn_2.mfcc'\n",
            "'/root/2/train/jp_2.mfcc' -> '/root/jp_2.mfcc'\n",
            "'/root/2/train/kc_2.mfcc' -> '/root/kc_2.mfcc'\n",
            "'/root/2/train/kf_2.mfcc' -> '/root/kf_2.mfcc'\n",
            "'/root/2/train/kh_2.mfcc' -> '/root/kh_2.mfcc'\n",
            "'/root/2/train/kk_2.mfcc' -> '/root/kk_2.mfcc'\n",
            "'/root/2/train/kn_2.mfcc' -> '/root/kn_2.mfcc'\n",
            "'/root/2/train/kt_2.mfcc' -> '/root/kt_2.mfcc'\n",
            "'/root/2/train/la_2.mfcc' -> '/root/la_2.mfcc'\n",
            "'/root/2/train/ld_2.mfcc' -> '/root/ld_2.mfcc'\n",
            "'/root/2/train/ls_2.mfcc' -> '/root/ls_2.mfcc'\n",
            "Directory: dev\n",
            "Directory: 3\n",
            "Directory: train\n",
            "'/root/3/train/ac_3.mfcc' -> '/root/ac_3.mfcc'\n",
            "'/root/3/train/ag_3.mfcc' -> '/root/ag_3.mfcc'\n",
            "'/root/3/train/ai_3.mfcc' -> '/root/ai_3.mfcc'\n",
            "'/root/3/train/an_3.mfcc' -> '/root/an_3.mfcc'\n",
            "'/root/3/train/bh_3.mfcc' -> '/root/bh_3.mfcc'\n",
            "'/root/3/train/bi_3.mfcc' -> '/root/bi_3.mfcc'\n",
            "'/root/3/train/br_3.mfcc' -> '/root/br_3.mfcc'\n",
            "'/root/3/train/ca_3.mfcc' -> '/root/ca_3.mfcc'\n",
            "'/root/3/train/cg_3.mfcc' -> '/root/cg_3.mfcc'\n",
            "'/root/3/train/cl_3.mfcc' -> '/root/cl_3.mfcc'\n",
            "'/root/3/train/cm_3.mfcc' -> '/root/cm_3.mfcc'\n",
            "'/root/3/train/dc_3.mfcc' -> '/root/dc_3.mfcc'\n",
            "'/root/3/train/dg_3.mfcc' -> '/root/dg_3.mfcc'\n",
            "'/root/3/train/ea_3.mfcc' -> '/root/ea_3.mfcc'\n",
            "'/root/3/train/ec_3.mfcc' -> '/root/ec_3.mfcc'\n",
            "'/root/3/train/ee_3.mfcc' -> '/root/ee_3.mfcc'\n",
            "'/root/3/train/eg_3.mfcc' -> '/root/eg_3.mfcc'\n",
            "'/root/3/train/ei_3.mfcc' -> '/root/ei_3.mfcc'\n",
            "'/root/3/train/ek_3.mfcc' -> '/root/ek_3.mfcc'\n",
            "'/root/3/train/es_3.mfcc' -> '/root/es_3.mfcc'\n",
            "'/root/3/train/hg_3.mfcc' -> '/root/hg_3.mfcc'\n",
            "'/root/3/train/hp_3.mfcc' -> '/root/hp_3.mfcc'\n",
            "'/root/3/train/ig_3.mfcc' -> '/root/ig_3.mfcc'\n",
            "'/root/3/train/ih_3.mfcc' -> '/root/ih_3.mfcc'\n",
            "'/root/3/train/il_3.mfcc' -> '/root/il_3.mfcc'\n",
            "'/root/3/train/jc_3.mfcc' -> '/root/jc_3.mfcc'\n",
            "'/root/3/train/ji_3.mfcc' -> '/root/ji_3.mfcc'\n",
            "'/root/3/train/jj_3.mfcc' -> '/root/jj_3.mfcc'\n",
            "'/root/3/train/jn_3.mfcc' -> '/root/jn_3.mfcc'\n",
            "'/root/3/train/jp_3.mfcc' -> '/root/jp_3.mfcc'\n",
            "'/root/3/train/kc_3.mfcc' -> '/root/kc_3.mfcc'\n",
            "'/root/3/train/kf_3.mfcc' -> '/root/kf_3.mfcc'\n",
            "'/root/3/train/kh_3.mfcc' -> '/root/kh_3.mfcc'\n",
            "'/root/3/train/kk_3.mfcc' -> '/root/kk_3.mfcc'\n",
            "'/root/3/train/kn_3.mfcc' -> '/root/kn_3.mfcc'\n",
            "'/root/3/train/kt_3.mfcc' -> '/root/kt_3.mfcc'\n",
            "'/root/3/train/la_3.mfcc' -> '/root/la_3.mfcc'\n",
            "'/root/3/train/ld_3.mfcc' -> '/root/ld_3.mfcc'\n",
            "'/root/3/train/ls_3.mfcc' -> '/root/ls_3.mfcc'\n",
            "Directory: dev\n",
            "Directory: 6\n",
            "Directory: train\n",
            "'/root/6/train/ac_6.mfcc' -> '/root/ac_6.mfcc'\n",
            "'/root/6/train/ag_6.mfcc' -> '/root/ag_6.mfcc'\n",
            "'/root/6/train/ai_6.mfcc' -> '/root/ai_6.mfcc'\n",
            "'/root/6/train/an_6.mfcc' -> '/root/an_6.mfcc'\n",
            "'/root/6/train/bh_6.mfcc' -> '/root/bh_6.mfcc'\n",
            "'/root/6/train/bi_6.mfcc' -> '/root/bi_6.mfcc'\n",
            "'/root/6/train/br_6.mfcc' -> '/root/br_6.mfcc'\n",
            "'/root/6/train/ca_6.mfcc' -> '/root/ca_6.mfcc'\n",
            "'/root/6/train/cg_6.mfcc' -> '/root/cg_6.mfcc'\n",
            "'/root/6/train/cl_6.mfcc' -> '/root/cl_6.mfcc'\n",
            "'/root/6/train/cm_6.mfcc' -> '/root/cm_6.mfcc'\n",
            "'/root/6/train/dc_6.mfcc' -> '/root/dc_6.mfcc'\n",
            "'/root/6/train/dg_6.mfcc' -> '/root/dg_6.mfcc'\n",
            "'/root/6/train/ea_6.mfcc' -> '/root/ea_6.mfcc'\n",
            "'/root/6/train/ec_6.mfcc' -> '/root/ec_6.mfcc'\n",
            "'/root/6/train/ee_6.mfcc' -> '/root/ee_6.mfcc'\n",
            "'/root/6/train/eg_6.mfcc' -> '/root/eg_6.mfcc'\n",
            "'/root/6/train/ei_6.mfcc' -> '/root/ei_6.mfcc'\n",
            "'/root/6/train/ek_6.mfcc' -> '/root/ek_6.mfcc'\n",
            "'/root/6/train/es_6.mfcc' -> '/root/es_6.mfcc'\n",
            "'/root/6/train/hg_6.mfcc' -> '/root/hg_6.mfcc'\n",
            "'/root/6/train/hp_6.mfcc' -> '/root/hp_6.mfcc'\n",
            "'/root/6/train/ig_6.mfcc' -> '/root/ig_6.mfcc'\n",
            "'/root/6/train/ih_6.mfcc' -> '/root/ih_6.mfcc'\n",
            "'/root/6/train/il_6.mfcc' -> '/root/il_6.mfcc'\n",
            "'/root/6/train/jc_6.mfcc' -> '/root/jc_6.mfcc'\n",
            "'/root/6/train/ji_6.mfcc' -> '/root/ji_6.mfcc'\n",
            "'/root/6/train/jj_6.mfcc' -> '/root/jj_6.mfcc'\n",
            "'/root/6/train/jn_6.mfcc' -> '/root/jn_6.mfcc'\n",
            "'/root/6/train/jp_6.mfcc' -> '/root/jp_6.mfcc'\n",
            "'/root/6/train/kc_6.mfcc' -> '/root/kc_6.mfcc'\n",
            "'/root/6/train/kf_6.mfcc' -> '/root/kf_6.mfcc'\n",
            "'/root/6/train/kh_6.mfcc' -> '/root/kh_6.mfcc'\n",
            "'/root/6/train/kk_6.mfcc' -> '/root/kk_6.mfcc'\n",
            "'/root/6/train/kn_6.mfcc' -> '/root/kn_6.mfcc'\n",
            "'/root/6/train/kt_6.mfcc' -> '/root/kt_6.mfcc'\n",
            "'/root/6/train/la_6.mfcc' -> '/root/la_6.mfcc'\n",
            "'/root/6/train/ld_6.mfcc' -> '/root/ld_6.mfcc'\n",
            "'/root/6/train/ls_6.mfcc' -> '/root/ls_6.mfcc'\n",
            "Directory: dev\n",
            "Directory: 7\n",
            "Directory: train\n",
            "'/root/7/train/ac_7.mfcc' -> '/root/ac_7.mfcc'\n",
            "'/root/7/train/ag_7.mfcc' -> '/root/ag_7.mfcc'\n",
            "'/root/7/train/ai_7.mfcc' -> '/root/ai_7.mfcc'\n",
            "'/root/7/train/an_7.mfcc' -> '/root/an_7.mfcc'\n",
            "'/root/7/train/bh_7.mfcc' -> '/root/bh_7.mfcc'\n",
            "'/root/7/train/bi_7.mfcc' -> '/root/bi_7.mfcc'\n",
            "'/root/7/train/br_7.mfcc' -> '/root/br_7.mfcc'\n",
            "'/root/7/train/ca_7.mfcc' -> '/root/ca_7.mfcc'\n",
            "'/root/7/train/cg_7.mfcc' -> '/root/cg_7.mfcc'\n",
            "'/root/7/train/cl_7.mfcc' -> '/root/cl_7.mfcc'\n",
            "'/root/7/train/cm_7.mfcc' -> '/root/cm_7.mfcc'\n",
            "'/root/7/train/dc_7.mfcc' -> '/root/dc_7.mfcc'\n",
            "'/root/7/train/dg_7.mfcc' -> '/root/dg_7.mfcc'\n",
            "'/root/7/train/ea_7.mfcc' -> '/root/ea_7.mfcc'\n",
            "'/root/7/train/ec_7.mfcc' -> '/root/ec_7.mfcc'\n",
            "'/root/7/train/ee_7.mfcc' -> '/root/ee_7.mfcc'\n",
            "'/root/7/train/eg_7.mfcc' -> '/root/eg_7.mfcc'\n",
            "'/root/7/train/ei_7.mfcc' -> '/root/ei_7.mfcc'\n",
            "'/root/7/train/ek_7.mfcc' -> '/root/ek_7.mfcc'\n",
            "'/root/7/train/es_7.mfcc' -> '/root/es_7.mfcc'\n",
            "'/root/7/train/hg_7.mfcc' -> '/root/hg_7.mfcc'\n",
            "'/root/7/train/hp_7.mfcc' -> '/root/hp_7.mfcc'\n",
            "'/root/7/train/ig_7.mfcc' -> '/root/ig_7.mfcc'\n",
            "'/root/7/train/ih_7.mfcc' -> '/root/ih_7.mfcc'\n",
            "'/root/7/train/il_7.mfcc' -> '/root/il_7.mfcc'\n",
            "'/root/7/train/jc_7.mfcc' -> '/root/jc_7.mfcc'\n",
            "'/root/7/train/ji_7.mfcc' -> '/root/ji_7.mfcc'\n",
            "'/root/7/train/jj_7.mfcc' -> '/root/jj_7.mfcc'\n",
            "'/root/7/train/jn_7.mfcc' -> '/root/jn_7.mfcc'\n",
            "'/root/7/train/jp_7.mfcc' -> '/root/jp_7.mfcc'\n",
            "'/root/7/train/kc_7.mfcc' -> '/root/kc_7.mfcc'\n",
            "'/root/7/train/kf_7.mfcc' -> '/root/kf_7.mfcc'\n",
            "'/root/7/train/kh_7.mfcc' -> '/root/kh_7.mfcc'\n",
            "'/root/7/train/kk_7.mfcc' -> '/root/kk_7.mfcc'\n",
            "'/root/7/train/kn_7.mfcc' -> '/root/kn_7.mfcc'\n",
            "'/root/7/train/kt_7.mfcc' -> '/root/kt_7.mfcc'\n",
            "'/root/7/train/la_7.mfcc' -> '/root/la_7.mfcc'\n",
            "'/root/7/train/ld_7.mfcc' -> '/root/ld_7.mfcc'\n",
            "'/root/7/train/ls_7.mfcc' -> '/root/ls_7.mfcc'\n",
            "Directory: dev\n",
            "[ 5  5  5  5  5  5  5  0 13  0  0  5  5  5  5  5  5  5  0 17 17 19 19 19\n",
            " 19 19 12 19  6  6  6  6  6  6  6  6  6  6  6  6  6  6 18 18 18  4  4  4\n",
            " 15  4  4 15 15 15 15 15 15 17 17 17 17 17  0  0  0  5  5  5  5  5  5  5\n",
            "  5  5  5  5  5  5  5]\n",
            "[ 0  0  0  0  0 17  0  0  0  0  0  0  5  0  0  0  0  0  0  0  0  5 10  8\n",
            "  8 10 10 16 16 18 18 18 18 18 18 18 18 18 18 18 18 18  3 18  3 18 12 12\n",
            " 12 12 19 19 19 19 19  4 19 15 15 15 15 13 13 13 13 13  0  0  0  0  0  0\n",
            "  0  0  0  0  0  0  0  0]\n",
            "[ 0  0  0  5  5  5  0  5  5  0  0  0  0  0  0  5  5  0  5  5  5 10 10 16\n",
            " 13  4 12 11 11 11 11 11 11 11 11 11 18 18 18 18  3  1  1  1  1  1  1  1\n",
            "  1  1  1  1  1  1  1  1  1  1  1 15 15 13 13  0  0  0  0  0  0  0  0  0\n",
            "  5  5  5  5  0  5  5  0  0  0  0]\n",
            "[17 13 13 14 17 14 15 14 14 17 14 17 17 17 17 14 14  0 17 17 14  7 13 15\n",
            " 12  7 14 14 14 14 17 13 13  0 17 14 14 17 17 17 17 17 17 14 15  7 15 13\n",
            " 17  5 16 10 10 10 10 16 16 16 16 16 16 18 18 18 18 18 18 18 18 12 18 12\n",
            " 12 12 12 12 12 12  4  4  4 15 17 17 17 17  7 15 15 10 10 10 10 10 10 10\n",
            " 10 10 10 10 10  5  5  5  5  0 17 14 15 15 15 15 17 14 17 17 17  0 14  0\n",
            "  0 17 14 17 17 14  0 17  0  0 17 14 14 14]\n",
            "[17 17 17 17 15 13 13 17  0 17  0  0  0  0  0  0  0  0  0 17  0  5  5 10\n",
            " 10 10 10 10  8  8  8  8  8  8 10 16  4  4  4  4 12 12 12  4  4  4 12 12\n",
            " 12  4  4  4  6  6 12  3  3  4  4  4  4  4  4  4  4  4  4  4  4  4  4 15\n",
            " 15 15 15 13 13 13 13 13 13  0  0  0  0  0  0  0  0  0  0  0]\n"
          ],
          "name": "stdout"
        }
      ]
    },
    {
      "cell_type": "code",
      "metadata": {
        "id": "4NbQNLj4Y2MA",
        "colab_type": "code",
        "colab": {
          "base_uri": "https://localhost:8080/",
          "height": 17
        },
        "outputId": "5766d42c-50a5-4b34-a091-a7bb9078b906"
      },
      "source": [
        "                                    #Download the train sequence files\n",
        "files.download(\"one.seq\")\n",
        "files.download(\"two.seq\")\n",
        "files.download(\"three.seq\")\n",
        "files.download(\"six.seq\")\n",
        "files.download(\"seven.seq\")"
      ],
      "execution_count": 15,
      "outputs": [
        {
          "output_type": "display_data",
          "data": {
            "application/javascript": [
              "\n",
              "    async function download(id, filename, size) {\n",
              "      if (!google.colab.kernel.accessAllowed) {\n",
              "        return;\n",
              "      }\n",
              "      const div = document.createElement('div');\n",
              "      const label = document.createElement('label');\n",
              "      label.textContent = `Downloading \"${filename}\": `;\n",
              "      div.appendChild(label);\n",
              "      const progress = document.createElement('progress');\n",
              "      progress.max = size;\n",
              "      div.appendChild(progress);\n",
              "      document.body.appendChild(div);\n",
              "\n",
              "      const buffers = [];\n",
              "      let downloaded = 0;\n",
              "\n",
              "      const channel = await google.colab.kernel.comms.open(id);\n",
              "      // Send a message to notify the kernel that we're ready.\n",
              "      channel.send({})\n",
              "\n",
              "      for await (const message of channel.messages) {\n",
              "        // Send a message to notify the kernel that we're ready.\n",
              "        channel.send({})\n",
              "        if (message.buffers) {\n",
              "          for (const buffer of message.buffers) {\n",
              "            buffers.push(buffer);\n",
              "            downloaded += buffer.byteLength;\n",
              "            progress.value = downloaded;\n",
              "          }\n",
              "        }\n",
              "      }\n",
              "      const blob = new Blob(buffers, {type: 'application/binary'});\n",
              "      const a = document.createElement('a');\n",
              "      a.href = window.URL.createObjectURL(blob);\n",
              "      a.download = filename;\n",
              "      div.appendChild(a);\n",
              "      a.click();\n",
              "      div.remove();\n",
              "    }\n",
              "  "
            ],
            "text/plain": [
              "<IPython.core.display.Javascript object>"
            ]
          },
          "metadata": {
            "tags": []
          }
        },
        {
          "output_type": "display_data",
          "data": {
            "application/javascript": [
              "download(\"download_66ac38f8-b1ae-473e-ab80-16cdfe451a27\", \"one.seq\", 9085)"
            ],
            "text/plain": [
              "<IPython.core.display.Javascript object>"
            ]
          },
          "metadata": {
            "tags": []
          }
        },
        {
          "output_type": "display_data",
          "data": {
            "application/javascript": [
              "\n",
              "    async function download(id, filename, size) {\n",
              "      if (!google.colab.kernel.accessAllowed) {\n",
              "        return;\n",
              "      }\n",
              "      const div = document.createElement('div');\n",
              "      const label = document.createElement('label');\n",
              "      label.textContent = `Downloading \"${filename}\": `;\n",
              "      div.appendChild(label);\n",
              "      const progress = document.createElement('progress');\n",
              "      progress.max = size;\n",
              "      div.appendChild(progress);\n",
              "      document.body.appendChild(div);\n",
              "\n",
              "      const buffers = [];\n",
              "      let downloaded = 0;\n",
              "\n",
              "      const channel = await google.colab.kernel.comms.open(id);\n",
              "      // Send a message to notify the kernel that we're ready.\n",
              "      channel.send({})\n",
              "\n",
              "      for await (const message of channel.messages) {\n",
              "        // Send a message to notify the kernel that we're ready.\n",
              "        channel.send({})\n",
              "        if (message.buffers) {\n",
              "          for (const buffer of message.buffers) {\n",
              "            buffers.push(buffer);\n",
              "            downloaded += buffer.byteLength;\n",
              "            progress.value = downloaded;\n",
              "          }\n",
              "        }\n",
              "      }\n",
              "      const blob = new Blob(buffers, {type: 'application/binary'});\n",
              "      const a = document.createElement('a');\n",
              "      a.href = window.URL.createObjectURL(blob);\n",
              "      a.download = filename;\n",
              "      div.appendChild(a);\n",
              "      a.click();\n",
              "      div.remove();\n",
              "    }\n",
              "  "
            ],
            "text/plain": [
              "<IPython.core.display.Javascript object>"
            ]
          },
          "metadata": {
            "tags": []
          }
        },
        {
          "output_type": "display_data",
          "data": {
            "application/javascript": [
              "download(\"download_59d8b592-c3e4-4466-87ad-e7b4a7e15a25\", \"two.seq\", 9322)"
            ],
            "text/plain": [
              "<IPython.core.display.Javascript object>"
            ]
          },
          "metadata": {
            "tags": []
          }
        },
        {
          "output_type": "display_data",
          "data": {
            "application/javascript": [
              "\n",
              "    async function download(id, filename, size) {\n",
              "      if (!google.colab.kernel.accessAllowed) {\n",
              "        return;\n",
              "      }\n",
              "      const div = document.createElement('div');\n",
              "      const label = document.createElement('label');\n",
              "      label.textContent = `Downloading \"${filename}\": `;\n",
              "      div.appendChild(label);\n",
              "      const progress = document.createElement('progress');\n",
              "      progress.max = size;\n",
              "      div.appendChild(progress);\n",
              "      document.body.appendChild(div);\n",
              "\n",
              "      const buffers = [];\n",
              "      let downloaded = 0;\n",
              "\n",
              "      const channel = await google.colab.kernel.comms.open(id);\n",
              "      // Send a message to notify the kernel that we're ready.\n",
              "      channel.send({})\n",
              "\n",
              "      for await (const message of channel.messages) {\n",
              "        // Send a message to notify the kernel that we're ready.\n",
              "        channel.send({})\n",
              "        if (message.buffers) {\n",
              "          for (const buffer of message.buffers) {\n",
              "            buffers.push(buffer);\n",
              "            downloaded += buffer.byteLength;\n",
              "            progress.value = downloaded;\n",
              "          }\n",
              "        }\n",
              "      }\n",
              "      const blob = new Blob(buffers, {type: 'application/binary'});\n",
              "      const a = document.createElement('a');\n",
              "      a.href = window.URL.createObjectURL(blob);\n",
              "      a.download = filename;\n",
              "      div.appendChild(a);\n",
              "      a.click();\n",
              "      div.remove();\n",
              "    }\n",
              "  "
            ],
            "text/plain": [
              "<IPython.core.display.Javascript object>"
            ]
          },
          "metadata": {
            "tags": []
          }
        },
        {
          "output_type": "display_data",
          "data": {
            "application/javascript": [
              "download(\"download_1be4fffe-081c-483b-aa85-0a789cb8aa48\", \"three.seq\", 9752)"
            ],
            "text/plain": [
              "<IPython.core.display.Javascript object>"
            ]
          },
          "metadata": {
            "tags": []
          }
        },
        {
          "output_type": "display_data",
          "data": {
            "application/javascript": [
              "\n",
              "    async function download(id, filename, size) {\n",
              "      if (!google.colab.kernel.accessAllowed) {\n",
              "        return;\n",
              "      }\n",
              "      const div = document.createElement('div');\n",
              "      const label = document.createElement('label');\n",
              "      label.textContent = `Downloading \"${filename}\": `;\n",
              "      div.appendChild(label);\n",
              "      const progress = document.createElement('progress');\n",
              "      progress.max = size;\n",
              "      div.appendChild(progress);\n",
              "      document.body.appendChild(div);\n",
              "\n",
              "      const buffers = [];\n",
              "      let downloaded = 0;\n",
              "\n",
              "      const channel = await google.colab.kernel.comms.open(id);\n",
              "      // Send a message to notify the kernel that we're ready.\n",
              "      channel.send({})\n",
              "\n",
              "      for await (const message of channel.messages) {\n",
              "        // Send a message to notify the kernel that we're ready.\n",
              "        channel.send({})\n",
              "        if (message.buffers) {\n",
              "          for (const buffer of message.buffers) {\n",
              "            buffers.push(buffer);\n",
              "            downloaded += buffer.byteLength;\n",
              "            progress.value = downloaded;\n",
              "          }\n",
              "        }\n",
              "      }\n",
              "      const blob = new Blob(buffers, {type: 'application/binary'});\n",
              "      const a = document.createElement('a');\n",
              "      a.href = window.URL.createObjectURL(blob);\n",
              "      a.download = filename;\n",
              "      div.appendChild(a);\n",
              "      a.click();\n",
              "      div.remove();\n",
              "    }\n",
              "  "
            ],
            "text/plain": [
              "<IPython.core.display.Javascript object>"
            ]
          },
          "metadata": {
            "tags": []
          }
        },
        {
          "output_type": "display_data",
          "data": {
            "application/javascript": [
              "download(\"download_e7ad9783-69ab-46e2-9a69-afe023c98f04\", \"six.seq\", 11776)"
            ],
            "text/plain": [
              "<IPython.core.display.Javascript object>"
            ]
          },
          "metadata": {
            "tags": []
          }
        },
        {
          "output_type": "display_data",
          "data": {
            "application/javascript": [
              "\n",
              "    async function download(id, filename, size) {\n",
              "      if (!google.colab.kernel.accessAllowed) {\n",
              "        return;\n",
              "      }\n",
              "      const div = document.createElement('div');\n",
              "      const label = document.createElement('label');\n",
              "      label.textContent = `Downloading \"${filename}\": `;\n",
              "      div.appendChild(label);\n",
              "      const progress = document.createElement('progress');\n",
              "      progress.max = size;\n",
              "      div.appendChild(progress);\n",
              "      document.body.appendChild(div);\n",
              "\n",
              "      const buffers = [];\n",
              "      let downloaded = 0;\n",
              "\n",
              "      const channel = await google.colab.kernel.comms.open(id);\n",
              "      // Send a message to notify the kernel that we're ready.\n",
              "      channel.send({})\n",
              "\n",
              "      for await (const message of channel.messages) {\n",
              "        // Send a message to notify the kernel that we're ready.\n",
              "        channel.send({})\n",
              "        if (message.buffers) {\n",
              "          for (const buffer of message.buffers) {\n",
              "            buffers.push(buffer);\n",
              "            downloaded += buffer.byteLength;\n",
              "            progress.value = downloaded;\n",
              "          }\n",
              "        }\n",
              "      }\n",
              "      const blob = new Blob(buffers, {type: 'application/binary'});\n",
              "      const a = document.createElement('a');\n",
              "      a.href = window.URL.createObjectURL(blob);\n",
              "      a.download = filename;\n",
              "      div.appendChild(a);\n",
              "      a.click();\n",
              "      div.remove();\n",
              "    }\n",
              "  "
            ],
            "text/plain": [
              "<IPython.core.display.Javascript object>"
            ]
          },
          "metadata": {
            "tags": []
          }
        },
        {
          "output_type": "display_data",
          "data": {
            "application/javascript": [
              "download(\"download_d2f711ca-87b1-4b5e-924e-3749608d4056\", \"seven.seq\", 10121)"
            ],
            "text/plain": [
              "<IPython.core.display.Javascript object>"
            ]
          },
          "metadata": {
            "tags": []
          }
        }
      ]
    },
    {
      "cell_type": "code",
      "metadata": {
        "id": "YOw0y8mp7Ci8",
        "colab_type": "code",
        "colab": {
          "base_uri": "https://localhost:8080/",
          "height": 374
        },
        "outputId": "b5180e2c-4a53-486f-da3b-6078ea84a6e6"
      },
      "source": [
        "!ls\n",
        "print(len(feat))\n",
        "Nw"
      ],
      "execution_count": 11,
      "outputs": [
        {
          "output_type": "stream",
          "text": [
            "1  3  7       one.seq\t seven.seq  three.seq\n",
            "2  6  ctsHMM  ra_1.mfcc  six.seq    two.seq\n",
            "19968\n"
          ],
          "name": "stdout"
        },
        {
          "output_type": "execute_result",
          "data": {
            "text/plain": [
              "array([  75,  159,  238,  322,  423,  520,  636,  730,  831,  925, 1028,\n",
              "       1222, 1330, 1418, 1503, 1592, 1662, 1759, 1856, 1948, 2045, 2141,\n",
              "       2238, 2359, 2444, 2538, 2646, 2721, 2818, 2910, 3034, 3146, 3224,\n",
              "       3305, 3412, 3496, 3606, 3684, 3769,   70,  153,  233,  316,  422,\n",
              "        525,  645,  743,  830,  937, 1038, 1126, 1205, 1289, 1372, 1444,\n",
              "       1575, 1662, 1737, 1825, 1942, 2034, 2132, 2230, 2308, 2432, 2517,\n",
              "       2601, 2677, 2770, 2876, 2969, 3068, 3153, 3256, 3343, 3456, 3534,\n",
              "       3631,   71,  159,  242,  349,  452,  540,  646,  754,  843, 1024,\n",
              "       1154, 1247, 1330, 1411, 1494, 1577, 1671, 1764, 1865, 1953, 2047,\n",
              "       2159, 2275, 2458, 2538, 2621, 2733, 2829, 2930, 3024, 3148, 3254,\n",
              "       3335, 3422, 3526, 3615, 3707, 3792, 3898,   97,  207,  341,  458,\n",
              "        565,  696,  825,  946, 1061, 1169, 1309, 1435, 1548, 1645, 1761,\n",
              "       1872, 1966, 2076, 2178, 2317, 2439, 2561, 2722, 2837, 2936, 3053,\n",
              "       3161, 3269, 3377, 3490, 3635, 3760, 3876, 3978, 4088, 4222, 4329,\n",
              "       4437, 4549,  103,  202,  294,  397,  495,  585,  706,  826,  920,\n",
              "       1046, 1158, 1260, 1363, 1469, 1580, 1686, 1790, 1893, 1997, 2103,\n",
              "       2205, 2290, 2407, 2527, 2619, 2731, 2847, 2939, 3058, 3184, 3322,\n",
              "       3430, 3520, 3608, 3712, 3816, 3913, 4009, 4121])"
            ]
          },
          "metadata": {
            "tags": []
          },
          "execution_count": 11
        }
      ]
    },
    {
      "cell_type": "code",
      "metadata": {
        "id": "AYEjyFA-mpjy",
        "colab_type": "code",
        "colab": {}
      },
      "source": [
        "def testKmeans(fileMfcc,trainKM,Nclust=20,iters=1) :\n",
        "                                    #Convert features from file into array\n",
        "    features = np.genfromtxt(fileMfcc,delimiter='\\n',dtype=str)\n",
        "    Nc,Nf = features[0].split(\" \")\n",
        "    Nc = int(Nc)\n",
        "    Nf = int(Nf)\n",
        "    features = np.genfromtxt(features[1:],delimiter=' ',dtype=str)\n",
        "    features = features.astype(float)\n",
        "    \n",
        "                                    #Apply K-means on the vectors\n",
        "    # if len(features) == Nf and len(features[0]) == Nc :\n",
        "    #     label = trainKM.predict(features)\n",
        "    label = trainKM.predict(features)\n",
        "    \n",
        "    return label\n"
      ],
      "execution_count": 78,
      "outputs": []
    },
    {
      "cell_type": "code",
      "metadata": {
        "id": "H2NQ3LgW1uQC",
        "colab_type": "code",
        "colab": {}
      },
      "source": [
        "                                    #Give the file with sequences for testing data\n",
        "def testSeq(trainKM,fileWord=\"check.txt\",folders=None) :\n",
        "    if folders is None :\n",
        "        folders = array([\"1\",\"2\",\"3\",\"6\",\"7\"])\n",
        "    seq = []\n",
        "    count = np.zeros(5)\n",
        "    for word in folders :    \n",
        "                                        #Go through required folders\n",
        "        for subdir, dirs, files in os.walk(word):\n",
        "            dirname = subdir.split(os.path.sep)[-1]\n",
        "            print('Directory:', dirname)\n",
        "            if dirname == \"dev\":\n",
        "                for f in files:\n",
        "                    if f.endswith(\".mfcc\"):\n",
        "                                        #Copy file (mfcc) to root and perform K-means\n",
        "                        !cp -avr /root/$word/dev/$f /root\n",
        "                        label = testKmeans(f,trainKM)\n",
        "                        seq.append(label)\n",
        "                        !rm $f\n",
        "                        count[np.where(word == folders)[0][0]] += 1\n",
        "        if word != \"1\" :\n",
        "            count[np.where(word == folders)[0][0]] = count[np.where(word == folders)[0][0]] + count[np.where(word == folders)[0][0]-1]\n",
        "\n",
        "    print(count)\n",
        "    seq = array(seq)\n",
        "    \n",
        "    seqDwnld(seq,fileWord)\n",
        "\n",
        "    return count\n"
      ],
      "execution_count": 13,
      "outputs": []
    },
    {
      "cell_type": "code",
      "metadata": {
        "id": "ng9NusK-WX3t",
        "colab_type": "code",
        "colab": {
          "base_uri": "https://localhost:8080/",
          "height": 1000
        },
        "outputId": "92ac73d9-45cf-4324-ea2a-aadf4caa8661"
      },
      "source": [
        "                                    #Get the test sequence\n",
        "count = testSeq(cenKM,\"DHMM.test\")"
      ],
      "execution_count": 14,
      "outputs": [
        {
          "output_type": "stream",
          "text": [
            "Directory: 1\n",
            "Directory: train\n",
            "Directory: dev\n",
            "'/root/1/dev/mk_1.mfcc' -> '/root/mk_1.mfcc'\n",
            "'/root/1/dev/mm_1.mfcc' -> '/root/mm_1.mfcc'\n",
            "'/root/1/dev/ms_1.mfcc' -> '/root/ms_1.mfcc'\n",
            "'/root/1/dev/mw_1.mfcc' -> '/root/mw_1.mfcc'\n",
            "'/root/1/dev/nc_1.mfcc' -> '/root/nc_1.mfcc'\n",
            "'/root/1/dev/ng_1.mfcc' -> '/root/ng_1.mfcc'\n",
            "'/root/1/dev/nh_1.mfcc' -> '/root/nh_1.mfcc'\n",
            "'/root/1/dev/pe_1.mfcc' -> '/root/pe_1.mfcc'\n",
            "'/root/1/dev/pk_1.mfcc' -> '/root/pk_1.mfcc'\n",
            "'/root/1/dev/pm_1.mfcc' -> '/root/pm_1.mfcc'\n",
            "'/root/1/dev/pp_1.mfcc' -> '/root/pp_1.mfcc'\n",
            "'/root/1/dev/ra_1.mfcc' -> '/root/ra_1.mfcc'\n",
            "Directory: 2\n",
            "Directory: train\n",
            "Directory: dev\n",
            "'/root/2/dev/mk_2.mfcc' -> '/root/mk_2.mfcc'\n",
            "'/root/2/dev/mm_2.mfcc' -> '/root/mm_2.mfcc'\n",
            "'/root/2/dev/ms_2.mfcc' -> '/root/ms_2.mfcc'\n",
            "'/root/2/dev/mw_2.mfcc' -> '/root/mw_2.mfcc'\n",
            "'/root/2/dev/nc_2.mfcc' -> '/root/nc_2.mfcc'\n",
            "'/root/2/dev/ng_2.mfcc' -> '/root/ng_2.mfcc'\n",
            "'/root/2/dev/nh_2.mfcc' -> '/root/nh_2.mfcc'\n",
            "'/root/2/dev/pe_2.mfcc' -> '/root/pe_2.mfcc'\n",
            "'/root/2/dev/pk_2.mfcc' -> '/root/pk_2.mfcc'\n",
            "'/root/2/dev/pm_2.mfcc' -> '/root/pm_2.mfcc'\n",
            "'/root/2/dev/pp_2.mfcc' -> '/root/pp_2.mfcc'\n",
            "'/root/2/dev/ra_2.mfcc' -> '/root/ra_2.mfcc'\n",
            "Directory: 3\n",
            "Directory: train\n",
            "Directory: dev\n",
            "'/root/3/dev/mk_3.mfcc' -> '/root/mk_3.mfcc'\n",
            "'/root/3/dev/mm_3.mfcc' -> '/root/mm_3.mfcc'\n",
            "'/root/3/dev/ms_3.mfcc' -> '/root/ms_3.mfcc'\n",
            "'/root/3/dev/mw_3.mfcc' -> '/root/mw_3.mfcc'\n",
            "'/root/3/dev/nc_3.mfcc' -> '/root/nc_3.mfcc'\n",
            "'/root/3/dev/ng_3.mfcc' -> '/root/ng_3.mfcc'\n",
            "'/root/3/dev/nh_3.mfcc' -> '/root/nh_3.mfcc'\n",
            "'/root/3/dev/pe_3.mfcc' -> '/root/pe_3.mfcc'\n",
            "'/root/3/dev/pk_3.mfcc' -> '/root/pk_3.mfcc'\n",
            "'/root/3/dev/pm_3.mfcc' -> '/root/pm_3.mfcc'\n",
            "'/root/3/dev/pp_3.mfcc' -> '/root/pp_3.mfcc'\n",
            "'/root/3/dev/ra_3.mfcc' -> '/root/ra_3.mfcc'\n",
            "Directory: 6\n",
            "Directory: train\n",
            "Directory: dev\n",
            "'/root/6/dev/mk_6.mfcc' -> '/root/mk_6.mfcc'\n",
            "'/root/6/dev/mm_6.mfcc' -> '/root/mm_6.mfcc'\n",
            "'/root/6/dev/ms_6.mfcc' -> '/root/ms_6.mfcc'\n",
            "'/root/6/dev/mw_6.mfcc' -> '/root/mw_6.mfcc'\n",
            "'/root/6/dev/nc_6.mfcc' -> '/root/nc_6.mfcc'\n",
            "'/root/6/dev/ng_6.mfcc' -> '/root/ng_6.mfcc'\n",
            "'/root/6/dev/nh_6.mfcc' -> '/root/nh_6.mfcc'\n",
            "'/root/6/dev/pe_6.mfcc' -> '/root/pe_6.mfcc'\n",
            "'/root/6/dev/pk_6.mfcc' -> '/root/pk_6.mfcc'\n",
            "'/root/6/dev/pm_6.mfcc' -> '/root/pm_6.mfcc'\n",
            "'/root/6/dev/pp_6.mfcc' -> '/root/pp_6.mfcc'\n",
            "'/root/6/dev/ra_6.mfcc' -> '/root/ra_6.mfcc'\n",
            "Directory: 7\n",
            "Directory: train\n",
            "Directory: dev\n",
            "'/root/7/dev/mk_7.mfcc' -> '/root/mk_7.mfcc'\n",
            "'/root/7/dev/mm_7.mfcc' -> '/root/mm_7.mfcc'\n",
            "'/root/7/dev/ms_7.mfcc' -> '/root/ms_7.mfcc'\n",
            "'/root/7/dev/mw_7.mfcc' -> '/root/mw_7.mfcc'\n",
            "'/root/7/dev/nc_7.mfcc' -> '/root/nc_7.mfcc'\n",
            "'/root/7/dev/ng_7.mfcc' -> '/root/ng_7.mfcc'\n",
            "'/root/7/dev/nh_7.mfcc' -> '/root/nh_7.mfcc'\n",
            "'/root/7/dev/pe_7.mfcc' -> '/root/pe_7.mfcc'\n",
            "'/root/7/dev/pk_7.mfcc' -> '/root/pk_7.mfcc'\n",
            "'/root/7/dev/pm_7.mfcc' -> '/root/pm_7.mfcc'\n",
            "'/root/7/dev/pp_7.mfcc' -> '/root/pp_7.mfcc'\n",
            "'/root/7/dev/ra_7.mfcc' -> '/root/ra_7.mfcc'\n",
            "[12. 24. 36. 48. 60.]\n"
          ],
          "name": "stdout"
        }
      ]
    },
    {
      "cell_type": "code",
      "metadata": {
        "id": "EC3QLov3eRpf",
        "colab_type": "code",
        "colab": {
          "base_uri": "https://localhost:8080/",
          "height": 17
        },
        "outputId": "de29541e-552d-4890-c0e1-f675eb1a54cf"
      },
      "source": [
        "                                    #Download the test sequence files\n",
        "files.download(\"DHMM.test\")"
      ],
      "execution_count": 16,
      "outputs": [
        {
          "output_type": "display_data",
          "data": {
            "application/javascript": [
              "\n",
              "    async function download(id, filename, size) {\n",
              "      if (!google.colab.kernel.accessAllowed) {\n",
              "        return;\n",
              "      }\n",
              "      const div = document.createElement('div');\n",
              "      const label = document.createElement('label');\n",
              "      label.textContent = `Downloading \"${filename}\": `;\n",
              "      div.appendChild(label);\n",
              "      const progress = document.createElement('progress');\n",
              "      progress.max = size;\n",
              "      div.appendChild(progress);\n",
              "      document.body.appendChild(div);\n",
              "\n",
              "      const buffers = [];\n",
              "      let downloaded = 0;\n",
              "\n",
              "      const channel = await google.colab.kernel.comms.open(id);\n",
              "      // Send a message to notify the kernel that we're ready.\n",
              "      channel.send({})\n",
              "\n",
              "      for await (const message of channel.messages) {\n",
              "        // Send a message to notify the kernel that we're ready.\n",
              "        channel.send({})\n",
              "        if (message.buffers) {\n",
              "          for (const buffer of message.buffers) {\n",
              "            buffers.push(buffer);\n",
              "            downloaded += buffer.byteLength;\n",
              "            progress.value = downloaded;\n",
              "          }\n",
              "        }\n",
              "      }\n",
              "      const blob = new Blob(buffers, {type: 'application/binary'});\n",
              "      const a = document.createElement('a');\n",
              "      a.href = window.URL.createObjectURL(blob);\n",
              "      a.download = filename;\n",
              "      div.appendChild(a);\n",
              "      a.click();\n",
              "      div.remove();\n",
              "    }\n",
              "  "
            ],
            "text/plain": [
              "<IPython.core.display.Javascript object>"
            ]
          },
          "metadata": {
            "tags": []
          }
        },
        {
          "output_type": "display_data",
          "data": {
            "application/javascript": [
              "download(\"download_6af54e7b-0b6c-46a4-aae1-c1670accf8db\", \"DHMM.test\", 15363)"
            ],
            "text/plain": [
              "<IPython.core.display.Javascript object>"
            ]
          },
          "metadata": {
            "tags": []
          }
        }
      ]
    },
    {
      "cell_type": "code",
      "metadata": {
        "id": "QFdT4d0xRImU",
        "colab_type": "code",
        "colab": {
          "base_uri": "https://localhost:8080/",
          "height": 136
        },
        "outputId": "e2c91470-50d8-4749-ce37-507f57fee207"
      },
      "source": [
        "                                    #Final probability files\n",
        "!cp -avr /content/gdrive/My\\ Drive/fp1.txt /root\n",
        "!cp -avr /content/gdrive/My\\ Drive/fp2.txt /root\n",
        "!cp -avr /content/gdrive/My\\ Drive/fp3.txt /root\n",
        "!cp -avr /content/gdrive/My\\ Drive/fp6.txt /root\n",
        "!cp -avr /content/gdrive/My\\ Drive/fp7.txt /root\n",
        "!ls"
      ],
      "execution_count": 21,
      "outputs": [
        {
          "output_type": "stream",
          "text": [
            "'/content/gdrive/My Drive/fp1.txt' -> '/root/fp1.txt'\n",
            "'/content/gdrive/My Drive/fp2.txt' -> '/root/fp2.txt'\n",
            "'/content/gdrive/My Drive/fp3.txt' -> '/root/fp3.txt'\n",
            "'/content/gdrive/My Drive/fp6.txt' -> '/root/fp6.txt'\n",
            "'/content/gdrive/My Drive/fp7.txt' -> '/root/fp7.txt'\n",
            "1  3  7       DHMM.test  fp2.txt  fp6.txt  one.seq    six.seq\t two.seq\n",
            "2  6  ctsHMM  fp1.txt\t fp3.txt  fp7.txt  seven.seq  three.seq\n"
          ],
          "name": "stdout"
        }
      ]
    },
    {
      "cell_type": "code",
      "metadata": {
        "id": "__GHSDZR5FjJ",
        "colab_type": "code",
        "colab": {}
      },
      "source": [
        "def testProb(fileProb) :\n",
        "    prob = np.genfromtxt(fileProb,delimiter=' ',dtype=str)\n",
        "    prob = prob.astype(float)\n",
        "\n",
        "    return prob"
      ],
      "execution_count": 22,
      "outputs": []
    },
    {
      "cell_type": "code",
      "metadata": {
        "id": "HiNDmKpVFE-u",
        "colab_type": "code",
        "colab": {}
      },
      "source": [
        "def accModel(count) :\n",
        "\n",
        "    error = np.zeros(5)\n",
        "    prob1 = testProb(\"fp1.txt\")\n",
        "    allprob = np.zeros((len(prob1),5))\n",
        "    allprob[:,0] = prob1\n",
        "    \n",
        "    allprob[:,1] = testProb(\"fp2.txt\")\n",
        "    allprob[:,2] = testProb(\"fp3.txt\")\n",
        "    allprob[:,3] = testProb(\"fp6.txt\")\n",
        "    allprob[:,4] = testProb(\"fp7.txt\")\n",
        "    \n",
        "    estimate = np.argmax(allprob,axis=1)\n",
        "    print(estimate)\n",
        "    for i in range(0,5) :\n",
        "        if i==0:\n",
        "            error[i] = len(np.where(estimate[:count[i]]!=i)[0])\n",
        "        else :\n",
        "            error[i] = len(np.where(estimate[count[i-1]:count[i]]!=i)[0])\n",
        "\n",
        "    print(error)\n",
        "    acc = 1-(sum(error)/count[-1])\n",
        "    \n",
        "    return acc"
      ],
      "execution_count": 23,
      "outputs": []
    },
    {
      "cell_type": "code",
      "metadata": {
        "id": "OLP__4BBwmzq",
        "colab_type": "code",
        "colab": {
          "base_uri": "https://localhost:8080/",
          "height": 85
        },
        "outputId": "98c21fb3-c8fe-4733-9dd0-ea6a2fed7874"
      },
      "source": [
        "acc = accModel(count.astype(int))\n",
        "print(acc)"
      ],
      "execution_count": 24,
      "outputs": [
        {
          "output_type": "stream",
          "text": [
            "[0 0 2 0 0 0 0 0 0 0 0 0 1 1 2 1 1 1 1 1 1 1 1 1 2 2 2 2 2 2 2 2 2 2 2 2 3\n",
            " 3 3 3 3 3 3 3 3 3 3 3 4 4 4 4 4 1 4 4 4 4 4 4]\n",
            "[1. 1. 0. 0. 1.]\n",
            "0.95\n"
          ],
          "name": "stdout"
        }
      ]
    },
    {
      "cell_type": "markdown",
      "metadata": {
        "id": "-9AbpSrA42fv",
        "colab_type": "text"
      },
      "source": [
        "**Continuous HMMs**"
      ]
    },
    {
      "cell_type": "code",
      "metadata": {
        "id": "YgExPS1rQuQG",
        "colab_type": "code",
        "colab": {
          "base_uri": "https://localhost:8080/",
          "height": 170
        },
        "outputId": "b813b97c-c219-43bc-bbd3-8b5c0e5249e6"
      },
      "source": [
        "\n",
        "!cp -avr /content/gdrive/My\\ Drive/one.seq.hmm /root\n",
        "!cp -avr /content/gdrive/My\\ Drive/two.seq.hmm /root\n",
        "!cp -avr /content/gdrive/My\\ Drive/three.seq.hmm /root\n",
        "!cp -avr /content/gdrive/My\\ Drive/six.seq.hmm /root\n",
        "!cp -avr /content/gdrive/My\\ Drive/seven.seq.hmm /root\n",
        "#!cp -avr /content/gdrive/My\\ Drive/12.hmm /root\n",
        "!ls"
      ],
      "execution_count": 30,
      "outputs": [
        {
          "output_type": "stream",
          "text": [
            "'/content/gdrive/My Drive/one.seq.hmm' -> '/root/one.seq.hmm'\n",
            "'/content/gdrive/My Drive/two.seq.hmm' -> '/root/two.seq.hmm'\n",
            "'/content/gdrive/My Drive/three.seq.hmm' -> '/root/three.seq.hmm'\n",
            "'/content/gdrive/My Drive/six.seq.hmm' -> '/root/six.seq.hmm'\n",
            "'/content/gdrive/My Drive/seven.seq.hmm' -> '/root/seven.seq.hmm'\n",
            "1\t6\t   DHMM.test  fp6.txt\t   seven.seq\t  three.seq\n",
            "12.hmm\t7\t   fp1.txt    fp7.txt\t   seven.seq.hmm  three.seq.hmm\n",
            "2\tctsHMM\t   fp2.txt    one.seq\t   six.seq\t  two.seq\n",
            "3\tctsModels  fp3.txt    one.seq.hmm  six.seq.hmm\t  two.seq.hmm\n"
          ],
          "name": "stdout"
        }
      ]
    },
    {
      "cell_type": "code",
      "metadata": {
        "id": "pWgvQc9tmzsD",
        "colab_type": "code",
        "colab": {}
      },
      "source": [
        "                                    #Concatanate 2-digit models\n",
        "def filecombine(file1,file2,fileNew,folder=\"ctsModels\",Nstate=\"6\",p=0.9,check=[]) :\n",
        "                                    #Read file1 - on top\n",
        "    data1 = np.genfromtxt(file1,delimiter='\\n',dtype=str)\n",
        "                                    #Change the number of states\n",
        "    headers = np.genfromtxt(data1[:2],delimiter=' ',dtype=str)\n",
        "    headers[0,1] = Nstate\n",
        "    headers = list(headers)\n",
        "    headers.append(\"\\n\")\n",
        "                                    #Read the initial probabilities\n",
        "    probs1 = np.genfromtxt(data1[2:],delimiter='\\t',dtype=str)\n",
        "    #probs1 = probs1[:,:-1]\n",
        "    probs1 = probs1.astype(\"float\")\n",
        "    probs1[-2][0] = 1-p\n",
        "    probs1[-1][0] = p\n",
        "                                    #Read file2 - bottom\n",
        "    data2 = np.genfromtxt(file2,delimiter='\\n',dtype=str)\n",
        "                                    #Read the initial probabilities\n",
        "    probs2 = np.genfromtxt(data2[2:],delimiter='\\t',dtype=str)\n",
        "    #probs2 = probs2[:,:-1]\n",
        "    probs2 = probs2.astype(\"float\")\n",
        "    print(shape(probs1),shape(probs2))\n",
        "                                    #Change the last state transition probabilities\n",
        "    probs = np.concatenate((probs1,probs2))\n",
        "    \n",
        "                                    #Write to file\n",
        "    with open(fileNew,\"w\") as f:\n",
        "        f.write(\"\\n\".join(\" \".join(map(str, line)) for line in headers))\n",
        "\n",
        "    f = open(fileNew,'ab')\n",
        "    np.savetxt(f,probs,delimiter='\\t', fmt='%f')\n",
        "    !mv $fileNew /root/$folder\n",
        "    f.close()\n",
        "\n",
        "    return None"
      ],
      "execution_count": 49,
      "outputs": []
    },
    {
      "cell_type": "code",
      "metadata": {
        "id": "CA4ty_j715Cg",
        "colab_type": "code",
        "colab": {}
      },
      "source": [
        "def digit2model(files=None,folder=\"ctsModels\") :\n",
        "    if files is None :\n",
        "        files = [\"one.seq.hmm\",\"two.seq.hmm\",\"three.seq.hmm\",\"six.seq.hmm\",\"seven.seq.hmm\"]\n",
        "    opfiles = array([11,12,13,16,17,21,22,23,26,27,31,32,33,36,37,61,62,63,66,67,71,72,73,76,77])\n",
        "    opfiles = opfiles.astype(\"str\")\n",
        "    for i in range(0,5) :\n",
        "        for j in range(0,5) :\n",
        "            filecombine(files[i],files[j],opfiles[int(5*i+j)]+\".hmm\")\n",
        "\n",
        "    return None"
      ],
      "execution_count": 45,
      "outputs": []
    },
    {
      "cell_type": "code",
      "metadata": {
        "id": "tbtS8qTq5RmE",
        "colab_type": "code",
        "colab": {}
      },
      "source": [
        "!mkdir ctsModels\n",
        "digit2model()\n",
        "# model2digit = array([11,12,13,16,17,21,22,23,26,27,31,32,33,36,37,61,62,63,66,67,71,72,73,76,77])\n",
        "# model2digit = model2digit.astype(\"str\")\n",
        "# for i in range(20,25) :\n",
        "#     files.download(model2digit[i]+\".hmm\")"
      ],
      "execution_count": null,
      "outputs": []
    },
    {
      "cell_type": "code",
      "metadata": {
        "id": "caNbszOKWG1e",
        "colab_type": "code",
        "colab": {}
      },
      "source": [
        "!ls\n",
        "%cd /root/ctsModels/\n",
        "#!cp *.hmm /root\n",
        "!ls\n",
        "%cd"
      ],
      "execution_count": null,
      "outputs": []
    },
    {
      "cell_type": "code",
      "metadata": {
        "id": "A9JW_Nw-8QeC",
        "colab_type": "code",
        "colab": {}
      },
      "source": [
        "def digit3model(files1=None,files2=None,folder=\"ctsModels\") :\n",
        "    if files1 is None :\n",
        "        files1 = array([11,12,13,16,17,21,22,23,26,27,31,32,33,36,37,61,62,63,66,67,71,72,73,76,77])\n",
        "        files1 = files1.astype(\"str\")\n",
        "    if files2 is None :\n",
        "        files2 = array([1,2,3,6,7])\n",
        "        files2 = files2.astype(\"str\")\n",
        "        files = [\"one.seq.hmm\",\"two.seq.hmm\",\"three.seq.hmm\",\"six.seq.hmm\",\"seven.seq.hmm\"]\n",
        "    opfiles = array([11,12,13,16,17,21,22,23,26,27,31,32,33,36,37,61,62,63,66,67,71,72,73,76,77])\n",
        "    opfiles = opfiles.astype(\"str\")\n",
        "    for i in range(0,25) :\n",
        "        for j in range(0,5) :\n",
        "            filecombine(files1[i]+\".hmm\",files[j],files1[i]+files2[j]+\".hmm\",Nstate=\"9\")\n",
        "\n",
        "    return None"
      ],
      "execution_count": 70,
      "outputs": []
    },
    {
      "cell_type": "code",
      "metadata": {
        "id": "dugLujxM-oYs",
        "colab_type": "code",
        "colab": {}
      },
      "source": [
        "digit3model()"
      ],
      "execution_count": null,
      "outputs": []
    },
    {
      "cell_type": "code",
      "metadata": {
        "id": "-vFFoWF3_-lT",
        "colab_type": "code",
        "colab": {
          "base_uri": "https://localhost:8080/",
          "height": 1000
        },
        "outputId": "c1b91978-1f67-4ffd-9b3e-e531737a05f8"
      },
      "source": [
        "!zip -r /root/ctsModels.zip /root/ctsModels\n",
        "\n",
        "files.download(\"/root/ctsModels.zip\")"
      ],
      "execution_count": 73,
      "outputs": [
        {
          "output_type": "stream",
          "text": [
            "  adding: root/ctsModels/ (stored 0%)\n",
            "  adding: root/ctsModels/613.hmm (deflated 77%)\n",
            "  adding: root/ctsModels/12.hmm (deflated 77%)\n",
            "  adding: root/ctsModels/137.hmm (deflated 78%)\n",
            "  adding: root/ctsModels/662.hmm (deflated 83%)\n",
            "  adding: root/ctsModels/766.hmm (deflated 83%)\n",
            "  adding: root/ctsModels/162.hmm (deflated 78%)\n",
            "  adding: root/ctsModels/313.hmm (deflated 83%)\n",
            "  adding: root/ctsModels/61.hmm (deflated 76%)\n",
            "  adding: root/ctsModels/672.hmm (deflated 77%)\n",
            "  adding: root/ctsModels/716.hmm (deflated 77%)\n",
            "  adding: root/ctsModels/767.hmm (deflated 82%)\n",
            "  adding: root/ctsModels/76.hmm (deflated 75%)\n",
            "  adding: root/ctsModels/627.hmm (deflated 77%)\n",
            "  adding: root/ctsModels/176.hmm (deflated 78%)\n",
            "  adding: root/ctsModels/316.hmm (deflated 77%)\n",
            "  adding: root/ctsModels/317.hmm (deflated 78%)\n",
            "  adding: root/ctsModels/617.hmm (deflated 78%)\n",
            "  adding: root/ctsModels/621.hmm (deflated 78%)\n",
            "  adding: root/ctsModels/731.hmm (deflated 77%)\n",
            "  adding: root/ctsModels/362.hmm (deflated 77%)\n",
            "  adding: root/ctsModels/622.hmm (deflated 83%)\n",
            "  adding: root/ctsModels/712.hmm (deflated 78%)\n",
            "  adding: root/ctsModels/71.hmm (deflated 76%)\n",
            "  adding: root/ctsModels/113.hmm (deflated 84%)\n",
            "  adding: root/ctsModels/722.hmm (deflated 83%)\n",
            "  adding: root/ctsModels/131.hmm (deflated 84%)\n",
            "  adding: root/ctsModels/37.hmm (deflated 76%)\n",
            "  adding: root/ctsModels/323.hmm (deflated 83%)\n",
            "  adding: root/ctsModels/132.hmm (deflated 78%)\n",
            "  adding: root/ctsModels/623.hmm (deflated 77%)\n",
            "  adding: root/ctsModels/27.hmm (deflated 76%)\n",
            "  adding: root/ctsModels/277.hmm (deflated 83%)\n",
            "  adding: root/ctsModels/777.hmm (deflated 89%)\n",
            "  adding: root/ctsModels/733.hmm (deflated 83%)\n",
            "  adding: root/ctsModels/213.hmm (deflated 78%)\n",
            "  adding: root/ctsModels/22.hmm (deflated 84%)\n",
            "  adding: root/ctsModels/223.hmm (deflated 83%)\n",
            "  adding: root/ctsModels/136.hmm (deflated 77%)\n",
            "  adding: root/ctsModels/163.hmm (deflated 77%)\n",
            "  adding: root/ctsModels/221.hmm (deflated 84%)\n",
            "  adding: root/ctsModels/171.hmm (deflated 84%)\n",
            "  adding: root/ctsModels/673.hmm (deflated 77%)\n",
            "  adding: root/ctsModels/676.hmm (deflated 83%)\n",
            "  adding: root/ctsModels/216.hmm (deflated 77%)\n",
            "  adding: root/ctsModels/727.hmm (deflated 83%)\n",
            "  adding: root/ctsModels/671.hmm (deflated 78%)\n",
            "  adding: root/ctsModels/112.hmm (deflated 84%)\n",
            "  adding: root/ctsModels/66.hmm (deflated 84%)\n",
            "  adding: root/ctsModels/373.hmm (deflated 83%)\n",
            "  adding: root/ctsModels/217.hmm (deflated 78%)\n",
            "  adding: root/ctsModels/632.hmm (deflated 77%)\n",
            "  adding: root/ctsModels/711.hmm (deflated 83%)\n",
            "  adding: root/ctsModels/311.hmm (deflated 83%)\n",
            "  adding: root/ctsModels/127.hmm (deflated 78%)\n",
            "  adding: root/ctsModels/227.hmm (deflated 83%)\n",
            "  adding: root/ctsModels/117.hmm (deflated 84%)\n",
            "  adding: root/ctsModels/616.hmm (deflated 83%)\n",
            "  adding: root/ctsModels/366.hmm (deflated 82%)\n",
            "  adding: root/ctsModels/326.hmm (deflated 77%)\n",
            "  adding: root/ctsModels/122.hmm (deflated 84%)\n",
            "  adding: root/ctsModels/363.hmm (deflated 82%)\n",
            "  adding: root/ctsModels/173.hmm (deflated 78%)\n",
            "  adding: root/ctsModels/36.hmm (deflated 75%)\n",
            "  adding: root/ctsModels/663.hmm (deflated 83%)\n",
            "  adding: root/ctsModels/723.hmm (deflated 77%)\n",
            "  adding: root/ctsModels/667.hmm (deflated 83%)\n",
            "  adding: root/ctsModels/773.hmm (deflated 83%)\n",
            "  adding: root/ctsModels/271.hmm (deflated 78%)\n",
            "  adding: root/ctsModels/327.hmm (deflated 77%)\n",
            "  adding: root/ctsModels/236.hmm (deflated 77%)\n",
            "  adding: root/ctsModels/222.hmm (deflated 89%)\n",
            "  adding: root/ctsModels/762.hmm (deflated 77%)\n",
            "  adding: root/ctsModels/732.hmm (deflated 77%)\n",
            "  adding: root/ctsModels/161.hmm (deflated 83%)\n",
            "  adding: root/ctsModels/121.hmm (deflated 84%)\n",
            "  adding: root/ctsModels/72.hmm (deflated 76%)\n",
            "  adding: root/ctsModels/62.hmm (deflated 75%)\n",
            "  adding: root/ctsModels/776.hmm (deflated 83%)\n",
            "  adding: root/ctsModels/637.hmm (deflated 77%)\n",
            "  adding: root/ctsModels/336.hmm (deflated 82%)\n",
            "  adding: root/ctsModels/266.hmm (deflated 83%)\n",
            "  adding: root/ctsModels/626.hmm (deflated 83%)\n",
            "  adding: root/ctsModels/17.hmm (deflated 76%)\n",
            "  adding: root/ctsModels/133.hmm (deflated 84%)\n",
            "  adding: root/ctsModels/763.hmm (deflated 77%)\n",
            "  adding: root/ctsModels/212.hmm (deflated 84%)\n",
            "  adding: root/ctsModels/633.hmm (deflated 83%)\n",
            "  adding: root/ctsModels/721.hmm (deflated 78%)\n",
            "  adding: root/ctsModels/377.hmm (deflated 83%)\n",
            "  adding: root/ctsModels/267.hmm (deflated 77%)\n",
            "  adding: root/ctsModels/77.hmm (deflated 84%)\n",
            "  adding: root/ctsModels/677.hmm (deflated 83%)\n",
            "  adding: root/ctsModels/126.hmm (deflated 78%)\n",
            "  adding: root/ctsModels/321.hmm (deflated 78%)\n",
            "  adding: root/ctsModels/33.hmm (deflated 84%)\n",
            "  adding: root/ctsModels/261.hmm (deflated 78%)\n",
            "  adding: root/ctsModels/111.hmm (deflated 90%)\n",
            "  adding: root/ctsModels/276.hmm (deflated 77%)\n",
            "  adding: root/ctsModels/13.hmm (deflated 76%)\n",
            "  adding: root/ctsModels/636.hmm (deflated 83%)\n",
            "  adding: root/ctsModels/771.hmm (deflated 84%)\n",
            "  adding: root/ctsModels/167.hmm (deflated 78%)\n",
            "  adding: root/ctsModels/713.hmm (deflated 78%)\n",
            "  adding: root/ctsModels/116.hmm (deflated 84%)\n",
            "  adding: root/ctsModels/666.hmm (deflated 89%)\n",
            "  adding: root/ctsModels/332.hmm (deflated 83%)\n",
            "  adding: root/ctsModels/661.hmm (deflated 84%)\n",
            "  adding: root/ctsModels/226.hmm (deflated 83%)\n",
            "  adding: root/ctsModels/322.hmm (deflated 83%)\n",
            "  adding: root/ctsModels/67.hmm (deflated 75%)\n",
            "  adding: root/ctsModels/262.hmm (deflated 83%)\n",
            "  adding: root/ctsModels/312.hmm (deflated 78%)\n",
            "  adding: root/ctsModels/23.hmm (deflated 76%)\n",
            "  adding: root/ctsModels/237.hmm (deflated 77%)\n",
            "  adding: root/ctsModels/333.hmm (deflated 89%)\n",
            "  adding: root/ctsModels/611.hmm (deflated 83%)\n",
            "  adding: root/ctsModels/337.hmm (deflated 83%)\n",
            "  adding: root/ctsModels/63.hmm (deflated 75%)\n",
            "  adding: root/ctsModels/761.hmm (deflated 77%)\n",
            "  adding: root/ctsModels/31.hmm (deflated 76%)\n",
            "  adding: root/ctsModels/273.hmm (deflated 77%)\n",
            "  adding: root/ctsModels/166.hmm (deflated 83%)\n",
            "  adding: root/ctsModels/376.hmm (deflated 77%)\n",
            "  adding: root/ctsModels/717.hmm (deflated 83%)\n",
            "  adding: root/ctsModels/737.hmm (deflated 83%)\n",
            "  adding: root/ctsModels/331.hmm (deflated 83%)\n",
            "  adding: root/ctsModels/232.hmm (deflated 83%)\n",
            "  adding: root/ctsModels/263.hmm (deflated 77%)\n",
            "  adding: root/ctsModels/172.hmm (deflated 78%)\n",
            "  adding: root/ctsModels/233.hmm (deflated 83%)\n",
            "  adding: root/ctsModels/73.hmm (deflated 75%)\n",
            "  adding: root/ctsModels/26.hmm (deflated 75%)\n",
            "  adding: root/ctsModels/726.hmm (deflated 77%)\n",
            "  adding: root/ctsModels/11.hmm (deflated 85%)\n",
            "  adding: root/ctsModels/361.hmm (deflated 77%)\n",
            "  adding: root/ctsModels/21.hmm (deflated 76%)\n",
            "  adding: root/ctsModels/16.hmm (deflated 76%)\n",
            "  adding: root/ctsModels/367.hmm (deflated 77%)\n",
            "  adding: root/ctsModels/32.hmm (deflated 76%)\n",
            "  adding: root/ctsModels/612.hmm (deflated 78%)\n",
            "  adding: root/ctsModels/631.hmm (deflated 77%)\n",
            "  adding: root/ctsModels/372.hmm (deflated 77%)\n",
            "  adding: root/ctsModels/123.hmm (deflated 78%)\n",
            "  adding: root/ctsModels/177.hmm (deflated 84%)\n",
            "  adding: root/ctsModels/772.hmm (deflated 83%)\n",
            "  adding: root/ctsModels/231.hmm (deflated 78%)\n",
            "  adding: root/ctsModels/371.hmm (deflated 78%)\n",
            "  adding: root/ctsModels/272.hmm (deflated 83%)\n",
            "  adding: root/ctsModels/736.hmm (deflated 77%)\n",
            "  adding: root/ctsModels/211.hmm (deflated 84%)\n"
          ],
          "name": "stdout"
        },
        {
          "output_type": "display_data",
          "data": {
            "application/javascript": [
              "\n",
              "    async function download(id, filename, size) {\n",
              "      if (!google.colab.kernel.accessAllowed) {\n",
              "        return;\n",
              "      }\n",
              "      const div = document.createElement('div');\n",
              "      const label = document.createElement('label');\n",
              "      label.textContent = `Downloading \"${filename}\": `;\n",
              "      div.appendChild(label);\n",
              "      const progress = document.createElement('progress');\n",
              "      progress.max = size;\n",
              "      div.appendChild(progress);\n",
              "      document.body.appendChild(div);\n",
              "\n",
              "      const buffers = [];\n",
              "      let downloaded = 0;\n",
              "\n",
              "      const channel = await google.colab.kernel.comms.open(id);\n",
              "      // Send a message to notify the kernel that we're ready.\n",
              "      channel.send({})\n",
              "\n",
              "      for await (const message of channel.messages) {\n",
              "        // Send a message to notify the kernel that we're ready.\n",
              "        channel.send({})\n",
              "        if (message.buffers) {\n",
              "          for (const buffer of message.buffers) {\n",
              "            buffers.push(buffer);\n",
              "            downloaded += buffer.byteLength;\n",
              "            progress.value = downloaded;\n",
              "          }\n",
              "        }\n",
              "      }\n",
              "      const blob = new Blob(buffers, {type: 'application/binary'});\n",
              "      const a = document.createElement('a');\n",
              "      a.href = window.URL.createObjectURL(blob);\n",
              "      a.download = filename;\n",
              "      div.appendChild(a);\n",
              "      a.click();\n",
              "      div.remove();\n",
              "    }\n",
              "  "
            ],
            "text/plain": [
              "<IPython.core.display.Javascript object>"
            ]
          },
          "metadata": {
            "tags": []
          }
        },
        {
          "output_type": "display_data",
          "data": {
            "application/javascript": [
              "download(\"download_8d2e736f-af42-4d58-8a20-961452255c9f\", \"ctsModels.zip\", 121676)"
            ],
            "text/plain": [
              "<IPython.core.display.Javascript object>"
            ]
          },
          "metadata": {
            "tags": []
          }
        }
      ]
    },
    {
      "cell_type": "code",
      "metadata": {
        "id": "n_7MHFgR2twr",
        "colab_type": "code",
        "colab": {
          "base_uri": "https://localhost:8080/",
          "height": 34
        },
        "outputId": "db014836-2164-4caf-b090-74a3de2b9c0b"
      },
      "source": [
        "a = array([11,12,13])\n",
        "a = a.astype(\"str\")\n",
        "a[1]==\"12\""
      ],
      "execution_count": null,
      "outputs": [
        {
          "output_type": "execute_result",
          "data": {
            "text/plain": [
              "True"
            ]
          },
          "metadata": {
            "tags": []
          },
          "execution_count": 80
        }
      ]
    },
    {
      "cell_type": "code",
      "metadata": {
        "id": "EHMd6KNJZ-9v",
        "colab_type": "code",
        "colab": {
          "base_uri": "https://localhost:8080/",
          "height": 34
        },
        "outputId": "e4746161-2434-4789-b9cd-9715c6685216"
      },
      "source": [
        "#filecombine(\"one.seq.hmm\",\"two.seq.hmm\",\"check.txt\")\n",
        "filecombine(\"12.hmm\",\"three.seq.hmm\",\"123.hmm\")"
      ],
      "execution_count": null,
      "outputs": [
        {
          "output_type": "stream",
          "text": [
            "(12, 17) (6, 17)\n"
          ],
          "name": "stdout"
        }
      ]
    },
    {
      "cell_type": "code",
      "metadata": {
        "id": "ZkyPMEiwaG0c",
        "colab_type": "code",
        "colab": {
          "base_uri": "https://localhost:8080/",
          "height": 17
        },
        "outputId": "f928414b-5112-4a41-ca38-25c4b0a3b93f"
      },
      "source": [
        "files.download(\"123.hmm\")"
      ],
      "execution_count": null,
      "outputs": [
        {
          "output_type": "display_data",
          "data": {
            "application/javascript": [
              "\n",
              "    async function download(id, filename, size) {\n",
              "      if (!google.colab.kernel.accessAllowed) {\n",
              "        return;\n",
              "      }\n",
              "      const div = document.createElement('div');\n",
              "      const label = document.createElement('label');\n",
              "      label.textContent = `Downloading \"${filename}\": `;\n",
              "      div.appendChild(label);\n",
              "      const progress = document.createElement('progress');\n",
              "      progress.max = size;\n",
              "      div.appendChild(progress);\n",
              "      document.body.appendChild(div);\n",
              "\n",
              "      const buffers = [];\n",
              "      let downloaded = 0;\n",
              "\n",
              "      const channel = await google.colab.kernel.comms.open(id);\n",
              "      // Send a message to notify the kernel that we're ready.\n",
              "      channel.send({})\n",
              "\n",
              "      for await (const message of channel.messages) {\n",
              "        // Send a message to notify the kernel that we're ready.\n",
              "        channel.send({})\n",
              "        if (message.buffers) {\n",
              "          for (const buffer of message.buffers) {\n",
              "            buffers.push(buffer);\n",
              "            downloaded += buffer.byteLength;\n",
              "            progress.value = downloaded;\n",
              "          }\n",
              "        }\n",
              "      }\n",
              "      const blob = new Blob(buffers, {type: 'application/binary'});\n",
              "      const a = document.createElement('a');\n",
              "      a.href = window.URL.createObjectURL(blob);\n",
              "      a.download = filename;\n",
              "      div.appendChild(a);\n",
              "      a.click();\n",
              "      div.remove();\n",
              "    }\n",
              "  "
            ],
            "text/plain": [
              "<IPython.core.display.Javascript object>"
            ]
          },
          "metadata": {
            "tags": []
          }
        },
        {
          "output_type": "display_data",
          "data": {
            "application/javascript": [
              "download(\"download_6302244e-d32c-4242-a74e-e5086657ef6b\", \"123.hmm\", 2777)"
            ],
            "text/plain": [
              "<IPython.core.display.Javascript object>"
            ]
          },
          "metadata": {
            "tags": []
          }
        }
      ]
    },
    {
      "cell_type": "code",
      "metadata": {
        "id": "iQONcYKHs-YH",
        "colab_type": "code",
        "colab": {}
      },
      "source": [
        "                                    #Give the file with sequences for cts. dev data\n",
        "def ctsdevSeq(trainKM,fileWord=\"check.txt\") :\n",
        "    seq = []   \n",
        "                                    #Go through required folders\n",
        "    for subdir, dirs, files in os.walk(\"ctsHMM\"):\n",
        "        print(subdir)\n",
        "        dirname = subdir.split(os.path.sep)[-1]\n",
        "        print('Directory:', dirname)\n",
        "        if dirname == \"dev\":\n",
        "            for f in files:\n",
        "                if f.endswith(\".mfcc\"):\n",
        "                                    #Copy file (mfcc) to root and perform K-means\n",
        "                    !cp -avr /root/ctsHMM/dev/$f /root\n",
        "                    label = testKmeans(f,trainKM)\n",
        "                    seq.append(label)\n",
        "                    !rm $f\n",
        "\n",
        "    seq = array(seq)\n",
        "    \n",
        "    seqDwnld(seq,fileWord)\n",
        "\n",
        "    return None"
      ],
      "execution_count": 79,
      "outputs": []
    },
    {
      "cell_type": "code",
      "metadata": {
        "id": "uabPqWtJrk4t",
        "colab_type": "code",
        "colab": {
          "base_uri": "https://localhost:8080/",
          "height": 612
        },
        "outputId": "12dc61b1-b8da-4aaf-a11a-357fc88bbc56"
      },
      "source": [
        "                                    #Get the test sequence\n",
        "ctsdevSeq(cenKM,\"ctsHMM.dev\")"
      ],
      "execution_count": 80,
      "outputs": [
        {
          "output_type": "stream",
          "text": [
            "ctsHMM\n",
            "Directory: ctsHMM\n",
            "ctsHMM/test\n",
            "Directory: test\n",
            "ctsHMM/dev\n",
            "Directory: dev\n",
            "'/root/ctsHMM/dev/262.mfcc' -> '/root/262.mfcc'\n",
            "'/root/ctsHMM/dev/662.mfcc' -> '/root/662.mfcc'\n",
            "'/root/ctsHMM/dev/66.mfcc' -> '/root/66.mfcc'\n",
            "'/root/ctsHMM/dev/711.mfcc' -> '/root/711.mfcc'\n",
            "'/root/ctsHMM/dev/12.mfcc' -> '/root/12.mfcc'\n",
            "'/root/ctsHMM/dev/233.mfcc' -> '/root/233.mfcc'\n",
            "'/root/ctsHMM/dev/217.mfcc' -> '/root/217.mfcc'\n",
            "'/root/ctsHMM/dev/121.mfcc' -> '/root/121.mfcc'\n",
            "'/root/ctsHMM/dev/622.mfcc' -> '/root/622.mfcc'\n",
            "'/root/ctsHMM/dev/61.mfcc' -> '/root/61.mfcc'\n",
            "'/root/ctsHMM/dev/11.mfcc' -> '/root/11.mfcc'\n",
            "'/root/ctsHMM/dev/13.mfcc' -> '/root/13.mfcc'\n",
            "'/root/ctsHMM/dev/122.mfcc' -> '/root/122.mfcc'\n",
            "'/root/ctsHMM/dev/22.mfcc' -> '/root/22.mfcc'\n",
            "'/root/ctsHMM/dev/111.mfcc' -> '/root/111.mfcc'\n",
            "'/root/ctsHMM/dev/77.mfcc' -> '/root/77.mfcc'\n",
            "'/root/ctsHMM/dev/277.mfcc' -> '/root/277.mfcc'\n",
            "'/root/ctsHMM/dev/212.mfcc' -> '/root/212.mfcc'\n",
            "'/root/ctsHMM/dev/16.mfcc' -> '/root/16.mfcc'\n",
            "'/root/ctsHMM/dev/331.mfcc' -> '/root/331.mfcc'\n",
            "'/root/ctsHMM/dev/311.mfcc' -> '/root/311.mfcc'\n",
            "'/root/ctsHMM/dev/116.mfcc' -> '/root/116.mfcc'\n",
            "'/root/ctsHMM/dev/31.mfcc' -> '/root/31.mfcc'\n",
            "'/root/ctsHMM/dev/21.mfcc' -> '/root/21.mfcc'\n",
            "'/root/ctsHMM/dev/23.mfcc' -> '/root/23.mfcc'\n",
            "'/root/ctsHMM/dev/172.mfcc' -> '/root/172.mfcc'\n",
            "'/root/ctsHMM/dev/322.mfcc' -> '/root/322.mfcc'\n",
            "'/root/ctsHMM/dev/132.mfcc' -> '/root/132.mfcc'\n",
            "'/root/ctsHMM/dev/71.mfcc' -> '/root/71.mfcc'\n"
          ],
          "name": "stdout"
        }
      ]
    },
    {
      "cell_type": "code",
      "metadata": {
        "id": "U2gSo0ISrXOz",
        "colab_type": "code",
        "colab": {
          "base_uri": "https://localhost:8080/",
          "height": 17
        },
        "outputId": "af508402-106a-44bf-f5e2-561d46e84e91"
      },
      "source": [
        "                                    #Download the test sequence files\n",
        "files.download(\"ctsHMM.dev\")"
      ],
      "execution_count": 81,
      "outputs": [
        {
          "output_type": "display_data",
          "data": {
            "application/javascript": [
              "\n",
              "    async function download(id, filename, size) {\n",
              "      if (!google.colab.kernel.accessAllowed) {\n",
              "        return;\n",
              "      }\n",
              "      const div = document.createElement('div');\n",
              "      const label = document.createElement('label');\n",
              "      label.textContent = `Downloading \"${filename}\": `;\n",
              "      div.appendChild(label);\n",
              "      const progress = document.createElement('progress');\n",
              "      progress.max = size;\n",
              "      div.appendChild(progress);\n",
              "      document.body.appendChild(div);\n",
              "\n",
              "      const buffers = [];\n",
              "      let downloaded = 0;\n",
              "\n",
              "      const channel = await google.colab.kernel.comms.open(id);\n",
              "      // Send a message to notify the kernel that we're ready.\n",
              "      channel.send({})\n",
              "\n",
              "      for await (const message of channel.messages) {\n",
              "        // Send a message to notify the kernel that we're ready.\n",
              "        channel.send({})\n",
              "        if (message.buffers) {\n",
              "          for (const buffer of message.buffers) {\n",
              "            buffers.push(buffer);\n",
              "            downloaded += buffer.byteLength;\n",
              "            progress.value = downloaded;\n",
              "          }\n",
              "        }\n",
              "      }\n",
              "      const blob = new Blob(buffers, {type: 'application/binary'});\n",
              "      const a = document.createElement('a');\n",
              "      a.href = window.URL.createObjectURL(blob);\n",
              "      a.download = filename;\n",
              "      div.appendChild(a);\n",
              "      a.click();\n",
              "      div.remove();\n",
              "    }\n",
              "  "
            ],
            "text/plain": [
              "<IPython.core.display.Javascript object>"
            ]
          },
          "metadata": {
            "tags": []
          }
        },
        {
          "output_type": "display_data",
          "data": {
            "application/javascript": [
              "download(\"download_9d9b1219-9ac2-4445-bf14-e107f1a6ad75\", \"ctsHMM.dev\", 10453)"
            ],
            "text/plain": [
              "<IPython.core.display.Javascript object>"
            ]
          },
          "metadata": {
            "tags": []
          }
        }
      ]
    },
    {
      "cell_type": "code",
      "metadata": {
        "id": "6ZmX-FoDs90m",
        "colab_type": "code",
        "colab": {
          "base_uri": "https://localhost:8080/",
          "height": 255
        },
        "outputId": "e3720402-a70f-4ea4-8b8f-6e512667fb06"
      },
      "source": [
        "!ls\n",
        "%cd ctsHMM/dev\n",
        "!ls\n",
        "%cd"
      ],
      "execution_count": 82,
      "outputs": [
        {
          "output_type": "stream",
          "text": [
            "1\t22.hmm\t36.hmm\t7\t    ctsModels\t   one.seq\t  two.seq\n",
            "11.hmm\t23.hmm\t37.hmm\t71.hmm\t    ctsModels.zip  one.seq.hmm\t  two.seq.hmm\n",
            "12.hmm\t26.hmm\t6\t72.hmm\t    DHMM.test\t   seven.seq\n",
            "13.hmm\t27.hmm\t61.hmm\t73.hmm\t    fp1.txt\t   seven.seq.hmm\n",
            "16.hmm\t3\t62.hmm\t76.hmm\t    fp2.txt\t   six.seq\n",
            "17.hmm\t31.hmm\t63.hmm\t77.hmm\t    fp3.txt\t   six.seq.hmm\n",
            "2\t32.hmm\t66.hmm\tctsHMM\t    fp6.txt\t   three.seq\n",
            "21.hmm\t33.hmm\t67.hmm\tctsHMM.dev  fp7.txt\t   three.seq.hmm\n",
            "/root/ctsHMM/dev\n",
            "111.mfcc  122.mfcc  16.mfcc   21.mfcc\t262.mfcc  322.mfcc  662.mfcc  77.mfcc\n",
            "116.mfcc  12.mfcc   172.mfcc  22.mfcc\t277.mfcc  331.mfcc  66.mfcc\n",
            "11.mfcc   132.mfcc  212.mfcc  233.mfcc\t311.mfcc  61.mfcc   711.mfcc\n",
            "121.mfcc  13.mfcc   217.mfcc  23.mfcc\t31.mfcc   622.mfcc  71.mfcc\n",
            "/root\n"
          ],
          "name": "stdout"
        }
      ]
    },
    {
      "cell_type": "code",
      "metadata": {
        "id": "FSdqbAlis-80",
        "colab_type": "code",
        "colab": {
          "base_uri": "https://localhost:8080/",
          "height": 88
        },
        "outputId": "23645e32-5689-46b0-c3e5-917c210d77d7"
      },
      "source": [
        "a = array([11,12,13,16,17,21,22,23,26,27,31,32,33,36,37,61,62,63,66,67,71,72,73,76,77])\n",
        "b = array([1,2,3,6,7])\n",
        "a = a.astype(\"str\")\n",
        "b = b.astype(\"str\")\n",
        "c = np.zeros(125)\n",
        "for i in range(0,25) :\n",
        "    for j in range(0,5) :\n",
        "        c[int(5*i+j)] = a[i]+b[j]\n",
        "\n",
        "c = c.astype(\"int\")\n",
        "c = c.astype(\"str\")\n",
        "c = list(c)\n",
        "a = list(a)\n",
        "d = a+c\n",
        "print(c)\n",
        "print(a)\n",
        "print(d)"
      ],
      "execution_count": null,
      "outputs": [
        {
          "output_type": "stream",
          "text": [
            "['111', '112', '113', '116', '117', '121', '122', '123', '126', '127', '131', '132', '133', '136', '137', '161', '162', '163', '166', '167', '171', '172', '173', '176', '177', '211', '212', '213', '216', '217', '221', '222', '223', '226', '227', '231', '232', '233', '236', '237', '261', '262', '263', '266', '267', '271', '272', '273', '276', '277', '311', '312', '313', '316', '317', '321', '322', '323', '326', '327', '331', '332', '333', '336', '337', '361', '362', '363', '366', '367', '371', '372', '373', '376', '377', '611', '612', '613', '616', '617', '621', '622', '623', '626', '627', '631', '632', '633', '636', '637', '661', '662', '663', '666', '667', '671', '672', '673', '676', '677', '711', '712', '713', '716', '717', '721', '722', '723', '726', '727', '731', '732', '733', '736', '737', '761', '762', '763', '766', '767', '771', '772', '773', '776', '777']\n",
            "['11', '12', '13', '16', '17', '21', '22', '23', '26', '27', '31', '32', '33', '36', '37', '61', '62', '63', '66', '67', '71', '72', '73', '76', '77']\n",
            "['11', '12', '13', '16', '17', '21', '22', '23', '26', '27', '31', '32', '33', '36', '37', '61', '62', '63', '66', '67', '71', '72', '73', '76', '77', '111', '112', '113', '116', '117', '121', '122', '123', '126', '127', '131', '132', '133', '136', '137', '161', '162', '163', '166', '167', '171', '172', '173', '176', '177', '211', '212', '213', '216', '217', '221', '222', '223', '226', '227', '231', '232', '233', '236', '237', '261', '262', '263', '266', '267', '271', '272', '273', '276', '277', '311', '312', '313', '316', '317', '321', '322', '323', '326', '327', '331', '332', '333', '336', '337', '361', '362', '363', '366', '367', '371', '372', '373', '376', '377', '611', '612', '613', '616', '617', '621', '622', '623', '626', '627', '631', '632', '633', '636', '637', '661', '662', '663', '666', '667', '671', '672', '673', '676', '677', '711', '712', '713', '716', '717', '721', '722', '723', '726', '727', '731', '732', '733', '736', '737', '761', '762', '763', '766', '767', '771', '772', '773', '776', '777']\n"
          ],
          "name": "stdout"
        }
      ]
    },
    {
      "cell_type": "code",
      "metadata": {
        "id": "-s3rzXBMa2nb",
        "colab_type": "code",
        "colab": {}
      },
      "source": [
        ""
      ],
      "execution_count": null,
      "outputs": []
    }
  ]
}