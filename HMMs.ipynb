{
  "nbformat": 4,
  "nbformat_minor": 0,
  "metadata": {
    "colab": {
      "name": "HMMs.ipynb",
      "provenance": [],
      "collapsed_sections": [],
      "authorship_tag": "ABX9TyMXMpfaHtkim5SF248YrYWD",
      "include_colab_link": true
    },
    "kernelspec": {
      "name": "python3",
      "display_name": "Python 3"
    }
  },
  "cells": [
    {
      "cell_type": "markdown",
      "metadata": {
        "id": "view-in-github",
        "colab_type": "text"
      },
      "source": [
        "<a href=\"https://colab.research.google.com/github/vignesh99/CS6300-Speech-Technology/blob/master/HMMs.ipynb\" target=\"_parent\"><img src=\"https://colab.research.google.com/assets/colab-badge.svg\" alt=\"Open In Colab\"/></a>"
      ]
    },
    {
      "cell_type": "code",
      "metadata": {
        "id": "WuIaWLcM9ZL2",
        "colab_type": "code",
        "colab": {
          "base_uri": "https://localhost:8080/",
          "height": 425
        },
        "outputId": "74404b25-fa0b-487e-8772-8ff41057fed5"
      },
      "source": [
        "                                    #Get data files onto root\n",
        "%cd\n",
        "from google.colab import drive\n",
        "drive.mount('/content/gdrive')\n",
        "!cp -avr /content/gdrive/My\\ Drive/HMM_IsoData/1 /root\n",
        "!cp -avr /content/gdrive/My\\ Drive/HMM_IsoData/2 /root\n",
        "!cp -avr /content/gdrive/My\\ Drive/HMM_IsoData/3 /root\n",
        "!cp -avr /content/gdrive/My\\ Drive/HMM_IsoData/6 /root\n",
        "!cp -avr /content/gdrive/My\\ Drive/HMM_IsoData/7 /root\n",
        "!cp -avr /content/gdrive/My\\ Drive/HMM_CtsData/dev /root\n",
        "!cp -avr /content/gdrive/My\\ Drive/HMM_CtsData/test /root\n",
        "!ls"
      ],
      "execution_count": 119,
      "outputs": [
        {
          "output_type": "stream",
          "text": [
            "/root\n",
            "Drive already mounted at /content/gdrive; to attempt to forcibly remount, call drive.mount(\"/content/gdrive\", force_remount=True).\n",
            "removed '/root/1'\n",
            "'/content/gdrive/My Drive/HMM_IsoData/1' -> '/root/1'\n",
            "removed '/root/2'\n",
            "'/content/gdrive/My Drive/HMM_IsoData/2' -> '/root/2'\n",
            "removed '/root/3'\n",
            "'/content/gdrive/My Drive/HMM_IsoData/3' -> '/root/3'\n",
            "removed '/root/6'\n",
            "'/content/gdrive/My Drive/HMM_IsoData/6' -> '/root/6'\n",
            "removed '/root/7'\n",
            "'/content/gdrive/My Drive/HMM_IsoData/7' -> '/root/7'\n",
            "removed '/root/dev/team15'\n",
            "'/content/gdrive/My Drive/HMM_CtsData/dev/team15' -> '/root/dev/team15'\n",
            "removed '/root/test/team15'\n",
            "'/content/gdrive/My Drive/HMM_CtsData/test/team15' -> '/root/test/team15'\n",
            "'/content/gdrive/My Drive/fp1.txt' -> '/root/fp1.txt'\n",
            "'/content/gdrive/My Drive/fp2.txt' -> '/root/fp2.txt'\n",
            "'/content/gdrive/My Drive/fp3.txt' -> '/root/fp3.txt'\n",
            "'/content/gdrive/My Drive/fp6.txt' -> '/root/fp6.txt'\n",
            "'/content/gdrive/My Drive/fp7.txt' -> '/root/fp7.txt'\n",
            "1  6\tDHMMtest  fp3.txt  one.seq    seven.test  test\t      two.seq\n",
            "2  7\tfp1.txt   fp6.txt  one.test   six.seq\t  three.seq   two.test\n",
            "3  dev\tfp2.txt   fp7.txt  seven.seq  six.test\t  three.test\n"
          ],
          "name": "stdout"
        }
      ]
    },
    {
      "cell_type": "code",
      "metadata": {
        "id": "Tu_1dZFCCgyo",
        "colab_type": "code",
        "colab": {
          "base_uri": "https://localhost:8080/",
          "height": 34
        },
        "outputId": "78c84d8e-69e1-41fb-e2ef-9cfc1300935f"
      },
      "source": [
        "                                    #Test file\n",
        "!cp -avr /root/1/dev/ra_1.mfcc /root\n",
        "filex = \"ra_1.mfcc\""
      ],
      "execution_count": 90,
      "outputs": [
        {
          "output_type": "stream",
          "text": [
            "'/root/1/dev/ra_1.mfcc' -> '/root/ra_1.mfcc'\n"
          ],
          "name": "stdout"
        }
      ]
    },
    {
      "cell_type": "code",
      "metadata": {
        "id": "RcjI1APJCGLi",
        "colab_type": "code",
        "colab": {}
      },
      "source": [
        "                                    #Import required libraries\n",
        "from pylab import *\n",
        "import os                           #Going through folders\n",
        "from scipy.cluster.vq import kmeans2\n",
        "from google.colab import files\n",
        "from sklearn.cluster import KMeans"
      ],
      "execution_count": 87,
      "outputs": []
    },
    {
      "cell_type": "markdown",
      "metadata": {
        "id": "bDKndSmNdWI8",
        "colab_type": "text"
      },
      "source": [
        "**Discete HMMs**"
      ]
    },
    {
      "cell_type": "code",
      "metadata": {
        "id": "7Q9zZey1ESja",
        "colab_type": "code",
        "colab": {}
      },
      "source": [
        "def fileTofeature(fileMfcc) :\n",
        "                                    #Convert features from file into array\n",
        "    features = np.genfromtxt(fileMfcc,delimiter='\\n',dtype=str)\n",
        "    Nc,Nf = features[0].split(\" \")\n",
        "    Nc = int(Nc)\n",
        "    Nf = int(Nf)\n",
        "    features = np.genfromtxt(features[1:],delimiter=' ',dtype=str)\n",
        "    features = features.astype(float)\n",
        "                                    \n",
        "    return Nf,features\n"
      ],
      "execution_count": 88,
      "outputs": []
    },
    {
      "cell_type": "code",
      "metadata": {
        "id": "pN7oQe67vOBm",
        "colab_type": "code",
        "colab": {
          "base_uri": "https://localhost:8080/",
          "height": 34
        },
        "outputId": "3686cc97-078f-4777-f964-d81017a982a8"
      },
      "source": [
        "label,ft = fileTofeature(filex)\n",
        "label"
      ],
      "execution_count": 91,
      "outputs": [
        {
          "output_type": "execute_result",
          "data": {
            "text/plain": [
              "121"
            ]
          },
          "metadata": {
            "tags": []
          },
          "execution_count": 91
        }
      ]
    },
    {
      "cell_type": "code",
      "metadata": {
        "id": "PPEok_7ly-0s",
        "colab_type": "code",
        "colab": {}
      },
      "source": [
        "                                    #Give the file with sequences for training data\n",
        "def trainCentre(Nclust=16,folders=None) :\n",
        "    if folders is None :            #Go through all digits\n",
        "        folders = array([\"1\",\"2\",\"3\",\"6\",\"7\"])\n",
        "\n",
        "    ind = []                     #All digits total vector numbers\n",
        "    ind.append([0,0])            #Inital values\n",
        "    Nwin = []                       #No. of vectors in each train file\n",
        "    count = 0\n",
        "    for word in folders :\n",
        "                                    #Go through required folders\n",
        "        for subdir, dirs, files in os.walk(word):\n",
        "            dirname = subdir.split(os.path.sep)[-1]\n",
        "            print('Directory:', dirname)\n",
        "            if dirname == \"train\":\n",
        "                for f in files:\n",
        "                    if f.endswith('.mfcc'):\n",
        "                                    #Copy file (mfcc) to root and perform K-means\n",
        "                        !cp -avr /root/$word/train/$f /root\n",
        "                        foo,temp = fileTofeature(f)\n",
        "                                    #Concatenate training feature vectors\n",
        "                        if count == 0 :\n",
        "                            features = temp\n",
        "                            Nwin.append(foo)\n",
        "                        else :\n",
        "                            features = np.concatenate((features,temp))\n",
        "                            Nwin.append(foo+Nwin[-1])\n",
        "                        !rm $f\n",
        "                        count+=1\n",
        "        ind.append([len(Nwin),Nwin[-1]])\n",
        "                                    #Apply K-means on the vectors\n",
        "    trainKM = KMeans(n_clusters=Nclust)\n",
        "    trainKM.fit(features)\n",
        "                                    #Get Nwin in required format\n",
        "    ind = array(ind)\n",
        "    Nwin = array(Nwin)\n",
        "    for i in range(5) :\n",
        "        Nwin[ind[i,0]:ind[i+1,0]] -=  ind[i,1]\n",
        "\n",
        "    return Nwin,features,trainKM,ind\n"
      ],
      "execution_count": 109,
      "outputs": []
    },
    {
      "cell_type": "code",
      "metadata": {
        "id": "JcXtKAXO8KOU",
        "colab_type": "code",
        "colab": {}
      },
      "source": [
        "def seqDwnld(seq,fileWord) :\n",
        "    with open(fileWord,\"w\") as f:\n",
        "        f.write(\"\\n\".join(\" \".join(map(str, line)) for line in seq))\n",
        "\n",
        "    return None"
      ],
      "execution_count": 110,
      "outputs": []
    },
    {
      "cell_type": "code",
      "metadata": {
        "id": "7eKPgOrXti5Y",
        "colab_type": "code",
        "colab": {}
      },
      "source": [
        "                                    #Give the file with sequences for training data\n",
        "def trainSeq(Nwin,features,trainKM,fileWord=\"check.txt\") :\n",
        "    seq = []\n",
        "    count = 0\n",
        "                                    #Go through required folders\n",
        "    for i in range(0,len(Nwin)) :\n",
        "                                    #Get each features from all-features-array\n",
        "        if i != 0:\n",
        "            temp = features[Nwin[i-1]:Nwin[i]]\n",
        "        else : \n",
        "            temp = features[:Nwin[0]]\n",
        "                                    #Perform Kmeans on predefined centres\n",
        "        label = trainKM.predict(temp)\n",
        "        seq.append(label)\n",
        "\n",
        "        if i==2 :\n",
        "            print(label)\n",
        "\n",
        "    seq = array(seq)\n",
        "\n",
        "    seqDwnld(seq,fileWord)\n",
        "\n",
        "    return None\n"
      ],
      "execution_count": 111,
      "outputs": []
    },
    {
      "cell_type": "code",
      "metadata": {
        "id": "E1-vC4d2re4V",
        "colab_type": "code",
        "colab": {
          "base_uri": "https://localhost:8080/",
          "height": 85
        },
        "outputId": "1ca5baed-d14e-4337-f409-ac1f5d10d7c6"
      },
      "source": [
        "!ls"
      ],
      "execution_count": 102,
      "outputs": [
        {
          "output_type": "stream",
          "text": [
            "1  7\t      fp1.txt  fp7.txt\t  seven.seq   test\t  two.test\n",
            "2  bh_1.mfcc  fp2.txt  one.seq\t  seven.test  three.seq\n",
            "3  dev\t      fp3.txt  one.test   six.seq     three.test\n",
            "6  ek_7.mfcc  fp6.txt  ra_1.mfcc  six.test    two.seq\n"
          ],
          "name": "stdout"
        }
      ]
    },
    {
      "cell_type": "code",
      "metadata": {
        "id": "E_TB16nOVIoW",
        "colab_type": "code",
        "colab": {}
      },
      "source": [
        "Nw,feat,cenKM,ind = trainCentre()       #Train all the phenomes\n",
        "\n",
        "                                    #Get file sequences\n",
        "trainSeq(Nw[ind[0,0]:ind[1,0]],feat[ind[0,1]:ind[1,1]],cenKM,\"one.seq\")\n",
        "trainSeq(Nw[ind[1,0]:ind[2,0]],feat[ind[1,1]:ind[2,1]],cenKM,\"two.seq\")\n",
        "trainSeq(Nw[ind[2,0]:ind[3,0]],feat[ind[2,1]:ind[3,1]],cenKM,\"three.seq\")\n",
        "trainSeq(Nw[ind[3,0]:ind[4,0]],feat[ind[3,1]:ind[4,1]],cenKM,\"six.seq\")\n",
        "trainSeq(Nw[ind[4,0]:ind[5,0]],feat[ind[4,1]:ind[5,1]],cenKM,\"seven.seq\")\n"
      ],
      "execution_count": null,
      "outputs": []
    },
    {
      "cell_type": "code",
      "metadata": {
        "id": "4NbQNLj4Y2MA",
        "colab_type": "code",
        "colab": {
          "base_uri": "https://localhost:8080/",
          "height": 17
        },
        "outputId": "ccbe7cc5-3b7e-4a9f-90c9-a1ef970d22c0"
      },
      "source": [
        "                                    #Download the train sequence files\n",
        "files.download(\"one.seq\")\n",
        "files.download(\"two.seq\")\n",
        "files.download(\"three.seq\")\n",
        "files.download(\"six.seq\")\n",
        "files.download(\"seven.seq\")"
      ],
      "execution_count": 114,
      "outputs": [
        {
          "output_type": "display_data",
          "data": {
            "application/javascript": [
              "\n",
              "    async function download(id, filename, size) {\n",
              "      if (!google.colab.kernel.accessAllowed) {\n",
              "        return;\n",
              "      }\n",
              "      const div = document.createElement('div');\n",
              "      const label = document.createElement('label');\n",
              "      label.textContent = `Downloading \"${filename}\": `;\n",
              "      div.appendChild(label);\n",
              "      const progress = document.createElement('progress');\n",
              "      progress.max = size;\n",
              "      div.appendChild(progress);\n",
              "      document.body.appendChild(div);\n",
              "\n",
              "      const buffers = [];\n",
              "      let downloaded = 0;\n",
              "\n",
              "      const channel = await google.colab.kernel.comms.open(id);\n",
              "      // Send a message to notify the kernel that we're ready.\n",
              "      channel.send({})\n",
              "\n",
              "      for await (const message of channel.messages) {\n",
              "        // Send a message to notify the kernel that we're ready.\n",
              "        channel.send({})\n",
              "        if (message.buffers) {\n",
              "          for (const buffer of message.buffers) {\n",
              "            buffers.push(buffer);\n",
              "            downloaded += buffer.byteLength;\n",
              "            progress.value = downloaded;\n",
              "          }\n",
              "        }\n",
              "      }\n",
              "      const blob = new Blob(buffers, {type: 'application/binary'});\n",
              "      const a = document.createElement('a');\n",
              "      a.href = window.URL.createObjectURL(blob);\n",
              "      a.download = filename;\n",
              "      div.appendChild(a);\n",
              "      a.click();\n",
              "      div.remove();\n",
              "    }\n",
              "  "
            ],
            "text/plain": [
              "<IPython.core.display.Javascript object>"
            ]
          },
          "metadata": {
            "tags": []
          }
        },
        {
          "output_type": "display_data",
          "data": {
            "application/javascript": [
              "download(\"download_4c0e4534-adec-44a1-8d43-f8f04777519e\", \"one.seq\", 8488)"
            ],
            "text/plain": [
              "<IPython.core.display.Javascript object>"
            ]
          },
          "metadata": {
            "tags": []
          }
        },
        {
          "output_type": "display_data",
          "data": {
            "application/javascript": [
              "\n",
              "    async function download(id, filename, size) {\n",
              "      if (!google.colab.kernel.accessAllowed) {\n",
              "        return;\n",
              "      }\n",
              "      const div = document.createElement('div');\n",
              "      const label = document.createElement('label');\n",
              "      label.textContent = `Downloading \"${filename}\": `;\n",
              "      div.appendChild(label);\n",
              "      const progress = document.createElement('progress');\n",
              "      progress.max = size;\n",
              "      div.appendChild(progress);\n",
              "      document.body.appendChild(div);\n",
              "\n",
              "      const buffers = [];\n",
              "      let downloaded = 0;\n",
              "\n",
              "      const channel = await google.colab.kernel.comms.open(id);\n",
              "      // Send a message to notify the kernel that we're ready.\n",
              "      channel.send({})\n",
              "\n",
              "      for await (const message of channel.messages) {\n",
              "        // Send a message to notify the kernel that we're ready.\n",
              "        channel.send({})\n",
              "        if (message.buffers) {\n",
              "          for (const buffer of message.buffers) {\n",
              "            buffers.push(buffer);\n",
              "            downloaded += buffer.byteLength;\n",
              "            progress.value = downloaded;\n",
              "          }\n",
              "        }\n",
              "      }\n",
              "      const blob = new Blob(buffers, {type: 'application/binary'});\n",
              "      const a = document.createElement('a');\n",
              "      a.href = window.URL.createObjectURL(blob);\n",
              "      a.download = filename;\n",
              "      div.appendChild(a);\n",
              "      a.click();\n",
              "      div.remove();\n",
              "    }\n",
              "  "
            ],
            "text/plain": [
              "<IPython.core.display.Javascript object>"
            ]
          },
          "metadata": {
            "tags": []
          }
        },
        {
          "output_type": "display_data",
          "data": {
            "application/javascript": [
              "download(\"download_ac130ff7-a783-4a89-b04a-f811c336a22c\", \"two.seq\", 8119)"
            ],
            "text/plain": [
              "<IPython.core.display.Javascript object>"
            ]
          },
          "metadata": {
            "tags": []
          }
        },
        {
          "output_type": "display_data",
          "data": {
            "application/javascript": [
              "\n",
              "    async function download(id, filename, size) {\n",
              "      if (!google.colab.kernel.accessAllowed) {\n",
              "        return;\n",
              "      }\n",
              "      const div = document.createElement('div');\n",
              "      const label = document.createElement('label');\n",
              "      label.textContent = `Downloading \"${filename}\": `;\n",
              "      div.appendChild(label);\n",
              "      const progress = document.createElement('progress');\n",
              "      progress.max = size;\n",
              "      div.appendChild(progress);\n",
              "      document.body.appendChild(div);\n",
              "\n",
              "      const buffers = [];\n",
              "      let downloaded = 0;\n",
              "\n",
              "      const channel = await google.colab.kernel.comms.open(id);\n",
              "      // Send a message to notify the kernel that we're ready.\n",
              "      channel.send({})\n",
              "\n",
              "      for await (const message of channel.messages) {\n",
              "        // Send a message to notify the kernel that we're ready.\n",
              "        channel.send({})\n",
              "        if (message.buffers) {\n",
              "          for (const buffer of message.buffers) {\n",
              "            buffers.push(buffer);\n",
              "            downloaded += buffer.byteLength;\n",
              "            progress.value = downloaded;\n",
              "          }\n",
              "        }\n",
              "      }\n",
              "      const blob = new Blob(buffers, {type: 'application/binary'});\n",
              "      const a = document.createElement('a');\n",
              "      a.href = window.URL.createObjectURL(blob);\n",
              "      a.download = filename;\n",
              "      div.appendChild(a);\n",
              "      a.click();\n",
              "      div.remove();\n",
              "    }\n",
              "  "
            ],
            "text/plain": [
              "<IPython.core.display.Javascript object>"
            ]
          },
          "metadata": {
            "tags": []
          }
        },
        {
          "output_type": "display_data",
          "data": {
            "application/javascript": [
              "download(\"download_f644f2c1-dba8-4c58-b5f6-0662f953004f\", \"three.seq\", 8499)"
            ],
            "text/plain": [
              "<IPython.core.display.Javascript object>"
            ]
          },
          "metadata": {
            "tags": []
          }
        },
        {
          "output_type": "display_data",
          "data": {
            "application/javascript": [
              "\n",
              "    async function download(id, filename, size) {\n",
              "      if (!google.colab.kernel.accessAllowed) {\n",
              "        return;\n",
              "      }\n",
              "      const div = document.createElement('div');\n",
              "      const label = document.createElement('label');\n",
              "      label.textContent = `Downloading \"${filename}\": `;\n",
              "      div.appendChild(label);\n",
              "      const progress = document.createElement('progress');\n",
              "      progress.max = size;\n",
              "      div.appendChild(progress);\n",
              "      document.body.appendChild(div);\n",
              "\n",
              "      const buffers = [];\n",
              "      let downloaded = 0;\n",
              "\n",
              "      const channel = await google.colab.kernel.comms.open(id);\n",
              "      // Send a message to notify the kernel that we're ready.\n",
              "      channel.send({})\n",
              "\n",
              "      for await (const message of channel.messages) {\n",
              "        // Send a message to notify the kernel that we're ready.\n",
              "        channel.send({})\n",
              "        if (message.buffers) {\n",
              "          for (const buffer of message.buffers) {\n",
              "            buffers.push(buffer);\n",
              "            downloaded += buffer.byteLength;\n",
              "            progress.value = downloaded;\n",
              "          }\n",
              "        }\n",
              "      }\n",
              "      const blob = new Blob(buffers, {type: 'application/binary'});\n",
              "      const a = document.createElement('a');\n",
              "      a.href = window.URL.createObjectURL(blob);\n",
              "      a.download = filename;\n",
              "      div.appendChild(a);\n",
              "      a.click();\n",
              "      div.remove();\n",
              "    }\n",
              "  "
            ],
            "text/plain": [
              "<IPython.core.display.Javascript object>"
            ]
          },
          "metadata": {
            "tags": []
          }
        },
        {
          "output_type": "display_data",
          "data": {
            "application/javascript": [
              "download(\"download_c6da2ff9-c417-4bcb-a835-a62d7520403d\", \"six.seq\", 11713)"
            ],
            "text/plain": [
              "<IPython.core.display.Javascript object>"
            ]
          },
          "metadata": {
            "tags": []
          }
        },
        {
          "output_type": "display_data",
          "data": {
            "application/javascript": [
              "\n",
              "    async function download(id, filename, size) {\n",
              "      if (!google.colab.kernel.accessAllowed) {\n",
              "        return;\n",
              "      }\n",
              "      const div = document.createElement('div');\n",
              "      const label = document.createElement('label');\n",
              "      label.textContent = `Downloading \"${filename}\": `;\n",
              "      div.appendChild(label);\n",
              "      const progress = document.createElement('progress');\n",
              "      progress.max = size;\n",
              "      div.appendChild(progress);\n",
              "      document.body.appendChild(div);\n",
              "\n",
              "      const buffers = [];\n",
              "      let downloaded = 0;\n",
              "\n",
              "      const channel = await google.colab.kernel.comms.open(id);\n",
              "      // Send a message to notify the kernel that we're ready.\n",
              "      channel.send({})\n",
              "\n",
              "      for await (const message of channel.messages) {\n",
              "        // Send a message to notify the kernel that we're ready.\n",
              "        channel.send({})\n",
              "        if (message.buffers) {\n",
              "          for (const buffer of message.buffers) {\n",
              "            buffers.push(buffer);\n",
              "            downloaded += buffer.byteLength;\n",
              "            progress.value = downloaded;\n",
              "          }\n",
              "        }\n",
              "      }\n",
              "      const blob = new Blob(buffers, {type: 'application/binary'});\n",
              "      const a = document.createElement('a');\n",
              "      a.href = window.URL.createObjectURL(blob);\n",
              "      a.download = filename;\n",
              "      div.appendChild(a);\n",
              "      a.click();\n",
              "      div.remove();\n",
              "    }\n",
              "  "
            ],
            "text/plain": [
              "<IPython.core.display.Javascript object>"
            ]
          },
          "metadata": {
            "tags": []
          }
        },
        {
          "output_type": "display_data",
          "data": {
            "application/javascript": [
              "download(\"download_67c6ccf4-3868-49c7-84c6-8a4b550488cd\", \"seven.seq\", 9430)"
            ],
            "text/plain": [
              "<IPython.core.display.Javascript object>"
            ]
          },
          "metadata": {
            "tags": []
          }
        }
      ]
    },
    {
      "cell_type": "code",
      "metadata": {
        "id": "YOw0y8mp7Ci8",
        "colab_type": "code",
        "colab": {
          "base_uri": "https://localhost:8080/",
          "height": 391
        },
        "outputId": "1f0f534c-0cf2-4413-ac68-26f910685f5e"
      },
      "source": [
        "!ls\n",
        "print(len(feat))\n",
        "Nw"
      ],
      "execution_count": 113,
      "outputs": [
        {
          "output_type": "stream",
          "text": [
            "1  6\tfp1.txt  fp6.txt  one.test   seven.test  test\t     two.seq\n",
            "2  7\tfp2.txt  fp7.txt  ra_1.mfcc  six.seq\t three.seq   two.test\n",
            "3  dev\tfp3.txt  one.seq  seven.seq  six.test\t three.test\n",
            "19968\n"
          ],
          "name": "stdout"
        },
        {
          "output_type": "execute_result",
          "data": {
            "text/plain": [
              "array([  75,  159,  238,  322,  423,  520,  636,  730,  831,  925, 1028,\n",
              "       1222, 1330, 1418, 1503, 1592, 1662, 1759, 1856, 1948, 2045, 2141,\n",
              "       2238, 2359, 2444, 2538, 2646, 2721, 2818, 2910, 3034, 3146, 3224,\n",
              "       3305, 3412, 3496, 3606, 3684, 3769,   70,  153,  233,  316,  422,\n",
              "        525,  645,  743,  830,  937, 1038, 1126, 1205, 1289, 1372, 1444,\n",
              "       1575, 1662, 1737, 1825, 1942, 2034, 2132, 2230, 2308, 2432, 2517,\n",
              "       2601, 2677, 2770, 2876, 2969, 3068, 3153, 3256, 3343, 3456, 3534,\n",
              "       3631,   71,  159,  242,  349,  452,  540,  646,  754,  843, 1024,\n",
              "       1154, 1247, 1330, 1411, 1494, 1577, 1671, 1764, 1865, 1953, 2047,\n",
              "       2159, 2275, 2458, 2538, 2621, 2733, 2829, 2930, 3024, 3148, 3254,\n",
              "       3335, 3422, 3526, 3615, 3707, 3792, 3898,   97,  207,  341,  458,\n",
              "        565,  696,  825,  946, 1061, 1169, 1309, 1435, 1548, 1645, 1761,\n",
              "       1872, 1966, 2076, 2178, 2317, 2439, 2561, 2722, 2837, 2936, 3053,\n",
              "       3161, 3269, 3377, 3490, 3635, 3760, 3876, 3978, 4088, 4222, 4329,\n",
              "       4437, 4549,  103,  202,  294,  397,  495,  585,  706,  826,  920,\n",
              "       1046, 1158, 1260, 1363, 1469, 1580, 1686, 1790, 1893, 1997, 2103,\n",
              "       2205, 2290, 2407, 2527, 2619, 2731, 2847, 2939, 3058, 3184, 3322,\n",
              "       3430, 3520, 3608, 3712, 3816, 3913, 4009, 4121])"
            ]
          },
          "metadata": {
            "tags": []
          },
          "execution_count": 113
        }
      ]
    },
    {
      "cell_type": "code",
      "metadata": {
        "id": "AYEjyFA-mpjy",
        "colab_type": "code",
        "colab": {}
      },
      "source": [
        "def testKmeans(fileMfcc,trainKM,Nclust=16,iters=1) :\n",
        "                                    #Convert features from file into array\n",
        "    features = np.genfromtxt(fileMfcc,delimiter='\\n',dtype=str)\n",
        "    Nc,Nf = features[0].split(\" \")\n",
        "    Nc = int(Nc)\n",
        "    Nf = int(Nf)\n",
        "    features = np.genfromtxt(features[1:],delimiter=' ',dtype=str)\n",
        "    features = features.astype(float)\n",
        "    \n",
        "                                    #Apply K-means on the vectors\n",
        "    if len(features) == Nf and len(features[0]) == Nc :\n",
        "        label = trainKM.predict(features)\n",
        "\n",
        "    return label\n"
      ],
      "execution_count": 115,
      "outputs": []
    },
    {
      "cell_type": "code",
      "metadata": {
        "id": "H2NQ3LgW1uQC",
        "colab_type": "code",
        "colab": {}
      },
      "source": [
        "                                    #Give the file with sequences for testing data\n",
        "def testSeq(trainKM,fileWord=\"check.txt\",folders=None) :\n",
        "    if folders is None :\n",
        "        folders = array([\"1\",\"2\",\"3\",\"6\",\"7\"])\n",
        "    seq = []\n",
        "    count = np.zeros(5)\n",
        "    for word in folders :    \n",
        "                                        #Go through required folders\n",
        "        for subdir, dirs, files in os.walk(word):\n",
        "            dirname = subdir.split(os.path.sep)[-1]\n",
        "            print('Directory:', dirname)\n",
        "            if dirname == \"dev\":\n",
        "                for f in files:\n",
        "                    if f.endswith(\".mfcc\"):\n",
        "                                        #Copy file (mfcc) to root and perform K-means\n",
        "                        !cp -avr /root/$word/dev/$f /root\n",
        "                        label = testKmeans(f,trainKM)\n",
        "                        seq.append(label)\n",
        "                        !rm $f\n",
        "                        count[np.where(word == folders)[0][0]] += 1\n",
        "        if word != \"1\" :\n",
        "            count[np.where(word == folders)[0][0]] = count[np.where(word == folders)[0][0]] + count[np.where(word == folders)[0][0]-1]\n",
        "\n",
        "    print(count)\n",
        "    seq = array(seq)\n",
        "    \n",
        "    seqDwnld(seq,fileWord)\n",
        "\n",
        "    return count\n"
      ],
      "execution_count": 116,
      "outputs": []
    },
    {
      "cell_type": "code",
      "metadata": {
        "id": "ng9NusK-WX3t",
        "colab_type": "code",
        "colab": {}
      },
      "source": [
        "                                    #Get the test sequence\n",
        "count = testSeq(cenKM,\"DHMMtest\")"
      ],
      "execution_count": null,
      "outputs": []
    },
    {
      "cell_type": "code",
      "metadata": {
        "id": "EC3QLov3eRpf",
        "colab_type": "code",
        "colab": {
          "base_uri": "https://localhost:8080/",
          "height": 17
        },
        "outputId": "c69c64fc-b56a-4433-d32b-cfded50c16d7"
      },
      "source": [
        "                                    #Download the test sequence files\n",
        "files.download(\"DHMMtest\")"
      ],
      "execution_count": 118,
      "outputs": [
        {
          "output_type": "display_data",
          "data": {
            "application/javascript": [
              "\n",
              "    async function download(id, filename, size) {\n",
              "      if (!google.colab.kernel.accessAllowed) {\n",
              "        return;\n",
              "      }\n",
              "      const div = document.createElement('div');\n",
              "      const label = document.createElement('label');\n",
              "      label.textContent = `Downloading \"${filename}\": `;\n",
              "      div.appendChild(label);\n",
              "      const progress = document.createElement('progress');\n",
              "      progress.max = size;\n",
              "      div.appendChild(progress);\n",
              "      document.body.appendChild(div);\n",
              "\n",
              "      const buffers = [];\n",
              "      let downloaded = 0;\n",
              "\n",
              "      const channel = await google.colab.kernel.comms.open(id);\n",
              "      // Send a message to notify the kernel that we're ready.\n",
              "      channel.send({})\n",
              "\n",
              "      for await (const message of channel.messages) {\n",
              "        // Send a message to notify the kernel that we're ready.\n",
              "        channel.send({})\n",
              "        if (message.buffers) {\n",
              "          for (const buffer of message.buffers) {\n",
              "            buffers.push(buffer);\n",
              "            downloaded += buffer.byteLength;\n",
              "            progress.value = downloaded;\n",
              "          }\n",
              "        }\n",
              "      }\n",
              "      const blob = new Blob(buffers, {type: 'application/binary'});\n",
              "      const a = document.createElement('a');\n",
              "      a.href = window.URL.createObjectURL(blob);\n",
              "      a.download = filename;\n",
              "      div.appendChild(a);\n",
              "      a.click();\n",
              "      div.remove();\n",
              "    }\n",
              "  "
            ],
            "text/plain": [
              "<IPython.core.display.Javascript object>"
            ]
          },
          "metadata": {
            "tags": []
          }
        },
        {
          "output_type": "display_data",
          "data": {
            "application/javascript": [
              "download(\"download_dfaaccdf-1573-46db-95a7-51486b7c5edd\", \"DHMMtest\", 14000)"
            ],
            "text/plain": [
              "<IPython.core.display.Javascript object>"
            ]
          },
          "metadata": {
            "tags": []
          }
        }
      ]
    },
    {
      "cell_type": "code",
      "metadata": {
        "id": "QFdT4d0xRImU",
        "colab_type": "code",
        "colab": {
          "base_uri": "https://localhost:8080/",
          "height": 85
        },
        "outputId": "2d8654ee-8b9f-4da7-a79e-0a8e133a45aa"
      },
      "source": [
        "                                    #Final probability files\n",
        "!cp -avr /content/gdrive/My\\ Drive/fp1.txt /root\n",
        "!cp -avr /content/gdrive/My\\ Drive/fp2.txt /root\n",
        "!cp -avr /content/gdrive/My\\ Drive/fp3.txt /root\n",
        "!cp -avr /content/gdrive/My\\ Drive/fp6.txt /root\n",
        "!cp -avr /content/gdrive/My\\ Drive/fp7.txt /root\n",
        "!ls"
      ],
      "execution_count": 133,
      "outputs": [
        {
          "output_type": "stream",
          "text": [
            "'/content/gdrive/My Drive/fp7.txt' -> '/root/fp7.txt'\n",
            "1  6\tDHMMtest  fp3.txt  one.seq    seven.test  test\t      two.seq\n",
            "2  7\tfp1.txt   fp6.txt  one.test   six.seq\t  three.seq   two.test\n",
            "3  dev\tfp2.txt   fp7.txt  seven.seq  six.test\t  three.test\n"
          ],
          "name": "stdout"
        }
      ]
    },
    {
      "cell_type": "code",
      "metadata": {
        "id": "__GHSDZR5FjJ",
        "colab_type": "code",
        "colab": {}
      },
      "source": [
        "def testProb(fileProb) :\n",
        "    prob = np.genfromtxt(fileProb,delimiter=' ',dtype=str)\n",
        "    prob = prob.astype(float)\n",
        "\n",
        "    return prob"
      ],
      "execution_count": 129,
      "outputs": []
    },
    {
      "cell_type": "code",
      "metadata": {
        "id": "HiNDmKpVFE-u",
        "colab_type": "code",
        "colab": {}
      },
      "source": [
        "def accModel(count) :\n",
        "\n",
        "    error = np.zeros(5)\n",
        "    prob1 = testProb(\"fp1.txt\")\n",
        "    allprob = np.zeros((len(prob1),5))\n",
        "    allprob[:,0] = prob1\n",
        "    \n",
        "    allprob[:,1] = testProb(\"fp2.txt\")\n",
        "    allprob[:,2] = testProb(\"fp3.txt\")\n",
        "    allprob[:,3] = testProb(\"fp6.txt\")\n",
        "    allprob[:,4] = testProb(\"fp7.txt\")\n",
        "    \n",
        "    estimate = np.argmax(allprob,axis=1)\n",
        "    print(estimate)\n",
        "    for i in range(0,5) :\n",
        "        if i==0:\n",
        "            error[i] = len(np.where(estimate[:count[i]]!=i)[0])\n",
        "        else :\n",
        "            error[i] = len(np.where(estimate[count[i-1]:count[i]]!=i)[0])\n",
        "\n",
        "    print(error)\n",
        "    acc = 1-(sum(error)/count[-1])\n",
        "    \n",
        "    return acc"
      ],
      "execution_count": 131,
      "outputs": []
    },
    {
      "cell_type": "code",
      "metadata": {
        "id": "OLP__4BBwmzq",
        "colab_type": "code",
        "colab": {
          "base_uri": "https://localhost:8080/",
          "height": 85
        },
        "outputId": "cae903f8-32f2-4eaa-d6dc-14aeda06beb7"
      },
      "source": [
        "acc = accModel(count.astype(int))\n",
        "print(acc)"
      ],
      "execution_count": 135,
      "outputs": [
        {
          "output_type": "stream",
          "text": [
            "[0 0 0 0 0 0 0 0 0 0 0 0 1 1 4 1 0 1 1 1 1 1 4 4 2 2 2 2 2 2 2 2 2 2 2 2 3\n",
            " 3 3 3 3 3 3 3 3 3 3 3 4 4 4 4 4 4 4 4 4 4 4 4]\n",
            "[0. 4. 0. 0. 0.]\n",
            "0.9333333333333333\n"
          ],
          "name": "stdout"
        }
      ]
    },
    {
      "cell_type": "markdown",
      "metadata": {
        "id": "-9AbpSrA42fv",
        "colab_type": "text"
      },
      "source": [
        "**Continuous HMMs**"
      ]
    },
    {
      "cell_type": "code",
      "metadata": {
        "id": "YgExPS1rQuQG",
        "colab_type": "code",
        "colab": {
          "base_uri": "https://localhost:8080/",
          "height": 170
        },
        "outputId": "16110f39-e9a9-4051-c9aa-6dbc39a24213"
      },
      "source": [
        "\n",
        "!cp -avr /content/gdrive/My\\ Drive/one.seq.hmm /root\n",
        "!cp -avr /content/gdrive/My\\ Drive/two.seq.hmm /root\n",
        "!cp -avr /content/gdrive/My\\ Drive/three.seq.hmm /root\n",
        "!cp -avr /content/gdrive/My\\ Drive/six.seq.hmm /root\n",
        "!cp -avr /content/gdrive/My\\ Drive/seven.seq.hmm /root\n",
        "!ls"
      ],
      "execution_count": 137,
      "outputs": [
        {
          "output_type": "stream",
          "text": [
            "'/content/gdrive/My Drive/one.seq.hmm' -> '/root/one.seq.hmm'\n",
            "'/content/gdrive/My Drive/two.seq.hmm' -> '/root/two.seq.hmm'\n",
            "'/content/gdrive/My Drive/three.seq.hmm' -> '/root/three.seq.hmm'\n",
            "'/content/gdrive/My Drive/six.seq.hmm' -> '/root/six.seq.hmm'\n",
            "'/content/gdrive/My Drive/seven.seq.hmm' -> '/root/seven.seq.hmm'\n",
            "1  7\t     fp2.txt  one.seq\t   seven.seq.hmm  six.test\t three.test\n",
            "2  dev\t     fp3.txt  one.seq.hmm  seven.test\t  test\t\t two.seq\n",
            "3  DHMMtest  fp6.txt  one.test\t   six.seq\t  three.seq\t two.seq.hmm\n",
            "6  fp1.txt   fp7.txt  seven.seq    six.seq.hmm\t  three.seq.hmm  two.test\n"
          ],
          "name": "stdout"
        }
      ]
    },
    {
      "cell_type": "code",
      "metadata": {
        "id": "pWgvQc9tmzsD",
        "colab_type": "code",
        "colab": {}
      },
      "source": [
        "                                    #Concatanate 2-digit models\n",
        "def digit2model(fileModel,fileNew,p=0.75,check=[]) :\n",
        "                                    #Read file\n",
        "    data = np.genfromtxt(fileModel,delimiter='\\n',dtype=str)\n",
        "                                    #Change the number of states\n",
        "    headers = np.genfromtxt(data[:2],delimiter=' ',dtype=str)\n",
        "    headers[0,1] = \"6\"\n",
        "    headers = list(headers)\n",
        "    headers.append(\"\\n\")\n",
        "                                    #Read the initial probabilities\n",
        "    probs = np.genfromtxt(data[2:],delimiter='\\t',dtype=str)\n",
        "    probs = probs[:,:-1]\n",
        "    probs = probs.astype(\"float\")\n",
        "                                    #Change the last state transition probabilities\n",
        "    probs = np.concatenate((probs,probs))\n",
        "    probs[4][0] = 1-p\n",
        "    probs[5][0] = p\n",
        "                                    #Write to file\n",
        "    with open(fileNew,\"w\") as f:\n",
        "        f.write(\"\\n\".join(\" \".join(map(str, line)) for line in headers))\n",
        "\n",
        "    f = open(fileNew,'ab')\n",
        "    np.savetxt(f,probs,delimiter='\\t', fmt='%f')\n",
        "    f.close()\n",
        "\n",
        "    return None"
      ],
      "execution_count": 251,
      "outputs": []
    },
    {
      "cell_type": "code",
      "metadata": {
        "id": "EHMd6KNJZ-9v",
        "colab_type": "code",
        "colab": {}
      },
      "source": [
        "digit2model(\"one.seq.hmm\",\"check.txt\")"
      ],
      "execution_count": 252,
      "outputs": []
    },
    {
      "cell_type": "code",
      "metadata": {
        "id": "ZkyPMEiwaG0c",
        "colab_type": "code",
        "colab": {
          "base_uri": "https://localhost:8080/",
          "height": 17
        },
        "outputId": "3ef66c61-8997-42e6-8f77-f0d1cde68b36"
      },
      "source": [
        "files.download(\"check.txt\")"
      ],
      "execution_count": 253,
      "outputs": [
        {
          "output_type": "display_data",
          "data": {
            "application/javascript": [
              "\n",
              "    async function download(id, filename, size) {\n",
              "      if (!google.colab.kernel.accessAllowed) {\n",
              "        return;\n",
              "      }\n",
              "      const div = document.createElement('div');\n",
              "      const label = document.createElement('label');\n",
              "      label.textContent = `Downloading \"${filename}\": `;\n",
              "      div.appendChild(label);\n",
              "      const progress = document.createElement('progress');\n",
              "      progress.max = size;\n",
              "      div.appendChild(progress);\n",
              "      document.body.appendChild(div);\n",
              "\n",
              "      const buffers = [];\n",
              "      let downloaded = 0;\n",
              "\n",
              "      const channel = await google.colab.kernel.comms.open(id);\n",
              "      // Send a message to notify the kernel that we're ready.\n",
              "      channel.send({})\n",
              "\n",
              "      for await (const message of channel.messages) {\n",
              "        // Send a message to notify the kernel that we're ready.\n",
              "        channel.send({})\n",
              "        if (message.buffers) {\n",
              "          for (const buffer of message.buffers) {\n",
              "            buffers.push(buffer);\n",
              "            downloaded += buffer.byteLength;\n",
              "            progress.value = downloaded;\n",
              "          }\n",
              "        }\n",
              "      }\n",
              "      const blob = new Blob(buffers, {type: 'application/binary'});\n",
              "      const a = document.createElement('a');\n",
              "      a.href = window.URL.createObjectURL(blob);\n",
              "      a.download = filename;\n",
              "      div.appendChild(a);\n",
              "      a.click();\n",
              "      div.remove();\n",
              "    }\n",
              "  "
            ],
            "text/plain": [
              "<IPython.core.display.Javascript object>"
            ]
          },
          "metadata": {
            "tags": []
          }
        },
        {
          "output_type": "display_data",
          "data": {
            "application/javascript": [
              "download(\"download_70bc4d99-b423-4ee2-ade7-c921efa927f7\", \"check.txt\", 1859)"
            ],
            "text/plain": [
              "<IPython.core.display.Javascript object>"
            ]
          },
          "metadata": {
            "tags": []
          }
        }
      ]
    },
    {
      "cell_type": "code",
      "metadata": {
        "id": "iQONcYKHs-YH",
        "colab_type": "code",
        "colab": {}
      },
      "source": [
        ""
      ],
      "execution_count": null,
      "outputs": []
    }
  ]
}